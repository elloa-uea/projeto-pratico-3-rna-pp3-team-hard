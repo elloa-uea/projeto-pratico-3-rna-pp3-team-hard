{
  "nbformat": 4,
  "nbformat_minor": 0,
  "metadata": {
    "kernelspec": {
      "display_name": "Python 3",
      "language": "python",
      "name": "python3"
    },
    "language_info": {
      "codemirror_mode": {
        "name": "ipython",
        "version": 3
      },
      "file_extension": ".py",
      "mimetype": "text/x-python",
      "name": "python",
      "nbconvert_exporter": "python",
      "pygments_lexer": "ipython3",
      "version": "3.8.3"
    },
    "colab": {
      "name": "PP3.4 - Validação Cruzada e Busca em Grade.ipynb",
      "provenance": [],
      "toc_visible": true
    }
  },
  "cells": [
    {
      "cell_type": "markdown",
      "metadata": {
        "id": "3iOTCxwhfq8k"
      },
      "source": [
        "# Redes Neurais Artificiais 2020.1 -- Projeto Prático 3.4\n",
        "\n",
        "**Disciplina**: Redes Neurais Artificiais 2020.1  \n",
        "**Professora**: Elloá B. Guedes (ebgcosta@uea.edu.br)  \n",
        "**Github**: http://github.com/elloa  \n",
        "        \n",
        "\n",
        "Levando em conta a base de dados **_Forest Cover Type_**, esta terceira parte do Projeto Prático 3 diz respeito à proposição e avaliação de múltiplas redes neurais artificiais do tipo feedforward multilayer perceptron para o problema da classificação multi-classe da cobertura florestal em uma área do Roosevelt National Forest.\n",
        "\n",
        "## Busca em Grade\n",
        "\n",
        "Uma maneira padrão de escolher os parâmetros de um modelo de Machine Learning é por meio de uma busca em grade via força bruta. O algoritmo da busca em grade é dado como segue:\n",
        "\n",
        "1. Escolha a métrica de desempenho que você deseja maximizar  \n",
        "2. Escolha o algoritmo de Machine Learning (exemplo: redes neurais artificiais). Em seguida, defina os parâmetros ou hiperparâmetros deste tipo de modelo sobre os quais você deseja otimizar (número de épocas, taxa de aprendizado, etc.) e construa um array de valores a serem testados para cada parâmetro ou hiperparâmetro.  \n",
        "3. Defina a grade de busca, a qual é dada como o produto cartesiano de cada parâmetro a ser testado. Por exemplo, para os arrays [50, 100, 1000] e [10, 15], tem-se que a grade é [(50,10), (50,15), (100,10), (100,15), (1000,10), (1000,15)].\n",
        "4. Para cada combinação de parâmetros a serem otimizados, utilize o conjunto de treinamento para realizar uma validação cruzada (holdout ou k-fold) e calcule a métrica de avaliação no conjunto de teste (ou conjuntos de teste)\n",
        "5. Escolha a combinação de parâmetros que maximizam a métrica de avaliação. Este é o modelo otimizado.\n",
        "\n",
        "Por que esta abordagem funciona? Porque a busca em grade efetua uma pesquisa extensiva sobre as possíveis combinações de valores para cada um dos parâmetros a serem ajustados. Para cada combinação, ela estima a performance do modelo em dados novos. Por fim, o modelo com melhor métrica de desempenho é escolhido. Tem-se então que este modelo é o que melhor pode vir a generalizar mediante dados nunca antes vistos.\n",
        "\n",
        "## Efetuando a Busca em Grade sobre Hiperparâmetros das Top-6 RNAs\n",
        "\n",
        "Considerando a etapa anterior do projeto prático, foram identificadas pelo menos 6 melhores Redes Neurais para o problema da classificação multi-classe da cobertura florestal no conjunto de dados selecionado. Algumas destas redes possuem atributos categóricos como variáveis preditoras, enquanto outras possuem apenas os atributos numéricos como preditores.\n",
        "\n",
        "A primeira etapa desta segunda parte do projeto consiste em trazer para este notebook estas seis arquiteturas, ressaltando:\n",
        "\n",
        "1. Número de neurônios ocultos por camada  \n",
        "2. Função de Ativação  \n",
        "3. Utilização ou não de atributos categóricos   \n",
        "4. Desempenho médio +- desvio padrão nos testes anteriores  \n",
        "5. Número de repetições que a equipe conseguiu realizar para verificar os resultados  \n",
        "\n",
        "Elabore uma busca em grade sobre estas arquiteturas que contemple variações nos hiperparâmetros a seguir, conforme documentação de [MLPClassifier](https://scikit-learn.org/stable/modules/generated/sklearn.neural_network.MLPClassifier.html)\n",
        "\n",
        "A. Solver  (Não usar o LBFGS, pois é mais adequado para datasets pequenos)  \n",
        "B. Batch Size  \n",
        "C. Learning Rate Init  \n",
        "D. Paciência (n_iter_no_change)  \n",
        "E. Épocas  \n",
        "\n",
        "Nesta busca em grande, contemple a utilização do objeto [GridSearchCV](https://scikit-learn.org/stable/modules/generated/sklearn.model_selection.GridSearchCV.html)"
      ]
    },
    {
      "cell_type": "markdown",
      "metadata": {
        "id": "mwhAw0kpfq8m"
      },
      "source": [
        "## Bibliotecas"
      ]
    },
    {
      "cell_type": "code",
      "metadata": {
        "id": "3w6pmUXmfq8n"
      },
      "source": [
        "import warnings\n",
        "warnings.filterwarnings('ignore')\n",
        "\n",
        "import re\n",
        "\n",
        "import numpy as np\n",
        "import pandas as pd\n",
        "\n",
        "from itertools import product\n",
        "\n",
        "from joblib import dump, load\n",
        "\n",
        "from sklearn.neural_network import MLPClassifier\n",
        "\n",
        "from sklearn.model_selection import train_test_split\n",
        "from sklearn.model_selection import GridSearchCV\n",
        "from sklearn.model_selection import KFold\n",
        "\n",
        "from sklearn.metrics import f1_score"
      ],
      "execution_count": 40,
      "outputs": []
    },
    {
      "cell_type": "markdown",
      "metadata": {
        "id": "RqIn2SL8fq8u"
      },
      "source": [
        "## Base de Dados"
      ]
    },
    {
      "cell_type": "code",
      "metadata": {
        "id": "okuIDxH9fq8v",
        "outputId": "2adcc901-9a61-43fc-9d9a-1c54fa6f7c49",
        "colab": {
          "base_uri": "https://localhost:8080/",
          "height": 439
        }
      },
      "source": [
        "database = pd.read_csv('../database/covtype.csv')\n",
        "database"
      ],
      "execution_count": 2,
      "outputs": [
        {
          "output_type": "execute_result",
          "data": {
            "text/html": [
              "<div>\n",
              "<style scoped>\n",
              "    .dataframe tbody tr th:only-of-type {\n",
              "        vertical-align: middle;\n",
              "    }\n",
              "\n",
              "    .dataframe tbody tr th {\n",
              "        vertical-align: top;\n",
              "    }\n",
              "\n",
              "    .dataframe thead th {\n",
              "        text-align: right;\n",
              "    }\n",
              "</style>\n",
              "<table border=\"1\" class=\"dataframe\">\n",
              "  <thead>\n",
              "    <tr style=\"text-align: right;\">\n",
              "      <th></th>\n",
              "      <th>Elevation</th>\n",
              "      <th>Aspect</th>\n",
              "      <th>Slope</th>\n",
              "      <th>Horizontal_Distance_To_Hydrology</th>\n",
              "      <th>Vertical_Distance_To_Hydrology</th>\n",
              "      <th>Horizontal_Distance_To_Roadways</th>\n",
              "      <th>Hillshade_9am</th>\n",
              "      <th>Hillshade_Noon</th>\n",
              "      <th>Hillshade_3pm</th>\n",
              "      <th>Horizontal_Distance_To_Fire_Points</th>\n",
              "      <th>Wilderness_Area1</th>\n",
              "      <th>Wilderness_Area2</th>\n",
              "      <th>Wilderness_Area3</th>\n",
              "      <th>Wilderness_Area4</th>\n",
              "      <th>Soil_Type1</th>\n",
              "      <th>Soil_Type2</th>\n",
              "      <th>Soil_Type3</th>\n",
              "      <th>Soil_Type4</th>\n",
              "      <th>Soil_Type5</th>\n",
              "      <th>Soil_Type6</th>\n",
              "      <th>Soil_Type7</th>\n",
              "      <th>Soil_Type8</th>\n",
              "      <th>Soil_Type9</th>\n",
              "      <th>Soil_Type10</th>\n",
              "      <th>Soil_Type11</th>\n",
              "      <th>Soil_Type12</th>\n",
              "      <th>Soil_Type13</th>\n",
              "      <th>Soil_Type14</th>\n",
              "      <th>Soil_Type15</th>\n",
              "      <th>Soil_Type16</th>\n",
              "      <th>Soil_Type17</th>\n",
              "      <th>Soil_Type18</th>\n",
              "      <th>Soil_Type19</th>\n",
              "      <th>Soil_Type20</th>\n",
              "      <th>Soil_Type21</th>\n",
              "      <th>Soil_Type22</th>\n",
              "      <th>Soil_Type23</th>\n",
              "      <th>Soil_Type24</th>\n",
              "      <th>Soil_Type25</th>\n",
              "      <th>Soil_Type26</th>\n",
              "      <th>Soil_Type27</th>\n",
              "      <th>Soil_Type28</th>\n",
              "      <th>Soil_Type29</th>\n",
              "      <th>Soil_Type30</th>\n",
              "      <th>Soil_Type31</th>\n",
              "      <th>Soil_Type32</th>\n",
              "      <th>Soil_Type33</th>\n",
              "      <th>Soil_Type34</th>\n",
              "      <th>Soil_Type35</th>\n",
              "      <th>Soil_Type36</th>\n",
              "      <th>Soil_Type37</th>\n",
              "      <th>Soil_Type38</th>\n",
              "      <th>Soil_Type39</th>\n",
              "      <th>Soil_Type40</th>\n",
              "      <th>Cover_Type</th>\n",
              "    </tr>\n",
              "  </thead>\n",
              "  <tbody>\n",
              "    <tr>\n",
              "      <th>0</th>\n",
              "      <td>2596</td>\n",
              "      <td>51</td>\n",
              "      <td>3</td>\n",
              "      <td>258</td>\n",
              "      <td>0</td>\n",
              "      <td>510</td>\n",
              "      <td>221</td>\n",
              "      <td>232</td>\n",
              "      <td>148</td>\n",
              "      <td>6279</td>\n",
              "      <td>1</td>\n",
              "      <td>0</td>\n",
              "      <td>0</td>\n",
              "      <td>0</td>\n",
              "      <td>0</td>\n",
              "      <td>0</td>\n",
              "      <td>0</td>\n",
              "      <td>0</td>\n",
              "      <td>0</td>\n",
              "      <td>0</td>\n",
              "      <td>0</td>\n",
              "      <td>0</td>\n",
              "      <td>0</td>\n",
              "      <td>0</td>\n",
              "      <td>0</td>\n",
              "      <td>0</td>\n",
              "      <td>0</td>\n",
              "      <td>0</td>\n",
              "      <td>0</td>\n",
              "      <td>0</td>\n",
              "      <td>0</td>\n",
              "      <td>0</td>\n",
              "      <td>0</td>\n",
              "      <td>0</td>\n",
              "      <td>0</td>\n",
              "      <td>0</td>\n",
              "      <td>0</td>\n",
              "      <td>0</td>\n",
              "      <td>0</td>\n",
              "      <td>0</td>\n",
              "      <td>0</td>\n",
              "      <td>0</td>\n",
              "      <td>1</td>\n",
              "      <td>0</td>\n",
              "      <td>0</td>\n",
              "      <td>0</td>\n",
              "      <td>0</td>\n",
              "      <td>0</td>\n",
              "      <td>0</td>\n",
              "      <td>0</td>\n",
              "      <td>0</td>\n",
              "      <td>0</td>\n",
              "      <td>0</td>\n",
              "      <td>0</td>\n",
              "      <td>5</td>\n",
              "    </tr>\n",
              "    <tr>\n",
              "      <th>1</th>\n",
              "      <td>2590</td>\n",
              "      <td>56</td>\n",
              "      <td>2</td>\n",
              "      <td>212</td>\n",
              "      <td>-6</td>\n",
              "      <td>390</td>\n",
              "      <td>220</td>\n",
              "      <td>235</td>\n",
              "      <td>151</td>\n",
              "      <td>6225</td>\n",
              "      <td>1</td>\n",
              "      <td>0</td>\n",
              "      <td>0</td>\n",
              "      <td>0</td>\n",
              "      <td>0</td>\n",
              "      <td>0</td>\n",
              "      <td>0</td>\n",
              "      <td>0</td>\n",
              "      <td>0</td>\n",
              "      <td>0</td>\n",
              "      <td>0</td>\n",
              "      <td>0</td>\n",
              "      <td>0</td>\n",
              "      <td>0</td>\n",
              "      <td>0</td>\n",
              "      <td>0</td>\n",
              "      <td>0</td>\n",
              "      <td>0</td>\n",
              "      <td>0</td>\n",
              "      <td>0</td>\n",
              "      <td>0</td>\n",
              "      <td>0</td>\n",
              "      <td>0</td>\n",
              "      <td>0</td>\n",
              "      <td>0</td>\n",
              "      <td>0</td>\n",
              "      <td>0</td>\n",
              "      <td>0</td>\n",
              "      <td>0</td>\n",
              "      <td>0</td>\n",
              "      <td>0</td>\n",
              "      <td>0</td>\n",
              "      <td>1</td>\n",
              "      <td>0</td>\n",
              "      <td>0</td>\n",
              "      <td>0</td>\n",
              "      <td>0</td>\n",
              "      <td>0</td>\n",
              "      <td>0</td>\n",
              "      <td>0</td>\n",
              "      <td>0</td>\n",
              "      <td>0</td>\n",
              "      <td>0</td>\n",
              "      <td>0</td>\n",
              "      <td>5</td>\n",
              "    </tr>\n",
              "    <tr>\n",
              "      <th>2</th>\n",
              "      <td>2804</td>\n",
              "      <td>139</td>\n",
              "      <td>9</td>\n",
              "      <td>268</td>\n",
              "      <td>65</td>\n",
              "      <td>3180</td>\n",
              "      <td>234</td>\n",
              "      <td>238</td>\n",
              "      <td>135</td>\n",
              "      <td>6121</td>\n",
              "      <td>1</td>\n",
              "      <td>0</td>\n",
              "      <td>0</td>\n",
              "      <td>0</td>\n",
              "      <td>0</td>\n",
              "      <td>0</td>\n",
              "      <td>0</td>\n",
              "      <td>0</td>\n",
              "      <td>0</td>\n",
              "      <td>0</td>\n",
              "      <td>0</td>\n",
              "      <td>0</td>\n",
              "      <td>0</td>\n",
              "      <td>0</td>\n",
              "      <td>0</td>\n",
              "      <td>1</td>\n",
              "      <td>0</td>\n",
              "      <td>0</td>\n",
              "      <td>0</td>\n",
              "      <td>0</td>\n",
              "      <td>0</td>\n",
              "      <td>0</td>\n",
              "      <td>0</td>\n",
              "      <td>0</td>\n",
              "      <td>0</td>\n",
              "      <td>0</td>\n",
              "      <td>0</td>\n",
              "      <td>0</td>\n",
              "      <td>0</td>\n",
              "      <td>0</td>\n",
              "      <td>0</td>\n",
              "      <td>0</td>\n",
              "      <td>0</td>\n",
              "      <td>0</td>\n",
              "      <td>0</td>\n",
              "      <td>0</td>\n",
              "      <td>0</td>\n",
              "      <td>0</td>\n",
              "      <td>0</td>\n",
              "      <td>0</td>\n",
              "      <td>0</td>\n",
              "      <td>0</td>\n",
              "      <td>0</td>\n",
              "      <td>0</td>\n",
              "      <td>2</td>\n",
              "    </tr>\n",
              "    <tr>\n",
              "      <th>3</th>\n",
              "      <td>2785</td>\n",
              "      <td>155</td>\n",
              "      <td>18</td>\n",
              "      <td>242</td>\n",
              "      <td>118</td>\n",
              "      <td>3090</td>\n",
              "      <td>238</td>\n",
              "      <td>238</td>\n",
              "      <td>122</td>\n",
              "      <td>6211</td>\n",
              "      <td>1</td>\n",
              "      <td>0</td>\n",
              "      <td>0</td>\n",
              "      <td>0</td>\n",
              "      <td>0</td>\n",
              "      <td>0</td>\n",
              "      <td>0</td>\n",
              "      <td>0</td>\n",
              "      <td>0</td>\n",
              "      <td>0</td>\n",
              "      <td>0</td>\n",
              "      <td>0</td>\n",
              "      <td>0</td>\n",
              "      <td>0</td>\n",
              "      <td>0</td>\n",
              "      <td>0</td>\n",
              "      <td>0</td>\n",
              "      <td>0</td>\n",
              "      <td>0</td>\n",
              "      <td>0</td>\n",
              "      <td>0</td>\n",
              "      <td>0</td>\n",
              "      <td>0</td>\n",
              "      <td>0</td>\n",
              "      <td>0</td>\n",
              "      <td>0</td>\n",
              "      <td>0</td>\n",
              "      <td>0</td>\n",
              "      <td>0</td>\n",
              "      <td>0</td>\n",
              "      <td>0</td>\n",
              "      <td>0</td>\n",
              "      <td>0</td>\n",
              "      <td>1</td>\n",
              "      <td>0</td>\n",
              "      <td>0</td>\n",
              "      <td>0</td>\n",
              "      <td>0</td>\n",
              "      <td>0</td>\n",
              "      <td>0</td>\n",
              "      <td>0</td>\n",
              "      <td>0</td>\n",
              "      <td>0</td>\n",
              "      <td>0</td>\n",
              "      <td>2</td>\n",
              "    </tr>\n",
              "    <tr>\n",
              "      <th>4</th>\n",
              "      <td>2595</td>\n",
              "      <td>45</td>\n",
              "      <td>2</td>\n",
              "      <td>153</td>\n",
              "      <td>-1</td>\n",
              "      <td>391</td>\n",
              "      <td>220</td>\n",
              "      <td>234</td>\n",
              "      <td>150</td>\n",
              "      <td>6172</td>\n",
              "      <td>1</td>\n",
              "      <td>0</td>\n",
              "      <td>0</td>\n",
              "      <td>0</td>\n",
              "      <td>0</td>\n",
              "      <td>0</td>\n",
              "      <td>0</td>\n",
              "      <td>0</td>\n",
              "      <td>0</td>\n",
              "      <td>0</td>\n",
              "      <td>0</td>\n",
              "      <td>0</td>\n",
              "      <td>0</td>\n",
              "      <td>0</td>\n",
              "      <td>0</td>\n",
              "      <td>0</td>\n",
              "      <td>0</td>\n",
              "      <td>0</td>\n",
              "      <td>0</td>\n",
              "      <td>0</td>\n",
              "      <td>0</td>\n",
              "      <td>0</td>\n",
              "      <td>0</td>\n",
              "      <td>0</td>\n",
              "      <td>0</td>\n",
              "      <td>0</td>\n",
              "      <td>0</td>\n",
              "      <td>0</td>\n",
              "      <td>0</td>\n",
              "      <td>0</td>\n",
              "      <td>0</td>\n",
              "      <td>0</td>\n",
              "      <td>1</td>\n",
              "      <td>0</td>\n",
              "      <td>0</td>\n",
              "      <td>0</td>\n",
              "      <td>0</td>\n",
              "      <td>0</td>\n",
              "      <td>0</td>\n",
              "      <td>0</td>\n",
              "      <td>0</td>\n",
              "      <td>0</td>\n",
              "      <td>0</td>\n",
              "      <td>0</td>\n",
              "      <td>5</td>\n",
              "    </tr>\n",
              "    <tr>\n",
              "      <th>...</th>\n",
              "      <td>...</td>\n",
              "      <td>...</td>\n",
              "      <td>...</td>\n",
              "      <td>...</td>\n",
              "      <td>...</td>\n",
              "      <td>...</td>\n",
              "      <td>...</td>\n",
              "      <td>...</td>\n",
              "      <td>...</td>\n",
              "      <td>...</td>\n",
              "      <td>...</td>\n",
              "      <td>...</td>\n",
              "      <td>...</td>\n",
              "      <td>...</td>\n",
              "      <td>...</td>\n",
              "      <td>...</td>\n",
              "      <td>...</td>\n",
              "      <td>...</td>\n",
              "      <td>...</td>\n",
              "      <td>...</td>\n",
              "      <td>...</td>\n",
              "      <td>...</td>\n",
              "      <td>...</td>\n",
              "      <td>...</td>\n",
              "      <td>...</td>\n",
              "      <td>...</td>\n",
              "      <td>...</td>\n",
              "      <td>...</td>\n",
              "      <td>...</td>\n",
              "      <td>...</td>\n",
              "      <td>...</td>\n",
              "      <td>...</td>\n",
              "      <td>...</td>\n",
              "      <td>...</td>\n",
              "      <td>...</td>\n",
              "      <td>...</td>\n",
              "      <td>...</td>\n",
              "      <td>...</td>\n",
              "      <td>...</td>\n",
              "      <td>...</td>\n",
              "      <td>...</td>\n",
              "      <td>...</td>\n",
              "      <td>...</td>\n",
              "      <td>...</td>\n",
              "      <td>...</td>\n",
              "      <td>...</td>\n",
              "      <td>...</td>\n",
              "      <td>...</td>\n",
              "      <td>...</td>\n",
              "      <td>...</td>\n",
              "      <td>...</td>\n",
              "      <td>...</td>\n",
              "      <td>...</td>\n",
              "      <td>...</td>\n",
              "      <td>...</td>\n",
              "    </tr>\n",
              "    <tr>\n",
              "      <th>581007</th>\n",
              "      <td>2396</td>\n",
              "      <td>153</td>\n",
              "      <td>20</td>\n",
              "      <td>85</td>\n",
              "      <td>17</td>\n",
              "      <td>108</td>\n",
              "      <td>240</td>\n",
              "      <td>237</td>\n",
              "      <td>118</td>\n",
              "      <td>837</td>\n",
              "      <td>0</td>\n",
              "      <td>0</td>\n",
              "      <td>1</td>\n",
              "      <td>0</td>\n",
              "      <td>0</td>\n",
              "      <td>1</td>\n",
              "      <td>0</td>\n",
              "      <td>0</td>\n",
              "      <td>0</td>\n",
              "      <td>0</td>\n",
              "      <td>0</td>\n",
              "      <td>0</td>\n",
              "      <td>0</td>\n",
              "      <td>0</td>\n",
              "      <td>0</td>\n",
              "      <td>0</td>\n",
              "      <td>0</td>\n",
              "      <td>0</td>\n",
              "      <td>0</td>\n",
              "      <td>0</td>\n",
              "      <td>0</td>\n",
              "      <td>0</td>\n",
              "      <td>0</td>\n",
              "      <td>0</td>\n",
              "      <td>0</td>\n",
              "      <td>0</td>\n",
              "      <td>0</td>\n",
              "      <td>0</td>\n",
              "      <td>0</td>\n",
              "      <td>0</td>\n",
              "      <td>0</td>\n",
              "      <td>0</td>\n",
              "      <td>0</td>\n",
              "      <td>0</td>\n",
              "      <td>0</td>\n",
              "      <td>0</td>\n",
              "      <td>0</td>\n",
              "      <td>0</td>\n",
              "      <td>0</td>\n",
              "      <td>0</td>\n",
              "      <td>0</td>\n",
              "      <td>0</td>\n",
              "      <td>0</td>\n",
              "      <td>0</td>\n",
              "      <td>3</td>\n",
              "    </tr>\n",
              "    <tr>\n",
              "      <th>581008</th>\n",
              "      <td>2391</td>\n",
              "      <td>152</td>\n",
              "      <td>19</td>\n",
              "      <td>67</td>\n",
              "      <td>12</td>\n",
              "      <td>95</td>\n",
              "      <td>240</td>\n",
              "      <td>237</td>\n",
              "      <td>119</td>\n",
              "      <td>845</td>\n",
              "      <td>0</td>\n",
              "      <td>0</td>\n",
              "      <td>1</td>\n",
              "      <td>0</td>\n",
              "      <td>0</td>\n",
              "      <td>1</td>\n",
              "      <td>0</td>\n",
              "      <td>0</td>\n",
              "      <td>0</td>\n",
              "      <td>0</td>\n",
              "      <td>0</td>\n",
              "      <td>0</td>\n",
              "      <td>0</td>\n",
              "      <td>0</td>\n",
              "      <td>0</td>\n",
              "      <td>0</td>\n",
              "      <td>0</td>\n",
              "      <td>0</td>\n",
              "      <td>0</td>\n",
              "      <td>0</td>\n",
              "      <td>0</td>\n",
              "      <td>0</td>\n",
              "      <td>0</td>\n",
              "      <td>0</td>\n",
              "      <td>0</td>\n",
              "      <td>0</td>\n",
              "      <td>0</td>\n",
              "      <td>0</td>\n",
              "      <td>0</td>\n",
              "      <td>0</td>\n",
              "      <td>0</td>\n",
              "      <td>0</td>\n",
              "      <td>0</td>\n",
              "      <td>0</td>\n",
              "      <td>0</td>\n",
              "      <td>0</td>\n",
              "      <td>0</td>\n",
              "      <td>0</td>\n",
              "      <td>0</td>\n",
              "      <td>0</td>\n",
              "      <td>0</td>\n",
              "      <td>0</td>\n",
              "      <td>0</td>\n",
              "      <td>0</td>\n",
              "      <td>3</td>\n",
              "    </tr>\n",
              "    <tr>\n",
              "      <th>581009</th>\n",
              "      <td>2386</td>\n",
              "      <td>159</td>\n",
              "      <td>17</td>\n",
              "      <td>60</td>\n",
              "      <td>7</td>\n",
              "      <td>90</td>\n",
              "      <td>236</td>\n",
              "      <td>241</td>\n",
              "      <td>130</td>\n",
              "      <td>854</td>\n",
              "      <td>0</td>\n",
              "      <td>0</td>\n",
              "      <td>1</td>\n",
              "      <td>0</td>\n",
              "      <td>0</td>\n",
              "      <td>1</td>\n",
              "      <td>0</td>\n",
              "      <td>0</td>\n",
              "      <td>0</td>\n",
              "      <td>0</td>\n",
              "      <td>0</td>\n",
              "      <td>0</td>\n",
              "      <td>0</td>\n",
              "      <td>0</td>\n",
              "      <td>0</td>\n",
              "      <td>0</td>\n",
              "      <td>0</td>\n",
              "      <td>0</td>\n",
              "      <td>0</td>\n",
              "      <td>0</td>\n",
              "      <td>0</td>\n",
              "      <td>0</td>\n",
              "      <td>0</td>\n",
              "      <td>0</td>\n",
              "      <td>0</td>\n",
              "      <td>0</td>\n",
              "      <td>0</td>\n",
              "      <td>0</td>\n",
              "      <td>0</td>\n",
              "      <td>0</td>\n",
              "      <td>0</td>\n",
              "      <td>0</td>\n",
              "      <td>0</td>\n",
              "      <td>0</td>\n",
              "      <td>0</td>\n",
              "      <td>0</td>\n",
              "      <td>0</td>\n",
              "      <td>0</td>\n",
              "      <td>0</td>\n",
              "      <td>0</td>\n",
              "      <td>0</td>\n",
              "      <td>0</td>\n",
              "      <td>0</td>\n",
              "      <td>0</td>\n",
              "      <td>3</td>\n",
              "    </tr>\n",
              "    <tr>\n",
              "      <th>581010</th>\n",
              "      <td>2384</td>\n",
              "      <td>170</td>\n",
              "      <td>15</td>\n",
              "      <td>60</td>\n",
              "      <td>5</td>\n",
              "      <td>90</td>\n",
              "      <td>230</td>\n",
              "      <td>245</td>\n",
              "      <td>143</td>\n",
              "      <td>864</td>\n",
              "      <td>0</td>\n",
              "      <td>0</td>\n",
              "      <td>1</td>\n",
              "      <td>0</td>\n",
              "      <td>0</td>\n",
              "      <td>1</td>\n",
              "      <td>0</td>\n",
              "      <td>0</td>\n",
              "      <td>0</td>\n",
              "      <td>0</td>\n",
              "      <td>0</td>\n",
              "      <td>0</td>\n",
              "      <td>0</td>\n",
              "      <td>0</td>\n",
              "      <td>0</td>\n",
              "      <td>0</td>\n",
              "      <td>0</td>\n",
              "      <td>0</td>\n",
              "      <td>0</td>\n",
              "      <td>0</td>\n",
              "      <td>0</td>\n",
              "      <td>0</td>\n",
              "      <td>0</td>\n",
              "      <td>0</td>\n",
              "      <td>0</td>\n",
              "      <td>0</td>\n",
              "      <td>0</td>\n",
              "      <td>0</td>\n",
              "      <td>0</td>\n",
              "      <td>0</td>\n",
              "      <td>0</td>\n",
              "      <td>0</td>\n",
              "      <td>0</td>\n",
              "      <td>0</td>\n",
              "      <td>0</td>\n",
              "      <td>0</td>\n",
              "      <td>0</td>\n",
              "      <td>0</td>\n",
              "      <td>0</td>\n",
              "      <td>0</td>\n",
              "      <td>0</td>\n",
              "      <td>0</td>\n",
              "      <td>0</td>\n",
              "      <td>0</td>\n",
              "      <td>3</td>\n",
              "    </tr>\n",
              "    <tr>\n",
              "      <th>581011</th>\n",
              "      <td>2383</td>\n",
              "      <td>165</td>\n",
              "      <td>13</td>\n",
              "      <td>60</td>\n",
              "      <td>4</td>\n",
              "      <td>67</td>\n",
              "      <td>231</td>\n",
              "      <td>244</td>\n",
              "      <td>141</td>\n",
              "      <td>875</td>\n",
              "      <td>0</td>\n",
              "      <td>0</td>\n",
              "      <td>1</td>\n",
              "      <td>0</td>\n",
              "      <td>0</td>\n",
              "      <td>1</td>\n",
              "      <td>0</td>\n",
              "      <td>0</td>\n",
              "      <td>0</td>\n",
              "      <td>0</td>\n",
              "      <td>0</td>\n",
              "      <td>0</td>\n",
              "      <td>0</td>\n",
              "      <td>0</td>\n",
              "      <td>0</td>\n",
              "      <td>0</td>\n",
              "      <td>0</td>\n",
              "      <td>0</td>\n",
              "      <td>0</td>\n",
              "      <td>0</td>\n",
              "      <td>0</td>\n",
              "      <td>0</td>\n",
              "      <td>0</td>\n",
              "      <td>0</td>\n",
              "      <td>0</td>\n",
              "      <td>0</td>\n",
              "      <td>0</td>\n",
              "      <td>0</td>\n",
              "      <td>0</td>\n",
              "      <td>0</td>\n",
              "      <td>0</td>\n",
              "      <td>0</td>\n",
              "      <td>0</td>\n",
              "      <td>0</td>\n",
              "      <td>0</td>\n",
              "      <td>0</td>\n",
              "      <td>0</td>\n",
              "      <td>0</td>\n",
              "      <td>0</td>\n",
              "      <td>0</td>\n",
              "      <td>0</td>\n",
              "      <td>0</td>\n",
              "      <td>0</td>\n",
              "      <td>0</td>\n",
              "      <td>3</td>\n",
              "    </tr>\n",
              "  </tbody>\n",
              "</table>\n",
              "<p>581012 rows × 55 columns</p>\n",
              "</div>"
            ],
            "text/plain": [
              "        Elevation  Aspect  Slope  ...  Soil_Type39  Soil_Type40  Cover_Type\n",
              "0            2596      51      3  ...            0            0           5\n",
              "1            2590      56      2  ...            0            0           5\n",
              "2            2804     139      9  ...            0            0           2\n",
              "3            2785     155     18  ...            0            0           2\n",
              "4            2595      45      2  ...            0            0           5\n",
              "...           ...     ...    ...  ...          ...          ...         ...\n",
              "581007       2396     153     20  ...            0            0           3\n",
              "581008       2391     152     19  ...            0            0           3\n",
              "581009       2386     159     17  ...            0            0           3\n",
              "581010       2384     170     15  ...            0            0           3\n",
              "581011       2383     165     13  ...            0            0           3\n",
              "\n",
              "[581012 rows x 55 columns]"
            ]
          },
          "metadata": {
            "tags": []
          },
          "execution_count": 2
        }
      ]
    },
    {
      "cell_type": "markdown",
      "metadata": {
        "id": "WmfUnGKcfq86"
      },
      "source": [
        "## Busca em Grade\n",
        "\n",
        "- Escolha a métrica de desempenho que você deseja maximizar  "
      ]
    },
    {
      "cell_type": "code",
      "metadata": {
        "id": "zA00GxRVfq87"
      },
      "source": [
        "# Definindo a métrica como F1-Score\n",
        "metrica = 'f1'"
      ],
      "execution_count": 3,
      "outputs": []
    },
    {
      "cell_type": "markdown",
      "metadata": {
        "id": "Ebg4-3QMfq9D"
      },
      "source": [
        "- Escolha o algoritmo de Machine Learning (exemplo: redes neurais artificiais). Em seguida, defina os parâmetros ou hiperparâmetros deste tipo de modelo sobre os quais você deseja otimizar (número de épocas, taxa de aprendizado, etc.) e construa um array de valores a serem testados para cada parâmetro ou hiperparâmetro.  "
      ]
    },
    {
      "cell_type": "code",
      "metadata": {
        "id": "Ki-4m79Dfq9E"
      },
      "source": [
        "# Definindo o algoritmo de Machine Learning\n",
        "algoritmo = MLPClassifier()\n",
        "\n",
        "# Definindo os parâmetros\n",
        "parametros = {'hidden_layer_sizes': [(16, 6)],    # Camadas\n",
        "              'activation': ['tanh'],             # Funções de ativação\n",
        "              'solver': ['sgd'],                  # Otimizadores\n",
        "              'max_iter': [250, 500],             # Épocas\n",
        "              'shuffle': [True],                  # Condição para embaralhar as amostras em cada iteração\n",
        "              'n_iter_no_change': [5, 10]}        # Máximo de épocas sem melhorias na rede\n",
        "            "
      ],
      "execution_count": 4,
      "outputs": []
    },
    {
      "cell_type": "markdown",
      "metadata": {
        "id": "VnksMUnCfq9M"
      },
      "source": [
        "- Defina a grade de busca, a qual é dada como o produto cartesiano de cada parâmetro a ser testado. Por exemplo, para os arrays [50, 100, 1000] e [10, 15], tem-se que a grade é [(50,10), (50,15), (100,10), (100,15), (1000,10), (1000,15)]."
      ]
    },
    {
      "cell_type": "code",
      "metadata": {
        "id": "7vmj90Aqfq9O"
      },
      "source": [
        "# Método que retorna o produto cartesiano dos parâmetros\n",
        "def produto(parametros):\n",
        "    params = list (dict(zip(parametros.keys(), values)) for values in product(*parametros.values()))\n",
        "    for param in params:\n",
        "        for key, value in param.items():\n",
        "            param[key] = [value]\n",
        "    return params\n",
        "        \n",
        "# Definindo a grade de busca\n",
        "grade_busca = produto(parametros)"
      ],
      "execution_count": 5,
      "outputs": []
    },
    {
      "cell_type": "code",
      "metadata": {
        "id": "_75T0Jlqfq9Z",
        "outputId": "862869ce-2648-4878-f9fd-66455d360ed5",
        "colab": {
          "base_uri": "https://localhost:8080/"
        }
      },
      "source": [
        "grade_busca"
      ],
      "execution_count": 6,
      "outputs": [
        {
          "output_type": "execute_result",
          "data": {
            "text/plain": [
              "[{'activation': ['tanh'],\n",
              "  'hidden_layer_sizes': [(16, 6)],\n",
              "  'max_iter': [250],\n",
              "  'n_iter_no_change': [5],\n",
              "  'shuffle': [True],\n",
              "  'solver': ['sgd']},\n",
              " {'activation': ['tanh'],\n",
              "  'hidden_layer_sizes': [(16, 6)],\n",
              "  'max_iter': [250],\n",
              "  'n_iter_no_change': [10],\n",
              "  'shuffle': [True],\n",
              "  'solver': ['sgd']},\n",
              " {'activation': ['tanh'],\n",
              "  'hidden_layer_sizes': [(16, 6)],\n",
              "  'max_iter': [500],\n",
              "  'n_iter_no_change': [5],\n",
              "  'shuffle': [True],\n",
              "  'solver': ['sgd']},\n",
              " {'activation': ['tanh'],\n",
              "  'hidden_layer_sizes': [(16, 6)],\n",
              "  'max_iter': [500],\n",
              "  'n_iter_no_change': [10],\n",
              "  'shuffle': [True],\n",
              "  'solver': ['sgd']}]"
            ]
          },
          "metadata": {
            "tags": []
          },
          "execution_count": 6
        }
      ]
    },
    {
      "cell_type": "markdown",
      "metadata": {
        "id": "5US1Hq9Tfq9i"
      },
      "source": [
        "- Para cada combinação de parâmetros a serem otimizados, utilize o conjunto de treinamento para realizar uma validação cruzada (holdout ou k-fold) e calcule a métrica de avaliação no conjunto de teste (ou conjuntos de teste)"
      ]
    },
    {
      "cell_type": "code",
      "metadata": {
        "id": "BDQpjzt8fq9l",
        "outputId": "d521e2c0-b18a-4e09-fc98-3ac06a32cf38",
        "colab": {
          "base_uri": "https://localhost:8080/"
        }
      },
      "source": [
        "# Alocando os atributos preditores na variável X\n",
        "X = database.iloc[:1000,:-1]\n",
        "\n",
        "# Alocando o atributo alvo na variável y\n",
        "y = database.iloc[:1000,-1:]\n",
        "\n",
        "# Definindo a busca em grade com os parâmetros e a métrica\n",
        "search = GridSearchCV(algoritmo, grade_busca, scoring='%s_macro' % metrica)\n",
        "\n",
        "# Definindo a partição holdout 70/30\n",
        "X_train, X_test, y_train, y_test = train_test_split(X, y, test_size=0.30, shuffle=True)\n",
        "    \n",
        "# Buscando a melhor configuração de parâmetros\n",
        "search.fit(X_train, y_train)\n",
        "\n",
        "# Calculando a métrica de avaliação\n",
        "y_pred = search.predict(X_test)\n",
        "f1_score(y_test, y_pred, average='macro')"
      ],
      "execution_count": 7,
      "outputs": [
        {
          "output_type": "execute_result",
          "data": {
            "text/plain": [
              "0.24293785310734464"
            ]
          },
          "metadata": {
            "tags": []
          },
          "execution_count": 7
        }
      ]
    },
    {
      "cell_type": "markdown",
      "metadata": {
        "id": "PxOLlQokfq9r"
      },
      "source": [
        "- Escolha a combinação de parâmetros que maximizam a métrica de avaliação. Este é o modelo otimizado."
      ]
    },
    {
      "cell_type": "code",
      "metadata": {
        "id": "bxjYShiEfq9s",
        "outputId": "c817fa92-d211-4138-ecdf-3e4181531a92",
        "colab": {
          "base_uri": "https://localhost:8080/"
        }
      },
      "source": [
        "# Parâmetros que otimizam o desempenho do modelo Multilayer Perceptron\n",
        "search.best_params_"
      ],
      "execution_count": 8,
      "outputs": [
        {
          "output_type": "execute_result",
          "data": {
            "text/plain": [
              "{'activation': 'tanh',\n",
              " 'hidden_layer_sizes': (16, 6),\n",
              " 'max_iter': 500,\n",
              " 'n_iter_no_change': 10,\n",
              " 'shuffle': True,\n",
              " 'solver': 'sgd'}"
            ]
          },
          "metadata": {
            "tags": []
          },
          "execution_count": 8
        }
      ]
    },
    {
      "cell_type": "markdown",
      "metadata": {
        "id": "AVcKh9rmfq9x"
      },
      "source": [
        "## Efetuando a Busca em Grade sobre Hiperparâmetros das Top-6 RNAs\n",
        "\n",
        "Considerando a etapa anterior do projeto prático, foram identificadas pelo menos 6 melhores Redes Neurais para o problema da classificação multi-classe da cobertura florestal no conjunto de dados selecionado. Algumas destas redes possuem atributos categóricos como variáveis preditoras, enquanto outras possuem apenas os atributos numéricos como preditores.\n",
        "\n",
        "A primeira etapa desta segunda parte do projeto consiste em trazer para este notebook estas seis arquiteturas, ressaltando:"
      ]
    },
    {
      "cell_type": "code",
      "metadata": {
        "id": "xsSzc4KIfq9y"
      },
      "source": [
        "# Leitura das arquiteturas\n",
        "arquiteturas = [load('../redes/rede{0}.joblib'.format(i)) for i in range(1, 7)]"
      ],
      "execution_count": 9,
      "outputs": []
    },
    {
      "cell_type": "markdown",
      "metadata": {
        "id": "bjLYR5NGfq97"
      },
      "source": [
        "- Número de neurônios ocultos por camada  "
      ]
    },
    {
      "cell_type": "code",
      "metadata": {
        "id": "BFQoJd47fq98",
        "outputId": "b2cd53db-095e-446d-f86d-464bb76a4a1f",
        "colab": {
          "base_uri": "https://localhost:8080/"
        }
      },
      "source": [
        "[arquiteturas[i].hidden_layer_sizes for i in range(0,6)]"
      ],
      "execution_count": 10,
      "outputs": [
        {
          "output_type": "execute_result",
          "data": {
            "text/plain": [
              "[(9, 10), (13,), (9, 10), (25,), (25,), (19, 6)]"
            ]
          },
          "metadata": {
            "tags": []
          },
          "execution_count": 10
        }
      ]
    },
    {
      "cell_type": "markdown",
      "metadata": {
        "id": "1e5Y99kMfq-B"
      },
      "source": [
        "- Função de Ativação  "
      ]
    },
    {
      "cell_type": "code",
      "metadata": {
        "id": "msZeUeaFfq-C",
        "outputId": "ad65bf08-1a24-4c4b-b6a7-8000bc7b1a1e",
        "colab": {
          "base_uri": "https://localhost:8080/"
        }
      },
      "source": [
        "[arquiteturas[i].activation for i in range(0,6)]"
      ],
      "execution_count": 11,
      "outputs": [
        {
          "output_type": "execute_result",
          "data": {
            "text/plain": [
              "['tanh', 'tanh', 'tanh', 'logistic', 'logistic', 'tanh']"
            ]
          },
          "metadata": {
            "tags": []
          },
          "execution_count": 11
        }
      ]
    },
    {
      "cell_type": "markdown",
      "metadata": {
        "id": "OzHY6E5wfq-K"
      },
      "source": [
        "- Utilização ou não de atributos categóricos   "
      ]
    },
    {
      "cell_type": "markdown",
      "metadata": {
        "id": "48i1-HvwjtEv"
      },
      "source": [
        "    Redes treinadas com atributos categóricos"
      ]
    },
    {
      "cell_type": "code",
      "metadata": {
        "id": "9Lxtcha3jo9Q",
        "outputId": "a4aa1b12-3da3-48b0-ac75-929ff03725ea",
        "colab": {
          "base_uri": "https://localhost:8080/"
        }
      },
      "source": [
        "for i in range(3):\n",
        "    print('Rede {0}'.format(i+1), arquiteturas[i])"
      ],
      "execution_count": 12,
      "outputs": [
        {
          "output_type": "stream",
          "text": [
            "Rede 1 MLPClassifier(activation='tanh', alpha=0.0001, batch_size='auto', beta_1=0.9,\n",
            "              beta_2=0.999, early_stopping=False, epsilon=1e-08,\n",
            "              hidden_layer_sizes=(9, 10), learning_rate='constant',\n",
            "              learning_rate_init=0.001, max_fun=15000, max_iter=200,\n",
            "              momentum=0.9, n_iter_no_change=3, nesterovs_momentum=True,\n",
            "              power_t=0.5, random_state=None, shuffle=True, solver='adam',\n",
            "              tol=0.0001, validation_fraction=0.1, verbose=False,\n",
            "              warm_start=False)\n",
            "Rede 2 MLPClassifier(activation='tanh', alpha=0.0001, batch_size='auto', beta_1=0.9,\n",
            "              beta_2=0.999, early_stopping=False, epsilon=1e-08,\n",
            "              hidden_layer_sizes=(13,), learning_rate='constant',\n",
            "              learning_rate_init=0.001, max_fun=15000, max_iter=150,\n",
            "              momentum=0.9, n_iter_no_change=3, nesterovs_momentum=True,\n",
            "              power_t=0.5, random_state=None, shuffle=True, solver='adam',\n",
            "              tol=0.0001, validation_fraction=0.1, verbose=False,\n",
            "              warm_start=False)\n",
            "Rede 3 MLPClassifier(activation='tanh', alpha=0.0001, batch_size='auto', beta_1=0.9,\n",
            "              beta_2=0.999, early_stopping=False, epsilon=1e-08,\n",
            "              hidden_layer_sizes=(9, 10), learning_rate='constant',\n",
            "              learning_rate_init=0.001, max_fun=15000, max_iter=100,\n",
            "              momentum=0.9, n_iter_no_change=3, nesterovs_momentum=True,\n",
            "              power_t=0.5, random_state=None, shuffle=True, solver='sgd',\n",
            "              tol=0.0001, validation_fraction=0.1, verbose=False,\n",
            "              warm_start=False)\n"
          ],
          "name": "stdout"
        }
      ]
    },
    {
      "cell_type": "markdown",
      "metadata": {
        "id": "B2uNLCizj9bi"
      },
      "source": [
        "    Redes treinadas sem atributos categóricos"
      ]
    },
    {
      "cell_type": "code",
      "metadata": {
        "id": "HXDoo-HJkAfX",
        "outputId": "abdef1b1-3006-4b00-9c2f-34318e76d346",
        "colab": {
          "base_uri": "https://localhost:8080/"
        }
      },
      "source": [
        "for i in range(3):\n",
        "    print('Rede {0}'.format(i+4), arquiteturas[i])"
      ],
      "execution_count": 13,
      "outputs": [
        {
          "output_type": "stream",
          "text": [
            "Rede 4 MLPClassifier(activation='tanh', alpha=0.0001, batch_size='auto', beta_1=0.9,\n",
            "              beta_2=0.999, early_stopping=False, epsilon=1e-08,\n",
            "              hidden_layer_sizes=(9, 10), learning_rate='constant',\n",
            "              learning_rate_init=0.001, max_fun=15000, max_iter=200,\n",
            "              momentum=0.9, n_iter_no_change=3, nesterovs_momentum=True,\n",
            "              power_t=0.5, random_state=None, shuffle=True, solver='adam',\n",
            "              tol=0.0001, validation_fraction=0.1, verbose=False,\n",
            "              warm_start=False)\n",
            "Rede 5 MLPClassifier(activation='tanh', alpha=0.0001, batch_size='auto', beta_1=0.9,\n",
            "              beta_2=0.999, early_stopping=False, epsilon=1e-08,\n",
            "              hidden_layer_sizes=(13,), learning_rate='constant',\n",
            "              learning_rate_init=0.001, max_fun=15000, max_iter=150,\n",
            "              momentum=0.9, n_iter_no_change=3, nesterovs_momentum=True,\n",
            "              power_t=0.5, random_state=None, shuffle=True, solver='adam',\n",
            "              tol=0.0001, validation_fraction=0.1, verbose=False,\n",
            "              warm_start=False)\n",
            "Rede 6 MLPClassifier(activation='tanh', alpha=0.0001, batch_size='auto', beta_1=0.9,\n",
            "              beta_2=0.999, early_stopping=False, epsilon=1e-08,\n",
            "              hidden_layer_sizes=(9, 10), learning_rate='constant',\n",
            "              learning_rate_init=0.001, max_fun=15000, max_iter=100,\n",
            "              momentum=0.9, n_iter_no_change=3, nesterovs_momentum=True,\n",
            "              power_t=0.5, random_state=None, shuffle=True, solver='sgd',\n",
            "              tol=0.0001, validation_fraction=0.1, verbose=False,\n",
            "              warm_start=False)\n"
          ],
          "name": "stdout"
        }
      ]
    },
    {
      "cell_type": "markdown",
      "metadata": {
        "id": "DghD0HXfjphg"
      },
      "source": [
        "- Desempenho médio +- desvio padrão nos testes anteriores  \n",
        "  "
      ]
    },
    {
      "cell_type": "code",
      "metadata": {
        "id": "CIf0HgHKfq-M"
      },
      "source": [
        ""
      ],
      "execution_count": 13,
      "outputs": []
    },
    {
      "cell_type": "markdown",
      "metadata": {
        "id": "u4qbs1MskEeg"
      },
      "source": [
        "- Número de repetições que a equipe conseguiu realizar para verificar os resultados"
      ]
    },
    {
      "cell_type": "markdown",
      "metadata": {
        "id": "SYoa81D2kpL2"
      },
      "source": [
        "    Definiu-se 10 repetições para verificar os resultados."
      ]
    },
    {
      "cell_type": "markdown",
      "metadata": {
        "id": "trHfr8lcfq-T"
      },
      "source": [
        "Elabore uma busca em grade sobre estas arquiteturas que contemple variações nos hiperparâmetros a seguir, conforme documentação de [MLPClassifier](https://scikit-learn.org/stable/modules/generated/sklearn.neural_network.MLPClassifier.html)\n",
        "\n",
        "A. Solver  (Não usar o LBFGS, pois é mais adequado para datasets pequenos)  \n",
        "B. Batch Size  \n",
        "C. Learning Rate Init  \n",
        "D. Paciência (n_iter_no_change)  \n",
        "E. Épocas  "
      ]
    },
    {
      "cell_type": "code",
      "metadata": {
        "id": "F1tgbyzPfq-V"
      },
      "source": [
        "# Definindo os hiperparâmetros\n",
        "hiperparametros = { 'solver': ['sgd', 'adam'],            \n",
        "                    'batch_size': [500],                      \n",
        "                    'learning_rate': ['constant', 'invscaling', 'adaptive'],                    \n",
        "                    'n_iter_no_change': [5],\n",
        "                    'max_iter': [100]} "
      ],
      "execution_count": 14,
      "outputs": []
    },
    {
      "cell_type": "code",
      "metadata": {
        "id": "ptUD8T8hE60Z"
      },
      "source": [
        "indexs = []\n",
        "for i in range(1,8):\n",
        "    indexs.append(database[database.Cover_Type == i][:1000])\n",
        "database_min = pd.concat(indexs)"
      ],
      "execution_count": 15,
      "outputs": []
    },
    {
      "cell_type": "markdown",
      "metadata": {
        "id": "ul5yBINOfq-c"
      },
      "source": [
        "- Busca em Grade com os atributos categóricos"
      ]
    },
    {
      "cell_type": "code",
      "metadata": {
        "id": "YVsBakxWfq-d",
        "outputId": "27cb3354-f30a-4e08-93db-af91de9a2c67",
        "colab": {
          "base_uri": "https://localhost:8080/"
        }
      },
      "source": [
        "# Definindo a métrica como F1-Score\n",
        "metrica = 'f1'\n",
        "\n",
        "# Combinações dos hiperparâmetros\n",
        "grades = produto(hiperparametros)\n",
        "\n",
        "# Melhores hiperparâmetros para cada arquitetura\n",
        "bests1 = []\n",
        "\n",
        "# Alocando os atributos preditores na variável X\n",
        "X = database_min.iloc[:,:-1]\n",
        "\n",
        "# Alocando o atributo alvo na variável y\n",
        "y = database_min.iloc[:,-1:]\n",
        "\n",
        "for i in range(3,6):\n",
        "    print(i)\n",
        "    # Definindo a busca em grade para as arquitetura 4, 5 e 6\n",
        "    search = GridSearchCV(arquiteturas[i], grades, scoring='%s_macro' % metrica)\n",
        "    \n",
        "    # Definindo a partição holdout 70/30\n",
        "    X_train, X_test, y_train, y_test = train_test_split(X, y, test_size=0.30, random_state=42)\n",
        "    \n",
        "    # Buscando a melhor configuração de hiperparâmetros\n",
        "    search.fit(X_train, y_train)\n",
        "\n",
        "    # Salvando os melhores hiperparâmetros de cada arquitetura\n",
        "    for key, value in search.best_params_.items():\n",
        "        search.best_params_[key] = [value]\n",
        "    bests1.append(search.best_params_)"
      ],
      "execution_count": 16,
      "outputs": [
        {
          "output_type": "stream",
          "text": [
            "3\n",
            "4\n",
            "5\n"
          ],
          "name": "stdout"
        }
      ]
    },
    {
      "cell_type": "markdown",
      "metadata": {
        "id": "kUun50D2fq-i"
      },
      "source": [
        "- Melhores hiperparâmetros com os atributos categóricos"
      ]
    },
    {
      "cell_type": "code",
      "metadata": {
        "id": "SHHLqXTXfq-i",
        "outputId": "e1ba4aca-ac16-48d8-e2df-7332cb5d5306",
        "colab": {
          "base_uri": "https://localhost:8080/"
        }
      },
      "source": [
        "for i in range(3,6):\n",
        "    print('Rede {0}'.format(i+1), bests1[i-3])"
      ],
      "execution_count": 17,
      "outputs": [
        {
          "output_type": "stream",
          "text": [
            "Rede 4 {'batch_size': [500], 'learning_rate': ['constant'], 'max_iter': [100], 'n_iter_no_change': [5], 'solver': ['adam']}\n",
            "Rede 5 {'batch_size': [500], 'learning_rate': ['constant'], 'max_iter': [100], 'n_iter_no_change': [5], 'solver': ['adam']}\n",
            "Rede 6 {'batch_size': [500], 'learning_rate': ['invscaling'], 'max_iter': [100], 'n_iter_no_change': [5], 'solver': ['adam']}\n"
          ],
          "name": "stdout"
        }
      ]
    },
    {
      "cell_type": "markdown",
      "metadata": {
        "id": "M4NlaoYnfq-s"
      },
      "source": [
        "- Busca em Grade sem os atributos categóricos"
      ]
    },
    {
      "cell_type": "code",
      "metadata": {
        "id": "LshMA2mYfq-u"
      },
      "source": [
        "database2 = database_min.copy()\n",
        "\n",
        "# Removendo os atributos categóricos\n",
        "columns_to_drop = []\n",
        "for column in list(database2.columns):\n",
        "    column_search = re.search('Soil_Type|Wilderness_Area', column)\n",
        "    if column_search:\n",
        "        columns_to_drop.append(column)\n",
        "database2.drop(columns=columns_to_drop, axis=1, inplace=True)"
      ],
      "execution_count": 18,
      "outputs": []
    },
    {
      "cell_type": "code",
      "metadata": {
        "id": "rKOi8XRCfq-1",
        "outputId": "799a2b56-93b7-4c62-af80-5689af216b4a",
        "colab": {
          "base_uri": "https://localhost:8080/"
        }
      },
      "source": [
        "# Definindo a métrica como F1-Score\n",
        "metrica = 'f1'\n",
        "\n",
        "# Combinações dos hiperparâmetros\n",
        "grades = produto(hiperparametros)\n",
        "\n",
        "# Melhores hiperparâmetros para cada arquitetura\n",
        "bests2 = []\n",
        "\n",
        "# Alocando os atributos preditores na variável X\n",
        "X = database2.iloc[:,:-1]\n",
        "\n",
        "# Alocando o atributo alvo na variável y\n",
        "y = database2.iloc[:,-1:]\n",
        "\n",
        "for i in range(0,3):\n",
        "    print(i)\n",
        "\n",
        "    # Definindo a busca em grade para as arquitetura 1, 2 e 3\n",
        "    search = GridSearchCV(arquiteturas[i], grades, scoring='%s_macro' % metrica)\n",
        "    \n",
        "    # Definindo a partição holdout 70/30\n",
        "    X_train, X_test, y_train, y_test = train_test_split(X, y, test_size=0.30, random_state=42)\n",
        "    \n",
        "    # Buscando a melhor configuração de hiperparâmetros\n",
        "    search.fit(X_train, y_train)\n",
        "\n",
        "     # Salvando os melhores hiperparâmetros de cada arquitetura\n",
        "    for key, value in search.best_params_.items():\n",
        "        search.best_params_[key] = [value]\n",
        "    bests2.append(search.best_params_)"
      ],
      "execution_count": 19,
      "outputs": [
        {
          "output_type": "stream",
          "text": [
            "0\n",
            "1\n",
            "2\n"
          ],
          "name": "stdout"
        }
      ]
    },
    {
      "cell_type": "markdown",
      "metadata": {
        "id": "x7He-lJrfq-7"
      },
      "source": [
        "- Melhores hiperparâmetros sem os atributo categóricos"
      ]
    },
    {
      "cell_type": "code",
      "metadata": {
        "id": "C1zXRdHhfq-8",
        "outputId": "f631ad1c-68af-425e-a110-42337f1f6903",
        "colab": {
          "base_uri": "https://localhost:8080/"
        }
      },
      "source": [
        "for i in range(0,3):\n",
        "    print('Rede {0}'.format(i+1), bests2[i-3])"
      ],
      "execution_count": 20,
      "outputs": [
        {
          "output_type": "stream",
          "text": [
            "Rede 1 {'batch_size': [500], 'learning_rate': ['constant'], 'max_iter': [100], 'n_iter_no_change': [5], 'solver': ['adam']}\n",
            "Rede 2 {'batch_size': [500], 'learning_rate': ['constant'], 'max_iter': [100], 'n_iter_no_change': [5], 'solver': ['adam']}\n",
            "Rede 3 {'batch_size': [500], 'learning_rate': ['adaptive'], 'max_iter': [100], 'n_iter_no_change': [5], 'solver': ['adam']}\n"
          ],
          "name": "stdout"
        }
      ]
    },
    {
      "cell_type": "markdown",
      "metadata": {
        "id": "5vm1LyEHfq_E"
      },
      "source": [
        "## Validação Cruzada k-fold\n",
        "\n",
        "Na elaboração da busca em grid, vamos avaliar os modelos propostos segundo uma estratégia de validação cruzada ainda não explorada até o momento: a validação cruzada k-fold. Segundo a mesma, o conjunto de dados é particionado em k partes: a cada iteração, separa-se uma das partes para teste e o modelo é treinado com as k-1 partes remanescentes. Valores sugestivos de k na literatura são k = 3, 5 ou 10, pois o custo computacional desta validação dos modelos é alto. A métrica de desempenho é resultante da média dos desempenhos nas k iterações. A figura a seguir ilustra a ideia desta avaliação\n",
        "\n",
        "<img src = \"https://ethen8181.github.io/machine-learning/model_selection/img/kfolds.png\" width=600></img>\n",
        "\n",
        "Considerando a métrica de desempenho F1-Score, considere a validação cruzada 5-fold para aferir os resultados da busca em grande anterior."
      ]
    },
    {
      "cell_type": "markdown",
      "metadata": {
        "id": "yV3XZmKRfq_F"
      },
      "source": [
        "- Validação cruzada com atributos categóricos"
      ]
    },
    {
      "cell_type": "code",
      "metadata": {
        "id": "I2XHODQPfq_H"
      },
      "source": [
        "metrica = 'f1'\n",
        "\n",
        "# Desempenho de cada arquitetura\n",
        "fscore = dict()\n",
        "\n",
        "for i in range(1,7):\n",
        "    fscore.setdefault('rede{0}'.format(i), [])"
      ],
      "execution_count": 21,
      "outputs": []
    },
    {
      "cell_type": "code",
      "metadata": {
        "id": "XIo1G-txfq_N",
        "outputId": "5ce9d2da-b1fd-46a4-f4b8-9aa332321410",
        "colab": {
          "base_uri": "https://localhost:8080/"
        }
      },
      "source": [
        "# Definindo o número de folds\n",
        "k_folds = KFold(5)\n",
        "\n",
        "# Alocando os atributos preditores na variável X\n",
        "X = database_min.iloc[:,:-1]\n",
        "\n",
        "# Alocando o atributo alvo na variável y\n",
        "y = database_min.iloc[:,-1:]\n",
        "\n",
        "rede = 4\n",
        "\n",
        "# Validação Cruzada com os atributos categóricos\n",
        "for params, arquitetura in zip(bests1, arquiteturas[3:6]):\n",
        "    print(params)\n",
        "    print('rede ', rede)\n",
        "    \n",
        "    search = GridSearchCV(arquitetura, params, scoring='%s_macro' % metrica)\n",
        "    \n",
        "    fscores = []\n",
        "    \n",
        "    for k, (train, test) in enumerate(k_folds.split(X, y)):\n",
        "        \n",
        "        print('k = {0}'.format(k+1))\n",
        "\n",
        "        X_train = X.iloc[train]\n",
        "        y_train = y.iloc[train]\n",
        "        \n",
        "        \n",
        "        search.fit(X_train, y_train)\n",
        "        \n",
        "        X_test = X.iloc[test]\n",
        "        y_test = y.iloc[test]\n",
        "\n",
        "\n",
        "        y_pred = search.predict(X_test)\n",
        "\n",
        "        fscores.append(f1_score(y_pred, y_test, average='macro'))\n",
        "\n",
        "    fscore['rede'+str(rede)].append((fscores, search.best_params_, arquitetura))\n",
        "    rede += 1"
      ],
      "execution_count": 22,
      "outputs": [
        {
          "output_type": "stream",
          "text": [
            "{'batch_size': [500], 'learning_rate': ['constant'], 'max_iter': [100], 'n_iter_no_change': [5], 'solver': ['adam']}\n",
            "rede  4\n",
            "k = 1\n",
            "k = 2\n",
            "k = 3\n",
            "k = 4\n",
            "k = 5\n",
            "{'batch_size': [500], 'learning_rate': ['constant'], 'max_iter': [100], 'n_iter_no_change': [5], 'solver': ['adam']}\n",
            "rede  5\n",
            "k = 1\n",
            "k = 2\n",
            "k = 3\n",
            "k = 4\n",
            "k = 5\n",
            "{'batch_size': [500], 'learning_rate': ['invscaling'], 'max_iter': [100], 'n_iter_no_change': [5], 'solver': ['adam']}\n",
            "rede  6\n",
            "k = 1\n",
            "k = 2\n",
            "k = 3\n",
            "k = 4\n",
            "k = 5\n"
          ],
          "name": "stdout"
        }
      ]
    },
    {
      "cell_type": "markdown",
      "metadata": {
        "id": "Zue_7VSsfq_U"
      },
      "source": [
        "- Validação cruzada sem atributos categóricos"
      ]
    },
    {
      "cell_type": "code",
      "metadata": {
        "id": "VwXP5sQcfq_W",
        "outputId": "7d257776-1b75-4ebc-b03e-dd4b395a35b4",
        "colab": {
          "base_uri": "https://localhost:8080/"
        }
      },
      "source": [
        "# Definindo o número de folds\n",
        "k_folds = KFold(5)\n",
        "\n",
        "# Alocando os atributos preditores na variável X\n",
        "X = database2.iloc[:,:-1]\n",
        "\n",
        "# Alocando o atributo alvo na variável y\n",
        "y = database2.iloc[:,-1:]\n",
        "\n",
        "rede = 1\n",
        "\n",
        "# Validação Cruzada com os atributos categóricos\n",
        "for params, arquitetura in zip(bests2, arquiteturas[0:3]):\n",
        "    \n",
        "    print('rede ', rede)\n",
        "    \n",
        "    search = GridSearchCV(arquitetura, params, scoring='%s_macro' % metrica)\n",
        "    \n",
        "    fscores = []\n",
        "    \n",
        "    for k, (train, test) in enumerate(k_folds.split(X, y)):\n",
        "        \n",
        "        print('k = {0}'.format(k+1))\n",
        "\n",
        "        X_train = X.iloc[train]\n",
        "        y_train = y.iloc[train]\n",
        "        \n",
        "        \n",
        "        search.fit(X_train, y_train)\n",
        "        \n",
        "        X_test = X.iloc[test]\n",
        "        y_test = y.iloc[test]\n",
        "\n",
        "\n",
        "        y_pred = search.predict(X_test)\n",
        "\n",
        "        fscores.append(f1_score(y_pred, y_test, average='macro'))\n",
        "\n",
        "    fscore['rede'+str(rede)].append((fscores, search.best_params_, arquitetura))\n",
        "    rede += 1"
      ],
      "execution_count": 23,
      "outputs": [
        {
          "output_type": "stream",
          "text": [
            "rede  1\n",
            "k = 1\n",
            "k = 2\n",
            "k = 3\n",
            "k = 4\n",
            "k = 5\n",
            "rede  2\n",
            "k = 1\n",
            "k = 2\n",
            "k = 3\n",
            "k = 4\n",
            "k = 5\n",
            "rede  3\n",
            "k = 1\n",
            "k = 2\n",
            "k = 3\n",
            "k = 4\n",
            "k = 5\n"
          ],
          "name": "stdout"
        }
      ]
    },
    {
      "cell_type": "markdown",
      "metadata": {
        "id": "_SJUd9O_fq_f"
      },
      "source": [
        "- Resultados"
      ]
    },
    {
      "cell_type": "code",
      "metadata": {
        "id": "g9aW2H3jfq_g",
        "outputId": "3cbccaf2-2baa-4741-b56d-464441c9c96a",
        "colab": {
          "base_uri": "https://localhost:8080/"
        }
      },
      "source": [
        "fscore"
      ],
      "execution_count": 24,
      "outputs": [
        {
          "output_type": "execute_result",
          "data": {
            "text/plain": [
              "{'rede1': [([0.0, 0.0009492168960607499, 0.007042253521126762, 0.0, 0.0],\n",
              "   {'batch_size': 500,\n",
              "    'learning_rate': 'constant',\n",
              "    'max_iter': 100,\n",
              "    'n_iter_no_change': 5,\n",
              "    'solver': 'adam'},\n",
              "   MLPClassifier(activation='tanh', alpha=0.0001, batch_size='auto', beta_1=0.9,\n",
              "                 beta_2=0.999, early_stopping=False, epsilon=1e-08,\n",
              "                 hidden_layer_sizes=(9, 10), learning_rate='constant',\n",
              "                 learning_rate_init=0.001, max_fun=15000, max_iter=200,\n",
              "                 momentum=0.9, n_iter_no_change=3, nesterovs_momentum=True,\n",
              "                 power_t=0.5, random_state=None, shuffle=True, solver='adam',\n",
              "                 tol=0.0001, validation_fraction=0.1, verbose=False,\n",
              "                 warm_start=False))],\n",
              " 'rede2': [([0.04608294930875576, 0.0, 0.03592265498828767, 0.0, 0.0],\n",
              "   {'batch_size': 500,\n",
              "    'learning_rate': 'constant',\n",
              "    'max_iter': 100,\n",
              "    'n_iter_no_change': 5,\n",
              "    'solver': 'adam'},\n",
              "   MLPClassifier(activation='tanh', alpha=0.0001, batch_size='auto', beta_1=0.9,\n",
              "                 beta_2=0.999, early_stopping=False, epsilon=1e-08,\n",
              "                 hidden_layer_sizes=(13,), learning_rate='constant',\n",
              "                 learning_rate_init=0.001, max_fun=15000, max_iter=150,\n",
              "                 momentum=0.9, n_iter_no_change=3, nesterovs_momentum=True,\n",
              "                 power_t=0.5, random_state=None, shuffle=True, solver='adam',\n",
              "                 tol=0.0001, validation_fraction=0.1, verbose=False,\n",
              "                 warm_start=False))],\n",
              " 'rede3': [([0.0013123359580052493, 0.0, 0.036762274922790356, 0.0, 0.0],\n",
              "   {'batch_size': 500,\n",
              "    'learning_rate': 'adaptive',\n",
              "    'max_iter': 100,\n",
              "    'n_iter_no_change': 5,\n",
              "    'solver': 'adam'},\n",
              "   MLPClassifier(activation='tanh', alpha=0.0001, batch_size='auto', beta_1=0.9,\n",
              "                 beta_2=0.999, early_stopping=False, epsilon=1e-08,\n",
              "                 hidden_layer_sizes=(9, 10), learning_rate='constant',\n",
              "                 learning_rate_init=0.001, max_fun=15000, max_iter=100,\n",
              "                 momentum=0.9, n_iter_no_change=3, nesterovs_momentum=True,\n",
              "                 power_t=0.5, random_state=None, shuffle=True, solver='sgd',\n",
              "                 tol=0.0001, validation_fraction=0.1, verbose=False,\n",
              "                 warm_start=False))],\n",
              " 'rede4': [([0.04305200341005968,\n",
              "    0.0024783147459727386,\n",
              "    0.0473293185157592,\n",
              "    0.003273322422258592,\n",
              "    0.019659239842726082],\n",
              "   {'batch_size': 500,\n",
              "    'learning_rate': 'constant',\n",
              "    'max_iter': 100,\n",
              "    'n_iter_no_change': 5,\n",
              "    'solver': 'adam'},\n",
              "   MLPClassifier(activation='logistic', alpha=0.0001, batch_size='auto',\n",
              "                 beta_1=0.9, beta_2=0.999, early_stopping=False, epsilon=1e-08,\n",
              "                 hidden_layer_sizes=(25,), learning_rate='constant',\n",
              "                 learning_rate_init=0.001, max_fun=15000, max_iter=200,\n",
              "                 momentum=0.9, n_iter_no_change=2, nesterovs_momentum=True,\n",
              "                 power_t=0.5, random_state=None, shuffle=True, solver='adam',\n",
              "                 tol=0.0001, validation_fraction=0.1, verbose=False,\n",
              "                 warm_start=False))],\n",
              " 'rede5': [([0.03975155279503105,\n",
              "    0.015322217214961695,\n",
              "    0.0493624535102402,\n",
              "    0.006868131868131867,\n",
              "    0.003232062055591467],\n",
              "   {'batch_size': 500,\n",
              "    'learning_rate': 'constant',\n",
              "    'max_iter': 100,\n",
              "    'n_iter_no_change': 5,\n",
              "    'solver': 'adam'},\n",
              "   MLPClassifier(activation='logistic', alpha=0.0001, batch_size='auto',\n",
              "                 beta_1=0.9, beta_2=0.999, early_stopping=False, epsilon=1e-08,\n",
              "                 hidden_layer_sizes=(25,), learning_rate='constant',\n",
              "                 learning_rate_init=0.001, max_fun=15000, max_iter=100,\n",
              "                 momentum=0.9, n_iter_no_change=2, nesterovs_momentum=True,\n",
              "                 power_t=0.5, random_state=None, shuffle=True, solver='adam',\n",
              "                 tol=0.0001, validation_fraction=0.1, verbose=False,\n",
              "                 warm_start=False))],\n",
              " 'rede6': [([0.0335195530726257,\n",
              "    0.0056022408963585435,\n",
              "    0.07157619359058208,\n",
              "    0.0,\n",
              "    0.0],\n",
              "   {'batch_size': 500,\n",
              "    'learning_rate': 'invscaling',\n",
              "    'max_iter': 100,\n",
              "    'n_iter_no_change': 5,\n",
              "    'solver': 'adam'},\n",
              "   MLPClassifier(activation='tanh', alpha=0.0001, batch_size='auto', beta_1=0.9,\n",
              "                 beta_2=0.999, early_stopping=False, epsilon=1e-08,\n",
              "                 hidden_layer_sizes=(19, 6), learning_rate='constant',\n",
              "                 learning_rate_init=0.001, max_fun=15000, max_iter=150,\n",
              "                 momentum=0.9, n_iter_no_change=2, nesterovs_momentum=True,\n",
              "                 power_t=0.5, random_state=None, shuffle=True, solver='sgd',\n",
              "                 tol=0.0001, validation_fraction=0.1, verbose=False,\n",
              "                 warm_start=False))]}"
            ]
          },
          "metadata": {
            "tags": []
          },
          "execution_count": 24
        }
      ]
    },
    {
      "cell_type": "markdown",
      "metadata": {
        "id": "qo7-Doh4fq_q"
      },
      "source": [
        "## Identificando a mellhor solução\n",
        "\n",
        "Como resultado da busca em grande com validação cruzada 5-fold, identifique o modelo otimizado com melhor desempenho para o problema. Apresente claramente este modelo, seus parâmetros, hiperparâmetros otimizados e resultados para cada um dos folds avaliados. Esta é a melhor solução identificada em decorrência deste projeto"
      ]
    },
    {
      "cell_type": "code",
      "metadata": {
        "id": "RMOTcraefq_r",
        "outputId": "ca0df927-6b2b-4a43-b710-96ebfcbfa7ea",
        "colab": {
          "base_uri": "https://localhost:8080/"
        }
      },
      "source": [
        "desempenho = dict()\n",
        "for key, value in fscore.items():\n",
        "    desempenho.setdefault(key, np.mean(value[0][0]))\n",
        "best_rede = sorted(desempenho.items(), key=lambda x: x[1], reverse=True)[0]\n",
        "best_rede"
      ],
      "execution_count": 56,
      "outputs": [
        {
          "output_type": "execute_result",
          "data": {
            "text/plain": [
              "('rede4', 0.02315843978735526)"
            ]
          },
          "metadata": {
            "tags": []
          },
          "execution_count": 56
        }
      ]
    },
    {
      "cell_type": "markdown",
      "metadata": {
        "id": "PE80Cf2JCXSi"
      },
      "source": [
        "- Modelo, seus parâmetros, hiperparâmetros otimizados"
      ]
    },
    {
      "cell_type": "code",
      "metadata": {
        "id": "oVYmGOFZVbo8",
        "outputId": "230c922a-131c-4581-f6cf-2a9a15309dee",
        "colab": {
          "base_uri": "https://localhost:8080/"
        }
      },
      "source": [
        "fscore[best_rede[0]][0][2]"
      ],
      "execution_count": 64,
      "outputs": [
        {
          "output_type": "execute_result",
          "data": {
            "text/plain": [
              "MLPClassifier(activation='logistic', alpha=0.0001, batch_size='auto',\n",
              "              beta_1=0.9, beta_2=0.999, early_stopping=False, epsilon=1e-08,\n",
              "              hidden_layer_sizes=(25,), learning_rate='constant',\n",
              "              learning_rate_init=0.001, max_fun=15000, max_iter=200,\n",
              "              momentum=0.9, n_iter_no_change=2, nesterovs_momentum=True,\n",
              "              power_t=0.5, random_state=None, shuffle=True, solver='adam',\n",
              "              tol=0.0001, validation_fraction=0.1, verbose=False,\n",
              "              warm_start=False)"
            ]
          },
          "metadata": {
            "tags": []
          },
          "execution_count": 64
        }
      ]
    },
    {
      "cell_type": "code",
      "metadata": {
        "id": "daSijPHzVPTO",
        "outputId": "5f66c008-dd29-4373-9de7-96e2b36e94d1",
        "colab": {
          "base_uri": "https://localhost:8080/"
        }
      },
      "source": [
        "fscore[best_rede[0]][0][1]"
      ],
      "execution_count": 63,
      "outputs": [
        {
          "output_type": "execute_result",
          "data": {
            "text/plain": [
              "{'batch_size': 500,\n",
              " 'learning_rate': 'constant',\n",
              " 'max_iter': 100,\n",
              " 'n_iter_no_change': 5,\n",
              " 'solver': 'adam'}"
            ]
          },
          "metadata": {
            "tags": []
          },
          "execution_count": 63
        }
      ]
    },
    {
      "cell_type": "markdown",
      "metadata": {
        "id": "yfr57RANC387"
      },
      "source": [
        "- Resultados para cada um dos folds avaliados"
      ]
    },
    {
      "cell_type": "code",
      "metadata": {
        "id": "DaN6DPdefq_z",
        "outputId": "5513228d-9d70-4f46-ff28-eba6734ff603",
        "colab": {
          "base_uri": "https://localhost:8080/"
        }
      },
      "source": [
        "fscore[best_rede[0]][0][0]"
      ],
      "execution_count": 65,
      "outputs": [
        {
          "output_type": "execute_result",
          "data": {
            "text/plain": [
              "[0.04305200341005968,\n",
              " 0.0024783147459727386,\n",
              " 0.0473293185157592,\n",
              " 0.003273322422258592,\n",
              " 0.019659239842726082]"
            ]
          },
          "metadata": {
            "tags": []
          },
          "execution_count": 65
        }
      ]
    },
    {
      "cell_type": "markdown",
      "metadata": {
        "id": "N88qILY4fq_3"
      },
      "source": [
        "## Empacotando a solução\n",
        "\n",
        "Suponha que você deve entregar este classificador ao órgão responsável por administrar o Roosevelt National Park. Para tanto, você deve fazer uma preparação do mesmo para utilização neste cenário. Uma vez que já identificou os melhores parâmetros e hiperparâmetros, o passo remanescente consiste em treinar o modelo com estes valores e todos os dados disponíveis, salvando o conjunto de pesos do modelo ao final para entrega ao cliente. Assim, finalize o projeto prático realizando tais passos.\n",
        "\n",
        "1. Consulte a documentação a seguir:\n",
        "https://scikit-learn.org/stable/modules/model_persistence.html\n",
        "2. Treine o modelo com todos os dados\n",
        "3. Salve o modelo em disco  \n",
        "4. Construa uma rotina que recupere o modelo em disco  \n",
        "5. Mostre que a rotina é funcional, fazendo previsões com todos os elementos do dataset e exibindo uma matriz de confusão das mesmas"
      ]
    },
    {
      "cell_type": "markdown",
      "metadata": {
        "id": "3zGt-TB8fq_5"
      },
      "source": [
        "- Treine o modelo com todos os dados"
      ]
    },
    {
      "cell_type": "code",
      "metadata": {
        "id": "bK4zMe7Vfq_6"
      },
      "source": [
        "# Alocando os atributos preditores na variável X\n",
        "X = database.iloc[:,:-1]\n",
        "\n",
        "# Alocando o atributo alvo na variável y\n",
        "y = database.iloc[:,-1:]\n",
        "\n",
        "# Definindo a partição holdout 70/30\n",
        "X_train, X_test, y_train, y_test = train_test_split(X, y, test_size=0.30, random_state=42)\n",
        "\n",
        "# Treinando o modelo com melhor desempenho\n",
        "melhor_modelo.fit(X_train, X_test)\n"
      ],
      "execution_count": null,
      "outputs": []
    },
    {
      "cell_type": "markdown",
      "metadata": {
        "id": "nMIe4ellfrAB"
      },
      "source": [
        "- Salve o modelo em disco"
      ]
    },
    {
      "cell_type": "code",
      "metadata": {
        "id": "OWeWoRU4frAC"
      },
      "source": [
        "# Salvando o modelo no diretório redes\n",
        "dump(melhor_modelo, '../redes/melhor_modelo.joblib') "
      ],
      "execution_count": null,
      "outputs": []
    },
    {
      "cell_type": "markdown",
      "metadata": {
        "id": "UZF88vZifrAL"
      },
      "source": [
        "- Construa uma rotina que recupere o modelo em disco "
      ]
    },
    {
      "cell_type": "code",
      "metadata": {
        "id": "RkQ9lYCEfrAM"
      },
      "source": [
        "# Recuperando o modelo salvo em disco\n",
        "def get_model():\n",
        "    return load('../redes/melhor_modelo.joblib')"
      ],
      "execution_count": null,
      "outputs": []
    },
    {
      "cell_type": "markdown",
      "metadata": {
        "id": "n4vhwW-0frAS"
      },
      "source": [
        "- Mostre que a rotina é funcional, fazendo previsões com todos os elementos do dataset e exibindo uma matriz de confusão das mesmas\n"
      ]
    },
    {
      "cell_type": "code",
      "metadata": {
        "id": "-PDFenIvfrAT"
      },
      "source": [
        "# Carregando o modelo\n",
        "model = get_model()\n",
        "\n",
        "# Alocando os atributos preditores na variável X\n",
        "X = database.iloc[:,:-1]\n",
        "\n",
        "# Alocando o atributo alvo na variável y\n",
        "y = database.iloc[:,-1:]\n",
        "\n",
        "# Definindo a partição holdout 70/30\n",
        "X_train, X_test, y_train, y_test = train_test_split(X, y, test_size=0.30, random_state=42)\n",
        "\n",
        "# Treinando o modelo\n",
        "model.fit(X_train, y_train)\n",
        "\n",
        "# Construindo a matrix de confusão\n",
        "fig, ax = plt.subplots(figsize=(7,7))\n",
        "plot_confusion_matrix(model, X_test, y_test, ax=ax, cmap='YlGnBu', values_format=\"\")\n",
        "plt.title('Matriz de Confusão')\n",
        "plt.show()"
      ],
      "execution_count": null,
      "outputs": []
    }
  ]
}