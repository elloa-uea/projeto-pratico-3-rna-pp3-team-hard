{
  "nbformat": 4,
  "nbformat_minor": 0,
  "metadata": {
    "kernelspec": {
      "display_name": "Python 3",
      "language": "python",
      "name": "python3"
    },
    "language_info": {
      "codemirror_mode": {
        "name": "ipython",
        "version": 3
      },
      "file_extension": ".py",
      "mimetype": "text/x-python",
      "name": "python",
      "nbconvert_exporter": "python",
      "pygments_lexer": "ipython3",
      "version": "3.8.3"
    },
    "colab": {
      "name": "PP3.3 - Proposição e Avaliação de RNAs.ipynb",
      "provenance": []
    }
  },
  "cells": [
    {
      "cell_type": "markdown",
      "metadata": {
        "id": "kf7QhvnKuUn3"
      },
      "source": [
        "## Redes Neurais Artificiais 2020.1\n",
        "\n",
        "**Disciplina**: Redes Neurais Artificiais 2020.1  \n",
        "**Professora**: Elloá B. Guedes (ebgcosta@uea.edu.br)  \n",
        "**Github**: http://github.com/elloa  \n",
        "**Dupla**:\n",
        "  - Dayvson dos Santos Silva<br/>\n",
        "    **Email**: ddss.snf19@uea.edu.br<br/>\n",
        "    **GitHub**: https://github.com/userddssilva<br/>\n",
        "  - Hiago Oliveira de Jesus<br/>\n",
        "    **Email**: hodj.lic@uea.edu.br<br/>\n",
        "    **GitHub**: https://github.com/HiagoOliver<br/>        \n",
        "\n",
        "Levando em conta a base de dados **_Forest Cover Type_**, esta terceira parte do Projeto Prático 3 diz respeito à proposição e avaliação de múltiplas redes neurais artificiais do tipo feedforward multilayer perceptron para o problema da classificação multi-classe da cobertura florestal em uma área do Roosevelt National Forest.\n",
        "\n",
        "## Testando Redes Neurais sem os Atributos Categórios\n",
        "\n",
        "1. Abra a base de dados em questão\n",
        "2. Elimine todas as colunas relativas aos atributos categóricos\n",
        "3. Armazene o atributo alvo em uma variável y e os atributos preditores em uma variável X\n",
        "4. Efetue uma partição holdout 70/30 com o sklearn, distribuindo os exemplos de maneira aleatória\n",
        "5. Efetue o escalonamento dos atributos\n",
        "\n",
        "\n",
        "### Escalonando os atributos\n",
        "\n",
        "O treinamento de uma rede neural artificial é mais eficiente quando os valores que lhes são fornecidos como entrada são pequenos, pois isto favorece a convergência. Isto é feito escalonando-se todos os atributos para o intervalo [0,1], mas precisa ser feito de maneira cautelosa, para que informações do conjunto de teste não sejam fornecidas no treinamento.\n",
        "\n",
        "Há duas estratégias para tal escalonamento: normalização e padronização. Ambas possuem características particulares, vantagens e limitações, como é possível ver aqui: https://www.analyticsvidhya.com/blog/2020/04/feature-scaling-machine-learning-normalization-standardization/\n",
        "\n",
        "\n",
        "No nosso caso, vamos usar a padronização. Assim, com os atributos preditores do treinamento, isto é, X_train, deve-se subtrair a média e dividir pelo desvio padrão:\n",
        "\n",
        "X_train_std = (X_train - np.mean(X_train))/np.std(X_train)\n",
        "\n",
        "Em seguida, o mesmo deve ser feito com os atributos preditores do conjunto de testes, mas com padronização relativa ao conjunto de treinamento:\n",
        "\n",
        "X_test_std = (X_test - np.mean(X_train))/np.std(X_train)\n",
        "\n",
        "Se todo o conjunto X for utilizado na padronização, a rede neural receberá informações do conjunto de teste por meio da média e variância utilizada para preparar os dados de treinamento, o que não é desejável.\n",
        "\n",
        "### Continuando\n",
        "\n",
        "6. Treine uma rede neural multilayer perceptron para este problema com uma única camada e dez neurônios  \n",
        "    6.1 Utilize a função de ativação ReLU  \n",
        "    6.2 Utilize o solver Adam    \n",
        "    6.3 Imprima o passo a passo do treinamento    \n",
        "    6.4 Utilize o número máximo de épocas igual a 300  \n",
        "7. Com o modelo em questão, após o treinamento, apresente:  \n",
        "    7.1 Matriz de confusão para o conjunto de teste  \n",
        "    7.2 Acurácia  \n",
        "    7.3 F-Score  \n",
        "    7.4 Precisão  \n",
        "    7.5 Revocação  \n",
        "8. Repita o treinamento da mesma rede anterior sem imprimir o passo a passo (verbose False) por 100 vezes  \n",
        "    8.1 Cada uma destas repetições deve ser feita com uma nova partição Holdout  \n",
        "    8.2 Apresente a média e o desvio padrão da acurácia e do F-Score para o conjunto de treino  \n",
        "9. Repita por 100 vezes o treinamento desta mesma rede, mas utilizando o otimizador SGD  \n",
        "    9.1 Apresente a média e o desvio padrão da acurácia e do F-Score para o conjunto de treino  \n",
        "10. Houve influência da escolha do otimizador no desempenho da rede?"
      ]
    },
    {
      "cell_type": "markdown",
      "metadata": {
        "id": "QlF89XnWTHhX"
      },
      "source": [
        "### Importando as bibliotecas"
      ]
    },
    {
      "cell_type": "code",
      "metadata": {
        "id": "VI_UWvPbdxml"
      },
      "source": [
        "#pip install -U prettytable"
      ],
      "execution_count": 227,
      "outputs": []
    },
    {
      "cell_type": "code",
      "metadata": {
        "id": "OAmdZw2YTM2U"
      },
      "source": [
        "import re\n",
        "import numpy as np\n",
        "import pandas as pd\n",
        "import seaborn as sns\n",
        "import matplotlib.pyplot as plt\n",
        "import warnings\n",
        "warnings.filterwarnings('ignore')\n",
        "\n",
        "from prettytable import PrettyTable\n",
        "from sklearn.model_selection import train_test_split\n",
        "from sklearn.neural_network import MLPClassifier\n",
        "from sklearn.metrics import confusion_matrix, plot_confusion_matrix\n",
        "from sklearn.metrics import accuracy_score, f1_score, precision_score, recall_score\n",
        "from sklearn.metrics import classification_report"
      ],
      "execution_count": 228,
      "outputs": []
    },
    {
      "cell_type": "markdown",
      "metadata": {
        "id": "avlvR4M7eBVK"
      },
      "source": [
        "### Função auxiliar"
      ]
    },
    {
      "cell_type": "code",
      "metadata": {
        "id": "tx77ofHNeDxA"
      },
      "source": [
        "def print_tabela(header, data):\n",
        "    columns = []\n",
        "    for col in header:\n",
        "        columns.append(col)\n",
        "        \n",
        "    rows = []\n",
        "    for value in data:\n",
        "        rows.append(value)\n",
        "        \n",
        "    table = PrettyTable(columns) \n",
        "    table.add_row(rows) \n",
        "\n",
        "    print(table)"
      ],
      "execution_count": 229,
      "outputs": []
    },
    {
      "cell_type": "markdown",
      "metadata": {
        "id": "RpbNXc0_ShLm"
      },
      "source": [
        "## Testando Redes Neurais sem os Atributos Categórios"
      ]
    },
    {
      "cell_type": "markdown",
      "metadata": {
        "id": "IZRD17_2SnX2"
      },
      "source": [
        "\n",
        "### 1. Abra a base de dados em questão\n",
        "\n",
        "\n"
      ]
    },
    {
      "cell_type": "markdown",
      "metadata": {
        "id": "4fapyR4fiHKQ"
      },
      "source": [
        "#### Leitura da base de dados"
      ]
    },
    {
      "cell_type": "code",
      "metadata": {
        "id": "f2GW4MymS_mX"
      },
      "source": [
        "database = pd.read_csv('database/covtype.csv')"
      ],
      "execution_count": 230,
      "outputs": []
    },
    {
      "cell_type": "markdown",
      "metadata": {
        "id": "Ch3MCg8jSuXW"
      },
      "source": [
        "### 2. Elimine todas as colunas relativas aos atributos categóricos\n"
      ]
    },
    {
      "cell_type": "markdown",
      "metadata": {
        "id": "HRAHIyP9ewvT"
      },
      "source": [
        "#### Colunas da base de dados anterior a eliminação dos atributos categóricos"
      ]
    },
    {
      "cell_type": "code",
      "metadata": {
        "id": "8yc4e9Ydes9v",
        "outputId": "7d36a5f2-512e-404d-c61d-f63f16cb6fca",
        "colab": {
          "base_uri": "https://localhost:8080/",
          "height": 122
        }
      },
      "source": [
        "print_tabela(np.arange(1 ,database.shape[1] + 1, 1), database.columns)"
      ],
      "execution_count": 231,
      "outputs": [
        {
          "output_type": "stream",
          "text": [
            "+-----------+--------+-------+----------------------------------+--------------------------------+---------------------------------+---------------+----------------+---------------+------------------------------------+------------------+------------------+------------------+------------------+------------+------------+------------+------------+------------+------------+------------+------------+------------+-------------+-------------+-------------+-------------+-------------+-------------+-------------+-------------+-------------+-------------+-------------+-------------+-------------+-------------+-------------+-------------+-------------+-------------+-------------+-------------+-------------+-------------+-------------+-------------+-------------+-------------+-------------+-------------+-------------+-------------+-------------+------------+\n",
            "|     1     |   2    |   3   |                4                 |               5                |                6                |       7       |       8        |       9       |                 10                 |        11        |        12        |        13        |        14        |     15     |     16     |     17     |     18     |     19     |     20     |     21     |     22     |     23     |      24     |      25     |      26     |      27     |      28     |      29     |      30     |      31     |      32     |      33     |      34     |      35     |      36     |      37     |      38     |      39     |      40     |      41     |      42     |      43     |      44     |      45     |      46     |      47     |      48     |      49     |      50     |      51     |      52     |      53     |      54     |     55     |\n",
            "+-----------+--------+-------+----------------------------------+--------------------------------+---------------------------------+---------------+----------------+---------------+------------------------------------+------------------+------------------+------------------+------------------+------------+------------+------------+------------+------------+------------+------------+------------+------------+-------------+-------------+-------------+-------------+-------------+-------------+-------------+-------------+-------------+-------------+-------------+-------------+-------------+-------------+-------------+-------------+-------------+-------------+-------------+-------------+-------------+-------------+-------------+-------------+-------------+-------------+-------------+-------------+-------------+-------------+-------------+------------+\n",
            "| Elevation | Aspect | Slope | Horizontal_Distance_To_Hydrology | Vertical_Distance_To_Hydrology | Horizontal_Distance_To_Roadways | Hillshade_9am | Hillshade_Noon | Hillshade_3pm | Horizontal_Distance_To_Fire_Points | Wilderness_Area1 | Wilderness_Area2 | Wilderness_Area3 | Wilderness_Area4 | Soil_Type1 | Soil_Type2 | Soil_Type3 | Soil_Type4 | Soil_Type5 | Soil_Type6 | Soil_Type7 | Soil_Type8 | Soil_Type9 | Soil_Type10 | Soil_Type11 | Soil_Type12 | Soil_Type13 | Soil_Type14 | Soil_Type15 | Soil_Type16 | Soil_Type17 | Soil_Type18 | Soil_Type19 | Soil_Type20 | Soil_Type21 | Soil_Type22 | Soil_Type23 | Soil_Type24 | Soil_Type25 | Soil_Type26 | Soil_Type27 | Soil_Type28 | Soil_Type29 | Soil_Type30 | Soil_Type31 | Soil_Type32 | Soil_Type33 | Soil_Type34 | Soil_Type35 | Soil_Type36 | Soil_Type37 | Soil_Type38 | Soil_Type39 | Soil_Type40 | Cover_Type |\n",
            "+-----------+--------+-------+----------------------------------+--------------------------------+---------------------------------+---------------+----------------+---------------+------------------------------------+------------------+------------------+------------------+------------------+------------+------------+------------+------------+------------+------------+------------+------------+------------+-------------+-------------+-------------+-------------+-------------+-------------+-------------+-------------+-------------+-------------+-------------+-------------+-------------+-------------+-------------+-------------+-------------+-------------+-------------+-------------+-------------+-------------+-------------+-------------+-------------+-------------+-------------+-------------+-------------+-------------+-------------+------------+\n"
          ],
          "name": "stdout"
        }
      ]
    },
    {
      "cell_type": "markdown",
      "metadata": {
        "id": "qNCNFNV1YLSn"
      },
      "source": [
        "Os nomes das colunas que representam valores categóricos possuem como substring \"Wilderness_Area\" ou \"Soil_Type\". As expressões regulares foram utilizadas para seleção das colunas a serem eliminadas.  \n"
      ]
    },
    {
      "cell_type": "code",
      "metadata": {
        "id": "WRAo459PZ4qu"
      },
      "source": [
        "for column in database.columns:\n",
        "    match = re.search('^Soil_Type\\d{1,2}$|^Wilderness_Area\\d$', column)\n",
        "    if match:\n",
        "        database.drop(columns=column, axis=1, inplace=True)    "
      ],
      "execution_count": 232,
      "outputs": []
    },
    {
      "cell_type": "markdown",
      "metadata": {
        "id": "3rI-gKuJf1FI"
      },
      "source": [
        "#### Colunas da base de dados posterior a eliminação dos atributos categóricos"
      ]
    },
    {
      "cell_type": "code",
      "metadata": {
        "id": "1WjUI9y9fJLQ",
        "outputId": "d53b6cce-fa30-4d21-e59b-961f7b36e765",
        "colab": {
          "base_uri": "https://localhost:8080/",
          "height": 122
        }
      },
      "source": [
        "print_tabela(np.arange(1 ,database.shape[1] + 1, 1), database.columns)"
      ],
      "execution_count": 233,
      "outputs": [
        {
          "output_type": "stream",
          "text": [
            "+-----------+--------+-------+----------------------------------+--------------------------------+---------------------------------+---------------+----------------+---------------+------------------------------------+------------+\n",
            "|     1     |   2    |   3   |                4                 |               5                |                6                |       7       |       8        |       9       |                 10                 |     11     |\n",
            "+-----------+--------+-------+----------------------------------+--------------------------------+---------------------------------+---------------+----------------+---------------+------------------------------------+------------+\n",
            "| Elevation | Aspect | Slope | Horizontal_Distance_To_Hydrology | Vertical_Distance_To_Hydrology | Horizontal_Distance_To_Roadways | Hillshade_9am | Hillshade_Noon | Hillshade_3pm | Horizontal_Distance_To_Fire_Points | Cover_Type |\n",
            "+-----------+--------+-------+----------------------------------+--------------------------------+---------------------------------+---------------+----------------+---------------+------------------------------------+------------+\n"
          ],
          "name": "stdout"
        }
      ]
    },
    {
      "cell_type": "markdown",
      "metadata": {
        "id": "EkM1Q_EqSxmO"
      },
      "source": [
        "### 3. Armazene o atributo alvo em uma variável y e os atributos preditores em uma variável X\n"
      ]
    },
    {
      "cell_type": "markdown",
      "metadata": {
        "id": "gMn819iYhjjZ"
      },
      "source": [
        "#### Alocando o atributo alvo na variável y"
      ]
    },
    {
      "cell_type": "code",
      "metadata": {
        "id": "BkATAFn-TBkG"
      },
      "source": [
        "y = database.iloc[:,-1:]"
      ],
      "execution_count": 234,
      "outputs": []
    },
    {
      "cell_type": "markdown",
      "metadata": {
        "id": "H6GFKnPOgYTC"
      },
      "source": [
        "**Atributo alvo**"
      ]
    },
    {
      "cell_type": "code",
      "metadata": {
        "id": "ap4-UTf3grQV",
        "outputId": "8851edc3-71be-437a-f9f0-9da9a0208809",
        "colab": {
          "base_uri": "https://localhost:8080/",
          "height": 0
        }
      },
      "source": [
        "print_tabela(['Atributo alvo'], y.columns)"
      ],
      "execution_count": 235,
      "outputs": [
        {
          "output_type": "stream",
          "text": [
            "+---------------+\n",
            "| Atributo alvo |\n",
            "+---------------+\n",
            "|   Cover_Type  |\n",
            "+---------------+\n"
          ],
          "name": "stdout"
        }
      ]
    },
    {
      "cell_type": "markdown",
      "metadata": {
        "id": "lbAWM1IHhrRh"
      },
      "source": [
        "#### Alocando os atributos preditores na variável X"
      ]
    },
    {
      "cell_type": "code",
      "metadata": {
        "id": "XEMpd6zZgiRQ"
      },
      "source": [
        "X = database.iloc[:,:-1]"
      ],
      "execution_count": 236,
      "outputs": []
    },
    {
      "cell_type": "markdown",
      "metadata": {
        "id": "LFio0CKZgeVn"
      },
      "source": [
        "**Atributos preditores**"
      ]
    },
    {
      "cell_type": "code",
      "metadata": {
        "id": "g-dknTZ2g1z1",
        "outputId": "982a70b0-589d-44e0-9d72-28493e154ee2",
        "colab": {
          "base_uri": "https://localhost:8080/",
          "height": 122
        }
      },
      "source": [
        "header = ['{0}. Atributo preditor'.format(x) for x in np.arange(1,X.shape[1]+1,1)]\n",
        "print_tabela(header, X.columns)"
      ],
      "execution_count": 237,
      "outputs": [
        {
          "output_type": "stream",
          "text": [
            "+----------------------+----------------------+----------------------+----------------------------------+--------------------------------+---------------------------------+----------------------+----------------------+----------------------+------------------------------------+\n",
            "| 1. Atributo preditor | 2. Atributo preditor | 3. Atributo preditor |       4. Atributo preditor       |      5. Atributo preditor      |       6. Atributo preditor      | 7. Atributo preditor | 8. Atributo preditor | 9. Atributo preditor |       10. Atributo preditor        |\n",
            "+----------------------+----------------------+----------------------+----------------------------------+--------------------------------+---------------------------------+----------------------+----------------------+----------------------+------------------------------------+\n",
            "|      Elevation       |        Aspect        |        Slope         | Horizontal_Distance_To_Hydrology | Vertical_Distance_To_Hydrology | Horizontal_Distance_To_Roadways |    Hillshade_9am     |    Hillshade_Noon    |    Hillshade_3pm     | Horizontal_Distance_To_Fire_Points |\n",
            "+----------------------+----------------------+----------------------+----------------------------------+--------------------------------+---------------------------------+----------------------+----------------------+----------------------+------------------------------------+\n"
          ],
          "name": "stdout"
        }
      ]
    },
    {
      "cell_type": "markdown",
      "metadata": {
        "id": "YgP_STVIS2S6"
      },
      "source": [
        "### 4. Efetue uma partição holdout 70/30 com o sklearn, distribuindo os exemplos de maneira aleatória"
      ]
    },
    {
      "cell_type": "markdown",
      "metadata": {
        "id": "DbYygJwCm0Tx"
      },
      "source": [
        "#### Particionando a base de dados em 70% para treinamento e 30% para teste"
      ]
    },
    {
      "cell_type": "code",
      "metadata": {
        "id": "0z-jXh3bTCR0"
      },
      "source": [
        "X_train, X_test, y_train, y_test = train_test_split(X, y, test_size=0.30, shuffle=True)"
      ],
      "execution_count": 238,
      "outputs": []
    },
    {
      "cell_type": "markdown",
      "metadata": {
        "id": "f8tbGgXbn20H"
      },
      "source": [
        "A base de dados contém 581012 instâncias, das quais 406708 instâncias representam 70% dos dados e 174304 instâncias caracterizam 30% dos dados."
      ]
    },
    {
      "cell_type": "code",
      "metadata": {
        "id": "01P1Xh8dm_O1",
        "outputId": "f3cec379-b796-437d-98a7-03a1456bdfd0",
        "colab": {
          "base_uri": "https://localhost:8080/",
          "height": 102
        }
      },
      "source": [
        "tamanho = database.__len__()\n",
        "setenta  = int(tamanho * 0.7)\n",
        "trinta = (tamanho - setenta)\n",
        "print_tabela(['Total','70%','30%'], [tamanho,setenta,trinta])"
      ],
      "execution_count": 239,
      "outputs": [
        {
          "output_type": "stream",
          "text": [
            "+--------+--------+--------+\n",
            "| Total  |  70%   |  30%   |\n",
            "+--------+--------+--------+\n",
            "| 581012 | 406708 | 174304 |\n",
            "+--------+--------+--------+\n"
          ],
          "name": "stdout"
        }
      ]
    },
    {
      "cell_type": "markdown",
      "metadata": {
        "id": "7I4lBOExS7ae"
      },
      "source": [
        "### 5. Efetue o escalonamento dos atributos"
      ]
    },
    {
      "cell_type": "markdown",
      "metadata": {
        "id": "G5d94LqR_L3B"
      },
      "source": [
        "#### Calculando a média e o desvio padrão do conjunto de treinamento"
      ]
    },
    {
      "cell_type": "code",
      "metadata": {
        "id": "xzNdpFus_KZZ"
      },
      "source": [
        "mean = X_train.mean()\n",
        "std = X_train.std()"
      ],
      "execution_count": 240,
      "outputs": []
    },
    {
      "cell_type": "markdown",
      "metadata": {
        "id": "6H4aYdiTpxrg"
      },
      "source": [
        "#### Escalonando o conjunto treinamento e teste"
      ]
    },
    {
      "cell_type": "code",
      "metadata": {
        "id": "5z9dDScYrhcX"
      },
      "source": [
        "X_train_std = (X_train - mean)/std"
      ],
      "execution_count": 241,
      "outputs": []
    },
    {
      "cell_type": "code",
      "metadata": {
        "id": "X8r3At6StWur"
      },
      "source": [
        "X_test_std = (X_test - mean)/std"
      ],
      "execution_count": 242,
      "outputs": []
    },
    {
      "cell_type": "markdown",
      "metadata": {
        "id": "8agQM--Ixb1h"
      },
      "source": [
        "### 6. Treine uma rede neural multilayer perceptron para este problema com uma única camada e dez neurônios \n",
        "\n"
      ]
    },
    {
      "cell_type": "markdown",
      "metadata": {
        "id": "0ah6TR3ECCLL"
      },
      "source": [
        "#### 6.1 Utilize a função de ativação ReLU\n",
        "#### 6.2 Utilize o solver Adam"
      ]
    },
    {
      "cell_type": "code",
      "metadata": {
        "id": "7mHkoivVx28p"
      },
      "source": [
        "perceptron = MLPClassifier(hidden_layer_sizes=(1,10), activation='relu', solver='adam', verbose=True)"
      ],
      "execution_count": 243,
      "outputs": []
    },
    {
      "cell_type": "markdown",
      "metadata": {
        "id": "RZSQJpYpxnG2"
      },
      "source": [
        "#### 6.3 Imprima o passo a passo do treinamento"
      ]
    },
    {
      "cell_type": "code",
      "metadata": {
        "id": "XHbtFPA0x5FX",
        "outputId": "ec63a74b-0506-4c9d-cdd8-d09560768de5",
        "colab": {
          "base_uri": "https://localhost:8080/",
          "height": 646
        }
      },
      "source": [
        "perceptron.fit(X_train_std, y_train)"
      ],
      "execution_count": 244,
      "outputs": [
        {
          "output_type": "stream",
          "text": [
            "Iteration 1, loss = 0.95667384\n",
            "Iteration 2, loss = 0.75226316\n",
            "Iteration 3, loss = 0.73787418\n",
            "Iteration 4, loss = 0.73443778\n",
            "Iteration 5, loss = 0.73321313\n",
            "Iteration 6, loss = 0.73257570\n",
            "Iteration 7, loss = 0.73227095\n",
            "Iteration 8, loss = 0.73202763\n",
            "Iteration 9, loss = 0.73182591\n",
            "Iteration 10, loss = 0.73169540\n",
            "Iteration 11, loss = 0.73162707\n",
            "Iteration 12, loss = 0.73150374\n",
            "Iteration 13, loss = 0.73147709\n",
            "Iteration 14, loss = 0.73140771\n",
            "Iteration 15, loss = 0.73137409\n",
            "Iteration 16, loss = 0.73138533\n",
            "Iteration 17, loss = 0.73126591\n",
            "Iteration 18, loss = 0.73126389\n",
            "Iteration 19, loss = 0.73133171\n",
            "Iteration 20, loss = 0.73125530\n",
            "Iteration 21, loss = 0.73121993\n",
            "Iteration 22, loss = 0.73122620\n",
            "Iteration 23, loss = 0.73132334\n",
            "Iteration 24, loss = 0.73125375\n",
            "Iteration 25, loss = 0.73128184\n",
            "Iteration 26, loss = 0.73116195\n",
            "Iteration 27, loss = 0.73115922\n",
            "Iteration 28, loss = 0.73126433\n",
            "Training loss did not improve more than tol=0.000100 for 10 consecutive epochs. Stopping.\n"
          ],
          "name": "stdout"
        },
        {
          "output_type": "execute_result",
          "data": {
            "text/plain": [
              "MLPClassifier(activation='relu', alpha=0.0001, batch_size='auto', beta_1=0.9,\n",
              "              beta_2=0.999, early_stopping=False, epsilon=1e-08,\n",
              "              hidden_layer_sizes=(1, 10), learning_rate='constant',\n",
              "              learning_rate_init=0.001, max_fun=15000, max_iter=200,\n",
              "              momentum=0.9, n_iter_no_change=10, nesterovs_momentum=True,\n",
              "              power_t=0.5, random_state=None, shuffle=True, solver='adam',\n",
              "              tol=0.0001, validation_fraction=0.1, verbose=True,\n",
              "              warm_start=False)"
            ]
          },
          "metadata": {
            "tags": []
          },
          "execution_count": 244
        }
      ]
    },
    {
      "cell_type": "markdown",
      "metadata": {
        "id": "pn60c3gDyDys"
      },
      "source": [
        "### 7. Com o modelo em questão, após o treinamento, apresente:\n",
        "#### 7.1 Matriz de confusão para o conjunto de teste"
      ]
    },
    {
      "cell_type": "code",
      "metadata": {
        "id": "BrbOuLf6yHYP"
      },
      "source": [
        "y_pred = perceptron.predict(X_test_std)\n",
        "cm = confusion_matrix(y_test, y_pred)"
      ],
      "execution_count": 245,
      "outputs": []
    },
    {
      "cell_type": "markdown",
      "metadata": {
        "id": "CBL9-a7MQNYC"
      },
      "source": [
        "#### Visualizando a matriz de confusão"
      ]
    },
    {
      "cell_type": "code",
      "metadata": {
        "id": "76RTwF9IyLR5",
        "outputId": "031134dd-6125-4730-dbf1-c835887b6848",
        "colab": {
          "base_uri": "https://localhost:8080/",
          "height": 417
        }
      },
      "source": [
        "f, ax = plt.subplots(figsize=(7,7))\n",
        "plot_confusion_matrix(perceptron, X_test_std, y_test, normalize='true', values_format='.2%', cmap='Blues', ax=ax)\n",
        "plt.show()"
      ],
      "execution_count": 246,
      "outputs": [
        {
          "output_type": "display_data",
          "data": {
            "image/png": "[encoded data removed]",
            "text/plain": [
              "<Figure size 504x504 with 2 Axes>"
            ]
          },
          "metadata": {
            "tags": [],
            "needs_background": "light"
          }
        }
      ]
    },
    {
      "cell_type": "markdown",
      "metadata": {
        "id": "f2671wcayL6Y"
      },
      "source": [
        "#### 7.2 Acurácia"
      ]
    },
    {
      "cell_type": "code",
      "metadata": {
        "id": "pKBk77xiyPc3",
        "outputId": "3f27ed30-d7a5-4d3d-fd43-fe6adf408de1",
        "colab": {
          "base_uri": "https://localhost:8080/",
          "height": 102
        }
      },
      "source": [
        "acuracia = accuracy_score(y_test, y_pred)\n",
        "print_tabela(['Acurácia'], [np.round(acuracia, 4)])"
      ],
      "execution_count": 247,
      "outputs": [
        {
          "output_type": "stream",
          "text": [
            "+----------+\n",
            "| Acurácia |\n",
            "+----------+\n",
            "|  0.6964  |\n",
            "+----------+\n"
          ],
          "name": "stdout"
        }
      ]
    },
    {
      "cell_type": "markdown",
      "metadata": {
        "id": "4z_779qNyQN2"
      },
      "source": [
        "#### 7.3 F-Score"
      ]
    },
    {
      "cell_type": "code",
      "metadata": {
        "id": "59WV5R8QyS0p",
        "outputId": "80d1b591-23d8-4ff7-b47d-b7508160026e",
        "colab": {
          "base_uri": "https://localhost:8080/",
          "height": 102
        }
      },
      "source": [
        "fscore = f1_score(y_test, y_pred, average='weighted')\n",
        "print_tabela(['F-Score'],[np.round(fscore, 4)])"
      ],
      "execution_count": 248,
      "outputs": [
        {
          "output_type": "stream",
          "text": [
            "+---------+\n",
            "| F-Score |\n",
            "+---------+\n",
            "|  0.6733 |\n",
            "+---------+\n"
          ],
          "name": "stdout"
        }
      ]
    },
    {
      "cell_type": "markdown",
      "metadata": {
        "id": "gH46-qZSyTgq"
      },
      "source": [
        "#### 7.4 Precisão"
      ]
    },
    {
      "cell_type": "code",
      "metadata": {
        "id": "02krBI8QyVCG",
        "outputId": "2163b357-42b1-46e5-ef33-34b98958785e",
        "colab": {
          "base_uri": "https://localhost:8080/",
          "height": 102
        }
      },
      "source": [
        "precisao = precision_score(y_test, y_pred, average='weighted')\n",
        "print_tabela(['Precisão'], [np.round(precisao, 4)])"
      ],
      "execution_count": 249,
      "outputs": [
        {
          "output_type": "stream",
          "text": [
            "+----------+\n",
            "| Precisão |\n",
            "+----------+\n",
            "|  0.6602  |\n",
            "+----------+\n"
          ],
          "name": "stdout"
        }
      ]
    },
    {
      "cell_type": "markdown",
      "metadata": {
        "id": "Pfa4kpLWyV43"
      },
      "source": [
        "#### 7.5 Revocação"
      ]
    },
    {
      "cell_type": "code",
      "metadata": {
        "id": "VMGXqEjlyY-r",
        "outputId": "69102f72-8dd1-48ba-eb9f-bef864d7be6a",
        "colab": {
          "base_uri": "https://localhost:8080/",
          "height": 102
        }
      },
      "source": [
        "revocacao = recall_score(y_test, y_pred, average='weighted')\n",
        "print_tabela(['Revocação'], [np.round(precisao, 4)])"
      ],
      "execution_count": 250,
      "outputs": [
        {
          "output_type": "stream",
          "text": [
            "+-----------+\n",
            "| Revocação |\n",
            "+-----------+\n",
            "|   0.6602  |\n",
            "+-----------+\n"
          ],
          "name": "stdout"
        }
      ]
    },
    {
      "cell_type": "markdown",
      "metadata": {
        "id": "-jjdyWBEPn4r"
      },
      "source": [
        "#### Visualizando as métricas de desempenho"
      ]
    },
    {
      "cell_type": "code",
      "metadata": {
        "id": "WIw_10TWN6PM",
        "outputId": "44c07e14-6249-4900-92f8-d836c35850b3",
        "colab": {
          "base_uri": "https://localhost:8080/",
          "height": 142
        }
      },
      "source": [
        "pd.DataFrame(classification_report(y_test, y_pred, output_dict=True)).drop('support')"
      ],
      "execution_count": 251,
      "outputs": [
        {
          "output_type": "execute_result",
          "data": {
            "text/html": [
              "<div>\n",
              "<style scoped>\n",
              "    .dataframe tbody tr th:only-of-type {\n",
              "        vertical-align: middle;\n",
              "    }\n",
              "\n",
              "    .dataframe tbody tr th {\n",
              "        vertical-align: top;\n",
              "    }\n",
              "\n",
              "    .dataframe thead th {\n",
              "        text-align: right;\n",
              "    }\n",
              "</style>\n",
              "<table border=\"1\" class=\"dataframe\">\n",
              "  <thead>\n",
              "    <tr style=\"text-align: right;\">\n",
              "      <th></th>\n",
              "      <th>1</th>\n",
              "      <th>2</th>\n",
              "      <th>3</th>\n",
              "      <th>4</th>\n",
              "      <th>5</th>\n",
              "      <th>6</th>\n",
              "      <th>7</th>\n",
              "      <th>accuracy</th>\n",
              "      <th>macro avg</th>\n",
              "      <th>weighted avg</th>\n",
              "    </tr>\n",
              "  </thead>\n",
              "  <tbody>\n",
              "    <tr>\n",
              "      <th>precision</th>\n",
              "      <td>0.681583</td>\n",
              "      <td>0.720609</td>\n",
              "      <td>0.606684</td>\n",
              "      <td>0.0</td>\n",
              "      <td>0.0</td>\n",
              "      <td>0.0</td>\n",
              "      <td>0.641071</td>\n",
              "      <td>0.696358</td>\n",
              "      <td>0.378564</td>\n",
              "      <td>0.660157</td>\n",
              "    </tr>\n",
              "    <tr>\n",
              "      <th>recall</th>\n",
              "      <td>0.686062</td>\n",
              "      <td>0.799734</td>\n",
              "      <td>0.777221</td>\n",
              "      <td>0.0</td>\n",
              "      <td>0.0</td>\n",
              "      <td>0.0</td>\n",
              "      <td>0.233572</td>\n",
              "      <td>0.696358</td>\n",
              "      <td>0.356656</td>\n",
              "      <td>0.696358</td>\n",
              "    </tr>\n",
              "    <tr>\n",
              "      <th>f1-score</th>\n",
              "      <td>0.683815</td>\n",
              "      <td>0.758112</td>\n",
              "      <td>0.681445</td>\n",
              "      <td>0.0</td>\n",
              "      <td>0.0</td>\n",
              "      <td>0.0</td>\n",
              "      <td>0.342394</td>\n",
              "      <td>0.696358</td>\n",
              "      <td>0.352252</td>\n",
              "      <td>0.673265</td>\n",
              "    </tr>\n",
              "  </tbody>\n",
              "</table>\n",
              "</div>"
            ],
            "text/plain": [
              "                  1         2         3  ...  accuracy  macro avg  weighted avg\n",
              "precision  0.681583  0.720609  0.606684  ...  0.696358   0.378564      0.660157\n",
              "recall     0.686062  0.799734  0.777221  ...  0.696358   0.356656      0.696358\n",
              "f1-score   0.683815  0.758112  0.681445  ...  0.696358   0.352252      0.673265\n",
              "\n",
              "[3 rows x 10 columns]"
            ]
          },
          "metadata": {
            "tags": []
          },
          "execution_count": 251
        }
      ]
    },
    {
      "cell_type": "markdown",
      "metadata": {
        "id": "YJCwgs5xv2uU"
      },
      "source": [
        "## Discussão\n",
        "\n",
        "Nos passos anteriores, você avaliou o desempenho de uma única rede neural que contém os seguintes parâmetros: uma única camada oculta com 10 neurônios e função de ativação ReLU. O otimizador utilizado, quer seja SGD ou ADAM, trata-se do algoritmo para aproximar o gradiente do erro. Neste sentido, a escolha do otimizador é um hiperparâmetro, pois diz respeito a como a rede neural definida previamente atuará \"em tempo de execução\"  durante o processo de treinamento. Também são hiperparâmetros a quantidade de épocas, a taxa de aprendizado inicial, dentre outros.\n",
        "\n",
        "Cabe alientar também que você efetuou o treinamento desta rede por 100 vezes e apresentou os resultados em termos de média +- desvio padrão. Lembre-se que em uma rede neural há a inicialização aleatória de pesos e, em consequência, o desempenho delas está sujeito à uma flutuação estocástica. A execução destas múltiplas vezes faz com que eliminemos algum viés introduzido por uma boa ou má \"sorte\" na escolha de pesos no caso de uma única execução.\n",
        "\n",
        "Você também aprendeu uma estratégia para escalonar os atributos para uma melhor convergência da rede. Utilize-a em todos os treinamentos e testes propostos a seguir.\n",
        "\n",
        "## Propondo Novas Arquiteturas\n",
        "\n",
        "Variando  os parâmetros (uma ou duas camadas ocultas, com diferente números de neurônios em cada uma delas e a função de ativação) e o hiperparâmetros solver (Adam ou SGD) e o número de épocas (100,150 e 200), atenda ao que se pede:\n",
        "\n",
        "1. Proponha 10 arquiteturas distintas de RNAs para o problema em questão, à sua escolha\n",
        "2. Avalie cada uma das arquiteturas perante todos os hiperparâmetros apresentados por 100 vezes\n",
        "3. Como resultado da avaliação, apresente:  \n",
        "    3.1 Top-3 melhores redes no tocante à F-Score e Acurácia  \n",
        "    3.2 Repetição em que houve o melhor desempenho de cada uma dessas redes: ilustre tp, tf, fp e fn  "
      ]
    },
    {
      "cell_type": "code",
      "metadata": {
        "id": "Sz-0tPV7QdKz"
      },
      "source": [
        ""
      ],
      "execution_count": 251,
      "outputs": []
    },
    {
      "cell_type": "markdown",
      "metadata": {
        "id": "iI5tGPF-QdK4"
      },
      "source": [
        "## Estimando o número de neurônios\n",
        "\n",
        "Um dos problemas de pesquisa com redes neurais artificiais consiste na determinação do número de neurônios em sua arquitetura. Embora não seja possível definir a priori qual rede neural é adequada para um problema, pois isto só é possível mediante uma busca exaustiva, há regras na literatura que sugerem o número de neurônios escondidos, tal como a regra da Pirâmide Geométrica, dada a seguir:\n",
        "\n",
        "$$N_h = \\alpha \\cdot \\sqrt{N_i \\cdot N_o},$$\n",
        "\n",
        "em que $N_h$ é o número de neurônios ocultos (a serem distribuídos em uma ou duas camadas ocultas), $N_i$ é o número de neurônios na camada de entrada e $N_o$ é o número de neurônios na camada de saída. \n",
        "\n",
        "1. Consulte a documentação da classe MLPClassifier (disponível em https://scikit-learn.org/stable/modules/generated/sklearn.neural_network.MLPClassifier.html) e obtenha os valores de $N_i$ e $N_h$.\n",
        "2. Teste os valores de $\\alpha$ como sendo iguais a $0.5$, $2$ e $3$.\n",
        "3. Proponha pelo menos 30 redes neurais segundo a regra da pirâmide geométrica e teste-as nos mesmos termos estabelecidos anterioremente  (solver, épocas, etc.)  \n",
        "    3.1 Apresente as top-3 melhores redes no tocante à F-Score e Acurácia  "
      ]
    },
    {
      "cell_type": "code",
      "metadata": {
        "id": "W9yuPiK7QdK5"
      },
      "source": [
        ""
      ],
      "execution_count": 251,
      "outputs": []
    },
    {
      "cell_type": "markdown",
      "metadata": {
        "id": "0dxHUeicQdK_"
      },
      "source": [
        "## Testando as Redes Neurais com Atributos Categóricos\n",
        "\n",
        "1. Considere as 6 redes neurais obtidas nos dois top-3 anteriores (arquiteturas próprias e regra da pirâmide geométrica)\n",
        "2. Com todos os atributos preditores da base de dados original, incluindo os categóricos, treine e teste estas mesmas redes por 100 repetições  \n",
        "    2.1 Considere o melhor otimizador para cada uma delas  \n",
        "    2.2 Faça uso de 200 épocas para treinamento  \n",
        "    2.2 Apresente os resultados de acurácia e F-Score em termos da média +- dp para cada arquitetura\n",
        "3. Apresente o gráfico boxplot para o F-Score das 6 arquiteturas perante as 100 repetições"
      ]
    },
    {
      "cell_type": "code",
      "metadata": {
        "id": "e1d0C1dNQdLA"
      },
      "source": [
        ""
      ],
      "execution_count": 251,
      "outputs": []
    },
    {
      "cell_type": "markdown",
      "metadata": {
        "id": "I19jW7oXQdLE"
      },
      "source": [
        "## Considerações Parciais\n",
        "\n",
        "1. É possível identificar uma rede com desempenho superior às demais?\n",
        "2. Qual estratégia mostrou-se mais producente para a obtenção de boas arquiteturas (Estratégia Própria ou Pirâmide Geométrica)? Por quê?\n",
        "3. Considerar os atributos categóricos trouxe melhorias? Justifique.\n",
        "4. Um número maior de épocas trouxe melhorias?\n",
        "5. Qual a maior dificuldade de resolução do problema proposto perante as RNAs?"
      ]
    },
    {
      "cell_type": "code",
      "metadata": {
        "id": "MbdkPdNNQdLF"
      },
      "source": [
        ""
      ],
      "execution_count": 251,
      "outputs": []
    }
  ]
}