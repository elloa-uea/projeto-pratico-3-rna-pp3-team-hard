{
 "cells": [
  {
   "cell_type": "markdown",
   "metadata": {
    "id": "kf7QhvnKuUn3"
   },
   "source": [
    "## Redes Neurais Artificiais 2020.1\n",
    "\n",
    "**Disciplina**: Redes Neurais Artificiais 2020.1  \n",
    "**Professora**: Elloá B. Guedes (ebgcosta@uea.edu.br)  \n",
    "**Github**: http://github.com/elloa  \n",
    "**Dupla**:\n",
    "  - Dayvson dos Santos Silva<br/>\n",
    "    **Email**: ddss.snf19@uea.edu.br<br/>\n",
    "    **GitHub**: https://github.com/userddssilva<br/>\n",
    "  - Hiago Oliveira de Jesus<br/>\n",
    "    **Email**: hodj.lic@uea.edu.br<br/>\n",
    "    **GitHub**: https://github.com/HiagoOliver<br/>        \n",
    "\n",
    "Levando em conta a base de dados **_Forest Cover Type_**, esta terceira parte do Projeto Prático 3 diz respeito à proposição e avaliação de múltiplas redes neurais artificiais do tipo feedforward multilayer perceptron para o problema da classificação multi-classe da cobertura florestal em uma área do Roosevelt National Forest.\n",
    "\n",
    "## Testando Redes Neurais sem os Atributos Categórios\n",
    "\n",
    "1. Abra a base de dados em questão\n",
    "2. Elimine todas as colunas relativas aos atributos categóricos\n",
    "3. Armazene o atributo alvo em uma variável y e os atributos preditores em uma variável X\n",
    "4. Efetue uma partição holdout 70/30 com o sklearn, distribuindo os exemplos de maneira aleatória\n",
    "5. Efetue o escalonamento dos atributos\n",
    "\n",
    "\n",
    "### Escalonando os atributos\n",
    "\n",
    "O treinamento de uma rede neural artificial é mais eficiente quando os valores que lhes são fornecidos como entrada são pequenos, pois isto favorece a convergência. Isto é feito escalonando-se todos os atributos para o intervalo [0,1], mas precisa ser feito de maneira cautelosa, para que informações do conjunto de teste não sejam fornecidas no treinamento.\n",
    "\n",
    "Há duas estratégias para tal escalonamento: normalização e padronização. Ambas possuem características particulares, vantagens e limitações, como é possível ver aqui: https://www.analyticsvidhya.com/blog/2020/04/feature-scaling-machine-learning-normalization-standardization/\n",
    "\n",
    "\n",
    "No nosso caso, vamos usar a padronização. Assim, com os atributos preditores do treinamento, isto é, X_train, deve-se subtrair a média e dividir pelo desvio padrão:\n",
    "\n",
    "X_train_std = (X_train - np.mean(X_train))/np.std(X_train)\n",
    "\n",
    "Em seguida, o mesmo deve ser feito com os atributos preditores do conjunto de testes, mas com padronização relativa ao conjunto de treinamento:\n",
    "\n",
    "X_test_std = (X_test - np.mean(X_train))/np.std(X_train)\n",
    "\n",
    "Se todo o conjunto X for utilizado na padronização, a rede neural receberá informações do conjunto de teste por meio da média e variância utilizada para preparar os dados de treinamento, o que não é desejável.\n",
    "\n",
    "### Continuando\n",
    "\n",
    "6. Treine uma rede neural multilayer perceptron para este problema com uma única camada e dez neurônios  \n",
    "    6.1 Utilize a função de ativação ReLU  \n",
    "    6.2 Utilize o solver Adam    \n",
    "    6.3 Imprima o passo a passo do treinamento    \n",
    "    6.4 Utilize o número máximo de épocas igual a 300  \n",
    "7. Com o modelo em questão, após o treinamento, apresente:  \n",
    "    7.1 Matriz de confusão para o conjunto de teste  \n",
    "    7.2 Acurácia  \n",
    "    7.3 F-Score  \n",
    "    7.4 Precisão  \n",
    "    7.5 Revocação  \n",
    "8. Repita o treinamento da mesma rede anterior sem imprimir o passo a passo (verbose False) por 100 vezes  \n",
    "    8.1 Cada uma destas repetições deve ser feita com uma nova partição Holdout  \n",
    "    8.2 Apresente a média e o desvio padrão da acurácia e do F-Score para o conjunto de treino  \n",
    "9. Repita por 100 vezes o treinamento desta mesma rede, mas utilizando o otimizador SGD  \n",
    "    9.1 Apresente a média e o desvio padrão da acurácia e do F-Score para o conjunto de treino  \n",
    "10. Houve influência da escolha do otimizador no desempenho da rede?"
   ]
  },
  {
   "cell_type": "markdown",
   "metadata": {
    "id": "QlF89XnWTHhX"
   },
   "source": [
    "### Importando as bibliotecas"
   ]
  },
  {
   "cell_type": "code",
   "execution_count": 1,
   "metadata": {
    "id": "OAmdZw2YTM2U"
   },
   "outputs": [],
   "source": [
    "import re\n",
    "import warnings\n",
    "\n",
    "import numpy as np\n",
    "import pandas as pd\n",
    "import seaborn as sns\n",
    "import matplotlib.pyplot as plt\n",
    "\n",
    "from sklearn.model_selection import train_test_split\n",
    "\n",
    "from sklearn.neural_network import MLPClassifier\n",
    "\n",
    "from sklearn.metrics import confusion_matrix, plot_confusion_matrix\n",
    "from sklearn.metrics import accuracy_score, f1_score, precision_score, recall_score\n",
    "from sklearn.metrics import classification_report\n",
    "\n",
    "warnings.filterwarnings('ignore')"
   ]
  },
  {
   "cell_type": "markdown",
   "metadata": {
    "id": "avlvR4M7eBVK"
   },
   "source": [
    "### Funções auxiliares"
   ]
  },
  {
   "cell_type": "code",
   "execution_count": 2,
   "metadata": {
    "id": "qKZLb75R1LRF"
   },
   "outputs": [],
   "source": [
    "def _columns():\n",
    "    return list (database.columns)"
   ]
  },
  {
   "cell_type": "markdown",
   "metadata": {
    "id": "RpbNXc0_ShLm"
   },
   "source": [
    "## Testando Redes Neurais sem os Atributos Categórios"
   ]
  },
  {
   "cell_type": "markdown",
   "metadata": {
    "id": "IZRD17_2SnX2"
   },
   "source": [
    "\n",
    "### 1. Abra a base de dados em questão\n",
    "\n",
    "\n"
   ]
  },
  {
   "cell_type": "markdown",
   "metadata": {
    "id": "4fapyR4fiHKQ"
   },
   "source": [
    "#### Leitura da base de dados"
   ]
  },
  {
   "cell_type": "code",
   "execution_count": 19,
   "metadata": {
    "id": "f2GW4MymS_mX"
   },
   "outputs": [
    {
     "output_type": "execute_result",
     "data": {
      "text/plain": [
       "        Elevation  Aspect  Slope  Horizontal_Distance_To_Hydrology  \\\n",
       "0            2596      51      3                               258   \n",
       "1            2590      56      2                               212   \n",
       "2            2804     139      9                               268   \n",
       "3            2785     155     18                               242   \n",
       "4            2595      45      2                               153   \n",
       "...           ...     ...    ...                               ...   \n",
       "581007       2396     153     20                                85   \n",
       "581008       2391     152     19                                67   \n",
       "581009       2386     159     17                                60   \n",
       "581010       2384     170     15                                60   \n",
       "581011       2383     165     13                                60   \n",
       "\n",
       "        Vertical_Distance_To_Hydrology  Horizontal_Distance_To_Roadways  \\\n",
       "0                                    0                              510   \n",
       "1                                   -6                              390   \n",
       "2                                   65                             3180   \n",
       "3                                  118                             3090   \n",
       "4                                   -1                              391   \n",
       "...                                ...                              ...   \n",
       "581007                              17                              108   \n",
       "581008                              12                               95   \n",
       "581009                               7                               90   \n",
       "581010                               5                               90   \n",
       "581011                               4                               67   \n",
       "\n",
       "        Hillshade_9am  Hillshade_Noon  Hillshade_3pm  \\\n",
       "0                 221             232            148   \n",
       "1                 220             235            151   \n",
       "2                 234             238            135   \n",
       "3                 238             238            122   \n",
       "4                 220             234            150   \n",
       "...               ...             ...            ...   \n",
       "581007            240             237            118   \n",
       "581008            240             237            119   \n",
       "581009            236             241            130   \n",
       "581010            230             245            143   \n",
       "581011            231             244            141   \n",
       "\n",
       "        Horizontal_Distance_To_Fire_Points  ...  Soil_Type32  Soil_Type33  \\\n",
       "0                                     6279  ...            0            0   \n",
       "1                                     6225  ...            0            0   \n",
       "2                                     6121  ...            0            0   \n",
       "3                                     6211  ...            0            0   \n",
       "4                                     6172  ...            0            0   \n",
       "...                                    ...  ...          ...          ...   \n",
       "581007                                 837  ...            0            0   \n",
       "581008                                 845  ...            0            0   \n",
       "581009                                 854  ...            0            0   \n",
       "581010                                 864  ...            0            0   \n",
       "581011                                 875  ...            0            0   \n",
       "\n",
       "        Soil_Type34  Soil_Type35  Soil_Type36  Soil_Type37  Soil_Type38  \\\n",
       "0                 0            0            0            0            0   \n",
       "1                 0            0            0            0            0   \n",
       "2                 0            0            0            0            0   \n",
       "3                 0            0            0            0            0   \n",
       "4                 0            0            0            0            0   \n",
       "...             ...          ...          ...          ...          ...   \n",
       "581007            0            0            0            0            0   \n",
       "581008            0            0            0            0            0   \n",
       "581009            0            0            0            0            0   \n",
       "581010            0            0            0            0            0   \n",
       "581011            0            0            0            0            0   \n",
       "\n",
       "        Soil_Type39  Soil_Type40  Cover_Type  \n",
       "0                 0            0           5  \n",
       "1                 0            0           5  \n",
       "2                 0            0           2  \n",
       "3                 0            0           2  \n",
       "4                 0            0           5  \n",
       "...             ...          ...         ...  \n",
       "581007            0            0           3  \n",
       "581008            0            0           3  \n",
       "581009            0            0           3  \n",
       "581010            0            0           3  \n",
       "581011            0            0           3  \n",
       "\n",
       "[581012 rows x 55 columns]"
      ],
      "text/html": "<div>\n<style scoped>\n    .dataframe tbody tr th:only-of-type {\n        vertical-align: middle;\n    }\n\n    .dataframe tbody tr th {\n        vertical-align: top;\n    }\n\n    .dataframe thead th {\n        text-align: right;\n    }\n</style>\n<table border=\"1\" class=\"dataframe\">\n  <thead>\n    <tr style=\"text-align: right;\">\n      <th></th>\n      <th>Elevation</th>\n      <th>Aspect</th>\n      <th>Slope</th>\n      <th>Horizontal_Distance_To_Hydrology</th>\n      <th>Vertical_Distance_To_Hydrology</th>\n      <th>Horizontal_Distance_To_Roadways</th>\n      <th>Hillshade_9am</th>\n      <th>Hillshade_Noon</th>\n      <th>Hillshade_3pm</th>\n      <th>Horizontal_Distance_To_Fire_Points</th>\n      <th>...</th>\n      <th>Soil_Type32</th>\n      <th>Soil_Type33</th>\n      <th>Soil_Type34</th>\n      <th>Soil_Type35</th>\n      <th>Soil_Type36</th>\n      <th>Soil_Type37</th>\n      <th>Soil_Type38</th>\n      <th>Soil_Type39</th>\n      <th>Soil_Type40</th>\n      <th>Cover_Type</th>\n    </tr>\n  </thead>\n  <tbody>\n    <tr>\n      <th>0</th>\n      <td>2596</td>\n      <td>51</td>\n      <td>3</td>\n      <td>258</td>\n      <td>0</td>\n      <td>510</td>\n      <td>221</td>\n      <td>232</td>\n      <td>148</td>\n      <td>6279</td>\n      <td>...</td>\n      <td>0</td>\n      <td>0</td>\n      <td>0</td>\n      <td>0</td>\n      <td>0</td>\n      <td>0</td>\n      <td>0</td>\n      <td>0</td>\n      <td>0</td>\n      <td>5</td>\n    </tr>\n    <tr>\n      <th>1</th>\n      <td>2590</td>\n      <td>56</td>\n      <td>2</td>\n      <td>212</td>\n      <td>-6</td>\n      <td>390</td>\n      <td>220</td>\n      <td>235</td>\n      <td>151</td>\n      <td>6225</td>\n      <td>...</td>\n      <td>0</td>\n      <td>0</td>\n      <td>0</td>\n      <td>0</td>\n      <td>0</td>\n      <td>0</td>\n      <td>0</td>\n      <td>0</td>\n      <td>0</td>\n      <td>5</td>\n    </tr>\n    <tr>\n      <th>2</th>\n      <td>2804</td>\n      <td>139</td>\n      <td>9</td>\n      <td>268</td>\n      <td>65</td>\n      <td>3180</td>\n      <td>234</td>\n      <td>238</td>\n      <td>135</td>\n      <td>6121</td>\n      <td>...</td>\n      <td>0</td>\n      <td>0</td>\n      <td>0</td>\n      <td>0</td>\n      <td>0</td>\n      <td>0</td>\n      <td>0</td>\n      <td>0</td>\n      <td>0</td>\n      <td>2</td>\n    </tr>\n    <tr>\n      <th>3</th>\n      <td>2785</td>\n      <td>155</td>\n      <td>18</td>\n      <td>242</td>\n      <td>118</td>\n      <td>3090</td>\n      <td>238</td>\n      <td>238</td>\n      <td>122</td>\n      <td>6211</td>\n      <td>...</td>\n      <td>0</td>\n      <td>0</td>\n      <td>0</td>\n      <td>0</td>\n      <td>0</td>\n      <td>0</td>\n      <td>0</td>\n      <td>0</td>\n      <td>0</td>\n      <td>2</td>\n    </tr>\n    <tr>\n      <th>4</th>\n      <td>2595</td>\n      <td>45</td>\n      <td>2</td>\n      <td>153</td>\n      <td>-1</td>\n      <td>391</td>\n      <td>220</td>\n      <td>234</td>\n      <td>150</td>\n      <td>6172</td>\n      <td>...</td>\n      <td>0</td>\n      <td>0</td>\n      <td>0</td>\n      <td>0</td>\n      <td>0</td>\n      <td>0</td>\n      <td>0</td>\n      <td>0</td>\n      <td>0</td>\n      <td>5</td>\n    </tr>\n    <tr>\n      <th>...</th>\n      <td>...</td>\n      <td>...</td>\n      <td>...</td>\n      <td>...</td>\n      <td>...</td>\n      <td>...</td>\n      <td>...</td>\n      <td>...</td>\n      <td>...</td>\n      <td>...</td>\n      <td>...</td>\n      <td>...</td>\n      <td>...</td>\n      <td>...</td>\n      <td>...</td>\n      <td>...</td>\n      <td>...</td>\n      <td>...</td>\n      <td>...</td>\n      <td>...</td>\n      <td>...</td>\n    </tr>\n    <tr>\n      <th>581007</th>\n      <td>2396</td>\n      <td>153</td>\n      <td>20</td>\n      <td>85</td>\n      <td>17</td>\n      <td>108</td>\n      <td>240</td>\n      <td>237</td>\n      <td>118</td>\n      <td>837</td>\n      <td>...</td>\n      <td>0</td>\n      <td>0</td>\n      <td>0</td>\n      <td>0</td>\n      <td>0</td>\n      <td>0</td>\n      <td>0</td>\n      <td>0</td>\n      <td>0</td>\n      <td>3</td>\n    </tr>\n    <tr>\n      <th>581008</th>\n      <td>2391</td>\n      <td>152</td>\n      <td>19</td>\n      <td>67</td>\n      <td>12</td>\n      <td>95</td>\n      <td>240</td>\n      <td>237</td>\n      <td>119</td>\n      <td>845</td>\n      <td>...</td>\n      <td>0</td>\n      <td>0</td>\n      <td>0</td>\n      <td>0</td>\n      <td>0</td>\n      <td>0</td>\n      <td>0</td>\n      <td>0</td>\n      <td>0</td>\n      <td>3</td>\n    </tr>\n    <tr>\n      <th>581009</th>\n      <td>2386</td>\n      <td>159</td>\n      <td>17</td>\n      <td>60</td>\n      <td>7</td>\n      <td>90</td>\n      <td>236</td>\n      <td>241</td>\n      <td>130</td>\n      <td>854</td>\n      <td>...</td>\n      <td>0</td>\n      <td>0</td>\n      <td>0</td>\n      <td>0</td>\n      <td>0</td>\n      <td>0</td>\n      <td>0</td>\n      <td>0</td>\n      <td>0</td>\n      <td>3</td>\n    </tr>\n    <tr>\n      <th>581010</th>\n      <td>2384</td>\n      <td>170</td>\n      <td>15</td>\n      <td>60</td>\n      <td>5</td>\n      <td>90</td>\n      <td>230</td>\n      <td>245</td>\n      <td>143</td>\n      <td>864</td>\n      <td>...</td>\n      <td>0</td>\n      <td>0</td>\n      <td>0</td>\n      <td>0</td>\n      <td>0</td>\n      <td>0</td>\n      <td>0</td>\n      <td>0</td>\n      <td>0</td>\n      <td>3</td>\n    </tr>\n    <tr>\n      <th>581011</th>\n      <td>2383</td>\n      <td>165</td>\n      <td>13</td>\n      <td>60</td>\n      <td>4</td>\n      <td>67</td>\n      <td>231</td>\n      <td>244</td>\n      <td>141</td>\n      <td>875</td>\n      <td>...</td>\n      <td>0</td>\n      <td>0</td>\n      <td>0</td>\n      <td>0</td>\n      <td>0</td>\n      <td>0</td>\n      <td>0</td>\n      <td>0</td>\n      <td>0</td>\n      <td>3</td>\n    </tr>\n  </tbody>\n</table>\n<p>581012 rows × 55 columns</p>\n</div>"
     },
     "metadata": {},
     "execution_count": 19
    }
   ],
   "source": [
    "database = pd.read_csv('../database/covtype.csv')\n",
    "database"
   ]
  },
  {
   "cell_type": "markdown",
   "metadata": {
    "id": "Ch3MCg8jSuXW"
   },
   "source": [
    "### 2. Elimine todas as colunas relativas aos atributos categóricos\n"
   ]
  },
  {
   "cell_type": "markdown",
   "metadata": {
    "id": "HRAHIyP9ewvT"
   },
   "source": [
    "#### Colunas da base de dados anterior a eliminação dos atributos categóricos"
   ]
  },
  {
   "cell_type": "code",
   "execution_count": 7,
   "metadata": {
    "colab": {
     "base_uri": "https://localhost:8080/",
     "height": 100
    },
    "id": "8yc4e9Ydes9v",
    "outputId": "26c0ae67-1bc7-4a11-b91b-b912021b299b"
   },
   "outputs": [
    {
     "output_type": "execute_result",
     "data": {
      "text/plain": [
       "Index(['Elevation', 'Aspect', 'Slope', 'Horizontal_Distance_To_Hydrology',\n",
       "       'Vertical_Distance_To_Hydrology', 'Horizontal_Distance_To_Roadways',\n",
       "       'Hillshade_9am', 'Hillshade_Noon', 'Hillshade_3pm',\n",
       "       'Horizontal_Distance_To_Fire_Points', 'Wilderness_Area1',\n",
       "       'Wilderness_Area2', 'Wilderness_Area3', 'Wilderness_Area4',\n",
       "       'Soil_Type1', 'Soil_Type2', 'Soil_Type3', 'Soil_Type4', 'Soil_Type5',\n",
       "       'Soil_Type6', 'Soil_Type7', 'Soil_Type8', 'Soil_Type9', 'Soil_Type10',\n",
       "       'Soil_Type11', 'Soil_Type12', 'Soil_Type13', 'Soil_Type14',\n",
       "       'Soil_Type15', 'Soil_Type16', 'Soil_Type17', 'Soil_Type18',\n",
       "       'Soil_Type19', 'Soil_Type20', 'Soil_Type21', 'Soil_Type22',\n",
       "       'Soil_Type23', 'Soil_Type24', 'Soil_Type25', 'Soil_Type26',\n",
       "       'Soil_Type27', 'Soil_Type28', 'Soil_Type29', 'Soil_Type30',\n",
       "       'Soil_Type31', 'Soil_Type32', 'Soil_Type33', 'Soil_Type34',\n",
       "       'Soil_Type35', 'Soil_Type36', 'Soil_Type37', 'Soil_Type38',\n",
       "       'Soil_Type39', 'Soil_Type40', 'Cover_Type'],\n",
       "      dtype='object')"
      ]
     },
     "metadata": {},
     "execution_count": 7
    }
   ],
   "source": [
    "database.columns"
   ]
  },
  {
   "cell_type": "markdown",
   "metadata": {
    "id": "qNCNFNV1YLSn"
   },
   "source": [
    "- Os nomes das colunas que representam valores categóricos possuem como substring \"Wilderness_Area\" ou \"Soil_Type\". As expressões regulares foram utilizadas para seleção das colunas a serem eliminadas.  \n"
   ]
  },
  {
   "cell_type": "code",
   "execution_count": 6,
   "metadata": {
    "id": "WRAo459PZ4qu"
   },
   "outputs": [],
   "source": [
    "columns_to_drop = []\n",
    "for column in _columns():\n",
    "    column_search = re.search('Soil_Type|Wilderness_Area', column)\n",
    "    if column_search:\n",
    "        columns_to_drop.append(column)\n",
    "database.drop(columns=columns_to_drop, axis=1, inplace=True)   "
   ]
  },
  {
   "cell_type": "markdown",
   "metadata": {
    "id": "3rI-gKuJf1FI"
   },
   "source": [
    "- Colunas da base de dados posterior a eliminação dos atributos categóricos"
   ]
  },
  {
   "cell_type": "code",
   "execution_count": 7,
   "metadata": {
    "colab": {
     "base_uri": "https://localhost:8080/",
     "height": 100
    },
    "id": "1WjUI9y9fJLQ",
    "outputId": "4757d031-11a4-419a-fa1d-37cbca8d418e"
   },
   "outputs": [
    {
     "output_type": "execute_result",
     "data": {
      "text/plain": [
       "Index(['Elevation', 'Aspect', 'Slope', 'Horizontal_Distance_To_Hydrology',\n",
       "       'Vertical_Distance_To_Hydrology', 'Horizontal_Distance_To_Roadways',\n",
       "       'Hillshade_9am', 'Hillshade_Noon', 'Hillshade_3pm',\n",
       "       'Horizontal_Distance_To_Fire_Points', 'Cover_Type'],\n",
       "      dtype='object')"
      ]
     },
     "metadata": {},
     "execution_count": 7
    }
   ],
   "source": [
    "database.columns"
   ]
  },
  {
   "cell_type": "markdown",
   "metadata": {
    "id": "EkM1Q_EqSxmO"
   },
   "source": [
    "### 3. Armazene o atributo alvo em uma variável y e os atributos preditores em uma variável X\n"
   ]
  },
  {
   "cell_type": "markdown",
   "metadata": {
    "id": "gMn819iYhjjZ"
   },
   "source": [
    "- Alocando o atributo alvo na variável y"
   ]
  },
  {
   "cell_type": "code",
   "execution_count": 15,
   "metadata": {
    "id": "jj7LK-Fv1LSK"
   },
   "outputs": [
    {
     "output_type": "execute_result",
     "data": {
      "text/plain": [
       "0         5\n",
       "1         5\n",
       "2         2\n",
       "3         2\n",
       "4         5\n",
       "         ..\n",
       "581007    3\n",
       "581008    3\n",
       "581009    3\n",
       "581010    3\n",
       "581011    3\n",
       "Name: Cover_Type, Length: 581012, dtype: int64"
      ]
     },
     "metadata": {},
     "execution_count": 15
    }
   ],
   "source": [
    "y = database.Cover_Type\n",
    "y"
   ]
  },
  {
   "cell_type": "markdown",
   "metadata": {
    "id": "lbAWM1IHhrRh"
   },
   "source": [
    "- Alocando os atributos preditores na variável X"
   ]
  },
  {
   "cell_type": "code",
   "execution_count": 17,
   "metadata": {
    "id": "XEMpd6zZgiRQ"
   },
   "outputs": [
    {
     "output_type": "execute_result",
     "data": {
      "text/plain": [
       "        Aspect  Cover_Type  Elevation  Hillshade_3pm  Hillshade_9am  \\\n",
       "0           51           5       2596            148            221   \n",
       "1           56           5       2590            151            220   \n",
       "2          139           2       2804            135            234   \n",
       "3          155           2       2785            122            238   \n",
       "4           45           5       2595            150            220   \n",
       "...        ...         ...        ...            ...            ...   \n",
       "581007     153           3       2396            118            240   \n",
       "581008     152           3       2391            119            240   \n",
       "581009     159           3       2386            130            236   \n",
       "581010     170           3       2384            143            230   \n",
       "581011     165           3       2383            141            231   \n",
       "\n",
       "        Hillshade_Noon  Horizontal_Distance_To_Fire_Points  \\\n",
       "0                  232                                6279   \n",
       "1                  235                                6225   \n",
       "2                  238                                6121   \n",
       "3                  238                                6211   \n",
       "4                  234                                6172   \n",
       "...                ...                                 ...   \n",
       "581007             237                                 837   \n",
       "581008             237                                 845   \n",
       "581009             241                                 854   \n",
       "581010             245                                 864   \n",
       "581011             244                                 875   \n",
       "\n",
       "        Horizontal_Distance_To_Hydrology  Horizontal_Distance_To_Roadways  \\\n",
       "0                                    258                              510   \n",
       "1                                    212                              390   \n",
       "2                                    268                             3180   \n",
       "3                                    242                             3090   \n",
       "4                                    153                              391   \n",
       "...                                  ...                              ...   \n",
       "581007                                85                              108   \n",
       "581008                                67                               95   \n",
       "581009                                60                               90   \n",
       "581010                                60                               90   \n",
       "581011                                60                               67   \n",
       "\n",
       "        Slope  Vertical_Distance_To_Hydrology  \n",
       "0           3                               0  \n",
       "1           2                              -6  \n",
       "2           9                              65  \n",
       "3          18                             118  \n",
       "4           2                              -1  \n",
       "...       ...                             ...  \n",
       "581007     20                              17  \n",
       "581008     19                              12  \n",
       "581009     17                               7  \n",
       "581010     15                               5  \n",
       "581011     13                               4  \n",
       "\n",
       "[581012 rows x 11 columns]"
      ],
      "text/html": "<div>\n<style scoped>\n    .dataframe tbody tr th:only-of-type {\n        vertical-align: middle;\n    }\n\n    .dataframe tbody tr th {\n        vertical-align: top;\n    }\n\n    .dataframe thead th {\n        text-align: right;\n    }\n</style>\n<table border=\"1\" class=\"dataframe\">\n  <thead>\n    <tr style=\"text-align: right;\">\n      <th></th>\n      <th>Aspect</th>\n      <th>Cover_Type</th>\n      <th>Elevation</th>\n      <th>Hillshade_3pm</th>\n      <th>Hillshade_9am</th>\n      <th>Hillshade_Noon</th>\n      <th>Horizontal_Distance_To_Fire_Points</th>\n      <th>Horizontal_Distance_To_Hydrology</th>\n      <th>Horizontal_Distance_To_Roadways</th>\n      <th>Slope</th>\n      <th>Vertical_Distance_To_Hydrology</th>\n    </tr>\n  </thead>\n  <tbody>\n    <tr>\n      <th>0</th>\n      <td>51</td>\n      <td>5</td>\n      <td>2596</td>\n      <td>148</td>\n      <td>221</td>\n      <td>232</td>\n      <td>6279</td>\n      <td>258</td>\n      <td>510</td>\n      <td>3</td>\n      <td>0</td>\n    </tr>\n    <tr>\n      <th>1</th>\n      <td>56</td>\n      <td>5</td>\n      <td>2590</td>\n      <td>151</td>\n      <td>220</td>\n      <td>235</td>\n      <td>6225</td>\n      <td>212</td>\n      <td>390</td>\n      <td>2</td>\n      <td>-6</td>\n    </tr>\n    <tr>\n      <th>2</th>\n      <td>139</td>\n      <td>2</td>\n      <td>2804</td>\n      <td>135</td>\n      <td>234</td>\n      <td>238</td>\n      <td>6121</td>\n      <td>268</td>\n      <td>3180</td>\n      <td>9</td>\n      <td>65</td>\n    </tr>\n    <tr>\n      <th>3</th>\n      <td>155</td>\n      <td>2</td>\n      <td>2785</td>\n      <td>122</td>\n      <td>238</td>\n      <td>238</td>\n      <td>6211</td>\n      <td>242</td>\n      <td>3090</td>\n      <td>18</td>\n      <td>118</td>\n    </tr>\n    <tr>\n      <th>4</th>\n      <td>45</td>\n      <td>5</td>\n      <td>2595</td>\n      <td>150</td>\n      <td>220</td>\n      <td>234</td>\n      <td>6172</td>\n      <td>153</td>\n      <td>391</td>\n      <td>2</td>\n      <td>-1</td>\n    </tr>\n    <tr>\n      <th>...</th>\n      <td>...</td>\n      <td>...</td>\n      <td>...</td>\n      <td>...</td>\n      <td>...</td>\n      <td>...</td>\n      <td>...</td>\n      <td>...</td>\n      <td>...</td>\n      <td>...</td>\n      <td>...</td>\n    </tr>\n    <tr>\n      <th>581007</th>\n      <td>153</td>\n      <td>3</td>\n      <td>2396</td>\n      <td>118</td>\n      <td>240</td>\n      <td>237</td>\n      <td>837</td>\n      <td>85</td>\n      <td>108</td>\n      <td>20</td>\n      <td>17</td>\n    </tr>\n    <tr>\n      <th>581008</th>\n      <td>152</td>\n      <td>3</td>\n      <td>2391</td>\n      <td>119</td>\n      <td>240</td>\n      <td>237</td>\n      <td>845</td>\n      <td>67</td>\n      <td>95</td>\n      <td>19</td>\n      <td>12</td>\n    </tr>\n    <tr>\n      <th>581009</th>\n      <td>159</td>\n      <td>3</td>\n      <td>2386</td>\n      <td>130</td>\n      <td>236</td>\n      <td>241</td>\n      <td>854</td>\n      <td>60</td>\n      <td>90</td>\n      <td>17</td>\n      <td>7</td>\n    </tr>\n    <tr>\n      <th>581010</th>\n      <td>170</td>\n      <td>3</td>\n      <td>2384</td>\n      <td>143</td>\n      <td>230</td>\n      <td>245</td>\n      <td>864</td>\n      <td>60</td>\n      <td>90</td>\n      <td>15</td>\n      <td>5</td>\n    </tr>\n    <tr>\n      <th>581011</th>\n      <td>165</td>\n      <td>3</td>\n      <td>2383</td>\n      <td>141</td>\n      <td>231</td>\n      <td>244</td>\n      <td>875</td>\n      <td>60</td>\n      <td>67</td>\n      <td>13</td>\n      <td>4</td>\n    </tr>\n  </tbody>\n</table>\n<p>581012 rows × 11 columns</p>\n</div>"
     },
     "metadata": {},
     "execution_count": 17
    }
   ],
   "source": [
    "X = database[database.columns.difference(['Cover_type'])]\n",
    "X"
   ]
  },
  {
   "cell_type": "markdown",
   "metadata": {
    "id": "YgP_STVIS2S6"
   },
   "source": [
    "### 4. Efetue uma partição holdout 70/30 com o Sklearn, distribuindo os exemplos de maneira aleatória"
   ]
  },
  {
   "cell_type": "markdown",
   "metadata": {
    "id": "DbYygJwCm0Tx"
   },
   "source": [
    "- Particionando a base de dados em 70% para treinamento e 30% para teste"
   ]
  },
  {
   "cell_type": "code",
   "execution_count": 21,
   "metadata": {
    "id": "a9QAG1iQWz1Y"
   },
   "outputs": [],
   "source": [
    "X_train, X_test, y_train, y_test = train_test_split(X, y, test_size=0.30, shuffle=True)"
   ]
  },
  {
   "cell_type": "markdown",
   "metadata": {
    "id": "f8tbGgXbn20H"
   },
   "source": [
    "- A base de dados contém 581012 instâncias, das quais 406708 instâncias representam 70% dos dados e 174304 instâncias caracterizam 30% dos dados."
   ]
  },
  {
   "cell_type": "code",
   "execution_count": 24,
   "metadata": {
    "colab": {
     "base_uri": "https://localhost:8080/",
     "height": 142
    },
    "id": "01P1Xh8dm_O1",
    "outputId": "70374b0d-d6f8-44b5-ba76-700068076010"
   },
   "outputs": [
    {
     "output_type": "execute_result",
     "data": {
      "text/plain": [
       "((406708, 11), (174304, 11))"
      ]
     },
     "metadata": {},
     "execution_count": 24
    }
   ],
   "source": [
    "X_train.shape, X_test.shape"
   ]
  },
  {
   "cell_type": "markdown",
   "metadata": {
    "id": "7I4lBOExS7ae"
   },
   "source": [
    "### 5. Efetue o escalonamento dos atributos"
   ]
  },
  {
   "cell_type": "markdown",
   "metadata": {
    "id": "6H4aYdiTpxrg"
   },
   "source": [
    "- Escalonando os atributos preditores do conjunto treinamento e teste"
   ]
  },
  {
   "cell_type": "code",
   "execution_count": 25,
   "metadata": {
    "id": "5z9dDScYrhcX"
   },
   "outputs": [],
   "source": [
    "mean = X_train.mean() \n",
    "std = X_train.std()\n",
    "\n",
    "X_train_std = (X_train - mean) / std\n",
    "X_test_std = (X_test - mean) / std"
   ]
  },
  {
   "cell_type": "markdown",
   "metadata": {
    "id": "8agQM--Ixb1h"
   },
   "source": [
    "### 6. Treine uma rede neural multilayer perceptron para este problema com uma única camada e dez neurônios \n",
    "\n"
   ]
  },
  {
   "cell_type": "markdown",
   "metadata": {
    "id": "0ah6TR3ECCLL"
   },
   "source": [
    "#### 6.1 Utilize a função de ativação ReLU\n",
    "#### 6.2 Utilize o solver Adam"
   ]
  },
  {
   "cell_type": "code",
   "execution_count": 26,
   "metadata": {
    "id": "7mHkoivVx28p"
   },
   "outputs": [],
   "source": [
    "perceptron = MLPClassifier(hidden_layer_sizes=(1,10), activation='relu', solver='adam', verbose=True)"
   ]
  },
  {
   "cell_type": "markdown",
   "metadata": {
    "id": "RZSQJpYpxnG2"
   },
   "source": [
    "#### 6.3 Imprima o passo a passo do treinamento"
   ]
  },
  {
   "cell_type": "code",
   "execution_count": 29,
   "metadata": {
    "colab": {
     "base_uri": "https://localhost:8080/",
     "height": 527
    },
    "id": "XHbtFPA0x5FX",
    "outputId": "c04728e3-5f7a-420e-ea87-ea16bb2c37cb"
   },
   "outputs": [
    {
     "output_type": "stream",
     "name": "stdout",
     "text": [
      "Iteration 1, loss = 0.77051154\n",
      "Iteration 2, loss = 0.22740505\n",
      "Iteration 3, loss = 0.20552451\n",
      "Iteration 4, loss = 0.20404638\n",
      "Iteration 5, loss = 0.20376075\n",
      "Iteration 6, loss = 0.20370368\n",
      "Iteration 7, loss = 0.20368230\n",
      "Iteration 8, loss = 0.20366199\n",
      "Iteration 9, loss = 0.20365493\n",
      "Iteration 10, loss = 0.20365387\n",
      "Iteration 11, loss = 0.20367247\n",
      "Iteration 12, loss = 0.20362812\n",
      "Iteration 13, loss = 0.20363284\n",
      "Iteration 14, loss = 0.11324942\n",
      "Iteration 15, loss = 0.10391892\n",
      "Iteration 16, loss = 0.10374854\n",
      "Iteration 17, loss = 0.10366965\n",
      "Iteration 18, loss = 0.10366835\n",
      "Iteration 19, loss = 0.10365835\n",
      "Iteration 20, loss = 0.10364674\n",
      "Iteration 21, loss = 0.10362596\n",
      "Iteration 22, loss = 0.10365467\n",
      "Iteration 23, loss = 0.09641389\n",
      "Iteration 24, loss = 0.08554933\n",
      "Iteration 25, loss = 0.08538095\n",
      "Iteration 26, loss = 0.08532996\n",
      "Iteration 27, loss = 0.08531220\n",
      "Iteration 28, loss = 0.08530603\n",
      "Iteration 29, loss = 0.08531431\n",
      "Iteration 30, loss = 0.08531772\n",
      "Iteration 31, loss = 0.08530507\n",
      "Iteration 32, loss = 0.08531636\n",
      "Iteration 33, loss = 0.08529769\n",
      "Iteration 34, loss = 0.08405808\n",
      "Iteration 35, loss = 0.04579062\n",
      "Iteration 36, loss = 0.04486380\n",
      "Iteration 37, loss = 0.04479248\n",
      "Iteration 38, loss = 0.04475882\n",
      "Iteration 39, loss = 0.04475355\n",
      "Iteration 40, loss = 0.04474715\n",
      "Iteration 41, loss = 0.04472750\n",
      "Iteration 42, loss = 0.04473421\n",
      "Iteration 43, loss = 0.04474111\n",
      "Iteration 44, loss = 0.04473822\n",
      "Iteration 45, loss = 0.04474291\n",
      "Iteration 46, loss = 0.04474263\n",
      "Iteration 47, loss = 0.04474435\n",
      "Training loss did not improve more than tol=0.000100 for 10 consecutive epochs. Stopping.\n"
     ]
    },
    {
     "output_type": "execute_result",
     "data": {
      "text/plain": [
       "MLPClassifier(hidden_layer_sizes=(1, 10), verbose=True)"
      ]
     },
     "metadata": {},
     "execution_count": 29
    }
   ],
   "source": [
    "perceptron.fit(X_train_std, y_train)"
   ]
  },
  {
   "cell_type": "markdown",
   "metadata": {
    "id": "pn60c3gDyDys"
   },
   "source": [
    "### 7. Com o modelo em questão, após o treinamento, apresente:\n",
    "#### 7.1 Matriz de confusão para o conjunto de teste"
   ]
  },
  {
   "cell_type": "code",
   "execution_count": 19,
   "metadata": {
    "id": "kb8MuKEFNp4D"
   },
   "outputs": [],
   "source": [
    "y_pred = perceptron.predict(X_test_std)\n",
    "matriz = confusion_matrix(y_test, y_pred)"
   ]
  },
  {
   "cell_type": "markdown",
   "metadata": {
    "id": "CBL9-a7MQNYC"
   },
   "source": [
    "#### Visualizando a matriz de confusão"
   ]
  },
  {
   "cell_type": "code",
   "execution_count": 20,
   "metadata": {
    "colab": {
     "base_uri": "https://localhost:8080/",
     "height": 336
    },
    "id": "7EBZaf5OCzdY",
    "outputId": "212f21c4-0968-4d66-b7b5-ce9e6f6042ec"
   },
   "outputs": [
    {
     "data": {
      "image/png": "[encoded data removed]",
      "text/plain": [
       "<Figure size 1152x360 with 2 Axes>"
      ]
     },
     "metadata": {
      "needs_background": "light",
      "tags": []
     },
     "output_type": "display_data"
    }
   ],
   "source": [
    "plt.figure(figsize=(16,5))\n",
    "sns.heatmap(matriz, annot=True, fmt=\"d\", linewidths=.5, cmap=\"YlGnBu\")\n",
    "plt.title(' Matriz de Confusão')\n",
    "plt.show()"
   ]
  },
  {
   "cell_type": "markdown",
   "metadata": {
    "id": "V44CukVuErZe"
   },
   "source": [
    "#### Visualizando a matriz de confusão em porcentagem"
   ]
  },
  {
   "cell_type": "code",
   "execution_count": 21,
   "metadata": {
    "colab": {
     "base_uri": "https://localhost:8080/",
     "height": 350
    },
    "id": "bcgwMfp_Eq94",
    "outputId": "d98eecac-9cb1-4289-c671-00ef0baa2d8f"
   },
   "outputs": [
    {
     "data": {
      "image/png": "[encoded data removed]",
      "text/plain": [
       "<Figure size 1152x360 with 2 Axes>"
      ]
     },
     "metadata": {
      "needs_background": "light",
      "tags": []
     },
     "output_type": "display_data"
    }
   ],
   "source": [
    "plt.figure(figsize=(16,5))\n",
    "sns.heatmap((matriz/np.sum(matriz)), annot=True, fmt=\".2%\", linewidths=.5, cmap=\"YlGnBu\")\n",
    "plt.title(' Matriz de Confusão'), plt.xlabel('Predict'), plt.ylabel('True')\n",
    "plt.show()"
   ]
  },
  {
   "cell_type": "markdown",
   "metadata": {
    "id": "f2671wcayL6Y"
   },
   "source": [
    "#### 7.2 Acurácia"
   ]
  },
  {
   "cell_type": "code",
   "execution_count": 22,
   "metadata": {
    "id": "pKBk77xiyPc3"
   },
   "outputs": [],
   "source": [
    "acuracia = accuracy_score(y_test, y_pred)"
   ]
  },
  {
   "cell_type": "markdown",
   "metadata": {
    "id": "rrtLRP-XIfvw"
   },
   "source": [
    "#### Visualizando a acurácia"
   ]
  },
  {
   "cell_type": "code",
   "execution_count": 23,
   "metadata": {
    "colab": {
     "base_uri": "https://localhost:8080/",
     "height": 295
    },
    "id": "hqty_McwILrl",
    "outputId": "d8e32d80-275a-404e-fa7a-22a39687ac25"
   },
   "outputs": [
    {
     "data": {
      "image/png": "[encoded data removed]",
      "text/plain": [
       "<Figure size 432x288 with 1 Axes>"
      ]
     },
     "metadata": {
      "needs_background": "light",
      "tags": []
     },
     "output_type": "display_data"
    }
   ],
   "source": [
    "plt.hist([acuracia], label=np.round(acuracia, 4))\n",
    "plt.title('Acurácia'), plt.xlabel('Medidas'), plt.ylabel('Quantidade')\n",
    "plt.xticks(np.arange(0.1, 1.5, 0.1))\n",
    "plt.legend()\n",
    "plt.show()"
   ]
  },
  {
   "cell_type": "markdown",
   "metadata": {
    "id": "4z_779qNyQN2"
   },
   "source": [
    "#### 7.3 F-Score"
   ]
  },
  {
   "cell_type": "code",
   "execution_count": 24,
   "metadata": {
    "id": "59WV5R8QyS0p"
   },
   "outputs": [],
   "source": [
    "fscore = f1_score(y_test, y_pred, average=None)"
   ]
  },
  {
   "cell_type": "markdown",
   "metadata": {
    "id": "MsCccUHzIw2j"
   },
   "source": [
    "#### Visualizando o F-Score"
   ]
  },
  {
   "cell_type": "code",
   "execution_count": 32,
   "metadata": {
    "id": "vgojLYwVju6b"
   },
   "outputs": [],
   "source": [
    "data = np.round(fscore, 4)\n",
    "labels = pd.DataFrame(data, columns=['Score'])"
   ]
  },
  {
   "cell_type": "code",
   "execution_count": 71,
   "metadata": {
    "colab": {
     "base_uri": "https://localhost:8080/",
     "height": 295
    },
    "id": "ra553hwVI2vZ",
    "outputId": "33a4bf29-7fd7-4e86-bf8c-8103dba50bd3"
   },
   "outputs": [
    {
     "data": {
      "image/png": "[encoded data removed]",
      "text/plain": [
       "<Figure size 432x288 with 1 Axes>"
      ]
     },
     "metadata": {
      "needs_background": "light",
      "tags": []
     },
     "output_type": "display_data"
    }
   ],
   "source": [
    "sns.countplot(data, hue=labels['Score'], dodge=False)\n",
    "plt.title('F-Score'), plt.xlabel('Medidas'), plt.ylabel('Quantidade')\n",
    "plt.show()"
   ]
  },
  {
   "cell_type": "markdown",
   "metadata": {
    "id": "gH46-qZSyTgq"
   },
   "source": [
    "#### 7.4 Precisão"
   ]
  },
  {
   "cell_type": "code",
   "execution_count": 27,
   "metadata": {
    "id": "02krBI8QyVCG"
   },
   "outputs": [],
   "source": [
    "precisao = precision_score(y_test, y_pred, average=None)"
   ]
  },
  {
   "cell_type": "markdown",
   "metadata": {
    "id": "SbYSExu0JRYV"
   },
   "source": [
    "#### Visualizando a precisão"
   ]
  },
  {
   "cell_type": "code",
   "execution_count": 72,
   "metadata": {
    "id": "XcQMyHzdluuo"
   },
   "outputs": [],
   "source": [
    "data = np.round(precisao, 4)\n",
    "labels = pd.DataFrame(data, columns=['Precision'])"
   ]
  },
  {
   "cell_type": "code",
   "execution_count": 73,
   "metadata": {
    "colab": {
     "base_uri": "https://localhost:8080/",
     "height": 295
    },
    "id": "Braj0fV9JaNS",
    "outputId": "c5b244e8-e58e-40a4-f231-b815edda54c4"
   },
   "outputs": [
    {
     "data": {
      "image/png": "[encoded data removed]",
      "text/plain": [
       "<Figure size 432x288 with 1 Axes>"
      ]
     },
     "metadata": {
      "needs_background": "light",
      "tags": []
     },
     "output_type": "display_data"
    }
   ],
   "source": [
    "sns.countplot(data, hue=labels['Precision'], dodge=False)\n",
    "plt.title('Precisão'), plt.xlabel('Medidas'), plt.ylabel('Quantidade')\n",
    "plt.show()"
   ]
  },
  {
   "cell_type": "markdown",
   "metadata": {
    "id": "Pfa4kpLWyV43"
   },
   "source": [
    "#### 7.5 Revocação"
   ]
  },
  {
   "cell_type": "code",
   "execution_count": 33,
   "metadata": {
    "id": "VMGXqEjlyY-r"
   },
   "outputs": [],
   "source": [
    "revocacao = recall_score(y_test, y_pred, average=None)"
   ]
  },
  {
   "cell_type": "markdown",
   "metadata": {
    "id": "tjPSPDXzWh8r"
   },
   "source": [
    "#### Visualizando a revocação"
   ]
  },
  {
   "cell_type": "code",
   "execution_count": 74,
   "metadata": {
    "id": "t_MOYR0cqJ_B"
   },
   "outputs": [],
   "source": [
    "data = np.round(precisao, 4)\n",
    "labels = pd.DataFrame(data, columns=['Recall'])"
   ]
  },
  {
   "cell_type": "code",
   "execution_count": 75,
   "metadata": {
    "colab": {
     "base_uri": "https://localhost:8080/",
     "height": 295
    },
    "id": "HoOwdLyrXGVD",
    "outputId": "f5d25c2a-05c7-44fe-a733-3d8892ab73be"
   },
   "outputs": [
    {
     "data": {
      "image/png": "[encoded data removed]",
      "text/plain": [
       "<Figure size 432x288 with 1 Axes>"
      ]
     },
     "metadata": {
      "needs_background": "light",
      "tags": []
     },
     "output_type": "display_data"
    }
   ],
   "source": [
    "sns.countplot(data, hue=labels['Recall'], dodge=False)\n",
    "plt.title('Revocação')\n",
    "plt.xlabel('Medidas')\n",
    "plt.ylabel('Quantidade')\n",
    "plt.show()"
   ]
  },
  {
   "cell_type": "markdown",
   "metadata": {
    "id": "-jjdyWBEPn4r"
   },
   "source": [
    "#### Visualizando as métricas de desempenho"
   ]
  },
  {
   "cell_type": "code",
   "execution_count": 108,
   "metadata": {
    "colab": {
     "base_uri": "https://localhost:8080/",
     "height": 295
    },
    "id": "WIw_10TWN6PM",
    "outputId": "fc9853d3-edf7-4e4f-951b-0f7e804a9c27"
   },
   "outputs": [
    {
     "data": {
      "image/png": "[encoded data removed]",
      "text/plain": [
       "<Figure size 432x288 with 1 Axes>"
      ]
     },
     "metadata": {
      "needs_background": "light",
      "tags": []
     },
     "output_type": "display_data"
    }
   ],
   "source": [
    "data = pd.DataFrame(classification_report(y_test, y_pred, output_dict=True)).drop('support').iloc[:,:6]\n",
    "sns.lineplot(data=data.T)\n",
    "plt.title('Métricas de Desempenho'), plt.xlabel('Valores'), plt.ylabel('Medidas')\n",
    "plt.show()"
   ]
  },
  {
   "cell_type": "markdown",
   "metadata": {
    "id": "tDo2jp9iRUAz"
   },
   "source": [
    "### 8. Repita o treinamento da mesma rede anterior sem imprimir o passo a passo (verbose False) por 100 vezes  \n",
    "   "
   ]
  },
  {
   "cell_type": "markdown",
   "metadata": {
    "id": "mfrlseaCRi_O"
   },
   "source": [
    " #### 8.1 Cada uma destas repetições deve ser feita com uma nova partição Holdout  \n",
    "   "
   ]
  },
  {
   "cell_type": "code",
   "execution_count": 132,
   "metadata": {
    "colab": {
     "base_uri": "https://localhost:8080/",
     "height": 1000
    },
    "id": "zrOtygH9SNah",
    "outputId": "0dd1904c-a332-40f3-a29c-c540f1e21603"
   },
   "outputs": [
    {
     "name": "stdout",
     "output_type": "stream",
     "text": [
      "0\n",
      "1\n",
      "2\n",
      "3\n",
      "4\n",
      "5\n",
      "6\n",
      "7\n",
      "8\n",
      "9\n",
      "10\n",
      "11\n",
      "12\n",
      "13\n",
      "14\n",
      "15\n",
      "16\n",
      "17\n",
      "18\n",
      "19\n",
      "20\n",
      "21\n",
      "22\n",
      "23\n",
      "24\n",
      "25\n",
      "26\n",
      "27\n",
      "28\n",
      "29\n",
      "30\n",
      "31\n",
      "32\n",
      "33\n",
      "34\n",
      "35\n",
      "36\n",
      "37\n",
      "38\n",
      "39\n",
      "40\n",
      "41\n",
      "42\n",
      "43\n",
      "44\n",
      "45\n",
      "46\n",
      "47\n",
      "48\n",
      "49\n",
      "50\n",
      "51\n",
      "52\n",
      "53\n",
      "54\n",
      "55\n",
      "56\n",
      "57\n",
      "58\n",
      "59\n",
      "60\n",
      "61\n",
      "62\n",
      "63\n",
      "64\n",
      "65\n",
      "66\n",
      "67\n",
      "68\n",
      "69\n",
      "70\n",
      "71\n",
      "72\n",
      "73\n",
      "74\n",
      "75\n",
      "76\n",
      "77\n",
      "78\n",
      "79\n",
      "80\n",
      "81\n",
      "82\n",
      "83\n",
      "84\n",
      "85\n",
      "86\n",
      "87\n",
      "88\n",
      "89\n",
      "90\n",
      "91\n",
      "92\n",
      "93\n",
      "94\n",
      "95\n",
      "96\n",
      "97\n",
      "98\n",
      "99\n"
     ]
    }
   ],
   "source": [
    "medidas = {'acuracias':[], 'fscores':[]}\n",
    "\n",
    "for i in range(100):\n",
    "    print(i)\n",
    "    X_train, X_test, y_train, y_test = holdout(X, y)\n",
    "    X_train_std, X_test_std = escalonamento(X_train, X_test)\n",
    "    perceptron100 = MLPClassifier(hidden_layer_sizes=(1,10), activation='relu', solver='adam', verbose=False)\n",
    "    #perceptron100 = MLPClassifier(hidden_layer_sizes=(1,10), activation='relu', solver='adam', verbose=False, n_iter_no_change=100, max_iter=100, shuffle=True)\n",
    "    perceptron100.fit(X_train_std, y_train)\n",
    "\n",
    "    y_pred = perceptron100.predict(X_train_std)\n",
    "\n",
    "    medidas['acuracias'].append(accuracy_score(y_train, y_pred))\n",
    "    medidas['fscores'].append(f1_score(y_train, y_pred, average='macro'))\n"
   ]
  },
  {
   "cell_type": "markdown",
   "metadata": {
    "id": "Xr1CfVE8Rofl"
   },
   "source": [
    " #### 8.2 Apresente a média e o desvio padrão da acurácia e do F-Score para o conjunto de treino  "
   ]
  },
  {
   "cell_type": "code",
   "execution_count": 133,
   "metadata": {
    "id": "P7TH7pwCu6-8"
   },
   "outputs": [],
   "source": [
    "import statistics as _"
   ]
  },
  {
   "cell_type": "code",
   "execution_count": 134,
   "metadata": {
    "id": "wrfnpufIRht_"
   },
   "outputs": [],
   "source": [
    "def mean_std(data):\n",
    "    return (_.mean(data), _.pstdev(data))"
   ]
  },
  {
   "cell_type": "code",
   "execution_count": 135,
   "metadata": {
    "id": "yeZ_UEDxd8U9"
   },
   "outputs": [],
   "source": [
    "acuracia_mean, acuracia_std = mean_std(medidas['acuracias'])\n",
    "fscore_mean, fscore_std = mean_std(medidas['fscores'])"
   ]
  },
  {
   "cell_type": "markdown",
   "metadata": {
    "id": "BB0ooTqRFpOY"
   },
   "source": [
    "#### Visualizando os resultados"
   ]
  },
  {
   "cell_type": "code",
   "execution_count": null,
   "metadata": {
    "id": "k96TN0DFFosc"
   },
   "outputs": [],
   "source": []
  },
  {
   "cell_type": "markdown",
   "metadata": {
    "id": "eAK6Ep-_RxND"
   },
   "source": [
    "#### 9. Repita por 100 vezes o treinamento desta mesma rede, mas utilizando o otimizador SGD  "
   ]
  },
  {
   "cell_type": "code",
   "execution_count": null,
   "metadata": {},
   "outputs": [],
   "source": []
  },
  {
   "cell_type": "markdown",
   "metadata": {
    "id": "UDzP3_j6R14T"
   },
   "source": [
    "#### 9.1 Apresente a média e o desvio padrão da acurácia e do F-Score para o conjunto de treino  "
   ]
  },
  {
   "cell_type": "code",
   "execution_count": null,
   "metadata": {},
   "outputs": [],
   "source": []
  },
  {
   "cell_type": "markdown",
   "metadata": {
    "id": "QDHpN-sBF4wV"
   },
   "source": [
    "#### Visualizando os resultados"
   ]
  },
  {
   "cell_type": "code",
   "execution_count": null,
   "metadata": {
    "id": "eS0x_wS7F5fa"
   },
   "outputs": [],
   "source": []
  },
  {
   "cell_type": "markdown",
   "metadata": {
    "id": "l13RZHwLR6me"
   },
   "source": [
    "#### 10. Houve influência da escolha do otimizador no desempenho da rede?"
   ]
  },
  {
   "cell_type": "markdown",
   "metadata": {
    "id": "YJCwgs5xv2uU"
   },
   "source": [
    "## Discussão\n",
    "\n",
    "Nos passos anteriores, você avaliou o desempenho de uma única rede neural que contém os seguintes parâmetros: uma única camada oculta com 10 neurônios e função de ativação ReLU. O otimizador utilizado, quer seja SGD ou ADAM, trata-se do algoritmo para aproximar o gradiente do erro. Neste sentido, a escolha do otimizador é um hiperparâmetro, pois diz respeito a como a rede neural definida previamente atuará \"em tempo de execução\"  durante o processo de treinamento. Também são hiperparâmetros a quantidade de épocas, a taxa de aprendizado inicial, dentre outros.\n",
    "\n",
    "Cabe alientar também que você efetuou o treinamento desta rede por 100 vezes e apresentou os resultados em termos de média +- desvio padrão. Lembre-se que em uma rede neural há a inicialização aleatória de pesos e, em consequência, o desempenho delas está sujeito à uma flutuação estocástica. A execução destas múltiplas vezes faz com que eliminemos algum viés introduzido por uma boa ou má \"sorte\" na escolha de pesos no caso de uma única execução.\n",
    "\n",
    "Você também aprendeu uma estratégia para escalonar os atributos para uma melhor convergência da rede. Utilize-a em todos os treinamentos e testes propostos a seguir.\n",
    "\n",
    "## Propondo Novas Arquiteturas\n",
    "\n",
    "Variando  os parâmetros (uma ou duas camadas ocultas, com diferente números de neurônios em cada uma delas e a função de ativação) e o hiperparâmetros solver (Adam ou SGD) e o número de épocas (100,150 e 200), atenda ao que se pede:\n",
    "\n",
    "1. Proponha 10 arquiteturas distintas de RNAs para o problema em questão, à sua escolha\n",
    "2. Avalie cada uma das arquiteturas perante todos os hiperparâmetros apresentados por 100 vezes\n",
    "3. Como resultado da avaliação, apresente:  \n",
    "    3.1 Top-3 melhores redes no tocante à F-Score e Acurácia  \n",
    "    3.2 Repetição em que houve o melhor desempenho de cada uma dessas redes: ilustre tp, tf, fp e fn  "
   ]
  },
  {
   "cell_type": "code",
   "execution_count": null,
   "metadata": {
    "id": "Sz-0tPV7QdKz"
   },
   "outputs": [],
   "source": []
  },
  {
   "cell_type": "markdown",
   "metadata": {
    "id": "iI5tGPF-QdK4"
   },
   "source": [
    "## Estimando o número de neurônios\n",
    "\n",
    "Um dos problemas de pesquisa com redes neurais artificiais consiste na determinação do número de neurônios em sua arquitetura. Embora não seja possível definir a priori qual rede neural é adequada para um problema, pois isto só é possível mediante uma busca exaustiva, há regras na literatura que sugerem o número de neurônios escondidos, tal como a regra da Pirâmide Geométrica, dada a seguir:\n",
    "\n",
    "$$N_h = \\alpha \\cdot \\sqrt{N_i \\cdot N_o},$$\n",
    "\n",
    "em que $N_h$ é o número de neurônios ocultos (a serem distribuídos em uma ou duas camadas ocultas), $N_i$ é o número de neurônios na camada de entrada e $N_o$ é o número de neurônios na camada de saída. \n",
    "\n",
    "1. Consulte a documentação da classe MLPClassifier (disponível em https://scikit-learn.org/stable/modules/generated/sklearn.neural_network.MLPClassifier.html) e obtenha os valores de $N_i$ e $N_h$.\n",
    "2. Teste os valores de $\\alpha$ como sendo iguais a $0.5$, $2$ e $3$.\n",
    "3. Proponha pelo menos 30 redes neurais segundo a regra da pirâmide geométrica e teste-as nos mesmos termos estabelecidos anterioremente  (solver, épocas, etc.)  \n",
    "    3.1 Apresente as top-3 melhores redes no tocante à F-Score e Acurácia  "
   ]
  },
  {
   "cell_type": "code",
   "execution_count": null,
   "metadata": {
    "id": "W9yuPiK7QdK5"
   },
   "outputs": [],
   "source": []
  },
  {
   "cell_type": "markdown",
   "metadata": {
    "id": "0dxHUeicQdK_"
   },
   "source": [
    "## Testando as Redes Neurais com Atributos Categóricos\n",
    "\n",
    "1. Considere as 6 redes neurais obtidas nos dois top-3 anteriores (arquiteturas próprias e regra da pirâmide geométrica)\n",
    "2. Com todos os atributos preditores da base de dados original, incluindo os categóricos, treine e teste estas mesmas redes por 100 repetições  \n",
    "    2.1 Considere o melhor otimizador para cada uma delas  \n",
    "    2.2 Faça uso de 200 épocas para treinamento  \n",
    "    2.2 Apresente os resultados de acurácia e F-Score em termos da média +- dp para cada arquitetura\n",
    "3. Apresente o gráfico boxplot para o F-Score das 6 arquiteturas perante as 100 repetições"
   ]
  },
  {
   "cell_type": "code",
   "execution_count": null,
   "metadata": {
    "id": "e1d0C1dNQdLA"
   },
   "outputs": [],
   "source": []
  },
  {
   "cell_type": "markdown",
   "metadata": {
    "id": "I19jW7oXQdLE"
   },
   "source": [
    "## Considerações Parciais\n",
    "\n",
    "1. É possível identificar uma rede com desempenho superior às demais?\n",
    "2. Qual estratégia mostrou-se mais producente para a obtenção de boas arquiteturas (Estratégia Própria ou Pirâmide Geométrica)? Por quê?\n",
    "3. Considerar os atributos categóricos trouxe melhorias? Justifique.\n",
    "4. Um número maior de épocas trouxe melhorias?\n",
    "5. Qual a maior dificuldade de resolução do problema proposto perante as RNAs?"
   ]
  },
  {
   "cell_type": "code",
   "execution_count": null,
   "metadata": {
    "id": "MbdkPdNNQdLF"
   },
   "outputs": [],
   "source": []
  }
 ],
 "metadata": {
  "accelerator": "GPU",
  "colab": {
   "collapsed_sections": [],
   "name": "PP3_3_Proposição_e_Avaliação_de_RNAs.ipynb",
   "provenance": []
  },
  "kernelspec": {
   "name": "Python 3.8.5 32-bit",
   "display_name": "Python 3.8.5 32-bit",
   "metadata": {
    "interpreter": {
     "hash": "7a542ca580817fc4dd55327026e074e2fa0cd470fc5dee9350c2d8b13822db8d"
    }
   }
  },
  "language_info": {
   "codemirror_mode": {
    "name": "ipython",
    "version": 3
   },
   "file_extension": ".py",
   "mimetype": "text/x-python",
   "name": "python",
   "nbconvert_exporter": "python",
   "pygments_lexer": "ipython3",
   "version": "3.8.5-final"
  }
 },
 "nbformat": 4,
 "nbformat_minor": 1
}