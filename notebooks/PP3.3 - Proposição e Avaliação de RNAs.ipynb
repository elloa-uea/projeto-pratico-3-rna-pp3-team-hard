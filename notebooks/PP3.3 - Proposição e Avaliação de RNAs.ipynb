{
  "nbformat": 4,
  "nbformat_minor": 0,
  "metadata": {
    "kernelspec": {
      "display_name": "Python 3",
      "language": "python",
      "name": "python3"
    },
    "language_info": {
      "codemirror_mode": {
        "name": "ipython",
        "version": 3
      },
      "file_extension": ".py",
      "mimetype": "text/x-python",
      "name": "python",
      "nbconvert_exporter": "python",
      "pygments_lexer": "ipython3",
      "version": "3.8.3"
    },
    "colab": {
      "name": "PP3.3 - Proposição e Avaliação de RNAs.ipynb",
      "provenance": []
    }
  },
  "cells": [
    {
      "cell_type": "markdown",
      "metadata": {
        "id": "C7qFHnFJQdKr"
      },
      "source": [
        "## Redes Neurais Artificiais 2020.1\n",
        "\n",
        "**Disciplina**: Redes Neurais Artificiais 2020.1  \n",
        "**Professora**: Elloá B. Guedes (ebgcosta@uea.edu.br)  \n",
        "**Github**: http://github.com/elloa  \n",
        "**Dupla**:\n",
        "  - Dayvson dos Santos Silva<br/>\n",
        "    **Email**: ddss.snf19@uea.edu.br<br/>\n",
        "    **GitHub**: https://github.com/userddssilva<br/>\n",
        "  - Hiago Oliveira de Jesus<br/>\n",
        "    **Email**: hodj.lic@uea.edu.br<br/>\n",
        "    **GitHub**: https://github.com/HiagoOliver<br/>        \n",
        "\n",
        "Levando em conta a base de dados **_Forest Cover Type_**, esta terceira parte do Projeto Prático 3 diz respeito à proposição e avaliação de múltiplas redes neurais artificiais do tipo feedforward multilayer perceptron para o problema da classificação multi-classe da cobertura florestal em uma área do Roosevelt National Forest.\n",
        "\n",
        "## Testando Redes Neurais sem os Atributos Categórios\n",
        "\n",
        "1. Abra a base de dados em questão\n",
        "2. Elimine todas as colunas relativas aos atributos categóricos\n",
        "3. Armazene o atributo alvo em uma variável y e os atributos preditores em uma variável X\n",
        "4. Efetue uma partição holdout 70/30 com o sklearn, distribuindo os exemplos de maneira aleatória\n",
        "5. Efetue o escalonamento dos atributos\n",
        "\n",
        "\n",
        "### Escalonando os atributos\n",
        "\n",
        "O treinamento de uma rede neural artificial é mais eficiente quando os valores que lhes são fornecidos como entrada são pequenos, pois isto favorece a convergência. Isto é feito escalonando-se todos os atributos para o intervalo [0,1], mas precisa ser feito de maneira cautelosa, para que informações do conjunto de teste não sejam fornecidas no treinamento.\n",
        "\n",
        "Há duas estratégias para tal escalonamento: normalização e padronização. Ambas possuem características particulares, vantagens e limitações, como é possível ver aqui: https://www.analyticsvidhya.com/blog/2020/04/feature-scaling-machine-learning-normalization-standardization/\n",
        "\n",
        "\n",
        "No nosso caso, vamos usar a padronização. Assim, com os atributos preditores do treinamento, isto é, X_train, deve-se subtrair a média e dividir pelo desvio padrão:\n",
        "\n",
        "X_train_std = (X_train - np.mean(X_train))/np.std(X_train)\n",
        "\n",
        "Em seguida, o mesmo deve ser feito com os atributos preditores do conjunto de testes, mas com padronização relativa ao conjunto de treinamento:\n",
        "\n",
        "X_test_std = (X_test - np.mean(X_train))/np.std(X_train)\n",
        "\n",
        "Se todo o conjunto X for utilizado na padronização, a rede neural receberá informações do conjunto de teste por meio da média e variância utilizada para preparar os dados de treinamento, o que não é desejável.\n",
        "\n",
        "\n",
        "### Continuando\n",
        "\n",
        "5. Treine uma rede neural multilayer perceptron para este problema com uma única camada e dez neurônios  \n",
        "    5.1 Utilize a função de ativação ReLU  \n",
        "    5.2 Utilize o solver Adam    \n",
        "    5.3 Imprima o passo a passo do treinamento    \n",
        "    5.4 Utilize o número máximo de épocas igual a 300  \n",
        "6. Com o modelo em questão, após o treinamento, apresente:  \n",
        "    6.1 Matriz de confusão para o conjunto de teste  \n",
        "    6.2 Acurácia  \n",
        "    6.3 F-Score  \n",
        "    6.4 Precisão  \n",
        "    6.5 Revocação  \n",
        "7. Repita o treinamento da mesma rede anterior sem imprimir o passo a passo (verbose False) por 100 vezes  \n",
        "    7.1 Cada uma destas repetições deve ser feita com uma nova partição Holdout  \n",
        "    7.2 Apresente a média e o desvio padrão da acurácia e do F-Score para o conjunto de treino  \n",
        "8. Repita por 100 vezes o treinamento desta mesma rede, mas utilizando o otimizador SGD  \n",
        "    8.1 Apresente a média e o desvio padrão da acurácia e do F-Score para o conjunto de treino  \n",
        "9. Houve influência da escolha do otimizador no desempenho da rede?"
      ]
    },
    {
      "cell_type": "markdown",
      "metadata": {
        "id": "RpbNXc0_ShLm"
      },
      "source": [
        "## 1. Testando Redes Neurais sem os Atributos Categórios"
      ]
    },
    {
      "cell_type": "markdown",
      "metadata": {
        "id": "QlF89XnWTHhX"
      },
      "source": [
        "### Importando as bibliotecas"
      ]
    },
    {
      "cell_type": "code",
      "metadata": {
        "id": "VI_UWvPbdxml"
      },
      "source": [
        "#pip install -U prettytable"
      ],
      "execution_count": 1,
      "outputs": []
    },
    {
      "cell_type": "code",
      "metadata": {
        "id": "OAmdZw2YTM2U"
      },
      "source": [
        "import re\n",
        "import numpy as np\n",
        "import pandas as pd\n",
        "from prettytable import PrettyTable"
      ],
      "execution_count": 2,
      "outputs": []
    },
    {
      "cell_type": "markdown",
      "metadata": {
        "id": "avlvR4M7eBVK"
      },
      "source": [
        "### Função auxiliar"
      ]
    },
    {
      "cell_type": "code",
      "metadata": {
        "id": "tx77ofHNeDxA"
      },
      "source": [
        "def print_tabela(header, data):\n",
        "    columns = []\n",
        "    for col in header:\n",
        "        columns.append(col)\n",
        "        \n",
        "    rows = []\n",
        "    for value in data:\n",
        "        rows.append(value)\n",
        "        \n",
        "    table = PrettyTable(columns) \n",
        "    table.add_row(rows) \n",
        "\n",
        "    print(table)"
      ],
      "execution_count": 3,
      "outputs": []
    },
    {
      "cell_type": "markdown",
      "metadata": {
        "id": "IZRD17_2SnX2"
      },
      "source": [
        "\n",
        "### 1.1 Abra a base de dados em questão\n",
        "\n",
        "\n"
      ]
    },
    {
      "cell_type": "markdown",
      "metadata": {
        "id": "4fapyR4fiHKQ"
      },
      "source": [
        "#### Leitura da base de dados"
      ]
    },
    {
      "cell_type": "code",
      "metadata": {
        "id": "f2GW4MymS_mX"
      },
      "source": [
        "database = pd.read_csv('database/covtype.csv')"
      ],
      "execution_count": 4,
      "outputs": []
    },
    {
      "cell_type": "markdown",
      "metadata": {
        "id": "Ch3MCg8jSuXW"
      },
      "source": [
        "### 1.2 Elimine todas as colunas relativas aos atributos categóricos\n"
      ]
    },
    {
      "cell_type": "markdown",
      "metadata": {
        "id": "HRAHIyP9ewvT"
      },
      "source": [
        "#### Colunas da base de dados anterior a eliminação dos atributos categóricos"
      ]
    },
    {
      "cell_type": "code",
      "metadata": {
        "id": "8yc4e9Ydes9v",
        "outputId": "d86cd825-0d7a-4837-c08c-e87704d8ae79",
        "colab": {
          "base_uri": "https://localhost:8080/",
          "height": 122
        }
      },
      "source": [
        "print_tabela(np.arange(1 ,database.shape[1] + 1, 1), database.columns)"
      ],
      "execution_count": 5,
      "outputs": [
        {
          "output_type": "stream",
          "text": [
            "+-----------+--------+-------+----------------------------------+--------------------------------+---------------------------------+---------------+----------------+---------------+------------------------------------+------------------+------------------+------------------+------------------+------------+------------+------------+------------+------------+------------+------------+------------+------------+-------------+-------------+-------------+-------------+-------------+-------------+-------------+-------------+-------------+-------------+-------------+-------------+-------------+-------------+-------------+-------------+-------------+-------------+-------------+-------------+-------------+-------------+-------------+-------------+-------------+-------------+-------------+-------------+-------------+-------------+-------------+------------+\n",
            "|     1     |   2    |   3   |                4                 |               5                |                6                |       7       |       8        |       9       |                 10                 |        11        |        12        |        13        |        14        |     15     |     16     |     17     |     18     |     19     |     20     |     21     |     22     |     23     |      24     |      25     |      26     |      27     |      28     |      29     |      30     |      31     |      32     |      33     |      34     |      35     |      36     |      37     |      38     |      39     |      40     |      41     |      42     |      43     |      44     |      45     |      46     |      47     |      48     |      49     |      50     |      51     |      52     |      53     |      54     |     55     |\n",
            "+-----------+--------+-------+----------------------------------+--------------------------------+---------------------------------+---------------+----------------+---------------+------------------------------------+------------------+------------------+------------------+------------------+------------+------------+------------+------------+------------+------------+------------+------------+------------+-------------+-------------+-------------+-------------+-------------+-------------+-------------+-------------+-------------+-------------+-------------+-------------+-------------+-------------+-------------+-------------+-------------+-------------+-------------+-------------+-------------+-------------+-------------+-------------+-------------+-------------+-------------+-------------+-------------+-------------+-------------+------------+\n",
            "| Elevation | Aspect | Slope | Horizontal_Distance_To_Hydrology | Vertical_Distance_To_Hydrology | Horizontal_Distance_To_Roadways | Hillshade_9am | Hillshade_Noon | Hillshade_3pm | Horizontal_Distance_To_Fire_Points | Wilderness_Area1 | Wilderness_Area2 | Wilderness_Area3 | Wilderness_Area4 | Soil_Type1 | Soil_Type2 | Soil_Type3 | Soil_Type4 | Soil_Type5 | Soil_Type6 | Soil_Type7 | Soil_Type8 | Soil_Type9 | Soil_Type10 | Soil_Type11 | Soil_Type12 | Soil_Type13 | Soil_Type14 | Soil_Type15 | Soil_Type16 | Soil_Type17 | Soil_Type18 | Soil_Type19 | Soil_Type20 | Soil_Type21 | Soil_Type22 | Soil_Type23 | Soil_Type24 | Soil_Type25 | Soil_Type26 | Soil_Type27 | Soil_Type28 | Soil_Type29 | Soil_Type30 | Soil_Type31 | Soil_Type32 | Soil_Type33 | Soil_Type34 | Soil_Type35 | Soil_Type36 | Soil_Type37 | Soil_Type38 | Soil_Type39 | Soil_Type40 | Cover_Type |\n",
            "+-----------+--------+-------+----------------------------------+--------------------------------+---------------------------------+---------------+----------------+---------------+------------------------------------+------------------+------------------+------------------+------------------+------------+------------+------------+------------+------------+------------+------------+------------+------------+-------------+-------------+-------------+-------------+-------------+-------------+-------------+-------------+-------------+-------------+-------------+-------------+-------------+-------------+-------------+-------------+-------------+-------------+-------------+-------------+-------------+-------------+-------------+-------------+-------------+-------------+-------------+-------------+-------------+-------------+-------------+------------+\n"
          ],
          "name": "stdout"
        }
      ]
    },
    {
      "cell_type": "markdown",
      "metadata": {
        "id": "qNCNFNV1YLSn"
      },
      "source": [
        "Os nomes das colunas que representam valores categóricos possuem como substring \"Wilderness_Area\" ou \"Soil_Type\". As expressões regulares foram utilizadas para seleção das colunas a serem eliminadas.  \n"
      ]
    },
    {
      "cell_type": "code",
      "metadata": {
        "id": "WRAo459PZ4qu"
      },
      "source": [
        "for column in database.columns:\n",
        "    match = re.search('^Soil_Type\\d{1,2}$|^Wilderness_Area\\d$', column)\n",
        "    if match:\n",
        "        database.drop(columns=column, axis=1, inplace=True)    "
      ],
      "execution_count": 6,
      "outputs": []
    },
    {
      "cell_type": "markdown",
      "metadata": {
        "id": "3rI-gKuJf1FI"
      },
      "source": [
        "#### Colunas da base de dados posterior a eliminação dos atributos categóricos"
      ]
    },
    {
      "cell_type": "code",
      "metadata": {
        "id": "1WjUI9y9fJLQ",
        "outputId": "47f9c3f7-5f7e-49fe-b0b5-e798ad545581",
        "colab": {
          "base_uri": "https://localhost:8080/",
          "height": 122
        }
      },
      "source": [
        "print_tabela(np.arange(1 ,database.shape[1] + 1, 1), database.columns)"
      ],
      "execution_count": 7,
      "outputs": [
        {
          "output_type": "stream",
          "text": [
            "+-----------+--------+-------+----------------------------------+--------------------------------+---------------------------------+---------------+----------------+---------------+------------------------------------+------------+\n",
            "|     1     |   2    |   3   |                4                 |               5                |                6                |       7       |       8        |       9       |                 10                 |     11     |\n",
            "+-----------+--------+-------+----------------------------------+--------------------------------+---------------------------------+---------------+----------------+---------------+------------------------------------+------------+\n",
            "| Elevation | Aspect | Slope | Horizontal_Distance_To_Hydrology | Vertical_Distance_To_Hydrology | Horizontal_Distance_To_Roadways | Hillshade_9am | Hillshade_Noon | Hillshade_3pm | Horizontal_Distance_To_Fire_Points | Cover_Type |\n",
            "+-----------+--------+-------+----------------------------------+--------------------------------+---------------------------------+---------------+----------------+---------------+------------------------------------+------------+\n"
          ],
          "name": "stdout"
        }
      ]
    },
    {
      "cell_type": "markdown",
      "metadata": {
        "id": "EkM1Q_EqSxmO"
      },
      "source": [
        "### 1.3 Armazene o atributo alvo em uma variável y e os atributos preditores em uma variável X\n"
      ]
    },
    {
      "cell_type": "markdown",
      "metadata": {
        "id": "gMn819iYhjjZ"
      },
      "source": [
        "#### Alocando o atributo alvo na variável y"
      ]
    },
    {
      "cell_type": "code",
      "metadata": {
        "id": "BkATAFn-TBkG"
      },
      "source": [
        "y = database.iloc[:,-1:]"
      ],
      "execution_count": 8,
      "outputs": []
    },
    {
      "cell_type": "markdown",
      "metadata": {
        "id": "H6GFKnPOgYTC"
      },
      "source": [
        "**Atributo alvo**"
      ]
    },
    {
      "cell_type": "code",
      "metadata": {
        "id": "ap4-UTf3grQV",
        "outputId": "e6b75290-ccf9-4ebb-9ae7-486cacbaedbc",
        "colab": {
          "base_uri": "https://localhost:8080/",
          "height": 102
        }
      },
      "source": [
        "print_tabela(['Atributo alvo'], y.columns)"
      ],
      "execution_count": 9,
      "outputs": [
        {
          "output_type": "stream",
          "text": [
            "+---------------+\n",
            "| Atributo alvo |\n",
            "+---------------+\n",
            "|   Cover_Type  |\n",
            "+---------------+\n"
          ],
          "name": "stdout"
        }
      ]
    },
    {
      "cell_type": "markdown",
      "metadata": {
        "id": "lbAWM1IHhrRh"
      },
      "source": [
        "#### Alocando os atributos preditores na variável X"
      ]
    },
    {
      "cell_type": "code",
      "metadata": {
        "id": "XEMpd6zZgiRQ"
      },
      "source": [
        "X = database.iloc[:,:-1]"
      ],
      "execution_count": 10,
      "outputs": []
    },
    {
      "cell_type": "markdown",
      "metadata": {
        "id": "LFio0CKZgeVn"
      },
      "source": [
        "**Atributos preditores**"
      ]
    },
    {
      "cell_type": "code",
      "metadata": {
        "id": "g-dknTZ2g1z1",
        "outputId": "6820b2f0-26e0-4f73-f968-69484442c9c7",
        "colab": {
          "base_uri": "https://localhost:8080/",
          "height": 122
        }
      },
      "source": [
        "header = ['{0}. Atributo preditor'.format(x) for x in np.arange(1,X.shape[1]+1,1)]\n",
        "print_tabela(header, X.columns)"
      ],
      "execution_count": 11,
      "outputs": [
        {
          "output_type": "stream",
          "text": [
            "+----------------------+----------------------+----------------------+----------------------------------+--------------------------------+---------------------------------+----------------------+----------------------+----------------------+------------------------------------+\n",
            "| 1. Atributo preditor | 2. Atributo preditor | 3. Atributo preditor |       4. Atributo preditor       |      5. Atributo preditor      |       6. Atributo preditor      | 7. Atributo preditor | 8. Atributo preditor | 9. Atributo preditor |       10. Atributo preditor        |\n",
            "+----------------------+----------------------+----------------------+----------------------------------+--------------------------------+---------------------------------+----------------------+----------------------+----------------------+------------------------------------+\n",
            "|      Elevation       |        Aspect        |        Slope         | Horizontal_Distance_To_Hydrology | Vertical_Distance_To_Hydrology | Horizontal_Distance_To_Roadways |    Hillshade_9am     |    Hillshade_Noon    |    Hillshade_3pm     | Horizontal_Distance_To_Fire_Points |\n",
            "+----------------------+----------------------+----------------------+----------------------------------+--------------------------------+---------------------------------+----------------------+----------------------+----------------------+------------------------------------+\n"
          ],
          "name": "stdout"
        }
      ]
    },
    {
      "cell_type": "markdown",
      "metadata": {
        "id": "YgP_STVIS2S6"
      },
      "source": [
        "### 1.4 Efetue uma partição holdout 70/30 com o sklearn, distribuindo os exemplos de maneira aleatória"
      ]
    },
    {
      "cell_type": "code",
      "metadata": {
        "id": "0z-jXh3bTCR0"
      },
      "source": [
        ""
      ],
      "execution_count": 11,
      "outputs": []
    },
    {
      "cell_type": "markdown",
      "metadata": {
        "id": "7I4lBOExS7ae"
      },
      "source": [
        "### 1.5 Efetue o escalonamento dos atributos"
      ]
    },
    {
      "cell_type": "code",
      "metadata": {
        "id": "9xlkvbzbTDBd"
      },
      "source": [
        ""
      ],
      "execution_count": 11,
      "outputs": []
    },
    {
      "cell_type": "code",
      "metadata": {
        "id": "vf0-ajRsQdKt"
      },
      "source": [
        ""
      ],
      "execution_count": 11,
      "outputs": []
    },
    {
      "cell_type": "markdown",
      "metadata": {
        "id": "KqmwWLLGRhcl"
      },
      "source": [
        ""
      ]
    },
    {
      "cell_type": "markdown",
      "metadata": {
        "id": "Eg7jmqlBQdKz"
      },
      "source": [
        "## Discussão\n",
        "\n",
        "Nos passos anteriores, você avaliou o desempenho de uma única rede neural que contém os seguintes parâmetros: uma única camada oculta com 10 neurônios e função de ativação ReLU. O otimizador utilizado, quer seja SGD ou ADAM, trata-se do algoritmo para aproximar o gradiente do erro. Neste sentido, a escolha do otimizador é um hiperparâmetro, pois diz respeito a como a rede neural definida previamente atuará \"em tempo de execução\"  durante o processo de treinamento. Também são hiperparâmetros a quantidade de épocas, a taxa de aprendizado inicial, dentre outros.\n",
        "\n",
        "Cabe alientar também que você efetuou o treinamento desta rede por 100 vezes e apresentou os resultados em termos de média +- desvio padrão. Lembre-se que em uma rede neural há a inicialização aleatória de pesos e, em consequência, o desempenho delas está sujeito à uma flutuação estocástica. A execução destas múltiplas vezes faz com que eliminemos algum viés introduzido por uma boa ou má \"sorte\" na escolha de pesos no caso de uma única execução.\n",
        "\n",
        "Você também aprendeu uma estratégia para escalonar os atributos para uma melhor convergência da rede. Utilize-a em todos os treinamentos e testes propostos a seguir.\n",
        "\n",
        "## Propondo Novas Arquiteturas\n",
        "\n",
        "Variando  os parâmetros (uma ou duas camadas ocultas, com diferente números de neurônios em cada uma delas e a função de ativação) e o hiperparâmetros solver (Adam ou SGD) e o número de épocas (100,150 e 200), atenda ao que se pede:\n",
        "\n",
        "1. Proponha 10 arquiteturas distintas de RNAs para o problema em questão, à sua escolha\n",
        "2. Avalie cada uma das arquiteturas perante todos os hiperparâmetros apresentados por 100 vezes\n",
        "3. Como resultado da avaliação, apresente:  \n",
        "    3.1 Top-3 melhores redes no tocante à F-Score e Acurácia  \n",
        "    3.2 Repetição em que houve o melhor desempenho de cada uma dessas redes: ilustre tp, tf, fp e fn  "
      ]
    },
    {
      "cell_type": "code",
      "metadata": {
        "id": "Sz-0tPV7QdKz"
      },
      "source": [
        ""
      ],
      "execution_count": 11,
      "outputs": []
    },
    {
      "cell_type": "markdown",
      "metadata": {
        "id": "iI5tGPF-QdK4"
      },
      "source": [
        "## Estimando o número de neurônios\n",
        "\n",
        "Um dos problemas de pesquisa com redes neurais artificiais consiste na determinação do número de neurônios em sua arquitetura. Embora não seja possível definir a priori qual rede neural é adequada para um problema, pois isto só é possível mediante uma busca exaustiva, há regras na literatura que sugerem o número de neurônios escondidos, tal como a regra da Pirâmide Geométrica, dada a seguir:\n",
        "\n",
        "$$N_h = \\alpha \\cdot \\sqrt{N_i \\cdot N_o},$$\n",
        "\n",
        "em que $N_h$ é o número de neurônios ocultos (a serem distribuídos em uma ou duas camadas ocultas), $N_i$ é o número de neurônios na camada de entrada e $N_o$ é o número de neurônios na camada de saída. \n",
        "\n",
        "1. Consulte a documentação da classe MLPClassifier (disponível em https://scikit-learn.org/stable/modules/generated/sklearn.neural_network.MLPClassifier.html) e obtenha os valores de $N_i$ e $N_h$.\n",
        "2. Teste os valores de $\\alpha$ como sendo iguais a $0.5$, $2$ e $3$.\n",
        "3. Proponha pelo menos 30 redes neurais segundo a regra da pirâmide geométrica e teste-as nos mesmos termos estabelecidos anterioremente  (solver, épocas, etc.)  \n",
        "    3.1 Apresente as top-3 melhores redes no tocante à F-Score e Acurácia  "
      ]
    },
    {
      "cell_type": "code",
      "metadata": {
        "id": "W9yuPiK7QdK5"
      },
      "source": [
        ""
      ],
      "execution_count": 11,
      "outputs": []
    },
    {
      "cell_type": "markdown",
      "metadata": {
        "id": "0dxHUeicQdK_"
      },
      "source": [
        "## Testando as Redes Neurais com Atributos Categóricos\n",
        "\n",
        "1. Considere as 6 redes neurais obtidas nos dois top-3 anteriores (arquiteturas próprias e regra da pirâmide geométrica)\n",
        "2. Com todos os atributos preditores da base de dados original, incluindo os categóricos, treine e teste estas mesmas redes por 100 repetições  \n",
        "    2.1 Considere o melhor otimizador para cada uma delas  \n",
        "    2.2 Faça uso de 200 épocas para treinamento  \n",
        "    2.2 Apresente os resultados de acurácia e F-Score em termos da média +- dp para cada arquitetura\n",
        "3. Apresente o gráfico boxplot para o F-Score das 6 arquiteturas perante as 100 repetições"
      ]
    },
    {
      "cell_type": "code",
      "metadata": {
        "id": "e1d0C1dNQdLA"
      },
      "source": [
        ""
      ],
      "execution_count": 11,
      "outputs": []
    },
    {
      "cell_type": "markdown",
      "metadata": {
        "id": "I19jW7oXQdLE"
      },
      "source": [
        "## Considerações Parciais\n",
        "\n",
        "1. É possível identificar uma rede com desempenho superior às demais?\n",
        "2. Qual estratégia mostrou-se mais producente para a obtenção de boas arquiteturas (Estratégia Própria ou Pirâmide Geométrica)? Por quê?\n",
        "3. Considerar os atributos categóricos trouxe melhorias? Justifique.\n",
        "4. Um número maior de épocas trouxe melhorias?\n",
        "5. Qual a maior dificuldade de resolução do problema proposto perante as RNAs?"
      ]
    },
    {
      "cell_type": "code",
      "metadata": {
        "id": "MbdkPdNNQdLF"
      },
      "source": [
        ""
      ],
      "execution_count": 11,
      "outputs": []
    }
  ]
}