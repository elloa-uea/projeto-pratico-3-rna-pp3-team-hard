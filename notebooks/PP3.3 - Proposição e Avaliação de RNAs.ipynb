{
  "nbformat": 4,
  "nbformat_minor": 0,
  "metadata": {
    "colab": {
      "name": "PP3_3_Proposição_e_Avaliação_de_RNAs.ipynb",
      "provenance": [],
      "collapsed_sections": [],
      "toc_visible": true
    },
    "kernelspec": {
      "display_name": "Python 3",
      "language": "python",
      "name": "python3"
    },
    "language_info": {
      "codemirror_mode": {
        "name": "ipython",
        "version": 3
      },
      "file_extension": ".py",
      "mimetype": "text/x-python",
      "name": "python",
      "nbconvert_exporter": "python",
      "pygments_lexer": "ipython3",
      "version": "3.8.2"
    }
  },
  "cells": [
    {
      "cell_type": "markdown",
      "metadata": {
        "id": "kf7QhvnKuUn3"
      },
      "source": [
        "## Redes Neurais Artificiais 2020.1\n",
        "\n",
        "**Disciplina**: Redes Neurais Artificiais 2020.1  \n",
        "**Professora**: Elloá B. Guedes (ebgcosta@uea.edu.br)  \n",
        "**Github**: http://github.com/elloa  \n",
        "**Dupla**:\n",
        "  - Dayvson dos Santos Silva<br/>\n",
        "    **Email**: ddss.snf19@uea.edu.br<br/>\n",
        "    **GitHub**: https://github.com/userddssilva<br/>\n",
        "  - Hiago Oliveira de Jesus<br/>\n",
        "    **Email**: hodj.lic@uea.edu.br<br/>\n",
        "    **GitHub**: https://github.com/HiagoOliver<br/>        \n",
        "\n",
        "Levando em conta a base de dados **_Forest Cover Type_**, esta terceira parte do Projeto Prático 3 diz respeito à proposição e avaliação de múltiplas redes neurais artificiais do tipo feedforward multilayer perceptron para o problema da classificação multi-classe da cobertura florestal em uma área do Roosevelt National Forest."
      ]
    },
    {
      "cell_type": "markdown",
      "metadata": {
        "id": "QlF89XnWTHhX"
      },
      "source": [
        "### Importando as bibliotecas"
      ]
    },
    {
      "cell_type": "code",
      "metadata": {
        "id": "OAmdZw2YTM2U"
      },
      "source": [
        "import re\n",
        "\n",
        "import numpy as np\n",
        "import pandas as pd\n",
        "import seaborn as sns\n",
        "import matplotlib.pyplot as plt\n",
        "\n",
        "import warnings\n",
        "warnings.filterwarnings('ignore')\n",
        "\n",
        "from statistics import mean, pstdev\n",
        "\n",
        "from sklearn.model_selection import train_test_split\n",
        "from sklearn.neural_network import MLPClassifier\n",
        "from sklearn.metrics import confusion_matrix, plot_confusion_matrix, classification_report\n",
        "from sklearn.metrics import accuracy_score, f1_score, precision_score, recall_score"
      ],
      "execution_count": 1,
      "outputs": []
    },
    {
      "cell_type": "markdown",
      "metadata": {
        "id": "avlvR4M7eBVK"
      },
      "source": [
        "### Funções auxiliares"
      ]
    },
    {
      "cell_type": "code",
      "metadata": {
        "id": "qKZLb75R1LRF"
      },
      "source": [
        "def _columns():\n",
        "    return list (database.columns)"
      ],
      "execution_count": 2,
      "outputs": []
    },
    {
      "cell_type": "code",
      "metadata": {
        "id": "lk8JK6S51LRN"
      },
      "source": [
        "def _iloc(start_col, end_col):\n",
        "    return database.iloc[:, start_col:end_col]"
      ],
      "execution_count": 3,
      "outputs": []
    },
    {
      "cell_type": "code",
      "metadata": {
        "id": "RfKxz7TGdYgd"
      },
      "source": [
        "database_columns = lambda: pd.DataFrame(_columns(), columns=['Atributos']).T"
      ],
      "execution_count": 4,
      "outputs": []
    },
    {
      "cell_type": "code",
      "metadata": {
        "id": "97J13uUJ4epX"
      },
      "source": [
        "def mean_std(dic):\n",
        "    return {'acuracia': {'media':mean(dic['acuracia']), 'desvio_padrao':pstdev(dic['acuracia'])},\n",
        "            'f-score': {'media':mean(dic['fscore']), 'desvio_padrao':pstdev(dic['fscore'])}}"
      ],
      "execution_count": 5,
      "outputs": []
    },
    {
      "cell_type": "markdown",
      "metadata": {
        "id": "RpbNXc0_ShLm"
      },
      "source": [
        "## Testando Redes Neurais sem os Atributos Categórios"
      ]
    },
    {
      "cell_type": "markdown",
      "metadata": {
        "id": "2L8pyrwERBtn"
      },
      "source": [
        "1. Abra a base de dados em questão\n",
        "2. Elimine todas as colunas relativas aos atributos categóricos\n",
        "3. Armazene o atributo alvo em uma variável y e os atributos preditores em uma variável X\n",
        "4. Efetue uma partição holdout 70/30 com o sklearn, distribuindo os exemplos de maneira aleatória\n",
        "5. Efetue o escalonamento dos atributos\n",
        "\n"
      ]
    },
    {
      "cell_type": "markdown",
      "metadata": {
        "id": "IZRD17_2SnX2"
      },
      "source": [
        "\n",
        "### 1. Abra a base de dados em questão\n",
        "\n",
        "\n"
      ]
    },
    {
      "cell_type": "markdown",
      "metadata": {
        "id": "4fapyR4fiHKQ"
      },
      "source": [
        "#### Leitura da base de dados"
      ]
    },
    {
      "cell_type": "code",
      "metadata": {
        "id": "f2GW4MymS_mX"
      },
      "source": [
        "database = pd.read_csv('database/covtype.csv')"
      ],
      "execution_count": 6,
      "outputs": []
    },
    {
      "cell_type": "markdown",
      "metadata": {
        "id": "Ch3MCg8jSuXW"
      },
      "source": [
        "### 2. Elimine todas as colunas relativas aos atributos categóricos\n"
      ]
    },
    {
      "cell_type": "markdown",
      "metadata": {
        "id": "HRAHIyP9ewvT"
      },
      "source": [
        "#### Colunas da base de dados anterior a eliminação dos atributos categóricos"
      ]
    },
    {
      "cell_type": "code",
      "metadata": {
        "id": "8yc4e9Ydes9v",
        "outputId": "90a66f89-1e91-476a-dcad-e04ecdc84165",
        "colab": {
          "base_uri": "https://localhost:8080/",
          "height": 100
        }
      },
      "source": [
        "database_columns()"
      ],
      "execution_count": 7,
      "outputs": [
        {
          "output_type": "execute_result",
          "data": {
            "text/html": [
              "<div>\n",
              "<style scoped>\n",
              "    .dataframe tbody tr th:only-of-type {\n",
              "        vertical-align: middle;\n",
              "    }\n",
              "\n",
              "    .dataframe tbody tr th {\n",
              "        vertical-align: top;\n",
              "    }\n",
              "\n",
              "    .dataframe thead th {\n",
              "        text-align: right;\n",
              "    }\n",
              "</style>\n",
              "<table border=\"1\" class=\"dataframe\">\n",
              "  <thead>\n",
              "    <tr style=\"text-align: right;\">\n",
              "      <th></th>\n",
              "      <th>0</th>\n",
              "      <th>1</th>\n",
              "      <th>2</th>\n",
              "      <th>3</th>\n",
              "      <th>4</th>\n",
              "      <th>5</th>\n",
              "      <th>6</th>\n",
              "      <th>7</th>\n",
              "      <th>8</th>\n",
              "      <th>9</th>\n",
              "      <th>10</th>\n",
              "      <th>11</th>\n",
              "      <th>12</th>\n",
              "      <th>13</th>\n",
              "      <th>14</th>\n",
              "      <th>15</th>\n",
              "      <th>16</th>\n",
              "      <th>17</th>\n",
              "      <th>18</th>\n",
              "      <th>19</th>\n",
              "      <th>20</th>\n",
              "      <th>21</th>\n",
              "      <th>22</th>\n",
              "      <th>23</th>\n",
              "      <th>24</th>\n",
              "      <th>25</th>\n",
              "      <th>26</th>\n",
              "      <th>27</th>\n",
              "      <th>28</th>\n",
              "      <th>29</th>\n",
              "      <th>30</th>\n",
              "      <th>31</th>\n",
              "      <th>32</th>\n",
              "      <th>33</th>\n",
              "      <th>34</th>\n",
              "      <th>35</th>\n",
              "      <th>36</th>\n",
              "      <th>37</th>\n",
              "      <th>38</th>\n",
              "      <th>39</th>\n",
              "      <th>40</th>\n",
              "      <th>41</th>\n",
              "      <th>42</th>\n",
              "      <th>43</th>\n",
              "      <th>44</th>\n",
              "      <th>45</th>\n",
              "      <th>46</th>\n",
              "      <th>47</th>\n",
              "      <th>48</th>\n",
              "      <th>49</th>\n",
              "      <th>50</th>\n",
              "      <th>51</th>\n",
              "      <th>52</th>\n",
              "      <th>53</th>\n",
              "      <th>54</th>\n",
              "    </tr>\n",
              "  </thead>\n",
              "  <tbody>\n",
              "    <tr>\n",
              "      <th>Atributos</th>\n",
              "      <td>Elevation</td>\n",
              "      <td>Aspect</td>\n",
              "      <td>Slope</td>\n",
              "      <td>Horizontal_Distance_To_Hydrology</td>\n",
              "      <td>Vertical_Distance_To_Hydrology</td>\n",
              "      <td>Horizontal_Distance_To_Roadways</td>\n",
              "      <td>Hillshade_9am</td>\n",
              "      <td>Hillshade_Noon</td>\n",
              "      <td>Hillshade_3pm</td>\n",
              "      <td>Horizontal_Distance_To_Fire_Points</td>\n",
              "      <td>Wilderness_Area1</td>\n",
              "      <td>Wilderness_Area2</td>\n",
              "      <td>Wilderness_Area3</td>\n",
              "      <td>Wilderness_Area4</td>\n",
              "      <td>Soil_Type1</td>\n",
              "      <td>Soil_Type2</td>\n",
              "      <td>Soil_Type3</td>\n",
              "      <td>Soil_Type4</td>\n",
              "      <td>Soil_Type5</td>\n",
              "      <td>Soil_Type6</td>\n",
              "      <td>Soil_Type7</td>\n",
              "      <td>Soil_Type8</td>\n",
              "      <td>Soil_Type9</td>\n",
              "      <td>Soil_Type10</td>\n",
              "      <td>Soil_Type11</td>\n",
              "      <td>Soil_Type12</td>\n",
              "      <td>Soil_Type13</td>\n",
              "      <td>Soil_Type14</td>\n",
              "      <td>Soil_Type15</td>\n",
              "      <td>Soil_Type16</td>\n",
              "      <td>Soil_Type17</td>\n",
              "      <td>Soil_Type18</td>\n",
              "      <td>Soil_Type19</td>\n",
              "      <td>Soil_Type20</td>\n",
              "      <td>Soil_Type21</td>\n",
              "      <td>Soil_Type22</td>\n",
              "      <td>Soil_Type23</td>\n",
              "      <td>Soil_Type24</td>\n",
              "      <td>Soil_Type25</td>\n",
              "      <td>Soil_Type26</td>\n",
              "      <td>Soil_Type27</td>\n",
              "      <td>Soil_Type28</td>\n",
              "      <td>Soil_Type29</td>\n",
              "      <td>Soil_Type30</td>\n",
              "      <td>Soil_Type31</td>\n",
              "      <td>Soil_Type32</td>\n",
              "      <td>Soil_Type33</td>\n",
              "      <td>Soil_Type34</td>\n",
              "      <td>Soil_Type35</td>\n",
              "      <td>Soil_Type36</td>\n",
              "      <td>Soil_Type37</td>\n",
              "      <td>Soil_Type38</td>\n",
              "      <td>Soil_Type39</td>\n",
              "      <td>Soil_Type40</td>\n",
              "      <td>Cover_Type</td>\n",
              "    </tr>\n",
              "  </tbody>\n",
              "</table>\n",
              "</div>"
            ],
            "text/plain": [
              "                  0       1      2   ...           52           53          54\n",
              "Atributos  Elevation  Aspect  Slope  ...  Soil_Type39  Soil_Type40  Cover_Type\n",
              "\n",
              "[1 rows x 55 columns]"
            ]
          },
          "metadata": {
            "tags": []
          },
          "execution_count": 7
        }
      ]
    },
    {
      "cell_type": "markdown",
      "metadata": {
        "id": "qNCNFNV1YLSn"
      },
      "source": [
        "Os nomes das colunas que representam valores categóricos possuem como substring \"Wilderness_Area\" ou \"Soil_Type\". As expressões regulares foram utilizadas para seleção das colunas a serem eliminadas.  \n"
      ]
    },
    {
      "cell_type": "code",
      "metadata": {
        "id": "WRAo459PZ4qu"
      },
      "source": [
        "for column in _columns():\n",
        "    match = re.search('^Soil_Type\\d{1,2}$|^Wilderness_Area\\d$', column)\n",
        "    if match:\n",
        "        database.drop(columns=column, axis=1, inplace=True)    "
      ],
      "execution_count": 8,
      "outputs": []
    },
    {
      "cell_type": "markdown",
      "metadata": {
        "id": "3rI-gKuJf1FI"
      },
      "source": [
        "#### Colunas da base de dados posterior a eliminação dos atributos categóricos"
      ]
    },
    {
      "cell_type": "code",
      "metadata": {
        "id": "1WjUI9y9fJLQ",
        "outputId": "9f144125-ce18-4d7c-f22f-e8a49b8143ca",
        "colab": {
          "base_uri": "https://localhost:8080/",
          "height": 100
        }
      },
      "source": [
        "database_columns()"
      ],
      "execution_count": 9,
      "outputs": [
        {
          "output_type": "execute_result",
          "data": {
            "text/html": [
              "<div>\n",
              "<style scoped>\n",
              "    .dataframe tbody tr th:only-of-type {\n",
              "        vertical-align: middle;\n",
              "    }\n",
              "\n",
              "    .dataframe tbody tr th {\n",
              "        vertical-align: top;\n",
              "    }\n",
              "\n",
              "    .dataframe thead th {\n",
              "        text-align: right;\n",
              "    }\n",
              "</style>\n",
              "<table border=\"1\" class=\"dataframe\">\n",
              "  <thead>\n",
              "    <tr style=\"text-align: right;\">\n",
              "      <th></th>\n",
              "      <th>0</th>\n",
              "      <th>1</th>\n",
              "      <th>2</th>\n",
              "      <th>3</th>\n",
              "      <th>4</th>\n",
              "      <th>5</th>\n",
              "      <th>6</th>\n",
              "      <th>7</th>\n",
              "      <th>8</th>\n",
              "      <th>9</th>\n",
              "      <th>10</th>\n",
              "    </tr>\n",
              "  </thead>\n",
              "  <tbody>\n",
              "    <tr>\n",
              "      <th>Atributos</th>\n",
              "      <td>Elevation</td>\n",
              "      <td>Aspect</td>\n",
              "      <td>Slope</td>\n",
              "      <td>Horizontal_Distance_To_Hydrology</td>\n",
              "      <td>Vertical_Distance_To_Hydrology</td>\n",
              "      <td>Horizontal_Distance_To_Roadways</td>\n",
              "      <td>Hillshade_9am</td>\n",
              "      <td>Hillshade_Noon</td>\n",
              "      <td>Hillshade_3pm</td>\n",
              "      <td>Horizontal_Distance_To_Fire_Points</td>\n",
              "      <td>Cover_Type</td>\n",
              "    </tr>\n",
              "  </tbody>\n",
              "</table>\n",
              "</div>"
            ],
            "text/plain": [
              "                  0       1   ...                                  9           10\n",
              "Atributos  Elevation  Aspect  ...  Horizontal_Distance_To_Fire_Points  Cover_Type\n",
              "\n",
              "[1 rows x 11 columns]"
            ]
          },
          "metadata": {
            "tags": []
          },
          "execution_count": 9
        }
      ]
    },
    {
      "cell_type": "markdown",
      "metadata": {
        "id": "EkM1Q_EqSxmO"
      },
      "source": [
        "### 3. Armazene o atributo alvo em uma variável y e os atributos preditores em uma variável X\n"
      ]
    },
    {
      "cell_type": "markdown",
      "metadata": {
        "id": "gMn819iYhjjZ"
      },
      "source": [
        "#### Alocando o atributo alvo na variável y"
      ]
    },
    {
      "cell_type": "code",
      "metadata": {
        "id": "jj7LK-Fv1LSK"
      },
      "source": [
        "y = _iloc(10,11)"
      ],
      "execution_count": 10,
      "outputs": []
    },
    {
      "cell_type": "markdown",
      "metadata": {
        "id": "H6GFKnPOgYTC"
      },
      "source": [
        "**Atributo alvo**"
      ]
    },
    {
      "cell_type": "code",
      "metadata": {
        "id": "ap4-UTf3grQV",
        "outputId": "6e27edb4-0c11-43dd-cdb8-512a3dbffcfa",
        "colab": {
          "base_uri": "https://localhost:8080/",
          "height": 34
        }
      },
      "source": [
        "list (y.columns)"
      ],
      "execution_count": 11,
      "outputs": [
        {
          "output_type": "execute_result",
          "data": {
            "text/plain": [
              "['Cover_Type']"
            ]
          },
          "metadata": {
            "tags": []
          },
          "execution_count": 11
        }
      ]
    },
    {
      "cell_type": "markdown",
      "metadata": {
        "id": "lbAWM1IHhrRh"
      },
      "source": [
        "#### Alocando os atributos preditores na variável X"
      ]
    },
    {
      "cell_type": "code",
      "metadata": {
        "id": "XEMpd6zZgiRQ"
      },
      "source": [
        "X = _iloc(0,10)"
      ],
      "execution_count": 12,
      "outputs": []
    },
    {
      "cell_type": "markdown",
      "metadata": {
        "id": "LFio0CKZgeVn"
      },
      "source": [
        "**Atributos preditores**"
      ]
    },
    {
      "cell_type": "code",
      "metadata": {
        "id": "zyUhB27dO5YR",
        "outputId": "c6f9c870-f8fa-4758-cc2b-bce098c18ec4",
        "colab": {
          "base_uri": "https://localhost:8080/",
          "height": 187
        }
      },
      "source": [
        "X.columns.tolist()"
      ],
      "execution_count": 13,
      "outputs": [
        {
          "output_type": "execute_result",
          "data": {
            "text/plain": [
              "['Elevation',\n",
              " 'Aspect',\n",
              " 'Slope',\n",
              " 'Horizontal_Distance_To_Hydrology',\n",
              " 'Vertical_Distance_To_Hydrology',\n",
              " 'Horizontal_Distance_To_Roadways',\n",
              " 'Hillshade_9am',\n",
              " 'Hillshade_Noon',\n",
              " 'Hillshade_3pm',\n",
              " 'Horizontal_Distance_To_Fire_Points']"
            ]
          },
          "metadata": {
            "tags": []
          },
          "execution_count": 13
        }
      ]
    },
    {
      "cell_type": "markdown",
      "metadata": {
        "id": "YgP_STVIS2S6"
      },
      "source": [
        "### 4. Efetue uma partição holdout 70/30 com o sklearn, distribuindo os exemplos de maneira aleatória"
      ]
    },
    {
      "cell_type": "markdown",
      "metadata": {
        "id": "DbYygJwCm0Tx"
      },
      "source": [
        "#### Particionando a base de dados em 70% para treinamento e 30% para teste"
      ]
    },
    {
      "cell_type": "code",
      "metadata": {
        "id": "0z-jXh3bTCR0"
      },
      "source": [
        "def holdout(X, y, shuffle=False):\n",
        "    return train_test_split(X, y, test_size=0.30, shuffle=shuffle)"
      ],
      "execution_count": 14,
      "outputs": []
    },
    {
      "cell_type": "code",
      "metadata": {
        "id": "a9QAG1iQWz1Y"
      },
      "source": [
        "X_train, X_test, y_train, y_test = holdout(X, y)"
      ],
      "execution_count": 15,
      "outputs": []
    },
    {
      "cell_type": "markdown",
      "metadata": {
        "id": "f8tbGgXbn20H"
      },
      "source": [
        "A base de dados contém 581012 instâncias, das quais 406708 instâncias representam 70% dos dados e 174304 instâncias caracterizam 30% dos dados."
      ]
    },
    {
      "cell_type": "code",
      "metadata": {
        "id": "01P1Xh8dm_O1",
        "outputId": "5fb3da3a-be72-46ed-fa1a-2912c4cb70bc",
        "colab": {
          "base_uri": "https://localhost:8080/",
          "height": 142
        }
      },
      "source": [
        "tamanho = database.__len__()\n",
        "setenta, trinta = int(tamanho * 0.7), int(tamanho * 0.3)\n",
        "pd.DataFrame([tamanho,setenta,trinta],['100%','70%','30%'],['Instâncias'])"
      ],
      "execution_count": 16,
      "outputs": [
        {
          "output_type": "execute_result",
          "data": {
            "text/html": [
              "<div>\n",
              "<style scoped>\n",
              "    .dataframe tbody tr th:only-of-type {\n",
              "        vertical-align: middle;\n",
              "    }\n",
              "\n",
              "    .dataframe tbody tr th {\n",
              "        vertical-align: top;\n",
              "    }\n",
              "\n",
              "    .dataframe thead th {\n",
              "        text-align: right;\n",
              "    }\n",
              "</style>\n",
              "<table border=\"1\" class=\"dataframe\">\n",
              "  <thead>\n",
              "    <tr style=\"text-align: right;\">\n",
              "      <th></th>\n",
              "      <th>Instâncias</th>\n",
              "    </tr>\n",
              "  </thead>\n",
              "  <tbody>\n",
              "    <tr>\n",
              "      <th>100%</th>\n",
              "      <td>581012</td>\n",
              "    </tr>\n",
              "    <tr>\n",
              "      <th>70%</th>\n",
              "      <td>406708</td>\n",
              "    </tr>\n",
              "    <tr>\n",
              "      <th>30%</th>\n",
              "      <td>174303</td>\n",
              "    </tr>\n",
              "  </tbody>\n",
              "</table>\n",
              "</div>"
            ],
            "text/plain": [
              "      Instâncias\n",
              "100%      581012\n",
              "70%       406708\n",
              "30%       174303"
            ]
          },
          "metadata": {
            "tags": []
          },
          "execution_count": 16
        }
      ]
    },
    {
      "cell_type": "markdown",
      "metadata": {
        "id": "5om0AzROR2ZT"
      },
      "source": [
        "### Escalonando os atributos\n",
        "\n",
        "O treinamento de uma rede neural artificial é mais eficiente quando os valores que lhes são fornecidos como entrada são pequenos, pois isto favorece a convergência. Isto é feito escalonando-se todos os atributos para o intervalo [0,1], mas precisa ser feito de maneira cautelosa, para que informações do conjunto de teste não sejam fornecidas no treinamento.\n",
        "\n",
        "Há duas estratégias para tal escalonamento: normalização e padronização. Ambas possuem características particulares, vantagens e limitações, como é possível ver aqui: https://www.analyticsvidhya.com/blog/2020/04/feature-scaling-machine-learning-normalization-standardization/\n",
        "\n",
        "\n",
        "No nosso caso, vamos usar a padronização. Assim, com os atributos preditores do treinamento, isto é, X_train, deve-se subtrair a média e dividir pelo desvio padrão:\n",
        "\n",
        "X_train_std = (X_train - np.mean(X_train))/np.std(X_train)\n",
        "\n",
        "Em seguida, o mesmo deve ser feito com os atributos preditores do conjunto de testes, mas com padronização relativa ao conjunto de treinamento:\n",
        "\n",
        "X_test_std = (X_test - np.mean(X_train))/np.std(X_train)\n",
        "\n",
        "Se todo o conjunto X for utilizado na padronização, a rede neural receberá informações do conjunto de teste por meio da média e variância utilizada para preparar os dados de treinamento, o que não é desejável."
      ]
    },
    {
      "cell_type": "markdown",
      "metadata": {
        "id": "7I4lBOExS7ae"
      },
      "source": [
        "### 5. Efetue o escalonamento dos atributos"
      ]
    },
    {
      "cell_type": "code",
      "metadata": {
        "id": "xzNdpFus_KZZ"
      },
      "source": [
        "def escalonamento(X_train, X_test):\n",
        "    mean = X_train.mean() \n",
        "    std = X_train.std()   \n",
        "    \n",
        "    train = (X_train - mean) / std\n",
        "    test = (X_test - mean) / std\n",
        "\n",
        "    return (train, test)"
      ],
      "execution_count": 17,
      "outputs": []
    },
    {
      "cell_type": "markdown",
      "metadata": {
        "id": "6H4aYdiTpxrg"
      },
      "source": [
        "#### Escalonando os atributos preditores do conjunto treinamento e teste"
      ]
    },
    {
      "cell_type": "code",
      "metadata": {
        "id": "5z9dDScYrhcX"
      },
      "source": [
        "X_train_std, X_test_std = escalonamento(X_train, X_test)"
      ],
      "execution_count": 18,
      "outputs": []
    },
    {
      "cell_type": "markdown",
      "metadata": {
        "id": "-QtyMouDQ2w8"
      },
      "source": [
        "### Continuando\n",
        "\n",
        "6. Treine uma rede neural multilayer perceptron para este problema com uma única camada e dez neurônios  \n",
        "    6.1 Utilize a função de ativação ReLU  \n",
        "    6.2 Utilize o solver Adam    \n",
        "    6.3 Imprima o passo a passo do treinamento    \n",
        "    6.4 Utilize o número máximo de épocas igual a 300  \n",
        "7. Com o modelo em questão, após o treinamento, apresente:  \n",
        "    7.1 Matriz de confusão para o conjunto de teste  \n",
        "    7.2 Acurácia  \n",
        "    7.3 F-Score  \n",
        "    7.4 Precisão  \n",
        "    7.5 Revocação  \n",
        "8. Repita o treinamento da mesma rede anterior sem imprimir o passo a passo (verbose False) por 100 vezes  \n",
        "    8.1 Cada uma destas repetições deve ser feita com uma nova partição Holdout  \n",
        "    8.2 Apresente a média e o desvio padrão da acurácia e do F-Score para o conjunto de treino  \n",
        "9. Repita por 100 vezes o treinamento desta mesma rede, mas utilizando o otimizador SGD  \n",
        "    9.1 Apresente a média e o desvio padrão da acurácia e do F-Score para o conjunto de treino  \n",
        "10. Houve influência da escolha do otimizador no desempenho da rede?"
      ]
    },
    {
      "cell_type": "markdown",
      "metadata": {
        "id": "8agQM--Ixb1h"
      },
      "source": [
        "### 6. Treine uma rede neural multilayer perceptron para este problema com uma única camada e dez neurônios \n",
        "\n"
      ]
    },
    {
      "cell_type": "markdown",
      "metadata": {
        "id": "0ah6TR3ECCLL"
      },
      "source": [
        "#### 6.1 Utilize a função de ativação ReLU\n",
        "#### 6.2 Utilize o solver Adam"
      ]
    },
    {
      "cell_type": "code",
      "metadata": {
        "id": "7mHkoivVx28p"
      },
      "source": [
        "perceptron = MLPClassifier(hidden_layer_sizes=(10,), activation='relu', solver='adam', verbose=True)"
      ],
      "execution_count": 19,
      "outputs": []
    },
    {
      "cell_type": "markdown",
      "metadata": {
        "id": "RZSQJpYpxnG2"
      },
      "source": [
        "#### 6.3 Imprima o passo a passo do treinamento"
      ]
    },
    {
      "cell_type": "code",
      "metadata": {
        "id": "XHbtFPA0x5FX",
        "outputId": "752d3cbc-5bc0-4034-9799-b2de1f35fbf4",
        "colab": {
          "base_uri": "https://localhost:8080/",
          "height": 1000
        }
      },
      "source": [
        "perceptron.fit(X_train_std, y_train)"
      ],
      "execution_count": 20,
      "outputs": [
        {
          "output_type": "stream",
          "text": [
            "Iteration 1, loss = 0.98483080\n",
            "Iteration 2, loss = 0.69917980\n",
            "Iteration 3, loss = 0.66808186\n",
            "Iteration 4, loss = 0.65707798\n",
            "Iteration 5, loss = 0.65213849\n",
            "Iteration 6, loss = 0.64963758\n",
            "Iteration 7, loss = 0.64800769\n",
            "Iteration 8, loss = 0.64680862\n",
            "Iteration 9, loss = 0.64564447\n",
            "Iteration 10, loss = 0.64474150\n",
            "Iteration 11, loss = 0.64369300\n",
            "Iteration 12, loss = 0.64262572\n",
            "Iteration 13, loss = 0.64156593\n",
            "Iteration 14, loss = 0.64074009\n",
            "Iteration 15, loss = 0.63989413\n",
            "Iteration 16, loss = 0.63912962\n",
            "Iteration 17, loss = 0.63825365\n",
            "Iteration 18, loss = 0.63757223\n",
            "Iteration 19, loss = 0.63699390\n",
            "Iteration 20, loss = 0.63640906\n",
            "Iteration 21, loss = 0.63591760\n",
            "Iteration 22, loss = 0.63548528\n",
            "Iteration 23, loss = 0.63495690\n",
            "Iteration 24, loss = 0.63468529\n",
            "Iteration 25, loss = 0.63434962\n",
            "Iteration 26, loss = 0.63404004\n",
            "Iteration 27, loss = 0.63384618\n",
            "Iteration 28, loss = 0.63364768\n",
            "Iteration 29, loss = 0.63351855\n",
            "Iteration 30, loss = 0.63339246\n",
            "Iteration 31, loss = 0.63331533\n",
            "Iteration 32, loss = 0.63310955\n",
            "Iteration 33, loss = 0.63302857\n",
            "Iteration 34, loss = 0.63291107\n",
            "Iteration 35, loss = 0.63278208\n",
            "Iteration 36, loss = 0.63271267\n",
            "Iteration 37, loss = 0.63238557\n",
            "Iteration 38, loss = 0.63200138\n",
            "Iteration 39, loss = 0.63171285\n",
            "Iteration 40, loss = 0.63154910\n",
            "Iteration 41, loss = 0.63128522\n",
            "Iteration 42, loss = 0.63125101\n",
            "Iteration 43, loss = 0.63116206\n",
            "Iteration 44, loss = 0.63099839\n",
            "Iteration 45, loss = 0.63093521\n",
            "Iteration 46, loss = 0.63082928\n",
            "Iteration 47, loss = 0.63075057\n",
            "Iteration 48, loss = 0.63069057\n",
            "Iteration 49, loss = 0.63066610\n",
            "Iteration 50, loss = 0.63055112\n",
            "Iteration 51, loss = 0.63052197\n",
            "Iteration 52, loss = 0.63039214\n",
            "Iteration 53, loss = 0.63035161\n",
            "Iteration 54, loss = 0.63019987\n",
            "Iteration 55, loss = 0.63025738\n",
            "Iteration 56, loss = 0.63010499\n",
            "Iteration 57, loss = 0.62999828\n",
            "Iteration 58, loss = 0.62992636\n",
            "Iteration 59, loss = 0.62977014\n",
            "Iteration 60, loss = 0.62972804\n",
            "Iteration 61, loss = 0.62966271\n",
            "Iteration 62, loss = 0.62963899\n",
            "Iteration 63, loss = 0.62946158\n",
            "Iteration 64, loss = 0.62925866\n",
            "Iteration 65, loss = 0.62905529\n",
            "Iteration 66, loss = 0.62895224\n",
            "Iteration 67, loss = 0.62866320\n",
            "Iteration 68, loss = 0.62864706\n",
            "Iteration 69, loss = 0.62854057\n",
            "Iteration 70, loss = 0.62846724\n",
            "Iteration 71, loss = 0.62840232\n",
            "Iteration 72, loss = 0.62835326\n",
            "Iteration 73, loss = 0.62817368\n",
            "Iteration 74, loss = 0.62815420\n",
            "Iteration 75, loss = 0.62816613\n",
            "Iteration 76, loss = 0.62804963\n",
            "Iteration 77, loss = 0.62800521\n",
            "Iteration 78, loss = 0.62792642\n",
            "Iteration 79, loss = 0.62789119\n",
            "Iteration 80, loss = 0.62785407\n",
            "Iteration 81, loss = 0.62780820\n",
            "Iteration 82, loss = 0.62771507\n",
            "Iteration 83, loss = 0.62772650\n",
            "Iteration 84, loss = 0.62764482\n",
            "Iteration 85, loss = 0.62759691\n",
            "Iteration 86, loss = 0.62775499\n",
            "Iteration 87, loss = 0.62767715\n",
            "Training loss did not improve more than tol=0.000100 for 10 consecutive epochs. Stopping.\n"
          ],
          "name": "stdout"
        },
        {
          "output_type": "execute_result",
          "data": {
            "text/plain": [
              "MLPClassifier(activation='relu', alpha=0.0001, batch_size='auto', beta_1=0.9,\n",
              "              beta_2=0.999, early_stopping=False, epsilon=1e-08,\n",
              "              hidden_layer_sizes=(10,), learning_rate='constant',\n",
              "              learning_rate_init=0.001, max_fun=15000, max_iter=200,\n",
              "              momentum=0.9, n_iter_no_change=10, nesterovs_momentum=True,\n",
              "              power_t=0.5, random_state=None, shuffle=True, solver='adam',\n",
              "              tol=0.0001, validation_fraction=0.1, verbose=True,\n",
              "              warm_start=False)"
            ]
          },
          "metadata": {
            "tags": []
          },
          "execution_count": 20
        }
      ]
    },
    {
      "cell_type": "markdown",
      "metadata": {
        "id": "3BOTSaBFg-RK"
      },
      "source": [
        "#### Resultados do treinamento\n",
        "\n",
        "O treinamento do neurônio Perceptron com uma única camada oculta, executou 116 iterações com uma função de perda de 0.6193.\n"
      ]
    },
    {
      "cell_type": "markdown",
      "metadata": {
        "id": "pn60c3gDyDys"
      },
      "source": [
        "### 7. Com o modelo em questão, após o treinamento, apresente:\n",
        "#### 7.1 Matriz de confusão para o conjunto de teste"
      ]
    },
    {
      "cell_type": "code",
      "metadata": {
        "id": "kb8MuKEFNp4D",
        "outputId": "5de4b31c-7e5e-43bb-9541-39979c0f7aed",
        "colab": {
          "base_uri": "https://localhost:8080/",
          "height": 417
        }
      },
      "source": [
        "y_pred = perceptron.predict(X_test_std)\n",
        "matriz = confusion_matrix(y_test, y_pred)\n",
        "\n",
        "fig, ax = plt.subplots(figsize=(7,7))\n",
        "plot_confusion_matrix(perceptron, X_test_std, y_test, ax=ax, values_format='.2%', normalize='all', cmap='YlGnBu')\n",
        "plt.title('Matriz de Confusão')\n",
        "plt.show()"
      ],
      "execution_count": 21,
      "outputs": [
        {
          "output_type": "display_data",
          "data": {
            "image/png": "[encoded data removed]",
            "text/plain": [
              "<Figure size 504x504 with 2 Axes>"
            ]
          },
          "metadata": {
            "tags": [],
            "needs_background": "light"
          }
        }
      ]
    },
    {
      "cell_type": "markdown",
      "metadata": {
        "id": "f2671wcayL6Y"
      },
      "source": [
        "#### 7.2 Acurácia"
      ]
    },
    {
      "cell_type": "code",
      "metadata": {
        "id": "pKBk77xiyPc3"
      },
      "source": [
        "acuracia = accuracy_score(y_test, y_pred)"
      ],
      "execution_count": 22,
      "outputs": []
    },
    {
      "cell_type": "markdown",
      "metadata": {
        "id": "rrtLRP-XIfvw"
      },
      "source": [
        "#### Visualizando a acurácia"
      ]
    },
    {
      "cell_type": "code",
      "metadata": {
        "id": "hqty_McwILrl",
        "outputId": "bb4027b3-617a-4ba7-8740-b1cae1c4a1d9",
        "colab": {
          "base_uri": "https://localhost:8080/",
          "height": 295
        }
      },
      "source": [
        "plt.hist([acuracia], label=np.round(acuracia, 4))\n",
        "plt.title('Acurácia'), plt.xlabel('Medidas'), plt.ylabel('Quantidade')\n",
        "plt.xticks(np.arange(0.1, 1.5, 0.1))\n",
        "plt.legend()\n",
        "plt.show()"
      ],
      "execution_count": 23,
      "outputs": [
        {
          "output_type": "display_data",
          "data": {
            "image/png": "[encoded data removed]",
            "text/plain": [
              "<Figure size 432x288 with 1 Axes>"
            ]
          },
          "metadata": {
            "tags": [],
            "needs_background": "light"
          }
        }
      ]
    },
    {
      "cell_type": "markdown",
      "metadata": {
        "id": "4z_779qNyQN2"
      },
      "source": [
        "#### 7.3 F-Score"
      ]
    },
    {
      "cell_type": "code",
      "metadata": {
        "id": "59WV5R8QyS0p"
      },
      "source": [
        "fscore = f1_score(y_test, y_pred, average=None)"
      ],
      "execution_count": 24,
      "outputs": []
    },
    {
      "cell_type": "markdown",
      "metadata": {
        "id": "MsCccUHzIw2j"
      },
      "source": [
        "#### Visualizando o F-Score"
      ]
    },
    {
      "cell_type": "code",
      "metadata": {
        "id": "vgojLYwVju6b"
      },
      "source": [
        "data = np.round(fscore, 4)\n",
        "labels = pd.DataFrame(data, columns=['Score'])"
      ],
      "execution_count": 25,
      "outputs": []
    },
    {
      "cell_type": "code",
      "metadata": {
        "id": "ra553hwVI2vZ",
        "outputId": "9952540a-e05c-4d95-8a8c-0c7a2499911c",
        "colab": {
          "base_uri": "https://localhost:8080/",
          "height": 295
        }
      },
      "source": [
        "sns.countplot(data, hue=labels['Score'], dodge=False)\n",
        "plt.title('F-Score'), plt.xlabel('Medidas'), plt.ylabel('Quantidade')\n",
        "plt.show()"
      ],
      "execution_count": 26,
      "outputs": [
        {
          "output_type": "display_data",
          "data": {
            "image/png": "[encoded data removed]",
            "text/plain": [
              "<Figure size 432x288 with 1 Axes>"
            ]
          },
          "metadata": {
            "tags": [],
            "needs_background": "light"
          }
        }
      ]
    },
    {
      "cell_type": "markdown",
      "metadata": {
        "id": "gH46-qZSyTgq"
      },
      "source": [
        "#### 7.4 Precisão"
      ]
    },
    {
      "cell_type": "code",
      "metadata": {
        "id": "02krBI8QyVCG"
      },
      "source": [
        "precisao = precision_score(y_test, y_pred, average=None)"
      ],
      "execution_count": 27,
      "outputs": []
    },
    {
      "cell_type": "markdown",
      "metadata": {
        "id": "SbYSExu0JRYV"
      },
      "source": [
        "#### Visualizando a precisão"
      ]
    },
    {
      "cell_type": "code",
      "metadata": {
        "id": "XcQMyHzdluuo"
      },
      "source": [
        "data = np.round(precisao, 4)\n",
        "labels = pd.DataFrame(data, columns=['Precision'])"
      ],
      "execution_count": 28,
      "outputs": []
    },
    {
      "cell_type": "code",
      "metadata": {
        "id": "Braj0fV9JaNS",
        "outputId": "6c1f0f22-09e4-402e-c54e-0bda26b7819e",
        "colab": {
          "base_uri": "https://localhost:8080/",
          "height": 295
        }
      },
      "source": [
        "sns.countplot(data, hue=labels['Precision'], dodge=False)\n",
        "plt.title('Precisão'), plt.xlabel('Medidas'), plt.ylabel('Quantidade')\n",
        "plt.show()"
      ],
      "execution_count": 29,
      "outputs": [
        {
          "output_type": "display_data",
          "data": {
            "image/png": "[encoded data removed]",
            "text/plain": [
              "<Figure size 432x288 with 1 Axes>"
            ]
          },
          "metadata": {
            "tags": [],
            "needs_background": "light"
          }
        }
      ]
    },
    {
      "cell_type": "markdown",
      "metadata": {
        "id": "Pfa4kpLWyV43"
      },
      "source": [
        "#### 7.5 Revocação"
      ]
    },
    {
      "cell_type": "code",
      "metadata": {
        "id": "VMGXqEjlyY-r"
      },
      "source": [
        "revocacao = recall_score(y_test, y_pred, average=None)"
      ],
      "execution_count": 30,
      "outputs": []
    },
    {
      "cell_type": "markdown",
      "metadata": {
        "id": "tjPSPDXzWh8r"
      },
      "source": [
        "#### Visualizando a revocação"
      ]
    },
    {
      "cell_type": "code",
      "metadata": {
        "id": "t_MOYR0cqJ_B"
      },
      "source": [
        "data = np.round(precisao, 4)\n",
        "labels = pd.DataFrame(data, columns=['Recall'])"
      ],
      "execution_count": 31,
      "outputs": []
    },
    {
      "cell_type": "code",
      "metadata": {
        "id": "HoOwdLyrXGVD",
        "outputId": "a04975c9-fcd3-4c53-eed2-7cb9884c11e6",
        "colab": {
          "base_uri": "https://localhost:8080/",
          "height": 295
        }
      },
      "source": [
        "sns.countplot(data, hue=labels['Recall'], dodge=False)\n",
        "plt.title('Revocação')\n",
        "plt.xlabel('Medidas')\n",
        "plt.ylabel('Quantidade')\n",
        "plt.show()"
      ],
      "execution_count": 32,
      "outputs": [
        {
          "output_type": "display_data",
          "data": {
            "image/png": "[encoded data removed]",
            "text/plain": [
              "<Figure size 432x288 with 1 Axes>"
            ]
          },
          "metadata": {
            "tags": [],
            "needs_background": "light"
          }
        }
      ]
    },
    {
      "cell_type": "markdown",
      "metadata": {
        "id": "-jjdyWBEPn4r"
      },
      "source": [
        "#### Visualizando as métricas de desempenho"
      ]
    },
    {
      "cell_type": "code",
      "metadata": {
        "id": "WIw_10TWN6PM",
        "outputId": "29446906-959f-4e34-9667-3905175bd478",
        "colab": {
          "base_uri": "https://localhost:8080/",
          "height": 295
        }
      },
      "source": [
        "data = pd.DataFrame(classification_report(y_test, y_pred, output_dict=True)).drop('support').iloc[:,:6]\n",
        "sns.lineplot(data=data.T)\n",
        "plt.title('Métricas de Desempenho'), plt.xlabel('Valores'), plt.ylabel('Medidas')\n",
        "plt.show()"
      ],
      "execution_count": 33,
      "outputs": [
        {
          "output_type": "display_data",
          "data": {
            "image/png": "[encoded data removed]",
            "text/plain": [
              "<Figure size 432x288 with 1 Axes>"
            ]
          },
          "metadata": {
            "tags": [],
            "needs_background": "light"
          }
        }
      ]
    },
    {
      "cell_type": "markdown",
      "metadata": {
        "id": "tDo2jp9iRUAz"
      },
      "source": [
        "### 8. Repita o treinamento da mesma rede anterior sem imprimir o passo a passo (verbose False) por 100 vezes  \n",
        "   "
      ]
    },
    {
      "cell_type": "code",
      "metadata": {
        "id": "2Rt6C14ytXph"
      },
      "source": [
        "def treinamento(iteracoes, otimizador='adam'):\n",
        "    metricas = {'acuracia':[], 'fscore':[]}\n",
        "\n",
        "    for i in range(iteracoes):\n",
        "        X_train, X_test, y_train, y_test = holdout(X, y, True)\n",
        "        X_train_std, X_test_std = escalonamento(X_train, X_test)\n",
        "        \n",
        "        perceptron100 = MLPClassifier(hidden_layer_sizes=(1,10), activation='relu', solver='adam', verbose=False, shuffle=True)\n",
        "        perceptron100.fit(X_train_std, y_train)\n",
        "        y_pred = perceptron100.predict(X_test_std)\n",
        "\n",
        "        metricas['acuracia'].append(accuracy_score(y_test, y_pred))\n",
        "        metricas['fscore'].append(f1_score(y_test, y_pred, average='weighted'))\n",
        "    \n",
        "    return metricas"
      ],
      "execution_count": 34,
      "outputs": []
    },
    {
      "cell_type": "markdown",
      "metadata": {
        "id": "mfrlseaCRi_O"
      },
      "source": [
        " #### 8.1 Cada uma destas repetições deve ser feita com uma nova partição Holdout  \n",
        "   "
      ]
    },
    {
      "cell_type": "code",
      "metadata": {
        "id": "zrOtygH9SNah"
      },
      "source": [
        "treino1 = treinamento(100)"
      ],
      "execution_count": 35,
      "outputs": []
    },
    {
      "cell_type": "markdown",
      "metadata": {
        "id": "Xr1CfVE8Rofl"
      },
      "source": [
        " #### 8.2 Apresente a média e o desvio padrão da acurácia e do F-Score para o conjunto de treino  "
      ]
    },
    {
      "cell_type": "markdown",
      "metadata": {
        "id": "d_u-5G8k6LJU"
      },
      "source": [
        "#### Apresentando a média e o desvio padrão do treinamento com 100 repetições tendo como otimizador 'adam'"
      ]
    },
    {
      "cell_type": "code",
      "metadata": {
        "id": "P7TH7pwCu6-8",
        "outputId": "88366c89-7547-413f-8985-b78dd88ef13a",
        "colab": {
          "base_uri": "https://localhost:8080/",
          "height": 328
        }
      },
      "source": [
        "pd.DataFrame(mean_std(treino1)).plot.bar()\n",
        "plt.show()"
      ],
      "execution_count": 36,
      "outputs": [
        {
          "output_type": "display_data",
          "data": {
            "image/png": "[encoded data removed]",
            "text/plain": [
              "<Figure size 432x288 with 1 Axes>"
            ]
          },
          "metadata": {
            "tags": [],
            "needs_background": "light"
          }
        }
      ]
    },
    {
      "cell_type": "markdown",
      "metadata": {
        "id": "eAK6Ep-_RxND"
      },
      "source": [
        "#### 9. Repita por 100 vezes o treinamento desta mesma rede, mas utilizando o otimizador SGD  "
      ]
    },
    {
      "cell_type": "code",
      "metadata": {
        "id": "UnHCDuBnR1ac"
      },
      "source": [
        "treino2 = treinamento(100, 'sgd')"
      ],
      "execution_count": 37,
      "outputs": []
    },
    {
      "cell_type": "markdown",
      "metadata": {
        "id": "UDzP3_j6R14T"
      },
      "source": [
        "#### 9.1 Apresente a média e o desvio padrão da acurácia e do F-Score para o conjunto de treino  "
      ]
    },
    {
      "cell_type": "markdown",
      "metadata": {
        "id": "QDHpN-sBF4wV"
      },
      "source": [
        "#### Apresentando a média e o desvio padrão"
      ]
    },
    {
      "cell_type": "code",
      "metadata": {
        "id": "eS0x_wS7F5fa",
        "outputId": "b39e9cd9-1486-41ea-80f5-8b319ac5975f",
        "colab": {
          "base_uri": "https://localhost:8080/",
          "height": 328
        }
      },
      "source": [
        "pd.DataFrame(mean_std(treino2)).plot.bar()\n",
        "plt.show()"
      ],
      "execution_count": 38,
      "outputs": [
        {
          "output_type": "display_data",
          "data": {
            "image/png": "[encoded data removed]",
            "text/plain": [
              "<Figure size 432x288 with 1 Axes>"
            ]
          },
          "metadata": {
            "tags": [],
            "needs_background": "light"
          }
        }
      ]
    },
    {
      "cell_type": "markdown",
      "metadata": {
        "id": "l13RZHwLR6me"
      },
      "source": [
        "#### 10. Houve influência da escolha do otimizador no desempenho da rede?"
      ]
    },
    {
      "cell_type": "code",
      "metadata": {
        "id": "E_LBPxp5fIDL",
        "outputId": "1232a578-2cc3-49d0-853a-eda0d2514f58",
        "colab": {
          "base_uri": "https://localhost:8080/",
          "height": 111
        }
      },
      "source": [
        "pd.DataFrame(mean_std(treino1))"
      ],
      "execution_count": 39,
      "outputs": [
        {
          "output_type": "execute_result",
          "data": {
            "text/html": [
              "<div>\n",
              "<style scoped>\n",
              "    .dataframe tbody tr th:only-of-type {\n",
              "        vertical-align: middle;\n",
              "    }\n",
              "\n",
              "    .dataframe tbody tr th {\n",
              "        vertical-align: top;\n",
              "    }\n",
              "\n",
              "    .dataframe thead th {\n",
              "        text-align: right;\n",
              "    }\n",
              "</style>\n",
              "<table border=\"1\" class=\"dataframe\">\n",
              "  <thead>\n",
              "    <tr style=\"text-align: right;\">\n",
              "      <th></th>\n",
              "      <th>acuracia</th>\n",
              "      <th>f-score</th>\n",
              "    </tr>\n",
              "  </thead>\n",
              "  <tbody>\n",
              "    <tr>\n",
              "      <th>media</th>\n",
              "      <td>0.692616</td>\n",
              "      <td>0.668732</td>\n",
              "    </tr>\n",
              "    <tr>\n",
              "      <th>desvio_padrao</th>\n",
              "      <td>0.020494</td>\n",
              "      <td>0.034965</td>\n",
              "    </tr>\n",
              "  </tbody>\n",
              "</table>\n",
              "</div>"
            ],
            "text/plain": [
              "               acuracia   f-score\n",
              "media          0.692616  0.668732\n",
              "desvio_padrao  0.020494  0.034965"
            ]
          },
          "metadata": {
            "tags": []
          },
          "execution_count": 39
        }
      ]
    },
    {
      "cell_type": "code",
      "metadata": {
        "id": "DvNq1AoefPih",
        "outputId": "f32fee89-9387-4f09-cbf8-a6e08cfe756a",
        "colab": {
          "base_uri": "https://localhost:8080/",
          "height": 111
        }
      },
      "source": [
        "pd.DataFrame(mean_std(treino2))"
      ],
      "execution_count": 40,
      "outputs": [
        {
          "output_type": "execute_result",
          "data": {
            "text/html": [
              "<div>\n",
              "<style scoped>\n",
              "    .dataframe tbody tr th:only-of-type {\n",
              "        vertical-align: middle;\n",
              "    }\n",
              "\n",
              "    .dataframe tbody tr th {\n",
              "        vertical-align: top;\n",
              "    }\n",
              "\n",
              "    .dataframe thead th {\n",
              "        text-align: right;\n",
              "    }\n",
              "</style>\n",
              "<table border=\"1\" class=\"dataframe\">\n",
              "  <thead>\n",
              "    <tr style=\"text-align: right;\">\n",
              "      <th></th>\n",
              "      <th>acuracia</th>\n",
              "      <th>f-score</th>\n",
              "    </tr>\n",
              "  </thead>\n",
              "  <tbody>\n",
              "    <tr>\n",
              "      <th>media</th>\n",
              "      <td>0.694936</td>\n",
              "      <td>0.672524</td>\n",
              "    </tr>\n",
              "    <tr>\n",
              "      <th>desvio_padrao</th>\n",
              "      <td>0.001056</td>\n",
              "      <td>0.001293</td>\n",
              "    </tr>\n",
              "  </tbody>\n",
              "</table>\n",
              "</div>"
            ],
            "text/plain": [
              "               acuracia   f-score\n",
              "media          0.694936  0.672524\n",
              "desvio_padrao  0.001056  0.001293"
            ]
          },
          "metadata": {
            "tags": []
          },
          "execution_count": 40
        }
      ]
    },
    {
      "cell_type": "markdown",
      "metadata": {
        "id": "qu9RrQsE5Wn4"
      },
      "source": [
        "Realizou-se dois treinamentos do neurônio Perceptron, o primeiro treinamento com o otimizador 'adam' e o segundo treinamento com otimizador 'sgd'. Tendo em vista uma comparação do desempenho da rede utilizando diferentes hiperparâmetros. Calculou-se a média e o desvio padrão da acurácia e F-Score dos treinamentos. Os resultados obtidos demonstram uma pequena vantagem do otimizador 'sgd' em comparação ao otimizador 'adam'. Em relação a média das métricas de acurácia e f-score, o segundo treinamento apresenta as maiores médias. Quanto ao desvio padrão da acurácia e f-score de ambos os treinamentos, o segundo treinamento apresenta um desvio padrão inferior se comparado ao primeiro treinamento."
      ]
    },
    {
      "cell_type": "markdown",
      "metadata": {
        "id": "YJCwgs5xv2uU"
      },
      "source": [
        "## Discussão\n",
        "\n",
        "Nos passos anteriores, você avaliou o desempenho de uma única rede neural que contém os seguintes parâmetros: uma única camada oculta com 10 neurônios e função de ativação ReLU. O otimizador utilizado, quer seja SGD ou ADAM, trata-se do algoritmo para aproximar o gradiente do erro. Neste sentido, a escolha do otimizador é um hiperparâmetro, pois diz respeito a como a rede neural definida previamente atuará \"em tempo de execução\"  durante o processo de treinamento. Também são hiperparâmetros a quantidade de épocas, a taxa de aprendizado inicial, dentre outros.\n",
        "\n",
        "Cabe alientar também que você efetuou o treinamento desta rede por 100 vezes e apresentou os resultados em termos de média +- desvio padrão. Lembre-se que em uma rede neural há a inicialização aleatória de pesos e, em consequência, o desempenho delas está sujeito à uma flutuação estocástica. A execução destas múltiplas vezes faz com que eliminemos algum viés introduzido por uma boa ou má \"sorte\" na escolha de pesos no caso de uma única execução.\n",
        "\n",
        "Você também aprendeu uma estratégia para escalonar os atributos para uma melhor convergência da rede. Utilize-a em todos os treinamentos e testes propostos a seguir.\n",
        "\n",
        "## Propondo Novas Arquiteturas\n",
        "\n",
        "Variando  os parâmetros (uma ou duas camadas ocultas, com diferente números de neurônios em cada uma delas e a função de ativação) e o hiperparâmetros solver (Adam ou SGD) e o número de épocas (100,150 e 200), atenda ao que se pede:\n",
        "\n",
        "1. Proponha 10 arquiteturas distintas de RNAs para o problema em questão, à sua escolha\n",
        "2. Avalie cada uma das arquiteturas perante todos os hiperparâmetros apresentados por 100 vezes\n",
        "3. Como resultado da avaliação, apresente:  \n",
        "    3.1 Top-3 melhores redes no tocante à F-Score e Acurácia  \n",
        "    3.2 Repetição em que houve o melhor desempenho de cada uma dessas redes: ilustre tp, tf, fp e fn  "
      ]
    },
    {
      "cell_type": "code",
      "metadata": {
        "id": "Sz-0tPV7QdKz"
      },
      "source": [
        ""
      ],
      "execution_count": 40,
      "outputs": []
    },
    {
      "cell_type": "markdown",
      "metadata": {
        "id": "iI5tGPF-QdK4"
      },
      "source": [
        "## Estimando o número de neurônios\n",
        "\n",
        "Um dos problemas de pesquisa com redes neurais artificiais consiste na determinação do número de neurônios em sua arquitetura. Embora não seja possível definir a priori qual rede neural é adequada para um problema, pois isto só é possível mediante uma busca exaustiva, há regras na literatura que sugerem o número de neurônios escondidos, tal como a regra da Pirâmide Geométrica, dada a seguir:\n",
        "\n",
        "$$N_h = \\alpha \\cdot \\sqrt{N_i \\cdot N_o},$$\n",
        "\n",
        "em que $N_h$ é o número de neurônios ocultos (a serem distribuídos em uma ou duas camadas ocultas), $N_i$ é o número de neurônios na camada de entrada e $N_o$ é o número de neurônios na camada de saída. \n",
        "\n",
        "1. Consulte a documentação da classe MLPClassifier (disponível em https://scikit-learn.org/stable/modules/generated/sklearn.neural_network.MLPClassifier.html) e obtenha os valores de $N_i$ e $N_h$.\n",
        "2. Teste os valores de $\\alpha$ como sendo iguais a $0.5$, $2$ e $3$.\n",
        "3. Proponha pelo menos 30 redes neurais segundo a regra da pirâmide geométrica e teste-as nos mesmos termos estabelecidos anterioremente  (solver, épocas, etc.)  \n",
        "    3.1 Apresente as top-3 melhores redes no tocante à F-Score e Acurácia  "
      ]
    },
    {
      "cell_type": "code",
      "metadata": {
        "id": "W9yuPiK7QdK5"
      },
      "source": [
        ""
      ],
      "execution_count": 40,
      "outputs": []
    },
    {
      "cell_type": "markdown",
      "metadata": {
        "id": "0dxHUeicQdK_"
      },
      "source": [
        "## Testando as Redes Neurais com Atributos Categóricos\n",
        "\n",
        "1. Considere as 6 redes neurais obtidas nos dois top-3 anteriores (arquiteturas próprias e regra da pirâmide geométrica)\n",
        "2. Com todos os atributos preditores da base de dados original, incluindo os categóricos, treine e teste estas mesmas redes por 100 repetições  \n",
        "    2.1 Considere o melhor otimizador para cada uma delas  \n",
        "    2.2 Faça uso de 200 épocas para treinamento  \n",
        "    2.2 Apresente os resultados de acurácia e F-Score em termos da média +- dp para cada arquitetura\n",
        "3. Apresente o gráfico boxplot para o F-Score das 6 arquiteturas perante as 100 repetições"
      ]
    },
    {
      "cell_type": "code",
      "metadata": {
        "id": "e1d0C1dNQdLA"
      },
      "source": [
        ""
      ],
      "execution_count": 40,
      "outputs": []
    },
    {
      "cell_type": "markdown",
      "metadata": {
        "id": "I19jW7oXQdLE"
      },
      "source": [
        "## Considerações Parciais\n",
        "\n",
        "1. É possível identificar uma rede com desempenho superior às demais?\n",
        "2. Qual estratégia mostrou-se mais producente para a obtenção de boas arquiteturas (Estratégia Própria ou Pirâmide Geométrica)? Por quê?\n",
        "3. Considerar os atributos categóricos trouxe melhorias? Justifique.\n",
        "4. Um número maior de épocas trouxe melhorias?\n",
        "5. Qual a maior dificuldade de resolução do problema proposto perante as RNAs?"
      ]
    },
    {
      "cell_type": "code",
      "metadata": {
        "id": "MbdkPdNNQdLF"
      },
      "source": [
        ""
      ],
      "execution_count": 40,
      "outputs": []
    }
  ]
}