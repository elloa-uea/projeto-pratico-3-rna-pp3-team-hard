{
 "cells": [
  {
   "cell_type": "markdown",
   "metadata": {
    "id": "kf7QhvnKuUn3"
   },
   "source": [
    "## Redes Neurais Artificiais 2020.1\n",
    "\n",
    "**Disciplina**: Redes Neurais Artificiais 2020.1  \n",
    "**Professora**: Elloá B. Guedes (ebgcosta@uea.edu.br)<br/>\n",
    "**Github**: http://github.com/elloa  \n",
    "**Dupla**:\n",
    "  - Dayvson dos Santos Silva<br/>\n",
    "    **Email**: ddss.snf19@uea.edu.br<br/>\n",
    "    **GitHub**: https://github.com/userddssilva<br/>\n",
    "  - Hiago Oliveira de Jesus<br/>\n",
    "    **Email**: hodj.lic@uea.edu.br<br/>\n",
    "    **GitHub**: https://github.com/HiagoOliver<br/>        \n",
    "\n",
    "Levando em conta a base de dados **_Forest Cover Type_**, esta terceira parte do Projeto Prático 3 diz respeito à proposição e avaliação de múltiplas redes neurais artificiais do tipo feedforward multilayer perceptron para o problema da classificação multi-classe da cobertura florestal em uma área do Roosevelt National Forest.\n",
    "\n",
    "## Testando Redes Neurais sem os Atributos Categórios\n",
    "\n",
    "1. Abra a base de dados em questão\n",
    "2. Elimine todas as colunas relativas aos atributos categóricos\n",
    "3. Armazene o atributo alvo em uma variável y e os atributos preditores em uma variável X\n",
    "4. Efetue uma partição holdout 70/30 com o sklearn, distribuindo os exemplos de maneira aleatória\n",
    "5. Efetue o escalonamento dos atributos\n",
    "\n",
    "\n",
    "### Escalonando os atributos\n",
    "\n",
    "O treinamento de uma rede neural artificial é mais eficiente quando os valores que lhes são fornecidos como entrada são pequenos, pois isto favorece a convergência. Isto é feito escalonando-se todos os atributos para o intervalo [0,1], mas precisa ser feito de maneira cautelosa, para que informações do conjunto de teste não sejam fornecidas no treinamento.\n",
    "\n",
    "Há duas estratégias para tal escalonamento: normalização e padronização. Ambas possuem características particulares, vantagens e limitações, como é possível ver aqui: https://www.analyticsvidhya.com/blog/2020/04/feature-scaling-machine-learning-normalization-standardization/\n",
    "\n",
    "\n",
    "No nosso caso, vamos usar a padronização. Assim, com os atributos preditores do treinamento, isto é, X_train, deve-se subtrair a média e dividir pelo desvio padrão:\n",
    "\n",
    "X_train_std = (X_train - np.mean(X_train))/np.std(X_train)\n",
    "\n",
    "Em seguida, o mesmo deve ser feito com os atributos preditores do conjunto de testes, mas com padronização relativa ao conjunto de treinamento:\n",
    "\n",
    "X_test_std = (X_test - np.mean(X_train))/np.std(X_train)\n",
    "\n",
    "Se todo o conjunto X for utilizado na padronização, a rede neural receberá informações do conjunto de teste por meio da média e variância utilizada para preparar os dados de treinamento, o que não é desejável.\n",
    "\n",
    "### Continuando\n",
    "\n",
    "6. Treine uma rede neural multilayer perceptron para este problema com uma única camada e dez neurônios  \n",
    "    6.1 Utilize a função de ativação ReLU  \n",
    "    6.2 Utilize o solver Adam    \n",
    "    6.3 Imprima o passo a passo do treinamento    \n",
    "    6.4 Utilize o número máximo de épocas igual a 300  \n",
    "7. Com o modelo em questão, após o treinamento, apresente:  \n",
    "    7.1 Matriz de confusão para o conjunto de teste  \n",
    "    7.2 Acurácia  \n",
    "    7.3 F-Score  \n",
    "    7.4 Precisão  \n",
    "    7.5 Revocação  \n",
    "8. Repita o treinamento da mesma rede anterior sem imprimir o passo a passo (verbose False) por 100 vezes  \n",
    "    8.1 Cada uma destas repetições deve ser feita com uma nova partição Holdout  \n",
    "    8.2 Apresente a média e o desvio padrão da acurácia e do F-Score para o conjunto de treino  \n",
    "9. Repita por 100 vezes o treinamento desta mesma rede, mas utilizando o otimizador SGD  \n",
    "    9.1 Apresente a média e o desvio padrão da acurácia e do F-Score para o conjunto de treino  \n",
    "10. Houve influência da escolha do otimizador no desempenho da rede?"
   ]
  },
  {
   "cell_type": "markdown",
   "metadata": {
    "id": "QlF89XnWTHhX"
   },
   "source": [
    "### Importando as bibliotecas"
   ]
  },
  {
   "cell_type": "code",
   "execution_count": 1,
   "metadata": {
    "id": "OAmdZw2YTM2U"
   },
   "outputs": [],
   "source": [
    "import re\n",
    "import warnings\n",
    "import random\n",
    "\n",
    "import numpy as np\n",
    "import pandas as pd\n",
    "import seaborn as sns\n",
    "import matplotlib.pyplot as plt\n",
    "\n",
    "from joblib import dump\n",
    "\n",
    "from math import sqrt\n",
    "\n",
    "from prettytable import PrettyTable\n",
    "\n",
    "from sklearn.model_selection import train_test_split\n",
    "\n",
    "from sklearn.neural_network import MLPClassifier\n",
    "\n",
    "from sklearn.metrics import confusion_matrix, plot_confusion_matrix\n",
    "from sklearn.metrics import accuracy_score, f1_score, precision_score, recall_score\n",
    "from sklearn.metrics import classification_report\n",
    "\n",
    "warnings.filterwarnings('ignore')"
   ]
  },
  {
   "cell_type": "markdown",
   "metadata": {
    "id": "RpbNXc0_ShLm"
   },
   "source": [
    "## Testando Redes Neurais sem os Atributos Categórios"
   ]
  },
  {
   "cell_type": "markdown",
   "metadata": {
    "id": "IZRD17_2SnX2"
   },
   "source": [
    "\n",
    "### 1. Abra a base de dados em questão\n",
    "\n",
    "\n"
   ]
  },
  {
   "cell_type": "markdown",
   "metadata": {
    "id": "4fapyR4fiHKQ"
   },
   "source": [
    "- Leitura da base de dados"
   ]
  },
  {
   "cell_type": "code",
   "execution_count": 2,
   "metadata": {
    "colab": {
     "base_uri": "https://localhost:8080/",
     "height": 439
    },
    "id": "f2GW4MymS_mX",
    "outputId": "c432fa0a-5b21-45b9-c1e1-dec844b1147c"
   },
   "outputs": [
    {
     "data": {
      "text/html": [
       "<div>\n",
       "<style scoped>\n",
       "    .dataframe tbody tr th:only-of-type {\n",
       "        vertical-align: middle;\n",
       "    }\n",
       "\n",
       "    .dataframe tbody tr th {\n",
       "        vertical-align: top;\n",
       "    }\n",
       "\n",
       "    .dataframe thead th {\n",
       "        text-align: right;\n",
       "    }\n",
       "</style>\n",
       "<table border=\"1\" class=\"dataframe\">\n",
       "  <thead>\n",
       "    <tr style=\"text-align: right;\">\n",
       "      <th></th>\n",
       "      <th>Elevation</th>\n",
       "      <th>Aspect</th>\n",
       "      <th>Slope</th>\n",
       "      <th>Horizontal_Distance_To_Hydrology</th>\n",
       "      <th>Vertical_Distance_To_Hydrology</th>\n",
       "      <th>Horizontal_Distance_To_Roadways</th>\n",
       "      <th>Hillshade_9am</th>\n",
       "      <th>Hillshade_Noon</th>\n",
       "      <th>Hillshade_3pm</th>\n",
       "      <th>Horizontal_Distance_To_Fire_Points</th>\n",
       "      <th>...</th>\n",
       "      <th>Soil_Type32</th>\n",
       "      <th>Soil_Type33</th>\n",
       "      <th>Soil_Type34</th>\n",
       "      <th>Soil_Type35</th>\n",
       "      <th>Soil_Type36</th>\n",
       "      <th>Soil_Type37</th>\n",
       "      <th>Soil_Type38</th>\n",
       "      <th>Soil_Type39</th>\n",
       "      <th>Soil_Type40</th>\n",
       "      <th>Cover_Type</th>\n",
       "    </tr>\n",
       "  </thead>\n",
       "  <tbody>\n",
       "    <tr>\n",
       "      <th>0</th>\n",
       "      <td>2596</td>\n",
       "      <td>51</td>\n",
       "      <td>3</td>\n",
       "      <td>258</td>\n",
       "      <td>0</td>\n",
       "      <td>510</td>\n",
       "      <td>221</td>\n",
       "      <td>232</td>\n",
       "      <td>148</td>\n",
       "      <td>6279</td>\n",
       "      <td>...</td>\n",
       "      <td>0</td>\n",
       "      <td>0</td>\n",
       "      <td>0</td>\n",
       "      <td>0</td>\n",
       "      <td>0</td>\n",
       "      <td>0</td>\n",
       "      <td>0</td>\n",
       "      <td>0</td>\n",
       "      <td>0</td>\n",
       "      <td>5</td>\n",
       "    </tr>\n",
       "    <tr>\n",
       "      <th>1</th>\n",
       "      <td>2590</td>\n",
       "      <td>56</td>\n",
       "      <td>2</td>\n",
       "      <td>212</td>\n",
       "      <td>-6</td>\n",
       "      <td>390</td>\n",
       "      <td>220</td>\n",
       "      <td>235</td>\n",
       "      <td>151</td>\n",
       "      <td>6225</td>\n",
       "      <td>...</td>\n",
       "      <td>0</td>\n",
       "      <td>0</td>\n",
       "      <td>0</td>\n",
       "      <td>0</td>\n",
       "      <td>0</td>\n",
       "      <td>0</td>\n",
       "      <td>0</td>\n",
       "      <td>0</td>\n",
       "      <td>0</td>\n",
       "      <td>5</td>\n",
       "    </tr>\n",
       "    <tr>\n",
       "      <th>2</th>\n",
       "      <td>2804</td>\n",
       "      <td>139</td>\n",
       "      <td>9</td>\n",
       "      <td>268</td>\n",
       "      <td>65</td>\n",
       "      <td>3180</td>\n",
       "      <td>234</td>\n",
       "      <td>238</td>\n",
       "      <td>135</td>\n",
       "      <td>6121</td>\n",
       "      <td>...</td>\n",
       "      <td>0</td>\n",
       "      <td>0</td>\n",
       "      <td>0</td>\n",
       "      <td>0</td>\n",
       "      <td>0</td>\n",
       "      <td>0</td>\n",
       "      <td>0</td>\n",
       "      <td>0</td>\n",
       "      <td>0</td>\n",
       "      <td>2</td>\n",
       "    </tr>\n",
       "    <tr>\n",
       "      <th>3</th>\n",
       "      <td>2785</td>\n",
       "      <td>155</td>\n",
       "      <td>18</td>\n",
       "      <td>242</td>\n",
       "      <td>118</td>\n",
       "      <td>3090</td>\n",
       "      <td>238</td>\n",
       "      <td>238</td>\n",
       "      <td>122</td>\n",
       "      <td>6211</td>\n",
       "      <td>...</td>\n",
       "      <td>0</td>\n",
       "      <td>0</td>\n",
       "      <td>0</td>\n",
       "      <td>0</td>\n",
       "      <td>0</td>\n",
       "      <td>0</td>\n",
       "      <td>0</td>\n",
       "      <td>0</td>\n",
       "      <td>0</td>\n",
       "      <td>2</td>\n",
       "    </tr>\n",
       "    <tr>\n",
       "      <th>4</th>\n",
       "      <td>2595</td>\n",
       "      <td>45</td>\n",
       "      <td>2</td>\n",
       "      <td>153</td>\n",
       "      <td>-1</td>\n",
       "      <td>391</td>\n",
       "      <td>220</td>\n",
       "      <td>234</td>\n",
       "      <td>150</td>\n",
       "      <td>6172</td>\n",
       "      <td>...</td>\n",
       "      <td>0</td>\n",
       "      <td>0</td>\n",
       "      <td>0</td>\n",
       "      <td>0</td>\n",
       "      <td>0</td>\n",
       "      <td>0</td>\n",
       "      <td>0</td>\n",
       "      <td>0</td>\n",
       "      <td>0</td>\n",
       "      <td>5</td>\n",
       "    </tr>\n",
       "    <tr>\n",
       "      <th>...</th>\n",
       "      <td>...</td>\n",
       "      <td>...</td>\n",
       "      <td>...</td>\n",
       "      <td>...</td>\n",
       "      <td>...</td>\n",
       "      <td>...</td>\n",
       "      <td>...</td>\n",
       "      <td>...</td>\n",
       "      <td>...</td>\n",
       "      <td>...</td>\n",
       "      <td>...</td>\n",
       "      <td>...</td>\n",
       "      <td>...</td>\n",
       "      <td>...</td>\n",
       "      <td>...</td>\n",
       "      <td>...</td>\n",
       "      <td>...</td>\n",
       "      <td>...</td>\n",
       "      <td>...</td>\n",
       "      <td>...</td>\n",
       "      <td>...</td>\n",
       "    </tr>\n",
       "    <tr>\n",
       "      <th>581007</th>\n",
       "      <td>2396</td>\n",
       "      <td>153</td>\n",
       "      <td>20</td>\n",
       "      <td>85</td>\n",
       "      <td>17</td>\n",
       "      <td>108</td>\n",
       "      <td>240</td>\n",
       "      <td>237</td>\n",
       "      <td>118</td>\n",
       "      <td>837</td>\n",
       "      <td>...</td>\n",
       "      <td>0</td>\n",
       "      <td>0</td>\n",
       "      <td>0</td>\n",
       "      <td>0</td>\n",
       "      <td>0</td>\n",
       "      <td>0</td>\n",
       "      <td>0</td>\n",
       "      <td>0</td>\n",
       "      <td>0</td>\n",
       "      <td>3</td>\n",
       "    </tr>\n",
       "    <tr>\n",
       "      <th>581008</th>\n",
       "      <td>2391</td>\n",
       "      <td>152</td>\n",
       "      <td>19</td>\n",
       "      <td>67</td>\n",
       "      <td>12</td>\n",
       "      <td>95</td>\n",
       "      <td>240</td>\n",
       "      <td>237</td>\n",
       "      <td>119</td>\n",
       "      <td>845</td>\n",
       "      <td>...</td>\n",
       "      <td>0</td>\n",
       "      <td>0</td>\n",
       "      <td>0</td>\n",
       "      <td>0</td>\n",
       "      <td>0</td>\n",
       "      <td>0</td>\n",
       "      <td>0</td>\n",
       "      <td>0</td>\n",
       "      <td>0</td>\n",
       "      <td>3</td>\n",
       "    </tr>\n",
       "    <tr>\n",
       "      <th>581009</th>\n",
       "      <td>2386</td>\n",
       "      <td>159</td>\n",
       "      <td>17</td>\n",
       "      <td>60</td>\n",
       "      <td>7</td>\n",
       "      <td>90</td>\n",
       "      <td>236</td>\n",
       "      <td>241</td>\n",
       "      <td>130</td>\n",
       "      <td>854</td>\n",
       "      <td>...</td>\n",
       "      <td>0</td>\n",
       "      <td>0</td>\n",
       "      <td>0</td>\n",
       "      <td>0</td>\n",
       "      <td>0</td>\n",
       "      <td>0</td>\n",
       "      <td>0</td>\n",
       "      <td>0</td>\n",
       "      <td>0</td>\n",
       "      <td>3</td>\n",
       "    </tr>\n",
       "    <tr>\n",
       "      <th>581010</th>\n",
       "      <td>2384</td>\n",
       "      <td>170</td>\n",
       "      <td>15</td>\n",
       "      <td>60</td>\n",
       "      <td>5</td>\n",
       "      <td>90</td>\n",
       "      <td>230</td>\n",
       "      <td>245</td>\n",
       "      <td>143</td>\n",
       "      <td>864</td>\n",
       "      <td>...</td>\n",
       "      <td>0</td>\n",
       "      <td>0</td>\n",
       "      <td>0</td>\n",
       "      <td>0</td>\n",
       "      <td>0</td>\n",
       "      <td>0</td>\n",
       "      <td>0</td>\n",
       "      <td>0</td>\n",
       "      <td>0</td>\n",
       "      <td>3</td>\n",
       "    </tr>\n",
       "    <tr>\n",
       "      <th>581011</th>\n",
       "      <td>2383</td>\n",
       "      <td>165</td>\n",
       "      <td>13</td>\n",
       "      <td>60</td>\n",
       "      <td>4</td>\n",
       "      <td>67</td>\n",
       "      <td>231</td>\n",
       "      <td>244</td>\n",
       "      <td>141</td>\n",
       "      <td>875</td>\n",
       "      <td>...</td>\n",
       "      <td>0</td>\n",
       "      <td>0</td>\n",
       "      <td>0</td>\n",
       "      <td>0</td>\n",
       "      <td>0</td>\n",
       "      <td>0</td>\n",
       "      <td>0</td>\n",
       "      <td>0</td>\n",
       "      <td>0</td>\n",
       "      <td>3</td>\n",
       "    </tr>\n",
       "  </tbody>\n",
       "</table>\n",
       "<p>581012 rows × 55 columns</p>\n",
       "</div>"
      ],
      "text/plain": [
       "        Elevation  Aspect  Slope  Horizontal_Distance_To_Hydrology  \\\n",
       "0            2596      51      3                               258   \n",
       "1            2590      56      2                               212   \n",
       "2            2804     139      9                               268   \n",
       "3            2785     155     18                               242   \n",
       "4            2595      45      2                               153   \n",
       "...           ...     ...    ...                               ...   \n",
       "581007       2396     153     20                                85   \n",
       "581008       2391     152     19                                67   \n",
       "581009       2386     159     17                                60   \n",
       "581010       2384     170     15                                60   \n",
       "581011       2383     165     13                                60   \n",
       "\n",
       "        Vertical_Distance_To_Hydrology  Horizontal_Distance_To_Roadways  \\\n",
       "0                                    0                              510   \n",
       "1                                   -6                              390   \n",
       "2                                   65                             3180   \n",
       "3                                  118                             3090   \n",
       "4                                   -1                              391   \n",
       "...                                ...                              ...   \n",
       "581007                              17                              108   \n",
       "581008                              12                               95   \n",
       "581009                               7                               90   \n",
       "581010                               5                               90   \n",
       "581011                               4                               67   \n",
       "\n",
       "        Hillshade_9am  Hillshade_Noon  Hillshade_3pm  \\\n",
       "0                 221             232            148   \n",
       "1                 220             235            151   \n",
       "2                 234             238            135   \n",
       "3                 238             238            122   \n",
       "4                 220             234            150   \n",
       "...               ...             ...            ...   \n",
       "581007            240             237            118   \n",
       "581008            240             237            119   \n",
       "581009            236             241            130   \n",
       "581010            230             245            143   \n",
       "581011            231             244            141   \n",
       "\n",
       "        Horizontal_Distance_To_Fire_Points  ...  Soil_Type32  Soil_Type33  \\\n",
       "0                                     6279  ...            0            0   \n",
       "1                                     6225  ...            0            0   \n",
       "2                                     6121  ...            0            0   \n",
       "3                                     6211  ...            0            0   \n",
       "4                                     6172  ...            0            0   \n",
       "...                                    ...  ...          ...          ...   \n",
       "581007                                 837  ...            0            0   \n",
       "581008                                 845  ...            0            0   \n",
       "581009                                 854  ...            0            0   \n",
       "581010                                 864  ...            0            0   \n",
       "581011                                 875  ...            0            0   \n",
       "\n",
       "        Soil_Type34  Soil_Type35  Soil_Type36  Soil_Type37  Soil_Type38  \\\n",
       "0                 0            0            0            0            0   \n",
       "1                 0            0            0            0            0   \n",
       "2                 0            0            0            0            0   \n",
       "3                 0            0            0            0            0   \n",
       "4                 0            0            0            0            0   \n",
       "...             ...          ...          ...          ...          ...   \n",
       "581007            0            0            0            0            0   \n",
       "581008            0            0            0            0            0   \n",
       "581009            0            0            0            0            0   \n",
       "581010            0            0            0            0            0   \n",
       "581011            0            0            0            0            0   \n",
       "\n",
       "        Soil_Type39  Soil_Type40  Cover_Type  \n",
       "0                 0            0           5  \n",
       "1                 0            0           5  \n",
       "2                 0            0           2  \n",
       "3                 0            0           2  \n",
       "4                 0            0           5  \n",
       "...             ...          ...         ...  \n",
       "581007            0            0           3  \n",
       "581008            0            0           3  \n",
       "581009            0            0           3  \n",
       "581010            0            0           3  \n",
       "581011            0            0           3  \n",
       "\n",
       "[581012 rows x 55 columns]"
      ]
     },
     "execution_count": 2,
     "metadata": {},
     "output_type": "execute_result"
    }
   ],
   "source": [
    "database = pd.read_csv('../database/covtype.csv')\n",
    "#database = pd.read_csv('database/covtype.csv')\n",
    "database"
   ]
  },
  {
   "cell_type": "markdown",
   "metadata": {
    "id": "Ch3MCg8jSuXW"
   },
   "source": [
    "### 2. Elimine todas as colunas relativas aos atributos categóricos\n"
   ]
  },
  {
   "cell_type": "markdown",
   "metadata": {
    "id": "HRAHIyP9ewvT"
   },
   "source": [
    "- Colunas da base de dados anterior a eliminação dos atributos categóricos"
   ]
  },
  {
   "cell_type": "code",
   "execution_count": 4,
   "metadata": {
    "colab": {
     "base_uri": "https://localhost:8080/"
    },
    "id": "8yc4e9Ydes9v",
    "outputId": "2b4c74f8-88c6-4c11-861c-0eb3e958f5e0"
   },
   "outputs": [
    {
     "data": {
      "text/plain": [
       "['Elevation',\n",
       " 'Aspect',\n",
       " 'Slope',\n",
       " 'Horizontal_Distance_To_Hydrology',\n",
       " 'Vertical_Distance_To_Hydrology',\n",
       " 'Horizontal_Distance_To_Roadways',\n",
       " 'Hillshade_9am',\n",
       " 'Hillshade_Noon',\n",
       " 'Hillshade_3pm',\n",
       " 'Horizontal_Distance_To_Fire_Points',\n",
       " 'Wilderness_Area1',\n",
       " 'Wilderness_Area2',\n",
       " 'Wilderness_Area3',\n",
       " 'Wilderness_Area4',\n",
       " 'Soil_Type1',\n",
       " 'Soil_Type2',\n",
       " 'Soil_Type3',\n",
       " 'Soil_Type4',\n",
       " 'Soil_Type5',\n",
       " 'Soil_Type6',\n",
       " 'Soil_Type7',\n",
       " 'Soil_Type8',\n",
       " 'Soil_Type9',\n",
       " 'Soil_Type10',\n",
       " 'Soil_Type11',\n",
       " 'Soil_Type12',\n",
       " 'Soil_Type13',\n",
       " 'Soil_Type14',\n",
       " 'Soil_Type15',\n",
       " 'Soil_Type16',\n",
       " 'Soil_Type17',\n",
       " 'Soil_Type18',\n",
       " 'Soil_Type19',\n",
       " 'Soil_Type20',\n",
       " 'Soil_Type21',\n",
       " 'Soil_Type22',\n",
       " 'Soil_Type23',\n",
       " 'Soil_Type24',\n",
       " 'Soil_Type25',\n",
       " 'Soil_Type26',\n",
       " 'Soil_Type27',\n",
       " 'Soil_Type28',\n",
       " 'Soil_Type29',\n",
       " 'Soil_Type30',\n",
       " 'Soil_Type31',\n",
       " 'Soil_Type32',\n",
       " 'Soil_Type33',\n",
       " 'Soil_Type34',\n",
       " 'Soil_Type35',\n",
       " 'Soil_Type36',\n",
       " 'Soil_Type37',\n",
       " 'Soil_Type38',\n",
       " 'Soil_Type39',\n",
       " 'Soil_Type40',\n",
       " 'Cover_Type']"
      ]
     },
     "execution_count": 4,
     "metadata": {
      "tags": []
     },
     "output_type": "execute_result"
    }
   ],
   "source": [
    "database.columns.to_list()"
   ]
  },
  {
   "cell_type": "markdown",
   "metadata": {
    "id": "qNCNFNV1YLSn"
   },
   "source": [
    "- Os nomes das colunas que representam valores categóricos possuem como substring \"Wilderness_Area\" ou \"Soil_Type\". As expressões regulares foram utilizadas para seleção das colunas a serem eliminadas.  \n"
   ]
  },
  {
   "cell_type": "code",
   "execution_count": 3,
   "metadata": {
    "id": "WRAo459PZ4qu"
   },
   "outputs": [],
   "source": [
    "columns_to_drop = []\n",
    "for column in list(database.columns):\n",
    "    column_search = re.search('Soil_Type|Wilderness_Area', column)\n",
    "    if column_search:\n",
    "        columns_to_drop.append(column)\n",
    "database.drop(columns=columns_to_drop, axis=1, inplace=True)   "
   ]
  },
  {
   "cell_type": "markdown",
   "metadata": {
    "id": "3rI-gKuJf1FI"
   },
   "source": [
    "- Colunas da base de dados posterior a eliminação dos atributos categóricos"
   ]
  },
  {
   "cell_type": "code",
   "execution_count": 4,
   "metadata": {
    "colab": {
     "base_uri": "https://localhost:8080/"
    },
    "id": "1WjUI9y9fJLQ",
    "outputId": "6a615f09-9574-436c-8818-ccf0157309a5"
   },
   "outputs": [
    {
     "data": {
      "text/plain": [
       "['Elevation',\n",
       " 'Aspect',\n",
       " 'Slope',\n",
       " 'Horizontal_Distance_To_Hydrology',\n",
       " 'Vertical_Distance_To_Hydrology',\n",
       " 'Horizontal_Distance_To_Roadways',\n",
       " 'Hillshade_9am',\n",
       " 'Hillshade_Noon',\n",
       " 'Hillshade_3pm',\n",
       " 'Horizontal_Distance_To_Fire_Points',\n",
       " 'Cover_Type']"
      ]
     },
     "execution_count": 4,
     "metadata": {},
     "output_type": "execute_result"
    }
   ],
   "source": [
    "database.columns.to_list()"
   ]
  },
  {
   "cell_type": "markdown",
   "metadata": {
    "id": "EkM1Q_EqSxmO"
   },
   "source": [
    "### 3. Armazene o atributo alvo em uma variável y e os atributos preditores em uma variável X\n"
   ]
  },
  {
   "cell_type": "markdown",
   "metadata": {
    "id": "gMn819iYhjjZ"
   },
   "source": [
    "- Alocando o atributo alvo na variável y"
   ]
  },
  {
   "cell_type": "code",
   "execution_count": 6,
   "metadata": {
    "colab": {
     "base_uri": "https://localhost:8080/"
    },
    "id": "jj7LK-Fv1LSK",
    "outputId": "94f5abe3-e36b-4209-93a9-6ff72e74c505"
   },
   "outputs": [
    {
     "data": {
      "text/plain": [
       "0         5\n",
       "1         5\n",
       "2         2\n",
       "3         2\n",
       "4         5\n",
       "         ..\n",
       "581007    3\n",
       "581008    3\n",
       "581009    3\n",
       "581010    3\n",
       "581011    3\n",
       "Name: Cover_Type, Length: 581012, dtype: int64"
      ]
     },
     "execution_count": 6,
     "metadata": {},
     "output_type": "execute_result"
    }
   ],
   "source": [
    "y = database.Cover_Type\n",
    "y"
   ]
  },
  {
   "cell_type": "markdown",
   "metadata": {
    "id": "lbAWM1IHhrRh"
   },
   "source": [
    "- Alocando os atributos preditores na variável X"
   ]
  },
  {
   "cell_type": "code",
   "execution_count": 7,
   "metadata": {
    "colab": {
     "base_uri": "https://localhost:8080/",
     "height": 439
    },
    "id": "_yzLpQKZ1ksr",
    "outputId": "b6ab513a-e36a-4098-8be7-c070c7c5b32d"
   },
   "outputs": [
    {
     "data": {
      "text/html": [
       "<div>\n",
       "<style scoped>\n",
       "    .dataframe tbody tr th:only-of-type {\n",
       "        vertical-align: middle;\n",
       "    }\n",
       "\n",
       "    .dataframe tbody tr th {\n",
       "        vertical-align: top;\n",
       "    }\n",
       "\n",
       "    .dataframe thead th {\n",
       "        text-align: right;\n",
       "    }\n",
       "</style>\n",
       "<table border=\"1\" class=\"dataframe\">\n",
       "  <thead>\n",
       "    <tr style=\"text-align: right;\">\n",
       "      <th></th>\n",
       "      <th>Elevation</th>\n",
       "      <th>Aspect</th>\n",
       "      <th>Slope</th>\n",
       "      <th>Horizontal_Distance_To_Hydrology</th>\n",
       "      <th>Vertical_Distance_To_Hydrology</th>\n",
       "      <th>Horizontal_Distance_To_Roadways</th>\n",
       "      <th>Hillshade_9am</th>\n",
       "      <th>Hillshade_Noon</th>\n",
       "      <th>Hillshade_3pm</th>\n",
       "      <th>Horizontal_Distance_To_Fire_Points</th>\n",
       "    </tr>\n",
       "  </thead>\n",
       "  <tbody>\n",
       "    <tr>\n",
       "      <th>0</th>\n",
       "      <td>2596</td>\n",
       "      <td>51</td>\n",
       "      <td>3</td>\n",
       "      <td>258</td>\n",
       "      <td>0</td>\n",
       "      <td>510</td>\n",
       "      <td>221</td>\n",
       "      <td>232</td>\n",
       "      <td>148</td>\n",
       "      <td>6279</td>\n",
       "    </tr>\n",
       "    <tr>\n",
       "      <th>1</th>\n",
       "      <td>2590</td>\n",
       "      <td>56</td>\n",
       "      <td>2</td>\n",
       "      <td>212</td>\n",
       "      <td>-6</td>\n",
       "      <td>390</td>\n",
       "      <td>220</td>\n",
       "      <td>235</td>\n",
       "      <td>151</td>\n",
       "      <td>6225</td>\n",
       "    </tr>\n",
       "    <tr>\n",
       "      <th>2</th>\n",
       "      <td>2804</td>\n",
       "      <td>139</td>\n",
       "      <td>9</td>\n",
       "      <td>268</td>\n",
       "      <td>65</td>\n",
       "      <td>3180</td>\n",
       "      <td>234</td>\n",
       "      <td>238</td>\n",
       "      <td>135</td>\n",
       "      <td>6121</td>\n",
       "    </tr>\n",
       "    <tr>\n",
       "      <th>3</th>\n",
       "      <td>2785</td>\n",
       "      <td>155</td>\n",
       "      <td>18</td>\n",
       "      <td>242</td>\n",
       "      <td>118</td>\n",
       "      <td>3090</td>\n",
       "      <td>238</td>\n",
       "      <td>238</td>\n",
       "      <td>122</td>\n",
       "      <td>6211</td>\n",
       "    </tr>\n",
       "    <tr>\n",
       "      <th>4</th>\n",
       "      <td>2595</td>\n",
       "      <td>45</td>\n",
       "      <td>2</td>\n",
       "      <td>153</td>\n",
       "      <td>-1</td>\n",
       "      <td>391</td>\n",
       "      <td>220</td>\n",
       "      <td>234</td>\n",
       "      <td>150</td>\n",
       "      <td>6172</td>\n",
       "    </tr>\n",
       "    <tr>\n",
       "      <th>...</th>\n",
       "      <td>...</td>\n",
       "      <td>...</td>\n",
       "      <td>...</td>\n",
       "      <td>...</td>\n",
       "      <td>...</td>\n",
       "      <td>...</td>\n",
       "      <td>...</td>\n",
       "      <td>...</td>\n",
       "      <td>...</td>\n",
       "      <td>...</td>\n",
       "    </tr>\n",
       "    <tr>\n",
       "      <th>581007</th>\n",
       "      <td>2396</td>\n",
       "      <td>153</td>\n",
       "      <td>20</td>\n",
       "      <td>85</td>\n",
       "      <td>17</td>\n",
       "      <td>108</td>\n",
       "      <td>240</td>\n",
       "      <td>237</td>\n",
       "      <td>118</td>\n",
       "      <td>837</td>\n",
       "    </tr>\n",
       "    <tr>\n",
       "      <th>581008</th>\n",
       "      <td>2391</td>\n",
       "      <td>152</td>\n",
       "      <td>19</td>\n",
       "      <td>67</td>\n",
       "      <td>12</td>\n",
       "      <td>95</td>\n",
       "      <td>240</td>\n",
       "      <td>237</td>\n",
       "      <td>119</td>\n",
       "      <td>845</td>\n",
       "    </tr>\n",
       "    <tr>\n",
       "      <th>581009</th>\n",
       "      <td>2386</td>\n",
       "      <td>159</td>\n",
       "      <td>17</td>\n",
       "      <td>60</td>\n",
       "      <td>7</td>\n",
       "      <td>90</td>\n",
       "      <td>236</td>\n",
       "      <td>241</td>\n",
       "      <td>130</td>\n",
       "      <td>854</td>\n",
       "    </tr>\n",
       "    <tr>\n",
       "      <th>581010</th>\n",
       "      <td>2384</td>\n",
       "      <td>170</td>\n",
       "      <td>15</td>\n",
       "      <td>60</td>\n",
       "      <td>5</td>\n",
       "      <td>90</td>\n",
       "      <td>230</td>\n",
       "      <td>245</td>\n",
       "      <td>143</td>\n",
       "      <td>864</td>\n",
       "    </tr>\n",
       "    <tr>\n",
       "      <th>581011</th>\n",
       "      <td>2383</td>\n",
       "      <td>165</td>\n",
       "      <td>13</td>\n",
       "      <td>60</td>\n",
       "      <td>4</td>\n",
       "      <td>67</td>\n",
       "      <td>231</td>\n",
       "      <td>244</td>\n",
       "      <td>141</td>\n",
       "      <td>875</td>\n",
       "    </tr>\n",
       "  </tbody>\n",
       "</table>\n",
       "<p>581012 rows × 10 columns</p>\n",
       "</div>"
      ],
      "text/plain": [
       "        Elevation  Aspect  Slope  Horizontal_Distance_To_Hydrology  \\\n",
       "0            2596      51      3                               258   \n",
       "1            2590      56      2                               212   \n",
       "2            2804     139      9                               268   \n",
       "3            2785     155     18                               242   \n",
       "4            2595      45      2                               153   \n",
       "...           ...     ...    ...                               ...   \n",
       "581007       2396     153     20                                85   \n",
       "581008       2391     152     19                                67   \n",
       "581009       2386     159     17                                60   \n",
       "581010       2384     170     15                                60   \n",
       "581011       2383     165     13                                60   \n",
       "\n",
       "        Vertical_Distance_To_Hydrology  Horizontal_Distance_To_Roadways  \\\n",
       "0                                    0                              510   \n",
       "1                                   -6                              390   \n",
       "2                                   65                             3180   \n",
       "3                                  118                             3090   \n",
       "4                                   -1                              391   \n",
       "...                                ...                              ...   \n",
       "581007                              17                              108   \n",
       "581008                              12                               95   \n",
       "581009                               7                               90   \n",
       "581010                               5                               90   \n",
       "581011                               4                               67   \n",
       "\n",
       "        Hillshade_9am  Hillshade_Noon  Hillshade_3pm  \\\n",
       "0                 221             232            148   \n",
       "1                 220             235            151   \n",
       "2                 234             238            135   \n",
       "3                 238             238            122   \n",
       "4                 220             234            150   \n",
       "...               ...             ...            ...   \n",
       "581007            240             237            118   \n",
       "581008            240             237            119   \n",
       "581009            236             241            130   \n",
       "581010            230             245            143   \n",
       "581011            231             244            141   \n",
       "\n",
       "        Horizontal_Distance_To_Fire_Points  \n",
       "0                                     6279  \n",
       "1                                     6225  \n",
       "2                                     6121  \n",
       "3                                     6211  \n",
       "4                                     6172  \n",
       "...                                    ...  \n",
       "581007                                 837  \n",
       "581008                                 845  \n",
       "581009                                 854  \n",
       "581010                                 864  \n",
       "581011                                 875  \n",
       "\n",
       "[581012 rows x 10 columns]"
      ]
     },
     "execution_count": 7,
     "metadata": {},
     "output_type": "execute_result"
    }
   ],
   "source": [
    "X = database.iloc[:, :-1]\n",
    "X"
   ]
  },
  {
   "cell_type": "markdown",
   "metadata": {
    "id": "YgP_STVIS2S6"
   },
   "source": [
    "### 4. Efetue uma partição holdout 70/30 com o Sklearn, distribuindo os exemplos de maneira aleatória"
   ]
  },
  {
   "cell_type": "markdown",
   "metadata": {
    "id": "DbYygJwCm0Tx"
   },
   "source": [
    "- Particionando a base de dados em 70% para treinamento e 30% para teste"
   ]
  },
  {
   "cell_type": "code",
   "execution_count": 8,
   "metadata": {
    "id": "a9QAG1iQWz1Y"
   },
   "outputs": [],
   "source": [
    "def split_train_test(X, y):\n",
    "    return train_test_split(X, y, test_size=0.30, random_state=42, shuffle=True)\n"
   ]
  },
  {
   "cell_type": "code",
   "execution_count": 10,
   "metadata": {
    "id": "uqpcs-KlfcWq"
   },
   "outputs": [],
   "source": [
    "X_train, X_test, y_train, y_test = split_train_test(X, y)"
   ]
  },
  {
   "cell_type": "markdown",
   "metadata": {
    "id": "f8tbGgXbn20H"
   },
   "source": [
    "- A base de dados contém 581012 instâncias, das quais 406708 instâncias representam 70% dos dados e 174304 instâncias caracterizam 30% dos dados."
   ]
  },
  {
   "cell_type": "code",
   "execution_count": 11,
   "metadata": {
    "colab": {
     "base_uri": "https://localhost:8080/"
    },
    "id": "01P1Xh8dm_O1",
    "outputId": "3972a1a0-4633-47df-eb4c-066f4f6e74ee"
   },
   "outputs": [
    {
     "data": {
      "text/plain": [
       "((406708, 10), (174304, 10))"
      ]
     },
     "execution_count": 11,
     "metadata": {
      "tags": []
     },
     "output_type": "execute_result"
    }
   ],
   "source": [
    "X_train.shape, X_test.shape"
   ]
  },
  {
   "cell_type": "markdown",
   "metadata": {
    "id": "7I4lBOExS7ae"
   },
   "source": [
    "### 5. Efetue o escalonamento dos atributos"
   ]
  },
  {
   "cell_type": "markdown",
   "metadata": {
    "id": "6H4aYdiTpxrg"
   },
   "source": [
    "- Escalonando os atributos preditores do conjunto treinamento e teste"
   ]
  },
  {
   "cell_type": "code",
   "execution_count": 9,
   "metadata": {
    "id": "5z9dDScYrhcX"
   },
   "outputs": [],
   "source": [
    "# escalonando os dados\n",
    "def scaler(X_train, X_test):\n",
    "    return ((X_train - X_train.mean()) / X_train.std(), (X_test - X_train.mean()) / X_train.std())\n"
   ]
  },
  {
   "cell_type": "code",
   "execution_count": 13,
   "metadata": {
    "id": "E58yfZasfe1Z"
   },
   "outputs": [],
   "source": [
    "X_train_std, X_test_std = scaler(X_train, X_test)"
   ]
  },
  {
   "cell_type": "markdown",
   "metadata": {
    "id": "8agQM--Ixb1h"
   },
   "source": [
    "### 6. Treine uma rede neural multilayer perceptron para este problema com uma única camada e dez neurônios \n",
    "\n"
   ]
  },
  {
   "cell_type": "markdown",
   "metadata": {
    "id": "0ah6TR3ECCLL"
   },
   "source": [
    "```\n",
    "6.1 Utilize a função de ativação ReLU\n",
    "6.2 Utilize o solver Adam\n",
    "6.3 Imprima o passo a passo do treinamento    \n",
    "6.4 Utilize o número máximo de épocas igual a 300 \n",
    "6.3 Imprima o passo a passo do treinamento\n",
    "```"
   ]
  },
  {
   "cell_type": "code",
   "execution_count": null,
   "metadata": {
    "colab": {
     "base_uri": "https://localhost:8080/",
     "height": 1000
    },
    "id": "7mHkoivVx28p",
    "outputId": "babc4e03-cb27-45d5-fc87-3d00f55f47cf"
   },
   "outputs": [
    {
     "name": "stdout",
     "output_type": "stream",
     "text": [
      "Iteration 1, loss = 0.88170873\n",
      "Iteration 2, loss = 0.69667029\n",
      "Iteration 3, loss = 0.67957221\n",
      "Iteration 4, loss = 0.67208107\n",
      "Iteration 5, loss = 0.66771605\n",
      "Iteration 6, loss = 0.66517022\n",
      "Iteration 7, loss = 0.66357348\n",
      "Iteration 8, loss = 0.66266026\n",
      "Iteration 9, loss = 0.66193743\n",
      "Iteration 10, loss = 0.66135229\n",
      "Iteration 11, loss = 0.66076459\n",
      "Iteration 12, loss = 0.66002012\n",
      "Iteration 13, loss = 0.65932925\n",
      "Iteration 14, loss = 0.65867513\n",
      "Iteration 15, loss = 0.65805257\n",
      "Iteration 16, loss = 0.65761458\n",
      "Iteration 17, loss = 0.65718976\n",
      "Iteration 18, loss = 0.65674014\n",
      "Iteration 19, loss = 0.65642415\n",
      "Iteration 20, loss = 0.65612946\n",
      "Iteration 21, loss = 0.65584566\n",
      "Iteration 22, loss = 0.65573553\n",
      "Iteration 23, loss = 0.65563052\n",
      "Iteration 24, loss = 0.65538194\n",
      "Iteration 25, loss = 0.65512716\n",
      "Iteration 26, loss = 0.65510001\n",
      "Iteration 27, loss = 0.65499531\n",
      "Iteration 28, loss = 0.65483151\n",
      "Iteration 29, loss = 0.65478307\n",
      "Iteration 30, loss = 0.65462080\n",
      "Iteration 31, loss = 0.65448834\n",
      "Iteration 32, loss = 0.65442350\n",
      "Iteration 33, loss = 0.65431466\n",
      "Iteration 34, loss = 0.65427323\n",
      "Iteration 35, loss = 0.65404282\n",
      "Iteration 36, loss = 0.65380289\n",
      "Iteration 37, loss = 0.65371022\n",
      "Iteration 38, loss = 0.65348467\n",
      "Iteration 39, loss = 0.65338960\n",
      "Iteration 40, loss = 0.65333274\n",
      "Iteration 41, loss = 0.65335169\n",
      "Iteration 42, loss = 0.65325372\n",
      "Iteration 43, loss = 0.65315610\n",
      "Iteration 44, loss = 0.65314579\n",
      "Iteration 45, loss = 0.65318743\n",
      "Iteration 46, loss = 0.65302433\n",
      "Iteration 47, loss = 0.65302277\n",
      "Iteration 48, loss = 0.65288802\n",
      "Iteration 49, loss = 0.65288157\n",
      "Iteration 50, loss = 0.65286555\n",
      "Iteration 51, loss = 0.65282444\n",
      "Iteration 52, loss = 0.65275485\n",
      "Iteration 53, loss = 0.65273621\n",
      "Iteration 54, loss = 0.65275196\n",
      "Iteration 55, loss = 0.65269293\n",
      "Iteration 56, loss = 0.65267763\n",
      "Iteration 57, loss = 0.65255651\n",
      "Iteration 58, loss = 0.65269936\n",
      "Iteration 59, loss = 0.65255634\n",
      "Iteration 60, loss = 0.65255926\n",
      "Iteration 61, loss = 0.65255091\n",
      "Iteration 62, loss = 0.65251610\n",
      "Iteration 63, loss = 0.65247696\n",
      "Iteration 64, loss = 0.65237019\n",
      "Iteration 65, loss = 0.65236841\n",
      "Iteration 66, loss = 0.65237810\n",
      "Iteration 67, loss = 0.65236375\n",
      "Iteration 68, loss = 0.65230637\n",
      "Iteration 69, loss = 0.65233954\n",
      "Iteration 70, loss = 0.65231883\n",
      "Iteration 71, loss = 0.65219381\n",
      "Iteration 72, loss = 0.65210976\n",
      "Iteration 73, loss = 0.65205104\n",
      "Iteration 74, loss = 0.65205911\n",
      "Iteration 75, loss = 0.65206269\n",
      "Iteration 76, loss = 0.65207386\n",
      "Iteration 77, loss = 0.65201375\n",
      "Iteration 78, loss = 0.65200859\n",
      "Iteration 79, loss = 0.65194092\n",
      "Iteration 80, loss = 0.65186279\n",
      "Iteration 81, loss = 0.65190139\n",
      "Iteration 82, loss = 0.65187570\n",
      "Iteration 83, loss = 0.65184931\n",
      "Iteration 84, loss = 0.65179307\n",
      "Iteration 85, loss = 0.65175444\n",
      "Iteration 86, loss = 0.65176672\n",
      "Iteration 87, loss = 0.65159852\n",
      "Iteration 88, loss = 0.65167030\n",
      "Iteration 89, loss = 0.65152492\n",
      "Iteration 90, loss = 0.65160243\n",
      "Iteration 91, loss = 0.65154286\n",
      "Iteration 92, loss = 0.65140921\n",
      "Iteration 93, loss = 0.65142282\n",
      "Iteration 94, loss = 0.65130407\n",
      "Iteration 95, loss = 0.65126364\n",
      "Iteration 96, loss = 0.65130823\n",
      "Iteration 97, loss = 0.65128323\n",
      "Iteration 98, loss = 0.65115564\n",
      "Iteration 99, loss = 0.65119960\n",
      "Iteration 100, loss = 0.65106405\n",
      "Iteration 101, loss = 0.65104791\n",
      "Iteration 102, loss = 0.65100033\n",
      "Iteration 103, loss = 0.65088207\n",
      "Iteration 104, loss = 0.65075706\n",
      "Iteration 105, loss = 0.65078100\n",
      "Iteration 106, loss = 0.65075719\n",
      "Iteration 107, loss = 0.65064975\n",
      "Iteration 108, loss = 0.65058224\n",
      "Iteration 109, loss = 0.65046398\n",
      "Iteration 110, loss = 0.65031301\n",
      "Iteration 111, loss = 0.65030767\n",
      "Iteration 112, loss = 0.65012424\n",
      "Iteration 113, loss = 0.64999029\n",
      "Iteration 114, loss = 0.64999373\n",
      "Iteration 115, loss = 0.64983237\n",
      "Iteration 116, loss = 0.64976970\n",
      "Iteration 117, loss = 0.64957336\n",
      "Iteration 118, loss = 0.64955987\n",
      "Iteration 119, loss = 0.64949757\n",
      "Iteration 120, loss = 0.64936988\n",
      "Iteration 121, loss = 0.64924051\n",
      "Iteration 122, loss = 0.64915591\n",
      "Iteration 123, loss = 0.64901420\n",
      "Iteration 124, loss = 0.64892884\n",
      "Iteration 125, loss = 0.64895329\n",
      "Iteration 126, loss = 0.64880045\n",
      "Iteration 127, loss = 0.64876965\n",
      "Iteration 128, loss = 0.64873063\n",
      "Iteration 129, loss = 0.64843979\n",
      "Iteration 130, loss = 0.64854525\n",
      "Iteration 131, loss = 0.64845933\n",
      "Iteration 132, loss = 0.64833315\n",
      "Iteration 133, loss = 0.64825024\n",
      "Iteration 134, loss = 0.64818324\n",
      "Iteration 135, loss = 0.64804027\n",
      "Iteration 136, loss = 0.64791783\n",
      "Iteration 137, loss = 0.64776541\n",
      "Iteration 138, loss = 0.64776116\n",
      "Iteration 139, loss = 0.64759084\n",
      "Iteration 140, loss = 0.64766156\n",
      "Iteration 141, loss = 0.64750432\n",
      "Iteration 142, loss = 0.64744436\n",
      "Iteration 143, loss = 0.64724327\n",
      "Iteration 144, loss = 0.64721726\n",
      "Iteration 145, loss = 0.64725160\n",
      "Iteration 146, loss = 0.64707628\n",
      "Iteration 147, loss = 0.64710419\n",
      "Iteration 148, loss = 0.64697891\n",
      "Iteration 149, loss = 0.64685324\n",
      "Iteration 150, loss = 0.64686826\n",
      "Iteration 151, loss = 0.64675000\n",
      "Iteration 152, loss = 0.64677158\n",
      "Iteration 153, loss = 0.64680486\n",
      "Iteration 154, loss = 0.64671430\n",
      "Iteration 155, loss = 0.64664185\n",
      "Iteration 156, loss = 0.64662251\n",
      "Iteration 157, loss = 0.64650039\n",
      "Iteration 158, loss = 0.64659502\n",
      "Iteration 159, loss = 0.64660320\n",
      "Iteration 160, loss = 0.64651441\n",
      "Iteration 161, loss = 0.64655753\n",
      "Iteration 162, loss = 0.64651561\n",
      "Iteration 163, loss = 0.64642428\n",
      "Iteration 164, loss = 0.64649659\n",
      "Iteration 165, loss = 0.64636800\n",
      "Iteration 166, loss = 0.64640013\n",
      "Iteration 167, loss = 0.64642572\n",
      "Iteration 168, loss = 0.64634909\n",
      "Iteration 169, loss = 0.64629015\n",
      "Iteration 170, loss = 0.64631799\n",
      "Iteration 171, loss = 0.64621446\n",
      "Iteration 172, loss = 0.64628701\n",
      "Iteration 173, loss = 0.64629223\n",
      "Training loss did not improve more than tol=0.000100 for 15 consecutive epochs. Stopping.\n"
     ]
    },
    {
     "data": {
      "text/plain": [
       "MLPClassifier(activation='relu', alpha=0.0001, batch_size='auto', beta_1=0.9,\n",
       "              beta_2=0.999, early_stopping=False, epsilon=1e-08,\n",
       "              hidden_layer_sizes=(10,), learning_rate='constant',\n",
       "              learning_rate_init=0.001, max_fun=15000, max_iter=300,\n",
       "              momentum=0.9, n_iter_no_change=15, nesterovs_momentum=True,\n",
       "              power_t=0.5, random_state=None, shuffle=True, solver='adam',\n",
       "              tol=0.0001, validation_fraction=0.1, verbose=True,\n",
       "              warm_start=False)"
      ]
     },
     "execution_count": 87,
     "metadata": {
      "tags": []
     },
     "output_type": "execute_result"
    }
   ],
   "source": [
    "net_classifier_1 = MLPClassifier(hidden_layer_sizes=(10,), \n",
    "                                    activation='relu', \n",
    "                                    solver='adam', \n",
    "                                    verbose=True, \n",
    "                                    max_iter=300,\n",
    "                                    n_iter_no_change=15)\n",
    "net_classifier_1.fit(X_train_std, y_train)"
   ]
  },
  {
   "cell_type": "markdown",
   "metadata": {
    "id": "pn60c3gDyDys"
   },
   "source": [
    "### 7. Com o modelo em questão, após o treinamento, apresente:\n",
    "```\n",
    "7.1 Matriz de confusão para o conjunto de teste  \n",
    "7.2 Acurácia  \n",
    "7.3 F-Score  \n",
    "7.4 Precisão  \n",
    "7.5 Revocação \n",
    "```"
   ]
  },
  {
   "cell_type": "markdown",
   "metadata": {
    "id": "TsJFlgoxz-a4"
   },
   "source": [
    "- Visualizando o gráfico da matriz de confusão do conjunto de teste"
   ]
  },
  {
   "cell_type": "code",
   "execution_count": null,
   "metadata": {
    "id": "MmBWz8QOyVN3"
   },
   "outputs": [],
   "source": [
    "y_pred = net_classifier_1.predict(X_test_std)"
   ]
  },
  {
   "cell_type": "code",
   "execution_count": null,
   "metadata": {
    "colab": {
     "base_uri": "https://localhost:8080/",
     "height": 417
    },
    "id": "NnGLqyVa1kuE",
    "outputId": "1eef2871-d7c8-46ba-a37b-997448187ac3"
   },
   "outputs": [
    {
     "data": {
      "image/png": "[encoded data removed]",
      "text/plain": [
       "<Figure size 504x504 with 2 Axes>"
      ]
     },
     "metadata": {
      "needs_background": "light",
      "tags": []
     },
     "output_type": "display_data"
    }
   ],
   "source": [
    "fig, ax = plt.subplots(figsize=(7,7))\n",
    "plot_confusion_matrix(net_classifier_1, X_test_std, y_test, ax=ax, cmap='YlGnBu', values_format=\"\")\n",
    "plt.title('Matriz de Confusão')\n",
    "plt.show()"
   ]
  },
  {
   "cell_type": "markdown",
   "metadata": {
    "id": "qpWDV_KX1kuP"
   },
   "source": [
    "- A **acurácia** do modelo de classificação no conjunto de teste:"
   ]
  },
  {
   "cell_type": "code",
   "execution_count": null,
   "metadata": {
    "colab": {
     "base_uri": "https://localhost:8080/",
     "height": 34
    },
    "id": "DUgAf9HQ1kuQ",
    "outputId": "2cb7530a-6128-45c0-8c26-78d0d07fa55e"
   },
   "outputs": [
    {
     "data": {
      "text/plain": [
       "0.7109245915182669"
      ]
     },
     "execution_count": 90,
     "metadata": {
      "tags": []
     },
     "output_type": "execute_result"
    }
   ],
   "source": [
    "accuracy_score(y_test, y_pred)"
   ]
  },
  {
   "cell_type": "markdown",
   "metadata": {
    "id": "UcEPZCqC1kuZ"
   },
   "source": [
    "- A seguir temos o valor da medida **F-score**:"
   ]
  },
  {
   "cell_type": "code",
   "execution_count": null,
   "metadata": {
    "colab": {
     "base_uri": "https://localhost:8080/",
     "height": 34
    },
    "id": "tNNyaQ9b1kub",
    "outputId": "8ee13f70-0230-4a03-cb5b-b913047d2a7c"
   },
   "outputs": [
    {
     "data": {
      "text/plain": [
       "0.5229341637753284"
      ]
     },
     "execution_count": 91,
     "metadata": {
      "tags": []
     },
     "output_type": "execute_result"
    }
   ],
   "source": [
    "f1_score(y_test, y_pred, average='macro')"
   ]
  },
  {
   "cell_type": "markdown",
   "metadata": {
    "id": "U3JTsIMP1kuj"
   },
   "source": [
    "- A **precisão** tem valor:"
   ]
  },
  {
   "cell_type": "code",
   "execution_count": null,
   "metadata": {
    "colab": {
     "base_uri": "https://localhost:8080/",
     "height": 34
    },
    "id": "2NpR2v8N1kuk",
    "outputId": "4ede9228-5334-4e1e-9a77-701d7577bb02"
   },
   "outputs": [
    {
     "data": {
      "text/plain": [
       "0.6459567343273802"
      ]
     },
     "execution_count": 92,
     "metadata": {
      "tags": []
     },
     "output_type": "execute_result"
    }
   ],
   "source": [
    "precision_score(y_test, y_pred, average='macro')"
   ]
  },
  {
   "cell_type": "markdown",
   "metadata": {
    "id": "4PuGRJBs1kut"
   },
   "source": [
    "- O valor da **Revocação** é de:"
   ]
  },
  {
   "cell_type": "code",
   "execution_count": null,
   "metadata": {
    "colab": {
     "base_uri": "https://localhost:8080/",
     "height": 34
    },
    "id": "Z25QkGGI1kuv",
    "outputId": "32fef82a-c805-4346-a522-d544fa432031"
   },
   "outputs": [
    {
     "data": {
      "text/plain": [
       "0.48105371779797906"
      ]
     },
     "execution_count": 93,
     "metadata": {
      "tags": []
     },
     "output_type": "execute_result"
    }
   ],
   "source": [
    "recall_score(y_test, y_pred, average='macro')"
   ]
  },
  {
   "cell_type": "markdown",
   "metadata": {
    "id": "WqcMXEy11ku6"
   },
   "source": [
    "- O parâmetro average='macro', calcula a métrica para cada rótulo, retornando a média não ponderada das métricas.\n",
    "\n",
    "- Em relação as demais métricas, a acurácia apresenta uma medida superior comparado as outras métricas."
   ]
  },
  {
   "cell_type": "markdown",
   "metadata": {
    "id": "tDo2jp9iRUAz"
   },
   "source": [
    "### 8. Repita o treinamento da mesma rede anterior sem imprimir o passo a passo (verbose False) por 100 vezes  \n",
    "   "
   ]
  },
  {
   "cell_type": "markdown",
   "metadata": {
    "id": "mfrlseaCRi_O"
   },
   "source": [
    "```\n",
    "8.1 Cada uma destas repetições deve ser feita com uma nova partição Holdout  \n",
    "8.2 Apresente a média e o desvio padrão da acurácia e do F-Score para o conjunto de treino \n",
    "```"
   ]
  },
  {
   "cell_type": "code",
   "execution_count": null,
   "metadata": {
    "id": "zrOtygH9SNah"
   },
   "outputs": [],
   "source": [
    "medidas = {'acuracias':[], 'fscores':[]}\n",
    "\n",
    "nnc = MLPClassifier(\n",
    "    hidden_layer_sizes=(10,), \n",
    "    activation='relu',\n",
    "    solver='adam', \n",
    "    verbose=False,\n",
    "    max_iter=300,\n",
    "    shuffle=True,\n",
    "    n_iter_no_change=5\n",
    ")\n",
    "\n",
    "for i in range(0, 100, 1):\n",
    "    # particionando o dataset\n",
    "    X_train, X_test, y_train, y_test = split_train_test(X, y)\n",
    "\n",
    "    # escalonando os dados\n",
    "    X_train_std, X_test_std = scaler(X_train, X_test)\n",
    "\n",
    "    # treinando as redes neurais\n",
    "    \n",
    "    nnc.fit(X_train_std, y_train)\n",
    "\n",
    "    # testando a rede neural treinada\n",
    "    y_pred = nnc.predict(X_test_std)\n",
    "    \n",
    "    # salvando os valores das metricas de cada treinamento\n",
    "    medidas['acuracias'].append(accuracy_score(y_test, y_pred))\n",
    "    medidas['fscores'].append(f1_score(y_test, y_pred, average='macro'))\n"
   ]
  },
  {
   "cell_type": "markdown",
   "metadata": {
    "id": "nHqbz6lZ1kvG"
   },
   "source": [
    "- Média e desvio padrão das acurácias,  referentes aos resultados dos testes das redes neurais treinadas 100 vezes, utilizando o otimizador 'adam'"
   ]
  },
  {
   "cell_type": "code",
   "execution_count": null,
   "metadata": {
    "colab": {
     "base_uri": "https://localhost:8080/",
     "height": 34
    },
    "id": "yeZ_UEDxd8U9",
    "outputId": "0da4f915-7482-446c-c9e1-6c2651791c3e"
   },
   "outputs": [
    {
     "data": {
      "text/plain": [
       "(0.7153458899394161, 0.0033261912692833656)"
      ]
     },
     "execution_count": 96,
     "metadata": {
      "tags": []
     },
     "output_type": "execute_result"
    }
   ],
   "source": [
    "np.mean(medidas['acuracias']), np.std(medidas['acuracias'])"
   ]
  },
  {
   "cell_type": "markdown",
   "metadata": {
    "id": "jst_NzPa1kvT"
   },
   "source": [
    "- Média e desvio padrão dos F-scores,  referentes aos resultados dos testes das redes neurais treinadas 100 vezes, utilizando o otimizador 'adam'"
   ]
  },
  {
   "cell_type": "code",
   "execution_count": null,
   "metadata": {
    "colab": {
     "base_uri": "https://localhost:8080/",
     "height": 34
    },
    "id": "6RM2hbbo1kvW",
    "outputId": "f93539c9-ca1f-497a-e0b5-75f93ae6aa23"
   },
   "outputs": [
    {
     "data": {
      "text/plain": [
       "(0.5075793324476564, 0.01970957689783876)"
      ]
     },
     "execution_count": 97,
     "metadata": {
      "tags": []
     },
     "output_type": "execute_result"
    }
   ],
   "source": [
    "np.mean(medidas['fscores']), np.std(medidas['fscores'])"
   ]
  },
  {
   "cell_type": "markdown",
   "metadata": {
    "id": "Xr1CfVE8Rofl"
   },
   "source": [
    "- Visualizando os valores das métricas "
   ]
  },
  {
   "cell_type": "code",
   "execution_count": null,
   "metadata": {
    "colab": {
     "base_uri": "https://localhost:8080/",
     "height": 334
    },
    "id": "MmO5_aDb1kvr",
    "outputId": "83718f70-f1d4-4989-8ef3-e38ef1eb4d1d"
   },
   "outputs": [
    {
     "data": {
      "image/png": "[encoded data removed]",
      "text/plain": [
       "<Figure size 720x360 with 1 Axes>"
      ]
     },
     "metadata": {
      "needs_background": "light",
      "tags": []
     },
     "output_type": "display_data"
    }
   ],
   "source": [
    "b = list(range(0, n_iter))\n",
    "plt.figure(figsize=(10,5))\n",
    "plt.plot(b, medidas['fscores'], label='f-score')\n",
    "plt.plot(b, medidas['acuracias'], label=\"Acurácia\")\n",
    "plt.xlabel('Rede Neural')\n",
    "plt.ylabel('Métricas')\n",
    "plt.legend(loc='upper right');"
   ]
  },
  {
   "cell_type": "markdown",
   "metadata": {
    "id": "eAK6Ep-_RxND"
   },
   "source": [
    "### 9. Repita por 100 vezes o treinamento desta mesma rede, mas utilizando o otimizador SGD  "
   ]
  },
  {
   "cell_type": "markdown",
   "metadata": {
    "id": "UDzP3_j6R14T"
   },
   "source": [
    "```\n",
    "9.1 Apresente a média e o desvio padrão da acurácia e do F-Score para o conjunto de treino \n",
    "``` "
   ]
  },
  {
   "cell_type": "code",
   "execution_count": null,
   "metadata": {
    "id": "8FayFbqS1kv2"
   },
   "outputs": [],
   "source": [
    "medidas = {'acuracias':[], 'fscores':[]}\n",
    "\n",
    "for i in range(0, 100, 1):\n",
    "    # particionando o dataset\n",
    "    X_train, X_test, y_train, y_test = split_train_test(X, y)\n",
    "\n",
    "    # escalonando os dados\n",
    "    X_train_std, X_test_std = scaler(X_train, X_test)\n",
    "\n",
    "    # treinando as redes neurais\n",
    "    nnc = MLPClassifier(hidden_layer_sizes=(10,), activation='relu', solver='sgd', verbose=False, max_iter=300, shuffle=True, n_iter_no_change=5)\n",
    "    nnc.fit(X_train_std, y_train)\n",
    "\n",
    "    # testando a rede neural treinada\n",
    "    y_pred = nnc.predict(X_test_std)\n",
    "    \n",
    "    # salvando os valores das metricas\n",
    "    medidas['acuracias'].append(accuracy_score(y_test, y_pred))\n",
    "    medidas['fscores'].append(f1_score(y_test, y_pred, average='macro'))\n"
   ]
  },
  {
   "cell_type": "markdown",
   "metadata": {
    "id": "71Q3xJlS1kv-"
   },
   "source": [
    "- Média e desvio padrão das acurácias, referentes aos resultados dos testes das redes neurais treinadas 100 vezes, utilizando o otimizador 'sgd'"
   ]
  },
  {
   "cell_type": "code",
   "execution_count": null,
   "metadata": {
    "colab": {
     "base_uri": "https://localhost:8080/",
     "height": 34
    },
    "id": "q5boYVcM1kv_",
    "outputId": "5a28610b-28f3-438c-a2ca-6ff8755cbc45"
   },
   "outputs": [
    {
     "data": {
      "text/plain": [
       "(0.7131807072700569, 0.002791648893439712)"
      ]
     },
     "execution_count": 102,
     "metadata": {
      "tags": []
     },
     "output_type": "execute_result"
    }
   ],
   "source": [
    "np.mean(medidas['acuracias']), np.std(medidas['acuracias'])"
   ]
  },
  {
   "cell_type": "markdown",
   "metadata": {
    "id": "i--tidNi1kwG"
   },
   "source": [
    "- Média e desvio padrão dos F-scores, referentes aos resultados dos testes das redes neurais treinadas 100 vezes, utilizando o otimizador 'sgd'"
   ]
  },
  {
   "cell_type": "code",
   "execution_count": null,
   "metadata": {
    "colab": {
     "base_uri": "https://localhost:8080/",
     "height": 34
    },
    "id": "ny5k_mke1kwH",
    "outputId": "8d2ed3fe-9c99-4f6b-da7b-945cff95745d"
   },
   "outputs": [
    {
     "data": {
      "text/plain": [
       "(0.47914660301430323, 0.018705285713642397)"
      ]
     },
     "execution_count": 103,
     "metadata": {
      "tags": []
     },
     "output_type": "execute_result"
    }
   ],
   "source": [
    "np.mean(medidas['fscores']), np.std(medidas['fscores'])"
   ]
  },
  {
   "cell_type": "markdown",
   "metadata": {
    "id": "597qXlnR1kwT"
   },
   "source": [
    "- Visualizando os valores das métricas "
   ]
  },
  {
   "cell_type": "code",
   "execution_count": null,
   "metadata": {
    "colab": {
     "base_uri": "https://localhost:8080/",
     "height": 334
    },
    "id": "NsxgAZJo1kwd",
    "outputId": "b4d9ac0b-5b8e-4673-b1e3-ad0055beb53d"
   },
   "outputs": [
    {
     "data": {
      "image/png": "[encoded data removed]",
      "text/plain": [
       "<Figure size 720x360 with 1 Axes>"
      ]
     },
     "metadata": {
      "needs_background": "light",
      "tags": []
     },
     "output_type": "display_data"
    }
   ],
   "source": [
    "b = list(range(0, n_iter))\n",
    "plt.figure(figsize=(10,5))\n",
    "plt.plot(b, medidas['fscores'], label='f-score')\n",
    "plt.plot(b, medidas['acuracias'], label=\"Acurácia\")\n",
    "plt.xlabel('Rede Neural')\n",
    "plt.ylabel('Métricas')\n",
    "plt.legend(loc='upper right');"
   ]
  },
  {
   "cell_type": "markdown",
   "metadata": {
    "id": "l13RZHwLR6me"
   },
   "source": [
    "#### 10. Houve influência da escolha do otimizador no desempenho da rede?"
   ]
  },
  {
   "cell_type": "markdown",
   "metadata": {
    "id": "dYiYn90sOQFd"
   },
   "source": [
    "Tendo em vista uma comparação do desempenho da rede utilizando diferentes hiperparâmetros. Realizou-se dois experimentos com 100 treinamentos, com conjuntos treino diferentes, em cada um, o primeiro treinamento utilizou o otimizador 'adam' e o segundo o 'sgd'. Calculou-se a média e o desvio padrão da acurácia e F-Score dos dois experimentos. Os resultados obtidos demonstraram uma pequena vantagem de desempenho na rede que utilizou o otimizador 'adam'. Em relação a média das métricas de acurácia e f-score, as métricas d Ambos os treinamentos obtiveram uma média de acurácia bem parecidas. Diante disso, pode-se dizer que a escolha de um otimizador, influência no desempenho da rede."
   ]
  },
  {
   "cell_type": "markdown",
   "metadata": {
    "id": "YJCwgs5xv2uU"
   },
   "source": [
    "## Discussão\n",
    "\n",
    "Nos passos anteriores, você avaliou o desempenho de uma única rede neural que contém os seguintes parâmetros: uma única camada oculta com 10 neurônios e função de ativação ReLU. O otimizador utilizado, quer seja SGD ou ADAM, trata-se do algoritmo para aproximar o gradiente do erro. Neste sentido, a escolha do otimizador é um hiperparâmetro, pois diz respeito a como a rede neural definida previamente atuará \"em tempo de execução\"  durante o processo de treinamento. Também são hiperparâmetros a quantidade de épocas, a taxa de aprendizado inicial, dentre outros.\n",
    "\n",
    "Cabe alientar também que você efetuou o treinamento desta rede por 100 vezes e apresentou os resultados em termos de média +- desvio padrão. Lembre-se que em uma rede neural há a inicialização aleatória de pesos e, em consequência, o desempenho delas está sujeito à uma flutuação estocástica. A execução destas múltiplas vezes faz com que eliminemos algum viés introduzido por uma boa ou má \"sorte\" na escolha de pesos no caso de uma única execução.\n",
    "\n",
    "Você também aprendeu uma estratégia para escalonar os atributos para uma melhor convergência da rede. Utilize-a em todos os treinamentos e testes propostos a seguir."
   ]
  },
  {
   "cell_type": "markdown",
   "metadata": {
    "id": "v9s49_ne0XXw"
   },
   "source": [
    "## Propondo Novas Arquiteturas\n",
    "\n",
    "Variando  os parâmetros (uma ou duas camadas ocultas, com diferente números de neurônios em cada uma delas e a função de ativação) e o hiperparâmetros solver (Adam ou SGD) e o número de épocas (100,150 e 200), atenda ao que se pede:\n",
    "\n",
    "1. Proponha 10 arquiteturas distintas de RNAs para o problema em questão, à sua escolha\n",
    "2. Avalie cada uma das arquiteturas perante todos os hiperparâmetros apresentados por 100 vezes\n",
    "3. Como resultado da avaliação, apresente:  \n",
    "    3.1 Top-3 melhores redes no tocante à F-Score e Acurácia  \n",
    "    3.2 Repetição em que houve o melhor desempenho de cada uma dessas redes: ilustre tp, tf, fp e fn  "
   ]
  },
  {
   "cell_type": "markdown",
   "metadata": {
    "id": "6Ts8fDTHaTRA"
   },
   "source": [
    "- Proponha 10 arquiteturas distintas de RNAs para o problema em questão, à sua escolha"
   ]
  },
  {
   "cell_type": "code",
   "execution_count": 13,
   "metadata": {},
   "outputs": [],
   "source": [
    "parameters = {\n",
    "    \"hidden_layers\": [(15,), (18,), (16, 17), (20, 30), (25, 35)],\n",
    "    \"solvers\": ['adam', 'sgd'],\n",
    "    \"epochs\": [100, 150, 200],\n",
    "    \"activation\": [\"identity\", \"logistic\", \"tanh\", \"relu\"]\n",
    "}"
   ]
  },
  {
   "cell_type": "code",
   "execution_count": 12,
   "metadata": {
    "id": "2maLXEynaQSZ"
   },
   "outputs": [],
   "source": [
    "def random_choice_param(param_name=\"\"):\n",
    "    param_size = len(parameters[param_name])-1\n",
    "    param = parameters[param_name][random.randint(0, param_size)]\n",
    "    return param\n",
    "\n",
    "# [\"Camadas\",\"Ativação\", \"Solver\", \"Épocas\", \"Neurônios\", \"Neurônios nas camadas\"]\n",
    "def print_table(rows_of_table=[], columns_of_table=[\"Camadas\",\"Ativação\", \n",
    "                                                    \"Solver\", \"Épocas\",\n",
    "                                                    \"Neurônios\", \n",
    "                                                    \"Neurônios nas camadas\"]):\n",
    "    table = PrettyTable(columns_of_table)\n",
    "    table.padding_width = 1\n",
    "    for p in rows_of_table:\n",
    "        table.add_row([len(p[0]), p[3], p[1], p[2], np.sum(p[0]), p[0]])\n",
    "    print(table)\n",
    "\n",
    "def get_params(n_arch=0):        \n",
    "    params = []\n",
    "    arch = []\n",
    "    while len(params) < n_arch:\n",
    "        while (arch in params) or (len(arch) == 0):\n",
    "            hid_la = random_choice_param(\"hidden_layers\")\n",
    "            sol = random_choice_param(\"solvers\")\n",
    "            ep = random_choice_param(\"epochs\")\n",
    "            act = random_choice_param(\"activation\")\n",
    "            arch = [hid_la, sol, ep, act]\n",
    "        params.append(arch)\n",
    "    return params"
   ]
  },
  {
   "cell_type": "code",
   "execution_count": 14,
   "metadata": {},
   "outputs": [
    {
     "name": "stdout",
     "output_type": "stream",
     "text": [
      "+---------+----------+--------+--------+-----------+-----------------------+\n",
      "| Camadas | Ativação | Solver | Épocas | Neurônios | Neurônios nas camadas |\n",
      "+---------+----------+--------+--------+-----------+-----------------------+\n",
      "|    2    | identity |  adam  |  200   |     60    |        (25, 35)       |\n",
      "|    2    |   relu   |  adam  |  150   |     50    |        (20, 30)       |\n",
      "|    1    |   tanh   |  sgd   |  100   |     18    |         (18,)         |\n",
      "|    1    |   tanh   |  sgd   |  200   |     15    |         (15,)         |\n",
      "|    2    |   relu   |  sgd   |  200   |     50    |        (20, 30)       |\n",
      "|    2    |   relu   |  sgd   |  100   |     50    |        (20, 30)       |\n",
      "|    2    | identity |  sgd   |  200   |     50    |        (20, 30)       |\n",
      "|    1    |   relu   |  sgd   |  100   |     15    |         (15,)         |\n",
      "|    1    |   relu   |  adam  |  150   |     18    |         (18,)         |\n",
      "|    2    |   relu   |  adam  |  200   |     33    |        (16, 17)       |\n",
      "+---------+----------+--------+--------+-----------+-----------------------+\n"
     ]
    }
   ],
   "source": [
    "archs = get_params(10)\n",
    "print_table(archs)"
   ]
  },
  {
   "cell_type": "markdown",
   "metadata": {
    "id": "a-pIyOGSaXfd"
   },
   "source": [
    "- Avalie cada uma das arquiteturas perante todos os hiperparâmetros apresentados por 100 vezes"
   ]
  },
  {
   "cell_type": "code",
   "execution_count": 15,
   "metadata": {
    "id": "Sz-0tPV7QdKz"
   },
   "outputs": [],
   "source": [
    "general_metrics_net = []\n",
    "\n",
    "# criando a rede\n",
    "nnc = MLPClassifier(\n",
    "    hidden_layer_sizes=arch[0],\n",
    "    activation=arch[3], \n",
    "    solver=arch[1], \n",
    "    max_iter=arch[2],\n",
    "    n_iter_no_change=2, \n",
    "    verbose=False, \n",
    "    shuffle=True\n",
    ")\n",
    "\n",
    "for arch in archs:\n",
    "    metrics = {'acuracias':[], 'fscores':[]}\n",
    "\n",
    "    for i in range(0, 100):\n",
    "\n",
    "        # particionando o dataset\n",
    "        X_train, X_test, y_train, y_test = split_train_test(X, y)\n",
    "\n",
    "        # escalonando os dados\n",
    "        X_train_std, X_test_std = scaler(X_train, X_test)\n",
    "\n",
    "        # treinando a rede\n",
    "        nnc.fit(X_train_std, y_train)\n",
    "\n",
    "        # testando a rede neural treinada\n",
    "        y_pred = nnc.predict(X_test_std)\n",
    "        \n",
    "        #calculando as metricas\n",
    "        acuracia = accuracy_score(y_test, y_pred)\n",
    "        fscore = f1_score(y_test, y_pred, average='macro')\n",
    "\n",
    "        # salvando os valores das metricas\n",
    "        metrics['acuracias'].append(acuracia)\n",
    "        metrics['fscores'].append(fscore)\n",
    "\n",
    "    general_metrics_net.append((np.mean(metrics['acuracias']), np.mean(metrics['fscores']), nnc))\n"
   ]
  },
  {
   "cell_type": "markdown",
   "metadata": {
    "id": "DrQHeydaJong"
   },
   "source": [
    "- Top-3 melhores redes no tocante à F-Score e Acurácia "
   ]
  },
  {
   "cell_type": "code",
   "execution_count": 19,
   "metadata": {
    "id": "GafElN-mxkqF"
   },
   "outputs": [],
   "source": [
    "# ordenando em ordem descendente o Top-3 pela métrica de acurácia\n",
    "general_metrics_net.sort(key=lambda x:x[0], reverse=True)"
   ]
  },
  {
   "cell_type": "code",
   "execution_count": 41,
   "metadata": {
    "colab": {
     "base_uri": "https://localhost:8080/"
    },
    "id": "vbzslbAT_yyx",
    "outputId": "2e2252c4-d943-4a18-e18d-0438453fab6a"
   },
   "outputs": [
    {
     "name": "stdout",
     "output_type": "stream",
     "text": [
      "+----------+----------+--------+--------+----------+---------+\n",
      "| Camadas  | Ativação | Solver | Épocas | Acurácia | F-Score |\n",
      "+----------+----------+--------+--------+----------+---------+\n",
      "| (20, 30) |   relu   |  adam  |  100   |  0.776   |  0.673  |\n",
      "| (20, 30) |   relu   |  sgd   |  150   |  0.764   |  0.599  |\n",
      "| (25, 35) |   tanh   |  adam  |  150   |  0.757   |  0.567  |\n",
      "+----------+----------+--------+--------+----------+---------+\n"
     ]
    }
   ],
   "source": [
    "table = PrettyTable([\"Camadas\",\"Ativação\", \"Solver\", \"Épocas\", \"Acurácia\", \"F-Score\"])        \n",
    "table.padding_width = 1\n",
    "\n",
    "for i in range(3):\n",
    "    rede = general_metrics_net[i][2]\n",
    "    acuracia = np.round(general_metrics_net[i][0], 3)\n",
    "    fscore = np.round(general_metrics_net[i][1], 3)\n",
    "\n",
    "    table.add_row([rede.hidden_layer_sizes, rede.activation, rede.solver, rede.max_iter, acuracia, fscore])\n",
    "print(table)"
   ]
  },
  {
   "cell_type": "markdown",
   "metadata": {
    "id": "Qv8eh2xKF5-b"
   },
   "source": [
    "- Salvando as Top-3 arquiteturas redes"
   ]
  },
  {
   "cell_type": "code",
   "execution_count": 54,
   "metadata": {
    "id": "T8nfNDKrFcZW"
   },
   "outputs": [],
   "source": [
    "for i in range(3):\n",
    "    dump(general_metrics_net[i][2], 'rede{0}.joblib'.format(i+1))"
   ]
  },
  {
   "cell_type": "markdown",
   "metadata": {
    "id": "-AWNvjZOO-Dg"
   },
   "source": [
    "- Repetição em que houve o melhor desempenho de cada uma dessas redes: ilustre tp, tf, fp e fn "
   ]
  },
  {
   "cell_type": "code",
   "execution_count": 42,
   "metadata": {
    "colab": {
     "base_uri": "https://localhost:8080/",
     "height": 1000
    },
    "id": "nj_sScX0KsiG",
    "outputId": "ab731d23-81bf-400b-e867-7f2368351eb4"
   },
   "outputs": [
    {
     "data": {
      "image/png": "[encoded data removed]",
      "text/plain": [
       "<Figure size 504x504 with 2 Axes>"
      ]
     },
     "metadata": {
      "needs_background": "light",
      "tags": []
     },
     "output_type": "display_data"
    },
    {
     "data": {
      "image/png": "[encoded data removed]",
      "text/plain": [
       "<Figure size 504x504 with 2 Axes>"
      ]
     },
     "metadata": {
      "needs_background": "light",
      "tags": []
     },
     "output_type": "display_data"
    },
    {
     "data": {
      "image/png": "[encoded data removed]",
      "text/plain": [
       "<Figure size 504x504 with 2 Axes>"
      ]
     },
     "metadata": {
      "needs_background": "light",
      "tags": []
     },
     "output_type": "display_data"
    }
   ],
   "source": [
    "classificadores = [general_metrics_net[0][2],   # rede 1\n",
    "                   general_metrics_net[1][2],   # rede 2\n",
    "                   general_metrics_net[2][2]]   # rede 3\n",
    "\n",
    "for classificador, label in zip(classificadores, ['Top-1', 'Top-2', 'Top-3']):\n",
    "    fig, ax= plt.subplots(figsize=(7,7))\n",
    "    plot_confusion_matrix(classificador, X_test_std, y_test, ax=ax, cmap='YlGnBu', values_format=\"\")\n",
    "    plt.title('Matriz de Confusão '+label)\n",
    "plt.show()"
   ]
  },
  {
   "cell_type": "markdown",
   "metadata": {
    "id": "iI5tGPF-QdK4"
   },
   "source": [
    "## Estimando o número de neurônios\n",
    "\n",
    "Um dos problemas de pesquisa com redes neurais artificiais consiste na determinação do número de neurônios em sua arquitetura. Embora não seja possível definir a priori qual rede neural é adequada para um problema, pois isto só é possível mediante uma busca exaustiva, há regras na literatura que sugerem o número de neurônios escondidos, tal como a regra da Pirâmide Geométrica, dada a seguir:\n",
    "\n",
    "$$N_h = \\alpha \\cdot \\sqrt{N_i \\cdot N_o},$$\n",
    "\n",
    "em que $N_h$ é o número de neurônios ocultos (a serem distribuídos em uma ou duas camadas ocultas), $N_i$ é o número de neurônios na camada de entrada e $N_o$ é o número de neurônios na camada de saída. \n",
    "\n",
    "1. Consulte a documentação da classe MLPClassifier (disponível em https://scikit-learn.org/stable/modules/generated/sklearn.neural_network.MLPClassifier.html) e obtenha os valores de $N_i$ e $N_h$.\n",
    "2. Teste os valores de $\\alpha$ como sendo iguais a $0.5$, $2$ e $3$.\n",
    "3. Proponha pelo menos 30 redes neurais segundo a regra da pirâmide geométrica e teste-as nos mesmos termos estabelecidos anterioremente  (solver, épocas, etc.)  \n",
    "    3.1 Apresente as top-3 melhores redes no tocante à F-Score e Acurácia  "
   ]
  },
  {
   "cell_type": "markdown",
   "metadata": {
    "id": "7V1D8jvhW0v5"
   },
   "source": [
    "- Teste os valores de  α  como sendo iguais a  0.5 ,  2  e  3."
   ]
  },
  {
   "cell_type": "code",
   "execution_count": 10,
   "metadata": {
    "colab": {
     "base_uri": "https://localhost:8080/"
    },
    "id": "W9yuPiK7QdK5",
    "outputId": "d4e35033-19fe-4d09-8e4c-1ed87e4d175e"
   },
   "outputs": [
    {
     "data": {
      "text/plain": [
       "array([ 4., 17., 25.])"
      ]
     },
     "execution_count": 10,
     "metadata": {},
     "output_type": "execute_result"
    }
   ],
   "source": [
    "np.round((0.5 * sqrt(10 * 7), 2 * sqrt(10 * 7), 3 * sqrt(10 * 7)))"
   ]
  },
  {
   "cell_type": "markdown",
   "metadata": {
    "id": "cEcQiWZAZwdt"
   },
   "source": [
    "- Proponha pelo menos 30 redes neurais segundo a regra da pirâmide geométrica e teste-as nos mesmos termos estabelecidos anterioremente (solver, épocas, etc.)"
   ]
  },
  {
   "cell_type": "code",
   "execution_count": 13,
   "metadata": {
    "colab": {
     "base_uri": "https://localhost:8080/"
    },
    "id": "7T4PitMPaJHl",
    "outputId": "d66e600e-6208-43bc-b1ea-f0cc66a20191"
   },
   "outputs": [
    {
     "name": "stdout",
     "output_type": "stream",
     "text": [
      "+---------+----------+--------+--------+-----------+-----------------------+\n",
      "| Camadas | Ativação | Solver | Épocas | Neurônios | Neurônios nas camadas |\n",
      "+---------+----------+--------+--------+-----------+-----------------------+\n",
      "|    1    | logistic |  adam  |  150   |     17    |         (17,)         |\n",
      "|    1    | logistic |  sgd   |  200   |     25    |         (25,)         |\n",
      "|    2    | logistic |  sgd   |  200   |     17    |         (8, 9)        |\n",
      "|    1    |   tanh   |  adam  |  200   |     4     |          (4,)         |\n",
      "|    1    |   tanh   |  sgd   |  200   |     17    |         (17,)         |\n",
      "|    2    | identity |  adam  |  150   |     17    |         (8, 9)        |\n",
      "|    2    |   relu   |  sgd   |  200   |     17    |         (8, 9)        |\n",
      "|    2    |   tanh   |  sgd   |  200   |     4     |         (2, 2)        |\n",
      "|    1    | logistic |  adam  |  100   |     25    |         (25,)         |\n",
      "|    2    | identity |  adam  |  100   |     25    |        (15, 10)       |\n",
      "|    2    |   tanh   |  adam  |  150   |     25    |        (15, 10)       |\n",
      "|    2    |   relu   |  adam  |  150   |     17    |         (8, 9)        |\n",
      "|    2    | identity |  sgd   |  200   |     25    |        (15, 10)       |\n",
      "|    2    | identity |  sgd   |  200   |     4     |         (2, 2)        |\n",
      "|    1    | logistic |  sgd   |  150   |     25    |         (25,)         |\n",
      "|    2    | logistic |  sgd   |  150   |     17    |         (8, 9)        |\n",
      "|    2    | logistic |  sgd   |  100   |     17    |         (8, 9)        |\n",
      "|    1    | logistic |  sgd   |  100   |     17    |         (17,)         |\n",
      "|    2    |   tanh   |  sgd   |  150   |     4     |         (2, 2)        |\n",
      "|    2    | logistic |  sgd   |  200   |     25    |        (15, 10)       |\n",
      "|    1    | identity |  adam  |  150   |     17    |         (17,)         |\n",
      "|    1    | identity |  adam  |  150   |     4     |          (4,)         |\n",
      "|    2    |   relu   |  adam  |  200   |     25    |        (15, 10)       |\n",
      "|    1    |   relu   |  adam  |  200   |     17    |         (17,)         |\n",
      "|    1    |   relu   |  adam  |  150   |     25    |         (25,)         |\n",
      "|    1    |   relu   |  sgd   |  100   |     17    |         (17,)         |\n",
      "|    1    |   relu   |  sgd   |  200   |     25    |         (25,)         |\n",
      "|    2    |   relu   |  sgd   |  150   |     17    |         (8, 9)        |\n",
      "|    1    |   tanh   |  sgd   |  100   |     25    |         (25,)         |\n",
      "|    2    | logistic |  adam  |  150   |     25    |        (15, 10)       |\n",
      "+---------+----------+--------+--------+-----------+-----------------------+\n"
     ]
    }
   ],
   "source": [
    "parameters = {\n",
    "    \"hidden_layers\": [(4,), (17,), (25,), (2, 2), (8, 9), (15, 10)],\n",
    "    \"solvers\": ['adam', 'sgd'],\n",
    "    \"epochs\": [100, 150, 200],\n",
    "    \"activation\": [\"identity\", \"logistic\", \"tanh\", \"relu\"]\n",
    "}\n",
    "archs = get_params(30)\n",
    "print_table(archs)"
   ]
  },
  {
   "cell_type": "code",
   "execution_count": 14,
   "metadata": {
    "colab": {
     "base_uri": "https://localhost:8080/",
     "height": 391
    },
    "id": "dSxKHq7V1kxi",
    "outputId": "5187421a-0345-48b4-b7d2-772d1d24a65b"
   },
   "outputs": [
    {
     "name": "stdout",
     "output_type": "stream",
     "text": [
      "Treinando a rede:  1\n"
     ]
    },
    {
     "ename": "KeyboardInterrupt",
     "evalue": "",
     "output_type": "error",
     "traceback": [
      "\u001b[1;31m---------------------------------------------------------------------------\u001b[0m",
      "\u001b[1;31mKeyboardInterrupt\u001b[0m                         Traceback (most recent call last)",
      "\u001b[1;32m<ipython-input-14-84ed8a5104e0>\u001b[0m in \u001b[0;36m<module>\u001b[1;34m\u001b[0m\n\u001b[0;32m     26\u001b[0m         \u001b[1;31m#calculando as metricas\u001b[0m\u001b[1;33m\u001b[0m\u001b[1;33m\u001b[0m\u001b[1;33m\u001b[0m\u001b[0m\n\u001b[0;32m     27\u001b[0m         \u001b[0macuracia\u001b[0m \u001b[1;33m=\u001b[0m \u001b[0maccuracy_score\u001b[0m\u001b[1;33m(\u001b[0m\u001b[0my_test\u001b[0m\u001b[1;33m,\u001b[0m \u001b[0my_pred\u001b[0m\u001b[1;33m)\u001b[0m\u001b[1;33m\u001b[0m\u001b[1;33m\u001b[0m\u001b[0m\n\u001b[1;32m---> 28\u001b[1;33m         \u001b[0mfscore\u001b[0m \u001b[1;33m=\u001b[0m \u001b[0mf1_score\u001b[0m\u001b[1;33m(\u001b[0m\u001b[0my_test\u001b[0m\u001b[1;33m,\u001b[0m \u001b[0my_pred\u001b[0m\u001b[1;33m,\u001b[0m \u001b[0maverage\u001b[0m\u001b[1;33m=\u001b[0m\u001b[1;34m'macro'\u001b[0m\u001b[1;33m)\u001b[0m\u001b[1;33m\u001b[0m\u001b[1;33m\u001b[0m\u001b[0m\n\u001b[0m\u001b[0;32m     29\u001b[0m \u001b[1;33m\u001b[0m\u001b[0m\n\u001b[0;32m     30\u001b[0m         \u001b[1;31m# salvando os valores das metricas\u001b[0m\u001b[1;33m\u001b[0m\u001b[1;33m\u001b[0m\u001b[1;33m\u001b[0m\u001b[0m\n",
      "\u001b[1;32m~\\AppData\\Roaming\\Python\\Python38\\site-packages\\sklearn\\utils\\validation.py\u001b[0m in \u001b[0;36minner_f\u001b[1;34m(*args, **kwargs)\u001b[0m\n\u001b[0;32m     70\u001b[0m                           FutureWarning)\n\u001b[0;32m     71\u001b[0m         \u001b[0mkwargs\u001b[0m\u001b[1;33m.\u001b[0m\u001b[0mupdate\u001b[0m\u001b[1;33m(\u001b[0m\u001b[1;33m{\u001b[0m\u001b[0mk\u001b[0m\u001b[1;33m:\u001b[0m \u001b[0marg\u001b[0m \u001b[1;32mfor\u001b[0m \u001b[0mk\u001b[0m\u001b[1;33m,\u001b[0m \u001b[0marg\u001b[0m \u001b[1;32min\u001b[0m \u001b[0mzip\u001b[0m\u001b[1;33m(\u001b[0m\u001b[0msig\u001b[0m\u001b[1;33m.\u001b[0m\u001b[0mparameters\u001b[0m\u001b[1;33m,\u001b[0m \u001b[0margs\u001b[0m\u001b[1;33m)\u001b[0m\u001b[1;33m}\u001b[0m\u001b[1;33m)\u001b[0m\u001b[1;33m\u001b[0m\u001b[1;33m\u001b[0m\u001b[0m\n\u001b[1;32m---> 72\u001b[1;33m         \u001b[1;32mreturn\u001b[0m \u001b[0mf\u001b[0m\u001b[1;33m(\u001b[0m\u001b[1;33m**\u001b[0m\u001b[0mkwargs\u001b[0m\u001b[1;33m)\u001b[0m\u001b[1;33m\u001b[0m\u001b[1;33m\u001b[0m\u001b[0m\n\u001b[0m\u001b[0;32m     73\u001b[0m     \u001b[1;32mreturn\u001b[0m \u001b[0minner_f\u001b[0m\u001b[1;33m\u001b[0m\u001b[1;33m\u001b[0m\u001b[0m\n\u001b[0;32m     74\u001b[0m \u001b[1;33m\u001b[0m\u001b[0m\n",
      "\u001b[1;32m~\\AppData\\Roaming\\Python\\Python38\\site-packages\\sklearn\\metrics\\_classification.py\u001b[0m in \u001b[0;36mf1_score\u001b[1;34m(y_true, y_pred, labels, pos_label, average, sample_weight, zero_division)\u001b[0m\n\u001b[0;32m   1042\u001b[0m     \u001b[0mmodified\u001b[0m \u001b[1;32mwith\u001b[0m\u001b[0;31m \u001b[0m\u001b[0;31m`\u001b[0m\u001b[0;31m`\u001b[0m\u001b[0mzero_division\u001b[0m\u001b[0;31m`\u001b[0m\u001b[0;31m`\u001b[0m\u001b[1;33m.\u001b[0m\u001b[1;33m\u001b[0m\u001b[1;33m\u001b[0m\u001b[0m\n\u001b[0;32m   1043\u001b[0m     \"\"\"\n\u001b[1;32m-> 1044\u001b[1;33m     return fbeta_score(y_true, y_pred, beta=1, labels=labels,\n\u001b[0m\u001b[0;32m   1045\u001b[0m                        \u001b[0mpos_label\u001b[0m\u001b[1;33m=\u001b[0m\u001b[0mpos_label\u001b[0m\u001b[1;33m,\u001b[0m \u001b[0maverage\u001b[0m\u001b[1;33m=\u001b[0m\u001b[0maverage\u001b[0m\u001b[1;33m,\u001b[0m\u001b[1;33m\u001b[0m\u001b[1;33m\u001b[0m\u001b[0m\n\u001b[0;32m   1046\u001b[0m                        \u001b[0msample_weight\u001b[0m\u001b[1;33m=\u001b[0m\u001b[0msample_weight\u001b[0m\u001b[1;33m,\u001b[0m\u001b[1;33m\u001b[0m\u001b[1;33m\u001b[0m\u001b[0m\n",
      "\u001b[1;32m~\\AppData\\Roaming\\Python\\Python38\\site-packages\\sklearn\\utils\\validation.py\u001b[0m in \u001b[0;36minner_f\u001b[1;34m(*args, **kwargs)\u001b[0m\n\u001b[0;32m     70\u001b[0m                           FutureWarning)\n\u001b[0;32m     71\u001b[0m         \u001b[0mkwargs\u001b[0m\u001b[1;33m.\u001b[0m\u001b[0mupdate\u001b[0m\u001b[1;33m(\u001b[0m\u001b[1;33m{\u001b[0m\u001b[0mk\u001b[0m\u001b[1;33m:\u001b[0m \u001b[0marg\u001b[0m \u001b[1;32mfor\u001b[0m \u001b[0mk\u001b[0m\u001b[1;33m,\u001b[0m \u001b[0marg\u001b[0m \u001b[1;32min\u001b[0m \u001b[0mzip\u001b[0m\u001b[1;33m(\u001b[0m\u001b[0msig\u001b[0m\u001b[1;33m.\u001b[0m\u001b[0mparameters\u001b[0m\u001b[1;33m,\u001b[0m \u001b[0margs\u001b[0m\u001b[1;33m)\u001b[0m\u001b[1;33m}\u001b[0m\u001b[1;33m)\u001b[0m\u001b[1;33m\u001b[0m\u001b[1;33m\u001b[0m\u001b[0m\n\u001b[1;32m---> 72\u001b[1;33m         \u001b[1;32mreturn\u001b[0m \u001b[0mf\u001b[0m\u001b[1;33m(\u001b[0m\u001b[1;33m**\u001b[0m\u001b[0mkwargs\u001b[0m\u001b[1;33m)\u001b[0m\u001b[1;33m\u001b[0m\u001b[1;33m\u001b[0m\u001b[0m\n\u001b[0m\u001b[0;32m     73\u001b[0m     \u001b[1;32mreturn\u001b[0m \u001b[0minner_f\u001b[0m\u001b[1;33m\u001b[0m\u001b[1;33m\u001b[0m\u001b[0m\n\u001b[0;32m     74\u001b[0m \u001b[1;33m\u001b[0m\u001b[0m\n",
      "\u001b[1;32m~\\AppData\\Roaming\\Python\\Python38\\site-packages\\sklearn\\metrics\\_classification.py\u001b[0m in \u001b[0;36mfbeta_score\u001b[1;34m(y_true, y_pred, beta, labels, pos_label, average, sample_weight, zero_division)\u001b[0m\n\u001b[0;32m   1166\u001b[0m     \"\"\"\n\u001b[0;32m   1167\u001b[0m \u001b[1;33m\u001b[0m\u001b[0m\n\u001b[1;32m-> 1168\u001b[1;33m     _, _, f, _ = precision_recall_fscore_support(y_true, y_pred,\n\u001b[0m\u001b[0;32m   1169\u001b[0m                                                  \u001b[0mbeta\u001b[0m\u001b[1;33m=\u001b[0m\u001b[0mbeta\u001b[0m\u001b[1;33m,\u001b[0m\u001b[1;33m\u001b[0m\u001b[1;33m\u001b[0m\u001b[0m\n\u001b[0;32m   1170\u001b[0m                                                  \u001b[0mlabels\u001b[0m\u001b[1;33m=\u001b[0m\u001b[0mlabels\u001b[0m\u001b[1;33m,\u001b[0m\u001b[1;33m\u001b[0m\u001b[1;33m\u001b[0m\u001b[0m\n",
      "\u001b[1;32m~\\AppData\\Roaming\\Python\\Python38\\site-packages\\sklearn\\utils\\validation.py\u001b[0m in \u001b[0;36minner_f\u001b[1;34m(*args, **kwargs)\u001b[0m\n\u001b[0;32m     70\u001b[0m                           FutureWarning)\n\u001b[0;32m     71\u001b[0m         \u001b[0mkwargs\u001b[0m\u001b[1;33m.\u001b[0m\u001b[0mupdate\u001b[0m\u001b[1;33m(\u001b[0m\u001b[1;33m{\u001b[0m\u001b[0mk\u001b[0m\u001b[1;33m:\u001b[0m \u001b[0marg\u001b[0m \u001b[1;32mfor\u001b[0m \u001b[0mk\u001b[0m\u001b[1;33m,\u001b[0m \u001b[0marg\u001b[0m \u001b[1;32min\u001b[0m \u001b[0mzip\u001b[0m\u001b[1;33m(\u001b[0m\u001b[0msig\u001b[0m\u001b[1;33m.\u001b[0m\u001b[0mparameters\u001b[0m\u001b[1;33m,\u001b[0m \u001b[0margs\u001b[0m\u001b[1;33m)\u001b[0m\u001b[1;33m}\u001b[0m\u001b[1;33m)\u001b[0m\u001b[1;33m\u001b[0m\u001b[1;33m\u001b[0m\u001b[0m\n\u001b[1;32m---> 72\u001b[1;33m         \u001b[1;32mreturn\u001b[0m \u001b[0mf\u001b[0m\u001b[1;33m(\u001b[0m\u001b[1;33m**\u001b[0m\u001b[0mkwargs\u001b[0m\u001b[1;33m)\u001b[0m\u001b[1;33m\u001b[0m\u001b[1;33m\u001b[0m\u001b[0m\n\u001b[0m\u001b[0;32m     73\u001b[0m     \u001b[1;32mreturn\u001b[0m \u001b[0minner_f\u001b[0m\u001b[1;33m\u001b[0m\u001b[1;33m\u001b[0m\u001b[0m\n\u001b[0;32m     74\u001b[0m \u001b[1;33m\u001b[0m\u001b[0m\n",
      "\u001b[1;32m~\\AppData\\Roaming\\Python\\Python38\\site-packages\\sklearn\\metrics\\_classification.py\u001b[0m in \u001b[0;36mprecision_recall_fscore_support\u001b[1;34m(y_true, y_pred, beta, labels, pos_label, average, warn_for, sample_weight, zero_division)\u001b[0m\n\u001b[0;32m   1436\u001b[0m     \u001b[1;31m# Calculate tp_sum, pred_sum, true_sum ###\u001b[0m\u001b[1;33m\u001b[0m\u001b[1;33m\u001b[0m\u001b[1;33m\u001b[0m\u001b[0m\n\u001b[0;32m   1437\u001b[0m     \u001b[0msamplewise\u001b[0m \u001b[1;33m=\u001b[0m \u001b[0maverage\u001b[0m \u001b[1;33m==\u001b[0m \u001b[1;34m'samples'\u001b[0m\u001b[1;33m\u001b[0m\u001b[1;33m\u001b[0m\u001b[0m\n\u001b[1;32m-> 1438\u001b[1;33m     MCM = multilabel_confusion_matrix(y_true, y_pred,\n\u001b[0m\u001b[0;32m   1439\u001b[0m                                       \u001b[0msample_weight\u001b[0m\u001b[1;33m=\u001b[0m\u001b[0msample_weight\u001b[0m\u001b[1;33m,\u001b[0m\u001b[1;33m\u001b[0m\u001b[1;33m\u001b[0m\u001b[0m\n\u001b[0;32m   1440\u001b[0m                                       labels=labels, samplewise=samplewise)\n",
      "\u001b[1;32m~\\AppData\\Roaming\\Python\\Python38\\site-packages\\sklearn\\utils\\validation.py\u001b[0m in \u001b[0;36minner_f\u001b[1;34m(*args, **kwargs)\u001b[0m\n\u001b[0;32m     70\u001b[0m                           FutureWarning)\n\u001b[0;32m     71\u001b[0m         \u001b[0mkwargs\u001b[0m\u001b[1;33m.\u001b[0m\u001b[0mupdate\u001b[0m\u001b[1;33m(\u001b[0m\u001b[1;33m{\u001b[0m\u001b[0mk\u001b[0m\u001b[1;33m:\u001b[0m \u001b[0marg\u001b[0m \u001b[1;32mfor\u001b[0m \u001b[0mk\u001b[0m\u001b[1;33m,\u001b[0m \u001b[0marg\u001b[0m \u001b[1;32min\u001b[0m \u001b[0mzip\u001b[0m\u001b[1;33m(\u001b[0m\u001b[0msig\u001b[0m\u001b[1;33m.\u001b[0m\u001b[0mparameters\u001b[0m\u001b[1;33m,\u001b[0m \u001b[0margs\u001b[0m\u001b[1;33m)\u001b[0m\u001b[1;33m}\u001b[0m\u001b[1;33m)\u001b[0m\u001b[1;33m\u001b[0m\u001b[1;33m\u001b[0m\u001b[0m\n\u001b[1;32m---> 72\u001b[1;33m         \u001b[1;32mreturn\u001b[0m \u001b[0mf\u001b[0m\u001b[1;33m(\u001b[0m\u001b[1;33m**\u001b[0m\u001b[0mkwargs\u001b[0m\u001b[1;33m)\u001b[0m\u001b[1;33m\u001b[0m\u001b[1;33m\u001b[0m\u001b[0m\n\u001b[0m\u001b[0;32m     73\u001b[0m     \u001b[1;32mreturn\u001b[0m \u001b[0minner_f\u001b[0m\u001b[1;33m\u001b[0m\u001b[1;33m\u001b[0m\u001b[0m\n\u001b[0;32m     74\u001b[0m \u001b[1;33m\u001b[0m\u001b[0m\n",
      "\u001b[1;32m~\\AppData\\Roaming\\Python\\Python38\\site-packages\\sklearn\\metrics\\_classification.py\u001b[0m in \u001b[0;36mmultilabel_confusion_matrix\u001b[1;34m(y_true, y_pred, sample_weight, labels, samplewise)\u001b[0m\n\u001b[0;32m    444\u001b[0m         \u001b[1;32mraise\u001b[0m \u001b[0mValueError\u001b[0m\u001b[1;33m(\u001b[0m\u001b[1;34m\"%s is not supported\"\u001b[0m \u001b[1;33m%\u001b[0m \u001b[0my_type\u001b[0m\u001b[1;33m)\u001b[0m\u001b[1;33m\u001b[0m\u001b[1;33m\u001b[0m\u001b[0m\n\u001b[0;32m    445\u001b[0m \u001b[1;33m\u001b[0m\u001b[0m\n\u001b[1;32m--> 446\u001b[1;33m     \u001b[0mpresent_labels\u001b[0m \u001b[1;33m=\u001b[0m \u001b[0munique_labels\u001b[0m\u001b[1;33m(\u001b[0m\u001b[0my_true\u001b[0m\u001b[1;33m,\u001b[0m \u001b[0my_pred\u001b[0m\u001b[1;33m)\u001b[0m\u001b[1;33m\u001b[0m\u001b[1;33m\u001b[0m\u001b[0m\n\u001b[0m\u001b[0;32m    447\u001b[0m     \u001b[1;32mif\u001b[0m \u001b[0mlabels\u001b[0m \u001b[1;32mis\u001b[0m \u001b[1;32mNone\u001b[0m\u001b[1;33m:\u001b[0m\u001b[1;33m\u001b[0m\u001b[1;33m\u001b[0m\u001b[0m\n\u001b[0;32m    448\u001b[0m         \u001b[0mlabels\u001b[0m \u001b[1;33m=\u001b[0m \u001b[0mpresent_labels\u001b[0m\u001b[1;33m\u001b[0m\u001b[1;33m\u001b[0m\u001b[0m\n",
      "\u001b[1;32m~\\AppData\\Roaming\\Python\\Python38\\site-packages\\sklearn\\utils\\multiclass.py\u001b[0m in \u001b[0;36munique_labels\u001b[1;34m(*ys)\u001b[0m\n\u001b[0;32m     97\u001b[0m         \u001b[1;32mraise\u001b[0m \u001b[0mValueError\u001b[0m\u001b[1;33m(\u001b[0m\u001b[1;34m\"Unknown label type: %s\"\u001b[0m \u001b[1;33m%\u001b[0m \u001b[0mrepr\u001b[0m\u001b[1;33m(\u001b[0m\u001b[0mys\u001b[0m\u001b[1;33m)\u001b[0m\u001b[1;33m)\u001b[0m\u001b[1;33m\u001b[0m\u001b[1;33m\u001b[0m\u001b[0m\n\u001b[0;32m     98\u001b[0m \u001b[1;33m\u001b[0m\u001b[0m\n\u001b[1;32m---> 99\u001b[1;33m     \u001b[0mys_labels\u001b[0m \u001b[1;33m=\u001b[0m \u001b[0mset\u001b[0m\u001b[1;33m(\u001b[0m\u001b[0mchain\u001b[0m\u001b[1;33m.\u001b[0m\u001b[0mfrom_iterable\u001b[0m\u001b[1;33m(\u001b[0m\u001b[0m_unique_labels\u001b[0m\u001b[1;33m(\u001b[0m\u001b[0my\u001b[0m\u001b[1;33m)\u001b[0m \u001b[1;32mfor\u001b[0m \u001b[0my\u001b[0m \u001b[1;32min\u001b[0m \u001b[0mys\u001b[0m\u001b[1;33m)\u001b[0m\u001b[1;33m)\u001b[0m\u001b[1;33m\u001b[0m\u001b[1;33m\u001b[0m\u001b[0m\n\u001b[0m\u001b[0;32m    100\u001b[0m \u001b[1;33m\u001b[0m\u001b[0m\n\u001b[0;32m    101\u001b[0m     \u001b[1;31m# Check that we don't mix string type with number type\u001b[0m\u001b[1;33m\u001b[0m\u001b[1;33m\u001b[0m\u001b[1;33m\u001b[0m\u001b[0m\n",
      "\u001b[1;32m~\\AppData\\Roaming\\Python\\Python38\\site-packages\\sklearn\\utils\\multiclass.py\u001b[0m in \u001b[0;36m<genexpr>\u001b[1;34m(.0)\u001b[0m\n\u001b[0;32m     97\u001b[0m         \u001b[1;32mraise\u001b[0m \u001b[0mValueError\u001b[0m\u001b[1;33m(\u001b[0m\u001b[1;34m\"Unknown label type: %s\"\u001b[0m \u001b[1;33m%\u001b[0m \u001b[0mrepr\u001b[0m\u001b[1;33m(\u001b[0m\u001b[0mys\u001b[0m\u001b[1;33m)\u001b[0m\u001b[1;33m)\u001b[0m\u001b[1;33m\u001b[0m\u001b[1;33m\u001b[0m\u001b[0m\n\u001b[0;32m     98\u001b[0m \u001b[1;33m\u001b[0m\u001b[0m\n\u001b[1;32m---> 99\u001b[1;33m     \u001b[0mys_labels\u001b[0m \u001b[1;33m=\u001b[0m \u001b[0mset\u001b[0m\u001b[1;33m(\u001b[0m\u001b[0mchain\u001b[0m\u001b[1;33m.\u001b[0m\u001b[0mfrom_iterable\u001b[0m\u001b[1;33m(\u001b[0m\u001b[0m_unique_labels\u001b[0m\u001b[1;33m(\u001b[0m\u001b[0my\u001b[0m\u001b[1;33m)\u001b[0m \u001b[1;32mfor\u001b[0m \u001b[0my\u001b[0m \u001b[1;32min\u001b[0m \u001b[0mys\u001b[0m\u001b[1;33m)\u001b[0m\u001b[1;33m)\u001b[0m\u001b[1;33m\u001b[0m\u001b[1;33m\u001b[0m\u001b[0m\n\u001b[0m\u001b[0;32m    100\u001b[0m \u001b[1;33m\u001b[0m\u001b[0m\n\u001b[0;32m    101\u001b[0m     \u001b[1;31m# Check that we don't mix string type with number type\u001b[0m\u001b[1;33m\u001b[0m\u001b[1;33m\u001b[0m\u001b[1;33m\u001b[0m\u001b[0m\n",
      "\u001b[1;32m~\\AppData\\Roaming\\Python\\Python38\\site-packages\\sklearn\\utils\\multiclass.py\u001b[0m in \u001b[0;36m_unique_multiclass\u001b[1;34m(y)\u001b[0m\n\u001b[0;32m     22\u001b[0m \u001b[1;32mdef\u001b[0m \u001b[0m_unique_multiclass\u001b[0m\u001b[1;33m(\u001b[0m\u001b[0my\u001b[0m\u001b[1;33m)\u001b[0m\u001b[1;33m:\u001b[0m\u001b[1;33m\u001b[0m\u001b[1;33m\u001b[0m\u001b[0m\n\u001b[0;32m     23\u001b[0m     \u001b[1;32mif\u001b[0m \u001b[0mhasattr\u001b[0m\u001b[1;33m(\u001b[0m\u001b[0my\u001b[0m\u001b[1;33m,\u001b[0m \u001b[1;34m'__array__'\u001b[0m\u001b[1;33m)\u001b[0m\u001b[1;33m:\u001b[0m\u001b[1;33m\u001b[0m\u001b[1;33m\u001b[0m\u001b[0m\n\u001b[1;32m---> 24\u001b[1;33m         \u001b[1;32mreturn\u001b[0m \u001b[0mnp\u001b[0m\u001b[1;33m.\u001b[0m\u001b[0munique\u001b[0m\u001b[1;33m(\u001b[0m\u001b[0mnp\u001b[0m\u001b[1;33m.\u001b[0m\u001b[0masarray\u001b[0m\u001b[1;33m(\u001b[0m\u001b[0my\u001b[0m\u001b[1;33m)\u001b[0m\u001b[1;33m)\u001b[0m\u001b[1;33m\u001b[0m\u001b[1;33m\u001b[0m\u001b[0m\n\u001b[0m\u001b[0;32m     25\u001b[0m     \u001b[1;32melse\u001b[0m\u001b[1;33m:\u001b[0m\u001b[1;33m\u001b[0m\u001b[1;33m\u001b[0m\u001b[0m\n\u001b[0;32m     26\u001b[0m         \u001b[1;32mreturn\u001b[0m \u001b[0mset\u001b[0m\u001b[1;33m(\u001b[0m\u001b[0my\u001b[0m\u001b[1;33m)\u001b[0m\u001b[1;33m\u001b[0m\u001b[1;33m\u001b[0m\u001b[0m\n",
      "\u001b[1;32m<__array_function__ internals>\u001b[0m in \u001b[0;36munique\u001b[1;34m(*args, **kwargs)\u001b[0m\n",
      "\u001b[1;32m~\\AppData\\Roaming\\Python\\Python38\\site-packages\\numpy\\lib\\arraysetops.py\u001b[0m in \u001b[0;36munique\u001b[1;34m(ar, return_index, return_inverse, return_counts, axis)\u001b[0m\n\u001b[0;32m    259\u001b[0m     \u001b[0mar\u001b[0m \u001b[1;33m=\u001b[0m \u001b[0mnp\u001b[0m\u001b[1;33m.\u001b[0m\u001b[0masanyarray\u001b[0m\u001b[1;33m(\u001b[0m\u001b[0mar\u001b[0m\u001b[1;33m)\u001b[0m\u001b[1;33m\u001b[0m\u001b[1;33m\u001b[0m\u001b[0m\n\u001b[0;32m    260\u001b[0m     \u001b[1;32mif\u001b[0m \u001b[0maxis\u001b[0m \u001b[1;32mis\u001b[0m \u001b[1;32mNone\u001b[0m\u001b[1;33m:\u001b[0m\u001b[1;33m\u001b[0m\u001b[1;33m\u001b[0m\u001b[0m\n\u001b[1;32m--> 261\u001b[1;33m         \u001b[0mret\u001b[0m \u001b[1;33m=\u001b[0m \u001b[0m_unique1d\u001b[0m\u001b[1;33m(\u001b[0m\u001b[0mar\u001b[0m\u001b[1;33m,\u001b[0m \u001b[0mreturn_index\u001b[0m\u001b[1;33m,\u001b[0m \u001b[0mreturn_inverse\u001b[0m\u001b[1;33m,\u001b[0m \u001b[0mreturn_counts\u001b[0m\u001b[1;33m)\u001b[0m\u001b[1;33m\u001b[0m\u001b[1;33m\u001b[0m\u001b[0m\n\u001b[0m\u001b[0;32m    262\u001b[0m         \u001b[1;32mreturn\u001b[0m \u001b[0m_unpack_tuple\u001b[0m\u001b[1;33m(\u001b[0m\u001b[0mret\u001b[0m\u001b[1;33m)\u001b[0m\u001b[1;33m\u001b[0m\u001b[1;33m\u001b[0m\u001b[0m\n\u001b[0;32m    263\u001b[0m \u001b[1;33m\u001b[0m\u001b[0m\n",
      "\u001b[1;32m~\\AppData\\Roaming\\Python\\Python38\\site-packages\\numpy\\lib\\arraysetops.py\u001b[0m in \u001b[0;36m_unique1d\u001b[1;34m(ar, return_index, return_inverse, return_counts)\u001b[0m\n\u001b[0;32m    320\u001b[0m         \u001b[0maux\u001b[0m \u001b[1;33m=\u001b[0m \u001b[0mar\u001b[0m\u001b[1;33m[\u001b[0m\u001b[0mperm\u001b[0m\u001b[1;33m]\u001b[0m\u001b[1;33m\u001b[0m\u001b[1;33m\u001b[0m\u001b[0m\n\u001b[0;32m    321\u001b[0m     \u001b[1;32melse\u001b[0m\u001b[1;33m:\u001b[0m\u001b[1;33m\u001b[0m\u001b[1;33m\u001b[0m\u001b[0m\n\u001b[1;32m--> 322\u001b[1;33m         \u001b[0mar\u001b[0m\u001b[1;33m.\u001b[0m\u001b[0msort\u001b[0m\u001b[1;33m(\u001b[0m\u001b[1;33m)\u001b[0m\u001b[1;33m\u001b[0m\u001b[1;33m\u001b[0m\u001b[0m\n\u001b[0m\u001b[0;32m    323\u001b[0m         \u001b[0maux\u001b[0m \u001b[1;33m=\u001b[0m \u001b[0mar\u001b[0m\u001b[1;33m\u001b[0m\u001b[1;33m\u001b[0m\u001b[0m\n\u001b[0;32m    324\u001b[0m     \u001b[0mmask\u001b[0m \u001b[1;33m=\u001b[0m \u001b[0mnp\u001b[0m\u001b[1;33m.\u001b[0m\u001b[0mempty\u001b[0m\u001b[1;33m(\u001b[0m\u001b[0maux\u001b[0m\u001b[1;33m.\u001b[0m\u001b[0mshape\u001b[0m\u001b[1;33m,\u001b[0m \u001b[0mdtype\u001b[0m\u001b[1;33m=\u001b[0m\u001b[0mnp\u001b[0m\u001b[1;33m.\u001b[0m\u001b[0mbool_\u001b[0m\u001b[1;33m)\u001b[0m\u001b[1;33m\u001b[0m\u001b[1;33m\u001b[0m\u001b[0m\n",
      "\u001b[1;31mKeyboardInterrupt\u001b[0m: "
     ]
    }
   ],
   "source": [
    "general_metrics_net_2 = []\n",
    "cont = 1\n",
    "for arch in archs:\n",
    "    print(\"Treinando a rede: \", cont)\n",
    "    cont+=1\n",
    "    metrics = {'acuracias':[], 'fscores':[]}\n",
    "    \n",
    "    # criando a rede\n",
    "    nnc = MLPClassifier(\n",
    "        hidden_layer_sizes=arch[0],\n",
    "        activation=arch[3], \n",
    "        solver=arch[1],\n",
    "        max_iter=arch[2],\n",
    "        n_iter_no_change=2, \n",
    "        verbose=False,\n",
    "        shuffle=True\n",
    "    )\n",
    "\n",
    "    for i in range(10):\n",
    "\n",
    "        # particionando o dataset\n",
    "        X_train, X_test, y_train, y_test = split_train_test(X, y)\n",
    "\n",
    "        # escalonando os dados\n",
    "        X_train_std, X_test_std = scaler(X_train, X_test)\n",
    "\n",
    "        # treinando a rede\n",
    "        nnc.fit(X_train_std, y_train)\n",
    "\n",
    "        # testando a rede neural treinada\n",
    "        y_pred = nnc.predict(X_test_std)\n",
    "        \n",
    "        #calculando as metricas\n",
    "        acuracia = accuracy_score(y_test, y_pred)\n",
    "        fscore = f1_score(y_test, y_pred, average='macro')\n",
    "\n",
    "        # salvando os valores das metricas\n",
    "        metrics['acuracias'].append(acuracia)\n",
    "        metrics['fscores'].append(fscore)\n",
    "\n",
    "    general_metrics_net_2.append((np.mean(metrics['acuracias']), np.mean(metrics['fscores']), nnc))"
   ]
  },
  {
   "cell_type": "markdown",
   "metadata": {
    "id": "hKfYoPcpZrcC"
   },
   "source": [
    "- Apresente as top-3 melhores redes no tocante à F-Score e Acurácia"
   ]
  },
  {
   "cell_type": "code",
   "execution_count": null,
   "metadata": {
    "id": "aKDkhdRF1kxs"
   },
   "outputs": [],
   "source": [
    "print(table)"
   ]
  },
  {
   "cell_type": "markdown",
   "metadata": {
    "id": "0dxHUeicQdK_"
   },
   "source": [
    "## Testando as Redes Neurais com Atributos Categóricos\n",
    "\n",
    "1. Considere as 6 redes neurais obtidas nos dois top-3 anteriores (arquiteturas próprias e regra da pirâmide geométrica)\n",
    "2. Com todos os atributos preditores da base de dados original, incluindo os categóricos, treine e teste estas mesmas redes por 100 repetições  \n",
    "    2.1 Considere o melhor otimizador para cada uma delas  \n",
    "    2.2 Faça uso de 200 épocas para treinamento  \n",
    "    2.2 Apresente os resultados de acurácia e F-Score em termos da média +- dp para cada arquitetura\n",
    "3. Apresente o gráfico boxplot para o F-Score das 6 arquiteturas perante as 100 repetições"
   ]
  },
  {
   "cell_type": "markdown",
   "metadata": {
    "id": "fhFS3pj6360e"
   },
   "source": [
    "- Considere as 6 redes neurais obtidas nos dois top-3 anteriores (arquiteturas próprias e regra da pirâmide geométrica)"
   ]
  },
  {
   "cell_type": "code",
   "execution_count": null,
   "metadata": {
    "id": "jUEayh-3ssAu"
   },
   "outputs": [],
   "source": [
    "# ordenando em ordem descendente o Top-3 pela métrica de acurácia\n",
    "general_metrics_net_2.sort(key=lambda x:x[0])\n",
    "\n",
    "# definindo as 6 redes neurais\n",
    "redes = [general_metrics_net[0][2], general_metrics_net[1][2], general_metrics_net[2][2], general_metrics_net_2[0][2], general_metrics_net_2[1][2], general_metrics_net_2[2][2]]"
   ]
  },
  {
   "cell_type": "markdown",
   "metadata": {
    "id": "xx48NvBk6C8k"
   },
   "source": [
    "- Com todos os atributos preditores da base de dados original, incluindo os categóricos, treine e teste estas mesmas redes por 100 repetições  \n",
    "   \n"
   ]
  },
  {
   "cell_type": "code",
   "execution_count": null,
   "metadata": {
    "id": "LO_FiczZ6jw5"
   },
   "outputs": [],
   "source": [
    "X = new_database.iloc[:,:-1]\n",
    "y = new_database.Cover_Type"
   ]
  },
  {
   "cell_type": "markdown",
   "metadata": {
    "id": "5oFH_aEl6h1V"
   },
   "source": [
    "- Considere o melhor otimizador para cada uma delas  \n"
   ]
  },
  {
   "cell_type": "code",
   "execution_count": null,
   "metadata": {
    "id": "drTFfzeg7V1s"
   },
   "outputs": [],
   "source": [
    "# definindo o otimizador das redes\n",
    "otimizador = 'sgd'\n",
    "\n",
    "for i in range(6):\n",
    "    redes[i].solver = otimizador"
   ]
  },
  {
   "cell_type": "markdown",
   "metadata": {
    "id": "yxAsy1gJ7Uke"
   },
   "source": [
    "- Faça uso de 200 épocas para treinamento"
   ]
  },
  {
   "cell_type": "code",
   "execution_count": null,
   "metadata": {
    "id": "5LPa0YEn7w_j"
   },
   "outputs": [],
   "source": [
    "# definindo o máximo de épocas das redes\n",
    "epocas = 200\n",
    "\n",
    "for i in range(6):\n",
    "    redes[i].max_iter = epocas"
   ]
  },
  {
   "cell_type": "code",
   "execution_count": null,
   "metadata": {
    "id": "x3ySdVEW381f"
   },
   "outputs": [],
   "source": [
    "acuracia = PrettyTable([\"Arquitetura\", \"Média\", \"Desvio Padrão\"])\n",
    "fscore = PrettyTable([\"Arquitetura\", \"Média\", \"Desvio Padrão\"])\n",
    "boxplot = []\n",
    "arquitetura = 1\n",
    "table2.padding_width = 1\n",
    "\n",
    "for classifier in redes:\n",
    "        \n",
    "    medidas3 = {'acuracias':[], 'fscores':[]}\n",
    "\n",
    "    for i in range(0, 100, 1):\n",
    "\n",
    "        # particionando o dataset\n",
    "        X_train, X_test, y_train, y_test = split_train_test(X, y)\n",
    "\n",
    "        # escalonando os dados\n",
    "        X_train_std, X_test_std = scaler(X_train, X_test)\n",
    "        \n",
    "        # treinando a rede\n",
    "        classifier.fit(X_train_std, y_train)\n",
    "\n",
    "        # testando a rede neural treinada\n",
    "        y_pred = classifier.predict(X_test_std)\n",
    "        \n",
    "        # salvando os valores das metricas\n",
    "        medidas3['acuracias'].append(accuracy_score(y_test, y_pred))\n",
    "        medidas3['fscores'].append(f1_score(y_test, y_pred, average='macro'))\n",
    "    \n",
    "        acuracia.add_row([arquitetura, medidas3['acuracias'].mean(), medidas3['acuracias'].std()])\n",
    "        fscore.add_row([arquitetura, medidas3['fscores'].mean(), medidas3['fscores'].std()])\n",
    "        boxplot.append(medidas3['fscores'].mean())\n",
    "    arquitetura +=1 \n"
   ]
  },
  {
   "cell_type": "markdown",
   "metadata": {
    "id": "5v0McHN2BA-b"
   },
   "source": [
    "- Apresente os resultados de acurácia e F-Score em termos da média +- dp para cada arquitetura"
   ]
  },
  {
   "cell_type": "code",
   "execution_count": null,
   "metadata": {
    "id": "kd3eq5cREx92"
   },
   "outputs": [],
   "source": [
    "print(acuracia)"
   ]
  },
  {
   "cell_type": "code",
   "execution_count": null,
   "metadata": {
    "id": "xMikY86jEzon"
   },
   "outputs": [],
   "source": [
    "print(fscore)"
   ]
  },
  {
   "cell_type": "markdown",
   "metadata": {
    "id": "o0qISbFqFfp4"
   },
   "source": [
    "- Apresente o gráfico boxplot para o F-Score das 6 arquiteturas perante as 100 repetições"
   ]
  },
  {
   "cell_type": "code",
   "execution_count": null,
   "metadata": {
    "colab": {
     "base_uri": "https://localhost:8080/",
     "height": 281
    },
    "id": "mGByUsvdFcA2",
    "outputId": "1a46d247-1d09-48a6-904e-1661c0ee20af"
   },
   "outputs": [
    {
     "data": {
      "image/png": "[encoded data removed]",
      "text/plain": [
       "<Figure size 432x288 with 1 Axes>"
      ]
     },
     "metadata": {
      "needs_background": "light",
      "tags": []
     },
     "output_type": "display_data"
    }
   ],
   "source": [
    "for i in range(len(boxplot)):\n",
    "\n",
    "    fig, ax = plt.subplots()\n",
    "    ax.set_title('Arquitetura '+i)\n",
    "    ax.boxplot(boxplot[i])\n",
    "    plt.show()"
   ]
  },
  {
   "cell_type": "markdown",
   "metadata": {
    "id": "I19jW7oXQdLE"
   },
   "source": [
    "## Considerações Parciais\n",
    "\n",
    "1. É possível identificar uma rede com desempenho superior às demais?\n",
    "2. Qual estratégia mostrou-se mais producente para a obtenção de boas arquiteturas (Estratégia Própria ou Pirâmide Geométrica)? Por quê?\n",
    "3. Considerar os atributos categóricos trouxe melhorias? Justifique.\n",
    "4. Um número maior de épocas trouxe melhorias?\n",
    "5. Qual a maior dificuldade de resolução do problema proposto perante as RNAs?"
   ]
  },
  {
   "cell_type": "code",
   "execution_count": null,
   "metadata": {
    "id": "dGwauFi41kya"
   },
   "outputs": [],
   "source": []
  },
  {
   "cell_type": "code",
   "execution_count": null,
   "metadata": {
    "id": "Th1RkBQA1kyo"
   },
   "outputs": [],
   "source": []
  }
 ],
 "metadata": {
  "colab": {
   "collapsed_sections": [
    "QlF89XnWTHhX",
    "RpbNXc0_ShLm",
    "eAK6Ep-_RxND",
    "l13RZHwLR6me",
    "v9s49_ne0XXw",
    "iI5tGPF-QdK4"
   ],
   "name": "PP3.3 - Proposição e Avaliação de RNAs.ipynb",
   "provenance": []
  },
  "kernelspec": {
   "name": "Python 3.8.5 32-bit",
   "display_name": "Python 3.8.5 32-bit",
   "metadata": {
    "interpreter": {
     "hash": "7a542ca580817fc4dd55327026e074e2fa0cd470fc5dee9350c2d8b13822db8d"
    }
   }
  },
  "language_info": {
   "codemirror_mode": {
    "name": "ipython",
    "version": 3
   },
   "file_extension": ".py",
   "mimetype": "text/x-python",
   "name": "python",
   "nbconvert_exporter": "python",
   "pygments_lexer": "ipython3",
   "version": "3.8.5-final"
  }
 },
 "nbformat": 4,
 "nbformat_minor": 4
}