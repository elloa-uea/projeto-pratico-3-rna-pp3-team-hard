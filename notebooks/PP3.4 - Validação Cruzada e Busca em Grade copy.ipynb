{
 "cells": [
  {
   "cell_type": "markdown",
   "metadata": {
    "id": "3iOTCxwhfq8k"
   },
   "source": [
    "# Redes Neurais Artificiais 2020.1 -- Projeto Prático 3.4\n",
    "\n",
    "**Disciplina**: Redes Neurais Artificiais 2020.1  \n",
    "**Professora**: Elloá B. Guedes (ebgcosta@uea.edu.br)<br/>\n",
    "**Github**: http://github.com/elloa  \n",
    "  - Dayvson dos Santos Silva<br/>\n",
    "    **Email**: ddss.snf19@uea.edu.br<br/>\n",
    "    **GitHub**: https://github.com/userddssilva<br/>\n",
    "  - Hiago Oliveira de Jesus<br/>\n",
    "    **Email**: hodj.lic@uea.edu.br<br/>\n",
    "    **GitHub**: https://github.com/HiagoOliver<br/>     \n",
    "        \n",
    "\n",
    "Levando em conta a base de dados **_Forest Cover Type_**, esta terceira parte do Projeto Prático 3 diz respeito à proposição e avaliação de múltiplas redes neurais artificiais do tipo feedforward multilayer perceptron para o problema da classificação multi-classe da cobertura florestal em uma área do Roosevelt National Forest.\n",
    "\n",
    "## Busca em Grade\n",
    "\n",
    "Uma maneira padrão de escolher os parâmetros de um modelo de Machine Learning é por meio de uma busca em grade via força bruta. O algoritmo da busca em grade é dado como segue:\n",
    "\n",
    "1. Escolha a métrica de desempenho que você deseja maximizar  \n",
    "2. Escolha o algoritmo de Machine Learning (exemplo: redes neurais artificiais). Em seguida, defina os parâmetros ou hiperparâmetros deste tipo de modelo sobre os quais você deseja otimizar (número de épocas, taxa de aprendizado, etc.) e construa um array de valores a serem testados para cada parâmetro ou hiperparâmetro.  \n",
    "3. Defina a grade de busca, a qual é dada como o produto cartesiano de cada parâmetro a ser testado. Por exemplo, para os arrays [50, 100, 1000] e [10, 15], tem-se que a grade é [(50,10), (50,15), (100,10), (100,15), (1000,10), (1000,15)].\n",
    "4. Para cada combinação de parâmetros a serem otimizados, utilize o conjunto de treinamento para realizar uma validação cruzada (holdout ou k-fold) e calcule a métrica de avaliação no conjunto de teste (ou conjuntos de teste)\n",
    "5. Escolha a combinação de parâmetros que maximizam a métrica de avaliação. Este é o modelo otimizado.\n",
    "\n",
    "Por que esta abordagem funciona? Porque a busca em grade efetua uma pesquisa extensiva sobre as possíveis combinações de valores para cada um dos parâmetros a serem ajustados. Para cada combinação, ela estima a performance do modelo em dados novos. Por fim, o modelo com melhor métrica de desempenho é escolhido. Tem-se então que este modelo é o que melhor pode vir a generalizar mediante dados nunca antes vistos.\n",
    "\n",
    "## Efetuando a Busca em Grade sobre Hiperparâmetros das Top-6 RNAs\n",
    "\n",
    "Considerando a etapa anterior do projeto prático, foram identificadas pelo menos 6 melhores Redes Neurais para o problema da classificação multi-classe da cobertura florestal no conjunto de dados selecionado. Algumas destas redes possuem atributos categóricos como variáveis preditoras, enquanto outras possuem apenas os atributos numéricos como preditores.\n",
    "\n",
    "A primeira etapa desta segunda parte do projeto consiste em trazer para este notebook estas seis arquiteturas, ressaltando:\n",
    "\n",
    "1. Número de neurônios ocultos por camada  \n",
    "2. Função de Ativação  \n",
    "3. Utilização ou não de atributos categóricos   \n",
    "4. Desempenho médio +- desvio padrão nos testes anteriores  \n",
    "5. Número de repetições que a equipe conseguiu realizar para verificar os resultados  \n",
    "\n",
    "Elabore uma busca em grade sobre estas arquiteturas que contemple variações nos hiperparâmetros a seguir, conforme documentação de [MLPClassifier](https://scikit-learn.org/stable/modules/generated/sklearn.neural_network.MLPClassifier.html)\n",
    "\n",
    "A. Solver  (Não usar o LBFGS, pois é mais adequado para datasets pequenos)  \n",
    "B. Batch Size  \n",
    "C. Learning Rate Init  \n",
    "D. Paciência (n_iter_no_change)  \n",
    "E. Épocas  \n",
    "\n",
    "Nesta busca em grande, contemple a utilização do objeto [GridSearchCV](https://scikit-learn.org/stable/modules/generated/sklearn.model_selection.GridSearchCV.html)"
   ]
  },
  {
   "cell_type": "markdown",
   "metadata": {
    "id": "mwhAw0kpfq8m"
   },
   "source": [
    "## Bibliotecas"
   ]
  },
  {
   "cell_type": "code",
   "execution_count": 53,
   "metadata": {
    "id": "3w6pmUXmfq8n"
   },
   "outputs": [],
   "source": [
    "import warnings\n",
    "warnings.filterwarnings('ignore')\n",
    "\n",
    "import re\n",
    "\n",
    "import numpy as np\n",
    "import pandas as pd\n",
    "import matplotlib.pyplot as plt\n",
    "\n",
    "from prettytable import PrettyTable\n",
    "\n",
    "from itertools import product\n",
    "\n",
    "from joblib import dump, load\n",
    "\n",
    "from sklearn.model_selection import KFold\n",
    "\n",
    "from sklearn.neural_network import MLPClassifier\n",
    "\n",
    "from sklearn.model_selection import train_test_split\n",
    "from sklearn.model_selection import GridSearchCV\n",
    "from sklearn.model_selection import KFold\n",
    "\n",
    "from sklearn.metrics import f1_score\n",
    "from sklearn.metrics import accuracy_score\n",
    "from sklearn.metrics import precision_score\n",
    "from sklearn.metrics import plot_confusion_matrix"
   ]
  },
  {
   "cell_type": "markdown",
   "metadata": {
    "id": "RqIn2SL8fq8u"
   },
   "source": [
    "## Base de Dados"
   ]
  },
  {
   "cell_type": "code",
   "execution_count": 2,
   "metadata": {
    "colab": {
     "base_uri": "https://localhost:8080/",
     "height": 439
    },
    "id": "okuIDxH9fq8v",
    "outputId": "865dce74-9fee-4432-bccc-fe3d62ce89d8"
   },
   "outputs": [
    {
     "output_type": "execute_result",
     "data": {
      "text/plain": [
       "        Elevation  Aspect  Slope  Horizontal_Distance_To_Hydrology  \\\n",
       "0            2596      51      3                               258   \n",
       "1            2590      56      2                               212   \n",
       "2            2804     139      9                               268   \n",
       "3            2785     155     18                               242   \n",
       "4            2595      45      2                               153   \n",
       "...           ...     ...    ...                               ...   \n",
       "581007       2396     153     20                                85   \n",
       "581008       2391     152     19                                67   \n",
       "581009       2386     159     17                                60   \n",
       "581010       2384     170     15                                60   \n",
       "581011       2383     165     13                                60   \n",
       "\n",
       "        Vertical_Distance_To_Hydrology  Horizontal_Distance_To_Roadways  \\\n",
       "0                                    0                              510   \n",
       "1                                   -6                              390   \n",
       "2                                   65                             3180   \n",
       "3                                  118                             3090   \n",
       "4                                   -1                              391   \n",
       "...                                ...                              ...   \n",
       "581007                              17                              108   \n",
       "581008                              12                               95   \n",
       "581009                               7                               90   \n",
       "581010                               5                               90   \n",
       "581011                               4                               67   \n",
       "\n",
       "        Hillshade_9am  Hillshade_Noon  Hillshade_3pm  \\\n",
       "0                 221             232            148   \n",
       "1                 220             235            151   \n",
       "2                 234             238            135   \n",
       "3                 238             238            122   \n",
       "4                 220             234            150   \n",
       "...               ...             ...            ...   \n",
       "581007            240             237            118   \n",
       "581008            240             237            119   \n",
       "581009            236             241            130   \n",
       "581010            230             245            143   \n",
       "581011            231             244            141   \n",
       "\n",
       "        Horizontal_Distance_To_Fire_Points  ...  Soil_Type32  Soil_Type33  \\\n",
       "0                                     6279  ...            0            0   \n",
       "1                                     6225  ...            0            0   \n",
       "2                                     6121  ...            0            0   \n",
       "3                                     6211  ...            0            0   \n",
       "4                                     6172  ...            0            0   \n",
       "...                                    ...  ...          ...          ...   \n",
       "581007                                 837  ...            0            0   \n",
       "581008                                 845  ...            0            0   \n",
       "581009                                 854  ...            0            0   \n",
       "581010                                 864  ...            0            0   \n",
       "581011                                 875  ...            0            0   \n",
       "\n",
       "        Soil_Type34  Soil_Type35  Soil_Type36  Soil_Type37  Soil_Type38  \\\n",
       "0                 0            0            0            0            0   \n",
       "1                 0            0            0            0            0   \n",
       "2                 0            0            0            0            0   \n",
       "3                 0            0            0            0            0   \n",
       "4                 0            0            0            0            0   \n",
       "...             ...          ...          ...          ...          ...   \n",
       "581007            0            0            0            0            0   \n",
       "581008            0            0            0            0            0   \n",
       "581009            0            0            0            0            0   \n",
       "581010            0            0            0            0            0   \n",
       "581011            0            0            0            0            0   \n",
       "\n",
       "        Soil_Type39  Soil_Type40  Cover_Type  \n",
       "0                 0            0           5  \n",
       "1                 0            0           5  \n",
       "2                 0            0           2  \n",
       "3                 0            0           2  \n",
       "4                 0            0           5  \n",
       "...             ...          ...         ...  \n",
       "581007            0            0           3  \n",
       "581008            0            0           3  \n",
       "581009            0            0           3  \n",
       "581010            0            0           3  \n",
       "581011            0            0           3  \n",
       "\n",
       "[581012 rows x 55 columns]"
      ],
      "text/html": "<div>\n<style scoped>\n    .dataframe tbody tr th:only-of-type {\n        vertical-align: middle;\n    }\n\n    .dataframe tbody tr th {\n        vertical-align: top;\n    }\n\n    .dataframe thead th {\n        text-align: right;\n    }\n</style>\n<table border=\"1\" class=\"dataframe\">\n  <thead>\n    <tr style=\"text-align: right;\">\n      <th></th>\n      <th>Elevation</th>\n      <th>Aspect</th>\n      <th>Slope</th>\n      <th>Horizontal_Distance_To_Hydrology</th>\n      <th>Vertical_Distance_To_Hydrology</th>\n      <th>Horizontal_Distance_To_Roadways</th>\n      <th>Hillshade_9am</th>\n      <th>Hillshade_Noon</th>\n      <th>Hillshade_3pm</th>\n      <th>Horizontal_Distance_To_Fire_Points</th>\n      <th>...</th>\n      <th>Soil_Type32</th>\n      <th>Soil_Type33</th>\n      <th>Soil_Type34</th>\n      <th>Soil_Type35</th>\n      <th>Soil_Type36</th>\n      <th>Soil_Type37</th>\n      <th>Soil_Type38</th>\n      <th>Soil_Type39</th>\n      <th>Soil_Type40</th>\n      <th>Cover_Type</th>\n    </tr>\n  </thead>\n  <tbody>\n    <tr>\n      <th>0</th>\n      <td>2596</td>\n      <td>51</td>\n      <td>3</td>\n      <td>258</td>\n      <td>0</td>\n      <td>510</td>\n      <td>221</td>\n      <td>232</td>\n      <td>148</td>\n      <td>6279</td>\n      <td>...</td>\n      <td>0</td>\n      <td>0</td>\n      <td>0</td>\n      <td>0</td>\n      <td>0</td>\n      <td>0</td>\n      <td>0</td>\n      <td>0</td>\n      <td>0</td>\n      <td>5</td>\n    </tr>\n    <tr>\n      <th>1</th>\n      <td>2590</td>\n      <td>56</td>\n      <td>2</td>\n      <td>212</td>\n      <td>-6</td>\n      <td>390</td>\n      <td>220</td>\n      <td>235</td>\n      <td>151</td>\n      <td>6225</td>\n      <td>...</td>\n      <td>0</td>\n      <td>0</td>\n      <td>0</td>\n      <td>0</td>\n      <td>0</td>\n      <td>0</td>\n      <td>0</td>\n      <td>0</td>\n      <td>0</td>\n      <td>5</td>\n    </tr>\n    <tr>\n      <th>2</th>\n      <td>2804</td>\n      <td>139</td>\n      <td>9</td>\n      <td>268</td>\n      <td>65</td>\n      <td>3180</td>\n      <td>234</td>\n      <td>238</td>\n      <td>135</td>\n      <td>6121</td>\n      <td>...</td>\n      <td>0</td>\n      <td>0</td>\n      <td>0</td>\n      <td>0</td>\n      <td>0</td>\n      <td>0</td>\n      <td>0</td>\n      <td>0</td>\n      <td>0</td>\n      <td>2</td>\n    </tr>\n    <tr>\n      <th>3</th>\n      <td>2785</td>\n      <td>155</td>\n      <td>18</td>\n      <td>242</td>\n      <td>118</td>\n      <td>3090</td>\n      <td>238</td>\n      <td>238</td>\n      <td>122</td>\n      <td>6211</td>\n      <td>...</td>\n      <td>0</td>\n      <td>0</td>\n      <td>0</td>\n      <td>0</td>\n      <td>0</td>\n      <td>0</td>\n      <td>0</td>\n      <td>0</td>\n      <td>0</td>\n      <td>2</td>\n    </tr>\n    <tr>\n      <th>4</th>\n      <td>2595</td>\n      <td>45</td>\n      <td>2</td>\n      <td>153</td>\n      <td>-1</td>\n      <td>391</td>\n      <td>220</td>\n      <td>234</td>\n      <td>150</td>\n      <td>6172</td>\n      <td>...</td>\n      <td>0</td>\n      <td>0</td>\n      <td>0</td>\n      <td>0</td>\n      <td>0</td>\n      <td>0</td>\n      <td>0</td>\n      <td>0</td>\n      <td>0</td>\n      <td>5</td>\n    </tr>\n    <tr>\n      <th>...</th>\n      <td>...</td>\n      <td>...</td>\n      <td>...</td>\n      <td>...</td>\n      <td>...</td>\n      <td>...</td>\n      <td>...</td>\n      <td>...</td>\n      <td>...</td>\n      <td>...</td>\n      <td>...</td>\n      <td>...</td>\n      <td>...</td>\n      <td>...</td>\n      <td>...</td>\n      <td>...</td>\n      <td>...</td>\n      <td>...</td>\n      <td>...</td>\n      <td>...</td>\n      <td>...</td>\n    </tr>\n    <tr>\n      <th>581007</th>\n      <td>2396</td>\n      <td>153</td>\n      <td>20</td>\n      <td>85</td>\n      <td>17</td>\n      <td>108</td>\n      <td>240</td>\n      <td>237</td>\n      <td>118</td>\n      <td>837</td>\n      <td>...</td>\n      <td>0</td>\n      <td>0</td>\n      <td>0</td>\n      <td>0</td>\n      <td>0</td>\n      <td>0</td>\n      <td>0</td>\n      <td>0</td>\n      <td>0</td>\n      <td>3</td>\n    </tr>\n    <tr>\n      <th>581008</th>\n      <td>2391</td>\n      <td>152</td>\n      <td>19</td>\n      <td>67</td>\n      <td>12</td>\n      <td>95</td>\n      <td>240</td>\n      <td>237</td>\n      <td>119</td>\n      <td>845</td>\n      <td>...</td>\n      <td>0</td>\n      <td>0</td>\n      <td>0</td>\n      <td>0</td>\n      <td>0</td>\n      <td>0</td>\n      <td>0</td>\n      <td>0</td>\n      <td>0</td>\n      <td>3</td>\n    </tr>\n    <tr>\n      <th>581009</th>\n      <td>2386</td>\n      <td>159</td>\n      <td>17</td>\n      <td>60</td>\n      <td>7</td>\n      <td>90</td>\n      <td>236</td>\n      <td>241</td>\n      <td>130</td>\n      <td>854</td>\n      <td>...</td>\n      <td>0</td>\n      <td>0</td>\n      <td>0</td>\n      <td>0</td>\n      <td>0</td>\n      <td>0</td>\n      <td>0</td>\n      <td>0</td>\n      <td>0</td>\n      <td>3</td>\n    </tr>\n    <tr>\n      <th>581010</th>\n      <td>2384</td>\n      <td>170</td>\n      <td>15</td>\n      <td>60</td>\n      <td>5</td>\n      <td>90</td>\n      <td>230</td>\n      <td>245</td>\n      <td>143</td>\n      <td>864</td>\n      <td>...</td>\n      <td>0</td>\n      <td>0</td>\n      <td>0</td>\n      <td>0</td>\n      <td>0</td>\n      <td>0</td>\n      <td>0</td>\n      <td>0</td>\n      <td>0</td>\n      <td>3</td>\n    </tr>\n    <tr>\n      <th>581011</th>\n      <td>2383</td>\n      <td>165</td>\n      <td>13</td>\n      <td>60</td>\n      <td>4</td>\n      <td>67</td>\n      <td>231</td>\n      <td>244</td>\n      <td>141</td>\n      <td>875</td>\n      <td>...</td>\n      <td>0</td>\n      <td>0</td>\n      <td>0</td>\n      <td>0</td>\n      <td>0</td>\n      <td>0</td>\n      <td>0</td>\n      <td>0</td>\n      <td>0</td>\n      <td>3</td>\n    </tr>\n  </tbody>\n</table>\n<p>581012 rows × 55 columns</p>\n</div>"
     },
     "metadata": {},
     "execution_count": 2
    }
   ],
   "source": [
    "full_database = pd.read_csv('../database/covtype.csv')\n",
    "full_database"
   ]
  },
  {
   "cell_type": "code",
   "execution_count": 71,
   "metadata": {},
   "outputs": [
    {
     "output_type": "execute_result",
     "data": {
      "text/plain": [
       "      Elevation  Aspect  Slope  Horizontal_Distance_To_Hydrology  \\\n",
       "0          2699     347      3                                 0   \n",
       "1          2739     323     25                                85   \n",
       "2          2696      72      2                                30   \n",
       "3          2722     315     24                                30   \n",
       "4          2919      13     13                                90   \n",
       "...         ...     ...    ...                               ...   \n",
       "6995       3355     194      9                                67   \n",
       "6996       3360      15     11                                 0   \n",
       "6997       3377       3     19                               551   \n",
       "6998       3377     357     18                               577   \n",
       "6999       3366     231     12                                 0   \n",
       "\n",
       "      Vertical_Distance_To_Hydrology  Horizontal_Distance_To_Roadways  \\\n",
       "0                                  0                             2096   \n",
       "1                                 43                             3118   \n",
       "2                                  0                             3271   \n",
       "3                                 19                             3216   \n",
       "4                                  6                             5321   \n",
       "...                              ...                              ...   \n",
       "6995                               0                             4592   \n",
       "6996                               0                             4631   \n",
       "6997                             188                             4093   \n",
       "6998                             192                             4039   \n",
       "6999                               0                             4380   \n",
       "\n",
       "      Hillshade_9am  Hillshade_Noon  Hillshade_3pm  \\\n",
       "0               213             234            159   \n",
       "1               149             205            192   \n",
       "2               222             234            149   \n",
       "3               148             212            200   \n",
       "4               207             214            142   \n",
       "...             ...             ...            ...   \n",
       "6995            219             248            163   \n",
       "6996            210             217            143   \n",
       "6997            191             201            144   \n",
       "6998            189             205            151   \n",
       "6999            200             251            187   \n",
       "\n",
       "      Horizontal_Distance_To_Fire_Points  ...  Soil_Type32  Soil_Type33  \\\n",
       "0                                   6853  ...            0            0   \n",
       "1                                   6219  ...            0            0   \n",
       "2                                   6071  ...            0            0   \n",
       "3                                   6132  ...            0            0   \n",
       "4                                   4060  ...            0            0   \n",
       "...                                  ...  ...          ...          ...   \n",
       "6995                                4274  ...            0            0   \n",
       "6996                                4228  ...            0            0   \n",
       "6997                                3649  ...            0            0   \n",
       "6998                                3606  ...            0            0   \n",
       "6999                                3508  ...            0            0   \n",
       "\n",
       "      Soil_Type34  Soil_Type35  Soil_Type36  Soil_Type37  Soil_Type38  \\\n",
       "0               0            0            0            0            0   \n",
       "1               0            0            0            0            0   \n",
       "2               0            0            0            0            0   \n",
       "3               0            0            0            0            0   \n",
       "4               0            0            0            0            0   \n",
       "...           ...          ...          ...          ...          ...   \n",
       "6995            0            0            0            0            0   \n",
       "6996            0            0            0            0            0   \n",
       "6997            0            0            0            0            0   \n",
       "6998            0            0            0            0            0   \n",
       "6999            0            1            0            0            0   \n",
       "\n",
       "      Soil_Type39  Soil_Type40  Cover_Type  \n",
       "0               0            0           1  \n",
       "1               0            0           1  \n",
       "2               0            0           1  \n",
       "3               0            0           1  \n",
       "4               0            0           1  \n",
       "...           ...          ...         ...  \n",
       "6995            0            0           7  \n",
       "6996            0            0           7  \n",
       "6997            0            1           7  \n",
       "6998            0            1           7  \n",
       "6999            0            0           7  \n",
       "\n",
       "[7000 rows x 55 columns]"
      ],
      "text/html": "<div>\n<style scoped>\n    .dataframe tbody tr th:only-of-type {\n        vertical-align: middle;\n    }\n\n    .dataframe tbody tr th {\n        vertical-align: top;\n    }\n\n    .dataframe thead th {\n        text-align: right;\n    }\n</style>\n<table border=\"1\" class=\"dataframe\">\n  <thead>\n    <tr style=\"text-align: right;\">\n      <th></th>\n      <th>Elevation</th>\n      <th>Aspect</th>\n      <th>Slope</th>\n      <th>Horizontal_Distance_To_Hydrology</th>\n      <th>Vertical_Distance_To_Hydrology</th>\n      <th>Horizontal_Distance_To_Roadways</th>\n      <th>Hillshade_9am</th>\n      <th>Hillshade_Noon</th>\n      <th>Hillshade_3pm</th>\n      <th>Horizontal_Distance_To_Fire_Points</th>\n      <th>...</th>\n      <th>Soil_Type32</th>\n      <th>Soil_Type33</th>\n      <th>Soil_Type34</th>\n      <th>Soil_Type35</th>\n      <th>Soil_Type36</th>\n      <th>Soil_Type37</th>\n      <th>Soil_Type38</th>\n      <th>Soil_Type39</th>\n      <th>Soil_Type40</th>\n      <th>Cover_Type</th>\n    </tr>\n  </thead>\n  <tbody>\n    <tr>\n      <th>0</th>\n      <td>2699</td>\n      <td>347</td>\n      <td>3</td>\n      <td>0</td>\n      <td>0</td>\n      <td>2096</td>\n      <td>213</td>\n      <td>234</td>\n      <td>159</td>\n      <td>6853</td>\n      <td>...</td>\n      <td>0</td>\n      <td>0</td>\n      <td>0</td>\n      <td>0</td>\n      <td>0</td>\n      <td>0</td>\n      <td>0</td>\n      <td>0</td>\n      <td>0</td>\n      <td>1</td>\n    </tr>\n    <tr>\n      <th>1</th>\n      <td>2739</td>\n      <td>323</td>\n      <td>25</td>\n      <td>85</td>\n      <td>43</td>\n      <td>3118</td>\n      <td>149</td>\n      <td>205</td>\n      <td>192</td>\n      <td>6219</td>\n      <td>...</td>\n      <td>0</td>\n      <td>0</td>\n      <td>0</td>\n      <td>0</td>\n      <td>0</td>\n      <td>0</td>\n      <td>0</td>\n      <td>0</td>\n      <td>0</td>\n      <td>1</td>\n    </tr>\n    <tr>\n      <th>2</th>\n      <td>2696</td>\n      <td>72</td>\n      <td>2</td>\n      <td>30</td>\n      <td>0</td>\n      <td>3271</td>\n      <td>222</td>\n      <td>234</td>\n      <td>149</td>\n      <td>6071</td>\n      <td>...</td>\n      <td>0</td>\n      <td>0</td>\n      <td>0</td>\n      <td>0</td>\n      <td>0</td>\n      <td>0</td>\n      <td>0</td>\n      <td>0</td>\n      <td>0</td>\n      <td>1</td>\n    </tr>\n    <tr>\n      <th>3</th>\n      <td>2722</td>\n      <td>315</td>\n      <td>24</td>\n      <td>30</td>\n      <td>19</td>\n      <td>3216</td>\n      <td>148</td>\n      <td>212</td>\n      <td>200</td>\n      <td>6132</td>\n      <td>...</td>\n      <td>0</td>\n      <td>0</td>\n      <td>0</td>\n      <td>0</td>\n      <td>0</td>\n      <td>0</td>\n      <td>0</td>\n      <td>0</td>\n      <td>0</td>\n      <td>1</td>\n    </tr>\n    <tr>\n      <th>4</th>\n      <td>2919</td>\n      <td>13</td>\n      <td>13</td>\n      <td>90</td>\n      <td>6</td>\n      <td>5321</td>\n      <td>207</td>\n      <td>214</td>\n      <td>142</td>\n      <td>4060</td>\n      <td>...</td>\n      <td>0</td>\n      <td>0</td>\n      <td>0</td>\n      <td>0</td>\n      <td>0</td>\n      <td>0</td>\n      <td>0</td>\n      <td>0</td>\n      <td>0</td>\n      <td>1</td>\n    </tr>\n    <tr>\n      <th>...</th>\n      <td>...</td>\n      <td>...</td>\n      <td>...</td>\n      <td>...</td>\n      <td>...</td>\n      <td>...</td>\n      <td>...</td>\n      <td>...</td>\n      <td>...</td>\n      <td>...</td>\n      <td>...</td>\n      <td>...</td>\n      <td>...</td>\n      <td>...</td>\n      <td>...</td>\n      <td>...</td>\n      <td>...</td>\n      <td>...</td>\n      <td>...</td>\n      <td>...</td>\n      <td>...</td>\n    </tr>\n    <tr>\n      <th>6995</th>\n      <td>3355</td>\n      <td>194</td>\n      <td>9</td>\n      <td>67</td>\n      <td>0</td>\n      <td>4592</td>\n      <td>219</td>\n      <td>248</td>\n      <td>163</td>\n      <td>4274</td>\n      <td>...</td>\n      <td>0</td>\n      <td>0</td>\n      <td>0</td>\n      <td>0</td>\n      <td>0</td>\n      <td>0</td>\n      <td>0</td>\n      <td>0</td>\n      <td>0</td>\n      <td>7</td>\n    </tr>\n    <tr>\n      <th>6996</th>\n      <td>3360</td>\n      <td>15</td>\n      <td>11</td>\n      <td>0</td>\n      <td>0</td>\n      <td>4631</td>\n      <td>210</td>\n      <td>217</td>\n      <td>143</td>\n      <td>4228</td>\n      <td>...</td>\n      <td>0</td>\n      <td>0</td>\n      <td>0</td>\n      <td>0</td>\n      <td>0</td>\n      <td>0</td>\n      <td>0</td>\n      <td>0</td>\n      <td>0</td>\n      <td>7</td>\n    </tr>\n    <tr>\n      <th>6997</th>\n      <td>3377</td>\n      <td>3</td>\n      <td>19</td>\n      <td>551</td>\n      <td>188</td>\n      <td>4093</td>\n      <td>191</td>\n      <td>201</td>\n      <td>144</td>\n      <td>3649</td>\n      <td>...</td>\n      <td>0</td>\n      <td>0</td>\n      <td>0</td>\n      <td>0</td>\n      <td>0</td>\n      <td>0</td>\n      <td>0</td>\n      <td>0</td>\n      <td>1</td>\n      <td>7</td>\n    </tr>\n    <tr>\n      <th>6998</th>\n      <td>3377</td>\n      <td>357</td>\n      <td>18</td>\n      <td>577</td>\n      <td>192</td>\n      <td>4039</td>\n      <td>189</td>\n      <td>205</td>\n      <td>151</td>\n      <td>3606</td>\n      <td>...</td>\n      <td>0</td>\n      <td>0</td>\n      <td>0</td>\n      <td>0</td>\n      <td>0</td>\n      <td>0</td>\n      <td>0</td>\n      <td>0</td>\n      <td>1</td>\n      <td>7</td>\n    </tr>\n    <tr>\n      <th>6999</th>\n      <td>3366</td>\n      <td>231</td>\n      <td>12</td>\n      <td>0</td>\n      <td>0</td>\n      <td>4380</td>\n      <td>200</td>\n      <td>251</td>\n      <td>187</td>\n      <td>3508</td>\n      <td>...</td>\n      <td>0</td>\n      <td>0</td>\n      <td>0</td>\n      <td>1</td>\n      <td>0</td>\n      <td>0</td>\n      <td>0</td>\n      <td>0</td>\n      <td>0</td>\n      <td>7</td>\n    </tr>\n  </tbody>\n</table>\n<p>7000 rows × 55 columns</p>\n</div>"
     },
     "metadata": {},
     "execution_count": 71
    }
   ],
   "source": [
    "frames = []\n",
    "for i in range(1,8):\n",
    "    frames.append(full_database[full_database.Cover_Type == i][:1000])\n",
    "database = pd.concat(frames, ignore_index=True, join='outer')\n",
    "database"
   ]
  },
  {
   "cell_type": "markdown",
   "metadata": {
    "id": "WmfUnGKcfq86"
   },
   "source": [
    "## Busca em Grade"
   ]
  },
  {
   "cell_type": "markdown",
   "metadata": {
    "id": "Ebg4-3QMfq9D"
   },
   "source": [
    "- Escolha o algoritmo de Machine Learning (exemplo: redes neurais artificiais). Em seguida, defina os parâmetros ou hiperparâmetros deste tipo de modelo sobre os quais você deseja otimizar (número de épocas, taxa de aprendizado, etc.) e construa um array de valores a serem testados para cada parâmetro ou hiperparâmetro.  "
   ]
  },
  {
   "cell_type": "code",
   "execution_count": 12,
   "metadata": {
    "id": "Ki-4m79Dfq9E"
   },
   "outputs": [],
   "source": [
    "# Definindo o algoritmo de Machine Learning\n",
    "algoritmo = MLPClassifier()\n",
    "\n",
    "# Definindo os parâmetros\n",
    "parametros = {'hidden_layer_sizes': [(16, 6), (19, 6)],    # Camadas\n",
    "              'activation': ['tanh'],             # Funções de ativação\n",
    "              'solver': ['sgd'],                  # Otimizadores\n",
    "              'max_iter': [100, 200],             # Épocas\n",
    "              'shuffle': [True],                  # Condição para embaralhar as amostras em cada iteração\n",
    "              'n_iter_no_change': [5, 2]}         # Máximo de épocas sem melhorias na rede\n",
    "            "
   ]
  },
  {
   "cell_type": "code",
   "execution_count": 63,
   "metadata": {},
   "outputs": [
    {
     "output_type": "stream",
     "name": "stdout",
     "text": [
      "+-----------+----------+------------+--------+-----------+---------------+\n|  Camadas  | Ativação | Otimizador | Épocas | Randômico | N. sem alter. |\n+-----------+----------+------------+--------+-----------+---------------+\n| [(16, 6)] | ['tanh'] |  ['sgd']   | [100]  |   [True]  |      [5]      |\n| [(16, 6)] | ['tanh'] |  ['sgd']   | [100]  |   [True]  |      [2]      |\n| [(16, 6)] | ['tanh'] |  ['sgd']   | [200]  |   [True]  |      [5]      |\n| [(16, 6)] | ['tanh'] |  ['sgd']   | [200]  |   [True]  |      [2]      |\n| [(19, 6)] | ['tanh'] |  ['sgd']   | [100]  |   [True]  |      [5]      |\n| [(19, 6)] | ['tanh'] |  ['sgd']   | [100]  |   [True]  |      [2]      |\n| [(19, 6)] | ['tanh'] |  ['sgd']   | [200]  |   [True]  |      [5]      |\n| [(19, 6)] | ['tanh'] |  ['sgd']   | [200]  |   [True]  |      [2]      |\n+-----------+----------+------------+--------+-----------+---------------+\n"
     ]
    }
   ],
   "source": [
    "def produto(parametros):\n",
    "    params = list (dict(zip(parametros.keys(), values)) for values in product(*parametros.values()))\n",
    "    for param in params:\n",
    "        for key, value in param.items():\n",
    "            param[key] = [value]\n",
    "    return params\n",
    "param = produto(parametros)\n",
    "\n",
    "table = PrettyTable(['Camadas', 'Ativação', 'Otimizador', 'Épocas','Randômico', 'N. sem alter.'])\n",
    "table.padding_width = 1\n",
    "for p in param:\n",
    "    table.add_row([\n",
    "        p['hidden_layer_sizes'],\n",
    "        p['activation'],\n",
    "        p['solver'],\n",
    "        p['max_iter'],\n",
    "        p['shuffle'],\n",
    "        p['n_iter_no_change']\n",
    "    ])\n",
    "print(table)"
   ]
  },
  {
   "cell_type": "markdown",
   "metadata": {
    "id": "5US1Hq9Tfq9i"
   },
   "source": [
    "- Para cada combinação de parâmetros a serem otimizados, utilize o conjunto de treinamento para realizar uma validação cruzada (holdout ou k-fold) e calcule a métrica de avaliação no conjunto de teste (ou conjuntos de teste)"
   ]
  },
  {
   "source": [
    "Usando cross-validation"
   ],
   "cell_type": "markdown",
   "metadata": {}
  },
  {
   "cell_type": "code",
   "execution_count": 72,
   "metadata": {
    "colab": {
     "base_uri": "https://localhost:8080/"
    },
    "id": "BDQpjzt8fq9l",
    "outputId": "d521e2c0-b18a-4e09-fc98-3ac06a32cf38",
    "tags": []
   },
   "outputs": [],
   "source": [
    "result_list = []\n",
    "\n",
    "for p in param:\n",
    "    net_results = {\n",
    "        'fscores': [], \n",
    "        'accuracies': [],\n",
    "        'precision': [],\n",
    "        'net': None\n",
    "    }\n",
    "\n",
    "    net = MLPClassifier(\n",
    "        hidden_layer_sizes=p['hidden_layer_sizes'][0],\n",
    "        activation=p['activation'][0],\n",
    "        solver=p['solver'][0],\n",
    "        max_iter=p['max_iter'][0],\n",
    "        shuffle=p['shuffle'][0],\n",
    "        n_iter_no_change=p['n_iter_no_change'][0]\n",
    "    )\n",
    "    \n",
    "    kf = KFold(n_splits=5, shuffle=True, random_state=42)\n",
    "    for index_train, index_test in kf.split(database):\n",
    "        # Alocando os atributos preditores na variável X\n",
    "        X_train = database.iloc[index_train,:-1]\n",
    "\n",
    "        # Alocando o atributo alvo na variável y\n",
    "        y_train = database.iloc[index_train,-1:]\n",
    "\n",
    "        # Alocando os atributos preditores na variável X\n",
    "        X_test = database.iloc[index_test,:-1]\n",
    "\n",
    "        # Alocando o atributo alvo na variável y\n",
    "        y_test = database.iloc[index_test,-1:]\n",
    "\n",
    "        net.fit(X_train, y_train)\n",
    "\n",
    "        y_pred = net.predict(X_test)\n",
    "\n",
    "        net_results['fscores'].append(f1_score(y_test, y_pred, average='macro'))\n",
    "        net_results['accuracies'].append(accuracy_score(y_test, y_pred))\n",
    "        net_results['precision'].append(precision_score(y_test, y_pred, average='macro'))\n",
    "\n",
    "    net_results['net'] = net\n",
    "    result_list.append(net_results)"
   ]
  },
  {
   "source": [
    "- Visualizando o valor das médias das metrica para cada fold testado no cross-validation e do desvio padrão."
   ],
   "cell_type": "markdown",
   "metadata": {}
  },
  {
   "cell_type": "code",
   "execution_count": 106,
   "metadata": {},
   "outputs": [
    {
     "output_type": "stream",
     "name": "stdout",
     "text": [
      "+------+--------------+-------------+-----------+-----------+-----------+----------+\n| Rede | MEAN F-score | STD F-score | MEAN acur | STD accur | MEAN prec | STD prec |\n+------+--------------+-------------+-----------+-----------+-----------+----------+\n|  1   |    0.1663    |    0.056    |   0.2481  |   0.0311  |   0.1664  |  0.0762  |\n|  2   |    0.1811    |    0.0548   |   0.2587  |   0.0474  |   0.198   |  0.0511  |\n|  3   |    0.2052    |    0.0459   |   0.2756  |   0.0467  |   0.3012  |  0.0838  |\n|  4   |    0.1394    |    0.0475   |   0.2213  |   0.0532  |   0.1681  |  0.1194  |\n|  5   |    0.2114    |    0.0652   |   0.256   |   0.0444  |   0.2751  |  0.0953  |\n|  6   |    0.2032    |    0.0308   |   0.2771  |   0.0321  |   0.2157  |  0.0545  |\n|  7   |    0.1893    |    0.0728   |   0.2739  |   0.0482  |   0.2163  |  0.1069  |\n|  8   |    0.2255    |    0.0351   |   0.282   |   0.0231  |   0.2703  |  0.054   |\n+------+--------------+-------------+-----------+-----------+-----------+----------+\n"
     ]
    }
   ],
   "source": [
    "table = PrettyTable([\"Rede\", \"MEAN F-score\", \"STD F-score\", \"MEAN acur\", \"STD accur\", \"MEAN prec\", \"STD prec\"])        \n",
    "table.padding_width = 1\n",
    "i = 1\n",
    "for item in result_list:\n",
    "    table.add_row([\n",
    "        i,\n",
    "        round(np.mean(item['fscores']), 4),\n",
    "        round(np.std(item['fscores']), 4),\n",
    "        round(np.mean(item['accuracies']), 4),\n",
    "        round(np.std(item['accuracies']), 4),\n",
    "        round(np.mean(item['precision']), 4),\n",
    "        round(np.std(item['precision']), 4)\n",
    "    ])\n",
    "    i += 1\n",
    "print(table)"
   ]
  },
  {
   "source": [
    "Usando Holdout"
   ],
   "cell_type": "markdown",
   "metadata": {}
  },
  {
   "cell_type": "code",
   "execution_count": 93,
   "metadata": {},
   "outputs": [],
   "source": [
    "# Alocando os atributos preditores na variável X\n",
    "X = database.iloc[:,:-1]\n",
    "\n",
    "# Alocando o atributo alvo na variável y\n",
    "y = database.iloc[:,-1:]\n",
    "\n",
    "# Definindo a partição holdout 70/30\n",
    "X_train, X_test, y_train, y_test = train_test_split(X, y, test_size=0.30, shuffle=True)\n",
    "\n",
    "\n",
    "result_list_2 = []\n",
    "\n",
    "for p in param:\n",
    "    net_results = {\n",
    "        'fscores':'' , \n",
    "        'accuracies':'',\n",
    "        'precision':'',\n",
    "        'net': ''\n",
    "    }\n",
    "\n",
    "    net = MLPClassifier(\n",
    "        hidden_layer_sizes=p['hidden_layer_sizes'][0],\n",
    "        activation=p['activation'][0],\n",
    "        solver=p['solver'][0],\n",
    "        max_iter=p['max_iter'][0],\n",
    "        shuffle=p['shuffle'][0],\n",
    "        n_iter_no_change=p['n_iter_no_change'][0]\n",
    "    )\n",
    "\n",
    "    # Buscando a melhor configuração de parâmetros\n",
    "    net.fit(X_train, y_train)\n",
    "\n",
    "    y_pred = net.predict(X_test)\n",
    "\n",
    "    # Calculando a métrica de avaliação\n",
    "    net_results['fscores'] = (f1_score(y_test, y_pred, average='macro'))\n",
    "    net_results['accuracies'] = (precision_score(y_test, y_pred, average='macro'))\n",
    "    net_results['precision'] = (accuracy_score(y_test, y_pred))\n",
    "    net_results['net'] = net\n",
    "    result_list_2.append(net_results)\n",
    "    "
   ]
  },
  {
   "source": [
    "- Visualizando as métricas para o conjunto de testes anterior"
   ],
   "cell_type": "markdown",
   "metadata": {}
  },
  {
   "cell_type": "code",
   "execution_count": 95,
   "metadata": {},
   "outputs": [
    {
     "output_type": "stream",
     "name": "stdout",
     "text": [
      "+------+---------+----------+----------+\n| Rede | F-score | Acurácia | Precisão |\n+------+---------+----------+----------+\n|  1   |  0.1843 |  0.1795  |  0.2386  |\n|  2   |  0.1746 |  0.361   |  0.2552  |\n|  3   |  0.1229 |  0.0876  |  0.2057  |\n|  4   |  0.2168 |  0.271   |  0.2786  |\n|  5   |  0.2396 |  0.281   |  0.3243  |\n|  6   |  0.0941 |  0.0664  |  0.2043  |\n|  7   |  0.2227 |  0.2562  |  0.2752  |\n|  8   |  0.1114 |  0.2203  |  0.2338  |\n+------+---------+----------+----------+\n"
     ]
    }
   ],
   "source": [
    "table = PrettyTable([\"Rede\", \"F-score\", \"Acurácia\", \"Precisão\"])        \n",
    "table.padding_width = 1\n",
    "i = 1\n",
    "for item in result_list_2:\n",
    "    table.add_row([\n",
    "        i,\n",
    "        round(item['fscores'], 4),\n",
    "        round(item['accuracies'], 4),\n",
    "        round(item['precision'], 4),\n",
    "    ])\n",
    "    i += 1\n",
    "print(table)"
   ]
  },
  {
   "cell_type": "markdown",
   "metadata": {
    "id": "PxOLlQokfq9r"
   },
   "source": [
    "- Escolha a combinação de parâmetros que maximizam a métrica de avaliação. Este é o modelo otimizado."
   ]
  },
  {
   "source": [
    "Para o experimento com cross-validation"
   ],
   "cell_type": "markdown",
   "metadata": {}
  },
  {
   "cell_type": "code",
   "execution_count": 108,
   "metadata": {},
   "outputs": [
    {
     "output_type": "stream",
     "name": "stdout",
     "text": [
      "+------+--------------+-------------+-----------+-----------+-----------+----------+\n| Rede | MEAN F-score | STD F-score | MEAN acur | STD accur | MEAN prec | STD prec |\n+------+--------------+-------------+-----------+-----------+-----------+----------+\n|  8   |    0.2255    |    0.0351   |   0.282   |   0.0231  |   0.2703  |  0.054   |\n+------+--------------+-------------+-----------+-----------+-----------+----------+\n"
     ]
    }
   ],
   "source": [
    "table = PrettyTable([\"Rede\", \"MEAN F-score\", \"STD F-score\", \"MEAN acur\", \"STD accur\", \"MEAN prec\", \"STD prec\"])        \n",
    "table.padding_width = 1\n",
    "item = result_list[7]\n",
    "table.add_row([\n",
    "    8,\n",
    "    round(np.mean(item['fscores']), 4),\n",
    "    round(np.std(item['fscores']), 4),\n",
    "    round(np.mean(item['accuracies']), 4),\n",
    "    round(np.std(item['accuracies']), 4),\n",
    "    round(np.mean(item['precision']), 4),\n",
    "    round(np.std(item['precision']), 4)\n",
    "])\n",
    "print(table)"
   ]
  },
  {
   "cell_type": "code",
   "execution_count": 109,
   "metadata": {},
   "outputs": [
    {
     "output_type": "stream",
     "name": "stdout",
     "text": [
      "+-----------+----------+------------+--------+-----------+---------------+\n|  Camadas  | Ativação | Otimizador | Épocas | Randômico | N. sem alter. |\n+-----------+----------+------------+--------+-----------+---------------+\n| [(19, 6)] | ['tanh'] |  ['sgd']   | [200]  |   [True]  |      [2]      |\n+-----------+----------+------------+--------+-----------+---------------+\n"
     ]
    }
   ],
   "source": [
    "table = PrettyTable(['Camadas', 'Ativação', 'Otimizador', 'Épocas','Randômico', 'N. sem alter.'])\n",
    "table.padding_width = 1\n",
    "p = param[7]\n",
    "table.add_row([\n",
    "    p['hidden_layer_sizes'],\n",
    "    p['activation'],\n",
    "    p['solver'],\n",
    "    p['max_iter'],\n",
    "    p['shuffle'],\n",
    "    p['n_iter_no_change']\n",
    "])\n",
    "print(table)"
   ]
  },
  {
   "source": [
    "Para o experimento com o Holdout"
   ],
   "cell_type": "markdown",
   "metadata": {}
  },
  {
   "cell_type": "code",
   "execution_count": 112,
   "metadata": {},
   "outputs": [
    {
     "output_type": "stream",
     "name": "stdout",
     "text": [
      "+------+---------+----------+----------+\n| Rede | F-score | Acurácia | Precisão |\n+------+---------+----------+----------+\n|  5   |  0.2396 |  0.281   |  0.3243  |\n+------+---------+----------+----------+\n"
     ]
    }
   ],
   "source": [
    "table = PrettyTable([\"Rede\", \"F-score\", \"Acurácia\", \"Precisão\"])        \n",
    "table.padding_width = 1\n",
    "item =  result_list_2[4]\n",
    "table.add_row([\n",
    "    5,\n",
    "    round(item['fscores'], 4),\n",
    "    round(item['accuracies'], 4),\n",
    "    round(item['precision'], 4),\n",
    "])\n",
    "print(table)"
   ]
  },
  {
   "cell_type": "code",
   "execution_count": 113,
   "metadata": {},
   "outputs": [
    {
     "output_type": "stream",
     "name": "stdout",
     "text": [
      "+-----------+----------+------------+--------+-----------+---------------+\n|  Camadas  | Ativação | Otimizador | Épocas | Randômico | N. sem alter. |\n+-----------+----------+------------+--------+-----------+---------------+\n| [(19, 6)] | ['tanh'] |  ['sgd']   | [100]  |   [True]  |      [2]      |\n+-----------+----------+------------+--------+-----------+---------------+\n"
     ]
    }
   ],
   "source": [
    "table = PrettyTable(['Camadas', 'Ativação', 'Otimizador', 'Épocas','Randômico', 'N. sem alter.'])\n",
    "table.padding_width = 1\n",
    "p = param[5]\n",
    "table.add_row([\n",
    "    p['hidden_layer_sizes'],\n",
    "    p['activation'],\n",
    "    p['solver'],\n",
    "    p['max_iter'],\n",
    "    p['shuffle'],\n",
    "    p['n_iter_no_change']\n",
    "])\n",
    "print(table)"
   ]
  },
  {
   "cell_type": "markdown",
   "metadata": {
    "id": "AVcKh9rmfq9x"
   },
   "source": [
    "## Efetuando a Busca em Grade sobre Hiperparâmetros das Top-6 RNAs\n",
    "\n",
    "Considerando a etapa anterior do projeto prático, foram identificadas pelo menos 6 melhores Redes Neurais para o problema da classificação multi-classe da cobertura florestal no conjunto de dados selecionado. Algumas destas redes possuem atributos categóricos como variáveis preditoras, enquanto outras possuem apenas os atributos numéricos como preditores.\n",
    "\n",
    "A primeira etapa desta segunda parte do projeto consiste em trazer para este notebook estas seis arquiteturas, ressaltando:\n",
    "\n",
    "```\n",
    "1. Número de neurônios ocultos por camada  \n",
    "2. Função de Ativação  \n",
    "3. Utilização ou não de atributos categóricos   \n",
    "4. Desempenho médio +- desvio padrão nos testes anteriores  \n",
    "5. Número de repetições que a equipe conseguiu realizar para verificar os resultados  \n",
    "```"
   ]
  },
  {
   "cell_type": "code",
   "execution_count": 117,
   "metadata": {
    "id": "xsSzc4KIfq9y"
   },
   "outputs": [],
   "source": [
    "# Leitura das arquiteturas\n",
    "arquiteturas = [load('../redes/rede{0}.joblib'.format(i)) for i in range(1, 7)]\n",
    "\n",
    "# metricas de testes das redes\n",
    "net_metrics = [\n",
    "    (0.734, 0.529),\n",
    "    (0.728, 0.542),\n",
    "    (0.724, 0.478),\n",
    "    (0.745, 0.578),\n",
    "    (0.743, 0.568),\n",
    "    (0.742, 0.516)\n",
    "]"
   ]
  },
  {
   "cell_type": "markdown",
   "metadata": {
    "id": "48i1-HvwjtEv"
   },
   "source": [
    "    Redes treinadas sem atributos categóricos"
   ]
  },
  {
   "cell_type": "code",
   "execution_count": 60,
   "metadata": {
    "colab": {
     "base_uri": "https://localhost:8080/"
    },
    "id": "9Lxtcha3jo9Q",
    "outputId": "a4aa1b12-3da3-48b0-ac75-929ff03725ea"
   },
   "outputs": [
    {
     "output_type": "stream",
     "name": "stdout",
     "text": [
      "+--------+---------+----------+--------+------------+-----------+----------+---------+\n|  Rede  | Camadas | Ativação | Épocas | Otimizador | Neurônios | Acurácia | F-score |\n+--------+---------+----------+--------+------------+-----------+----------+---------+\n| Rede 0 | (9, 10) |   tanh   |  200   |    adam    |     19    |  0.734   |  0.529  |\n| Rede 1 |  (13,)  |   tanh   |  150   |    adam    |     13    |  0.728   |  0.542  |\n| Rede 2 | (9, 10) |   tanh   |  100   |    sgd     |     19    |  0.724   |  0.478  |\n+--------+---------+----------+--------+------------+-----------+----------+---------+\n"
     ]
    }
   ],
   "source": [
    "table = PrettyTable(['Rede', 'Camadas', 'Ativação', 'Épocas', 'Otimizador', 'Neurônios', 'Acurácia', 'F-score'])\n",
    "table.padding_width = 1\n",
    "for i in range(3):\n",
    "   table.add_row([\n",
    "       'Rede {0}'.format(i), \n",
    "        arquiteturas[i].hidden_layer_sizes,\n",
    "        arquiteturas[i].activation,\n",
    "        arquiteturas[i].max_iter,\n",
    "        arquiteturas[i].solver,\n",
    "        np.sum(arquiteturas[i].hidden_layer_sizes),\n",
    "        net_metrics[i][0],\n",
    "        net_metrics[i][1]\n",
    "   ])\n",
    "print(table)"
   ]
  },
  {
   "cell_type": "markdown",
   "metadata": {
    "id": "B2uNLCizj9bi"
   },
   "source": [
    "    Redes treinadas com atributos categóricos"
   ]
  },
  {
   "cell_type": "code",
   "execution_count": 118,
   "metadata": {
    "colab": {
     "base_uri": "https://localhost:8080/"
    },
    "id": "HXDoo-HJkAfX",
    "outputId": "abdef1b1-3006-4b00-9c2f-34318e76d346"
   },
   "outputs": [
    {
     "output_type": "stream",
     "name": "stdout",
     "text": [
      "+--------+---------+----------+--------+------------+-----------+----------+---------+\n|  Rede  | Camadas | Ativação | Épocas | Otimizador | Neurônios | Acurácia | F-score |\n+--------+---------+----------+--------+------------+-----------+----------+---------+\n| Rede 7 |  (25,)  | logistic |  200   |    adam    |     25    |  0.745   |  0.578  |\n| Rede 8 |  (25,)  | logistic |  100   |    adam    |     25    |  0.743   |  0.568  |\n| Rede 9 | (19, 6) |   tanh   |  150   |    sgd     |     25    |  0.742   |  0.516  |\n+--------+---------+----------+--------+------------+-----------+----------+---------+\n"
     ]
    }
   ],
   "source": [
    "table = PrettyTable(['Rede', 'Camadas', 'Ativação', 'Épocas', 'Otimizador', 'Neurônios', 'Acurácia', 'F-score'])\n",
    "table.padding_width = 1\n",
    "for i in range(3, 6):\n",
    "   table.add_row([\n",
    "       'Rede {0}'.format(i+4), \n",
    "        arquiteturas[i].hidden_layer_sizes,\n",
    "        arquiteturas[i].activation,\n",
    "        arquiteturas[i].max_iter,\n",
    "        arquiteturas[i].solver,\n",
    "        np.sum(arquiteturas[i].hidden_layer_sizes),\n",
    "        net_metrics[i][0],\n",
    "        net_metrics[i][1]\n",
    "   ])\n",
    "print(table)"
   ]
  },
  {
   "cell_type": "markdown",
   "metadata": {
    "id": "u4qbs1MskEeg"
   },
   "source": [
    "- Número de repetições que a equipe conseguiu realizar para verificar os resultados foi de 10 repetições"
   ]
  },
  {
   "cell_type": "markdown",
   "metadata": {
    "id": "trHfr8lcfq-T"
   },
   "source": [
    "Elabore uma busca em grade sobre estas arquiteturas que contemple variações nos hiperparâmetros a seguir, conforme documentação de [MLPClassifier](https://scikit-learn.org/stable/modules/generated/sklearn.neural_network.MLPClassifier.html)\n",
    "\n",
    "A. Solver  (Não usar o LBFGS, pois é mais adequado para datasets pequenos)  \n",
    "B. Batch Size  \n",
    "C. Learning Rate Init  \n",
    "D. Paciência (n_iter_no_change)  \n",
    "E. Épocas  "
   ]
  },
  {
   "cell_type": "code",
   "execution_count": 14,
   "metadata": {
    "id": "F1tgbyzPfq-V"
   },
   "outputs": [],
   "source": [
    "# Definindo os hiperparâmetros\n",
    "hiperparametros = { 'solver': ['sgd', 'adam'],            \n",
    "                    'batch_size': [100, 150, 200],                      \n",
    "                    'learning_rate': ['constant', 'invscaling', 'adaptive'],                    \n",
    "                    'n_iter_no_change': [5, 3],\n",
    "                    'max_iter': [100, 200, 300]} "
   ]
  },
  {
   "cell_type": "markdown",
   "metadata": {
    "id": "ul5yBINOfq-c"
   },
   "source": [
    "- Fazendo uma busca em grade com as arquiteturas dos experimentos anteriores"
   ]
  },
  {
   "cell_type": "code",
   "execution_count": 16,
   "metadata": {
    "colab": {
     "base_uri": "https://localhost:8080/"
    },
    "id": "YVsBakxWfq-d",
    "outputId": "27cb3354-f30a-4e08-93db-af91de9a2c67"
   },
   "outputs": [
    {
     "name": "stdout",
     "output_type": "stream",
     "text": [
      "3\n",
      "4\n",
      "5\n"
     ]
    }
   ],
   "source": [
    "# Definindo a métrica como F1-Score\n",
    "metrica = 'f1'\n",
    "\n",
    "# Melhores hiperparâmetros para cada arquitetura\n",
    "bests1 = []\n",
    "\n",
    "# Alocando os atributos preditores na variável X\n",
    "X = database.iloc[:,:-1]\n",
    "\n",
    "# Alocando o atributo alvo na variável y\n",
    "y = database.iloc[:,-1:]\n",
    "\n",
    "for i in range(0,6):\n",
    "    print('GridSearch com a arquitetura:', i)\n",
    "\n",
    "    # Definindo a busca em grade para as arquitetura 4, 5 e 6\n",
    "    search = GridSearchCV(arquiteturas[i], hiperparametros, scoring='%s_macro' % metrica, cv=5)\n",
    "    \n",
    "    # Buscando a melhor configuração de hiperparâmetros\n",
    "    search.fit(X_train, y_train)\n",
    "\n",
    "    # Salvando os melhores hiperparâmetros de cada arquitetura\n",
    "    bests1.append(search.best_params_)"
   ]
  },
  {
   "cell_type": "markdown",
   "metadata": {
    "id": "kUun50D2fq-i"
   },
   "source": [
    "- Melhores hiperparâmetros com os atributos categóricos"
   ]
  },
  {
   "cell_type": "code",
   "execution_count": 17,
   "metadata": {
    "colab": {
     "base_uri": "https://localhost:8080/"
    },
    "id": "SHHLqXTXfq-i",
    "outputId": "e1ba4aca-ac16-48d8-e2df-7332cb5d5306"
   },
   "outputs": [
    {
     "name": "stdout",
     "output_type": "stream",
     "text": [
      "Rede 4 {'batch_size': [500], 'learning_rate': ['constant'], 'max_iter': [100], 'n_iter_no_change': [5], 'solver': ['adam']}\n",
      "Rede 5 {'batch_size': [500], 'learning_rate': ['constant'], 'max_iter': [100], 'n_iter_no_change': [5], 'solver': ['adam']}\n",
      "Rede 6 {'batch_size': [500], 'learning_rate': ['invscaling'], 'max_iter': [100], 'n_iter_no_change': [5], 'solver': ['adam']}\n"
     ]
    }
   ],
   "source": [
    "for i in range(3,6):\n",
    "    print('Rede {0}'.format(i+1), bests1[i-3])"
   ]
  },
  {
   "cell_type": "markdown",
   "metadata": {
    "id": "M4NlaoYnfq-s"
   },
   "source": [
    "- Busca em Grade sem os atributos categóricos"
   ]
  },
  {
   "cell_type": "code",
   "execution_count": 18,
   "metadata": {
    "id": "LshMA2mYfq-u"
   },
   "outputs": [],
   "source": [
    "database2 = database_min.copy()\n",
    "\n",
    "# Removendo os atributos categóricos\n",
    "columns_to_drop = []\n",
    "for column in list(database2.columns):\n",
    "    column_search = re.search('Soil_Type|Wilderness_Area', column)\n",
    "    if column_search:\n",
    "        columns_to_drop.append(column)\n",
    "database2.drop(columns=columns_to_drop, axis=1, inplace=True)"
   ]
  },
  {
   "cell_type": "code",
   "execution_count": 19,
   "metadata": {
    "colab": {
     "base_uri": "https://localhost:8080/"
    },
    "id": "rKOi8XRCfq-1",
    "outputId": "799a2b56-93b7-4c62-af80-5689af216b4a"
   },
   "outputs": [
    {
     "name": "stdout",
     "output_type": "stream",
     "text": [
      "0\n",
      "1\n",
      "2\n"
     ]
    }
   ],
   "source": [
    "# Definindo a métrica como F1-Score\n",
    "metrica = 'f1'\n",
    "\n",
    "# Combinações dos hiperparâmetros\n",
    "grades = produto(hiperparametros)\n",
    "\n",
    "# Melhores hiperparâmetros para cada arquitetura\n",
    "bests2 = []\n",
    "\n",
    "# Alocando os atributos preditores na variável X\n",
    "X = database2.iloc[:,:-1]\n",
    "\n",
    "# Alocando o atributo alvo na variável y\n",
    "y = database2.iloc[:,-1:]\n",
    "\n",
    "for i in range(0,3):\n",
    "    print(i)\n",
    "\n",
    "    # Definindo a busca em grade para as arquitetura 1, 2 e 3\n",
    "    search = GridSearchCV(arquiteturas[i], grades, scoring='%s_macro' % metrica)\n",
    "    \n",
    "    # Definindo a partição holdout 70/30\n",
    "    X_train, X_test, y_train, y_test = train_test_split(X, y, test_size=0.30, random_state=42)\n",
    "    \n",
    "    # Buscando a melhor configuração de hiperparâmetros\n",
    "    search.fit(X_train, y_train)\n",
    "\n",
    "     # Salvando os melhores hiperparâmetros de cada arquitetura\n",
    "    for key, value in search.best_params_.items():\n",
    "        search.best_params_[key] = [value]\n",
    "    bests2.append(search.best_params_)"
   ]
  },
  {
   "cell_type": "markdown",
   "metadata": {
    "id": "x7He-lJrfq-7"
   },
   "source": [
    "- Melhores hiperparâmetros sem os atributo categóricos"
   ]
  },
  {
   "cell_type": "code",
   "execution_count": 20,
   "metadata": {
    "colab": {
     "base_uri": "https://localhost:8080/"
    },
    "id": "C1zXRdHhfq-8",
    "outputId": "f631ad1c-68af-425e-a110-42337f1f6903"
   },
   "outputs": [
    {
     "name": "stdout",
     "output_type": "stream",
     "text": [
      "Rede 1 {'batch_size': [500], 'learning_rate': ['constant'], 'max_iter': [100], 'n_iter_no_change': [5], 'solver': ['adam']}\n",
      "Rede 2 {'batch_size': [500], 'learning_rate': ['constant'], 'max_iter': [100], 'n_iter_no_change': [5], 'solver': ['adam']}\n",
      "Rede 3 {'batch_size': [500], 'learning_rate': ['adaptive'], 'max_iter': [100], 'n_iter_no_change': [5], 'solver': ['adam']}\n"
     ]
    }
   ],
   "source": [
    "for i in range(0,3):\n",
    "    print('Rede {0}'.format(i+1), bests2[i-3])"
   ]
  },
  {
   "cell_type": "markdown",
   "metadata": {
    "id": "5vm1LyEHfq_E"
   },
   "source": [
    "## Validação Cruzada k-fold\n",
    "\n",
    "Na elaboração da busca em grid, vamos avaliar os modelos propostos segundo uma estratégia de validação cruzada ainda não explorada até o momento: a validação cruzada k-fold. Segundo a mesma, o conjunto de dados é particionado em k partes: a cada iteração, separa-se uma das partes para teste e o modelo é treinado com as k-1 partes remanescentes. Valores sugestivos de k na literatura são k = 3, 5 ou 10, pois o custo computacional desta validação dos modelos é alto. A métrica de desempenho é resultante da média dos desempenhos nas k iterações. A figura a seguir ilustra a ideia desta avaliação\n",
    "\n",
    "<img src = \"https://ethen8181.github.io/machine-learning/model_selection/img/kfolds.png\" width=600></img>\n",
    "\n",
    "Considerando a métrica de desempenho F1-Score, considere a validação cruzada 5-fold para aferir os resultados da busca em grande anterior."
   ]
  },
  {
   "cell_type": "markdown",
   "metadata": {
    "id": "yV3XZmKRfq_F"
   },
   "source": [
    "- Validação cruzada com atributos categóricos"
   ]
  },
  {
   "cell_type": "code",
   "execution_count": 21,
   "metadata": {
    "id": "I2XHODQPfq_H"
   },
   "outputs": [],
   "source": [
    "metrica = 'f1'\n",
    "\n",
    "# Desempenho de cada arquitetura\n",
    "fscore = dict()\n",
    "\n",
    "for i in range(1,7):\n",
    "    fscore.setdefault('rede{0}'.format(i), [])"
   ]
  },
  {
   "cell_type": "code",
   "execution_count": 22,
   "metadata": {
    "colab": {
     "base_uri": "https://localhost:8080/"
    },
    "id": "XIo1G-txfq_N",
    "outputId": "5ce9d2da-b1fd-46a4-f4b8-9aa332321410"
   },
   "outputs": [
    {
     "name": "stdout",
     "output_type": "stream",
     "text": [
      "{'batch_size': [500], 'learning_rate': ['constant'], 'max_iter': [100], 'n_iter_no_change': [5], 'solver': ['adam']}\n",
      "rede  4\n",
      "k = 1\n",
      "k = 2\n",
      "k = 3\n",
      "k = 4\n",
      "k = 5\n",
      "{'batch_size': [500], 'learning_rate': ['constant'], 'max_iter': [100], 'n_iter_no_change': [5], 'solver': ['adam']}\n",
      "rede  5\n",
      "k = 1\n",
      "k = 2\n",
      "k = 3\n",
      "k = 4\n",
      "k = 5\n",
      "{'batch_size': [500], 'learning_rate': ['invscaling'], 'max_iter': [100], 'n_iter_no_change': [5], 'solver': ['adam']}\n",
      "rede  6\n",
      "k = 1\n",
      "k = 2\n",
      "k = 3\n",
      "k = 4\n",
      "k = 5\n"
     ]
    }
   ],
   "source": [
    "# Definindo o número de folds\n",
    "k_folds = KFold(5)\n",
    "\n",
    "# Alocando os atributos preditores na variável X\n",
    "X = database.iloc[:,:-1]\n",
    "\n",
    "# Alocando o atributo alvo na variável y\n",
    "y = database.iloc[:,-1:]\n",
    "\n",
    "rede = 4\n",
    "\n",
    "# Validação Cruzada com os atributos categóricos\n",
    "for params, arquitetura in zip(bests1, arquiteturas[3:6]):\n",
    "    print(params)\n",
    "    print('rede ', rede)\n",
    "    \n",
    "    search = GridSearchCV(arquitetura, params, scoring='%s_macro' % metrica)\n",
    "    \n",
    "    fscores = []\n",
    "    \n",
    "    for k, (train, test) in enumerate(k_folds.split(X, y)):\n",
    "        \n",
    "        print('k = {0}'.format(k+1))\n",
    "\n",
    "        X_train = X.iloc[train]\n",
    "        y_train = y.iloc[train]\n",
    "        \n",
    "        \n",
    "        search.fit(X_train, y_train)\n",
    "        \n",
    "        X_test = X.iloc[test]\n",
    "        y_test = y.iloc[test]\n",
    "\n",
    "\n",
    "        y_pred = search.predict(X_test)\n",
    "\n",
    "        fscores.append(f1_score(y_pred, y_test, average='macro'))\n",
    "\n",
    "    fscore['rede'+str(rede)].append((fscores, search.best_params_, arquitetura))\n",
    "    rede += 1"
   ]
  },
  {
   "cell_type": "markdown",
   "metadata": {
    "id": "Zue_7VSsfq_U"
   },
   "source": [
    "- Validação cruzada sem atributos categóricos"
   ]
  },
  {
   "cell_type": "code",
   "execution_count": 23,
   "metadata": {
    "colab": {
     "base_uri": "https://localhost:8080/"
    },
    "id": "VwXP5sQcfq_W",
    "outputId": "7d257776-1b75-4ebc-b03e-dd4b395a35b4"
   },
   "outputs": [
    {
     "name": "stdout",
     "output_type": "stream",
     "text": [
      "rede  1\n",
      "k = 1\n",
      "k = 2\n",
      "k = 3\n",
      "k = 4\n",
      "k = 5\n",
      "rede  2\n",
      "k = 1\n",
      "k = 2\n",
      "k = 3\n",
      "k = 4\n",
      "k = 5\n",
      "rede  3\n",
      "k = 1\n",
      "k = 2\n",
      "k = 3\n",
      "k = 4\n",
      "k = 5\n"
     ]
    }
   ],
   "source": [
    "# Definindo o número de folds\n",
    "k_folds = KFold(5)\n",
    "\n",
    "# Alocando os atributos preditores na variável X\n",
    "X = database2.iloc[:,:-1]\n",
    "\n",
    "# Alocando o atributo alvo na variável y\n",
    "y = database2.iloc[:,-1:]\n",
    "\n",
    "rede = 1\n",
    "\n",
    "# Validação Cruzada com os atributos categóricos\n",
    "for params, arquitetura in zip(bests2, arquiteturas[0:3]):\n",
    "    print(params)\n",
    "    print('rede ', rede)\n",
    "    \n",
    "    search = GridSearchCV(arquitetura, params, scoring='%s_macro' % metrica)\n",
    "    \n",
    "    fscores = []\n",
    "    \n",
    "    for k, (train, test) in enumerate(k_folds.split(X, y)):\n",
    "        \n",
    "        print('k = {0}'.format(k+1))\n",
    "\n",
    "        X_train = X.iloc[train]\n",
    "        y_train = y.iloc[train]\n",
    "        \n",
    "        \n",
    "        search.fit(X_train, y_train)\n",
    "        \n",
    "        X_test = X.iloc[test]\n",
    "        y_test = y.iloc[test]\n",
    "\n",
    "\n",
    "        y_pred = search.predict(X_test)\n",
    "\n",
    "        fscores.append(f1_score(y_pred, y_test, average='macro'))\n",
    "\n",
    "    fscore['rede'+str(rede)].append((fscores, search.best_params_, arquitetura))\n",
    "    rede += 1"
   ]
  },
  {
   "cell_type": "markdown",
   "metadata": {
    "id": "_SJUd9O_fq_f"
   },
   "source": [
    "- Resultados"
   ]
  },
  {
   "cell_type": "code",
   "execution_count": 24,
   "metadata": {
    "colab": {
     "base_uri": "https://localhost:8080/"
    },
    "id": "g9aW2H3jfq_g",
    "outputId": "3cbccaf2-2baa-4741-b56d-464441c9c96a"
   },
   "outputs": [
    {
     "data": {
      "text/plain": [
       "{'rede1': [([0.0, 0.0009492168960607499, 0.007042253521126762, 0.0, 0.0],\n",
       "   {'batch_size': 500,\n",
       "    'learning_rate': 'constant',\n",
       "    'max_iter': 100,\n",
       "    'n_iter_no_change': 5,\n",
       "    'solver': 'adam'},\n",
       "   MLPClassifier(activation='tanh', alpha=0.0001, batch_size='auto', beta_1=0.9,\n",
       "                 beta_2=0.999, early_stopping=False, epsilon=1e-08,\n",
       "                 hidden_layer_sizes=(9, 10), learning_rate='constant',\n",
       "                 learning_rate_init=0.001, max_fun=15000, max_iter=200,\n",
       "                 momentum=0.9, n_iter_no_change=3, nesterovs_momentum=True,\n",
       "                 power_t=0.5, random_state=None, shuffle=True, solver='adam',\n",
       "                 tol=0.0001, validation_fraction=0.1, verbose=False,\n",
       "                 warm_start=False))],\n",
       " 'rede2': [([0.04608294930875576, 0.0, 0.03592265498828767, 0.0, 0.0],\n",
       "   {'batch_size': 500,\n",
       "    'learning_rate': 'constant',\n",
       "    'max_iter': 100,\n",
       "    'n_iter_no_change': 5,\n",
       "    'solver': 'adam'},\n",
       "   MLPClassifier(activation='tanh', alpha=0.0001, batch_size='auto', beta_1=0.9,\n",
       "                 beta_2=0.999, early_stopping=False, epsilon=1e-08,\n",
       "                 hidden_layer_sizes=(13,), learning_rate='constant',\n",
       "                 learning_rate_init=0.001, max_fun=15000, max_iter=150,\n",
       "                 momentum=0.9, n_iter_no_change=3, nesterovs_momentum=True,\n",
       "                 power_t=0.5, random_state=None, shuffle=True, solver='adam',\n",
       "                 tol=0.0001, validation_fraction=0.1, verbose=False,\n",
       "                 warm_start=False))],\n",
       " 'rede3': [([0.0013123359580052493, 0.0, 0.036762274922790356, 0.0, 0.0],\n",
       "   {'batch_size': 500,\n",
       "    'learning_rate': 'adaptive',\n",
       "    'max_iter': 100,\n",
       "    'n_iter_no_change': 5,\n",
       "    'solver': 'adam'},\n",
       "   MLPClassifier(activation='tanh', alpha=0.0001, batch_size='auto', beta_1=0.9,\n",
       "                 beta_2=0.999, early_stopping=False, epsilon=1e-08,\n",
       "                 hidden_layer_sizes=(9, 10), learning_rate='constant',\n",
       "                 learning_rate_init=0.001, max_fun=15000, max_iter=100,\n",
       "                 momentum=0.9, n_iter_no_change=3, nesterovs_momentum=True,\n",
       "                 power_t=0.5, random_state=None, shuffle=True, solver='sgd',\n",
       "                 tol=0.0001, validation_fraction=0.1, verbose=False,\n",
       "                 warm_start=False))],\n",
       " 'rede4': [([0.04305200341005968,\n",
       "    0.0024783147459727386,\n",
       "    0.0473293185157592,\n",
       "    0.003273322422258592,\n",
       "    0.019659239842726082],\n",
       "   {'batch_size': 500,\n",
       "    'learning_rate': 'constant',\n",
       "    'max_iter': 100,\n",
       "    'n_iter_no_change': 5,\n",
       "    'solver': 'adam'},\n",
       "   MLPClassifier(activation='logistic', alpha=0.0001, batch_size='auto',\n",
       "                 beta_1=0.9, beta_2=0.999, early_stopping=False, epsilon=1e-08,\n",
       "                 hidden_layer_sizes=(25,), learning_rate='constant',\n",
       "                 learning_rate_init=0.001, max_fun=15000, max_iter=200,\n",
       "                 momentum=0.9, n_iter_no_change=2, nesterovs_momentum=True,\n",
       "                 power_t=0.5, random_state=None, shuffle=True, solver='adam',\n",
       "                 tol=0.0001, validation_fraction=0.1, verbose=False,\n",
       "                 warm_start=False))],\n",
       " 'rede5': [([0.03975155279503105,\n",
       "    0.015322217214961695,\n",
       "    0.0493624535102402,\n",
       "    0.006868131868131867,\n",
       "    0.003232062055591467],\n",
       "   {'batch_size': 500,\n",
       "    'learning_rate': 'constant',\n",
       "    'max_iter': 100,\n",
       "    'n_iter_no_change': 5,\n",
       "    'solver': 'adam'},\n",
       "   MLPClassifier(activation='logistic', alpha=0.0001, batch_size='auto',\n",
       "                 beta_1=0.9, beta_2=0.999, early_stopping=False, epsilon=1e-08,\n",
       "                 hidden_layer_sizes=(25,), learning_rate='constant',\n",
       "                 learning_rate_init=0.001, max_fun=15000, max_iter=100,\n",
       "                 momentum=0.9, n_iter_no_change=2, nesterovs_momentum=True,\n",
       "                 power_t=0.5, random_state=None, shuffle=True, solver='adam',\n",
       "                 tol=0.0001, validation_fraction=0.1, verbose=False,\n",
       "                 warm_start=False))],\n",
       " 'rede6': [([0.0335195530726257,\n",
       "    0.0056022408963585435,\n",
       "    0.07157619359058208,\n",
       "    0.0,\n",
       "    0.0],\n",
       "   {'batch_size': 500,\n",
       "    'learning_rate': 'invscaling',\n",
       "    'max_iter': 100,\n",
       "    'n_iter_no_change': 5,\n",
       "    'solver': 'adam'},\n",
       "   MLPClassifier(activation='tanh', alpha=0.0001, batch_size='auto', beta_1=0.9,\n",
       "                 beta_2=0.999, early_stopping=False, epsilon=1e-08,\n",
       "                 hidden_layer_sizes=(19, 6), learning_rate='constant',\n",
       "                 learning_rate_init=0.001, max_fun=15000, max_iter=150,\n",
       "                 momentum=0.9, n_iter_no_change=2, nesterovs_momentum=True,\n",
       "                 power_t=0.5, random_state=None, shuffle=True, solver='sgd',\n",
       "                 tol=0.0001, validation_fraction=0.1, verbose=False,\n",
       "                 warm_start=False))]}"
      ]
     },
     "execution_count": 24,
     "metadata": {
      "tags": []
     },
     "output_type": "execute_result"
    }
   ],
   "source": [
    "fscore"
   ]
  },
  {
   "cell_type": "markdown",
   "metadata": {
    "id": "qo7-Doh4fq_q"
   },
   "source": [
    "## Identificando a mellhor solução\n",
    "\n",
    "Como resultado da busca em grande com validação cruzada 5-fold, identifique o modelo otimizado com melhor desempenho para o problema. Apresente claramente este modelo, seus parâmetros, hiperparâmetros otimizados e resultados para cada um dos folds avaliados. Esta é a melhor solução identificada em decorrência deste projeto"
   ]
  },
  {
   "cell_type": "code",
   "execution_count": 56,
   "metadata": {
    "colab": {
     "base_uri": "https://localhost:8080/"
    },
    "id": "RMOTcraefq_r",
    "outputId": "ca0df927-6b2b-4a43-b710-96ebfcbfa7ea"
   },
   "outputs": [
    {
     "data": {
      "text/plain": [
       "('rede4', 0.02315843978735526)"
      ]
     },
     "execution_count": 56,
     "metadata": {
      "tags": []
     },
     "output_type": "execute_result"
    }
   ],
   "source": [
    "desempenho = dict()\n",
    "for key, value in fscore.items():\n",
    "    desempenho.setdefault(key, np.mean(value[0][0]))\n",
    "best_rede = sorted(desempenho.items(), key=lambda x: x[1], reverse=True)[0]\n",
    "best_rede"
   ]
  },
  {
   "cell_type": "markdown",
   "metadata": {
    "id": "PE80Cf2JCXSi"
   },
   "source": [
    "- Modelo, seus parâmetros, hiperparâmetros otimizados"
   ]
  },
  {
   "cell_type": "code",
   "execution_count": 64,
   "metadata": {
    "colab": {
     "base_uri": "https://localhost:8080/"
    },
    "id": "oVYmGOFZVbo8",
    "outputId": "230c922a-131c-4581-f6cf-2a9a15309dee"
   },
   "outputs": [
    {
     "data": {
      "text/plain": [
       "MLPClassifier(activation='logistic', alpha=0.0001, batch_size='auto',\n",
       "              beta_1=0.9, beta_2=0.999, early_stopping=False, epsilon=1e-08,\n",
       "              hidden_layer_sizes=(25,), learning_rate='constant',\n",
       "              learning_rate_init=0.001, max_fun=15000, max_iter=200,\n",
       "              momentum=0.9, n_iter_no_change=2, nesterovs_momentum=True,\n",
       "              power_t=0.5, random_state=None, shuffle=True, solver='adam',\n",
       "              tol=0.0001, validation_fraction=0.1, verbose=False,\n",
       "              warm_start=False)"
      ]
     },
     "execution_count": 64,
     "metadata": {
      "tags": []
     },
     "output_type": "execute_result"
    }
   ],
   "source": [
    "fscore[best_rede[0]][0][2]"
   ]
  },
  {
   "cell_type": "code",
   "execution_count": 63,
   "metadata": {
    "colab": {
     "base_uri": "https://localhost:8080/"
    },
    "id": "daSijPHzVPTO",
    "outputId": "5f66c008-dd29-4373-9de7-96e2b36e94d1"
   },
   "outputs": [
    {
     "data": {
      "text/plain": [
       "{'batch_size': 500,\n",
       " 'learning_rate': 'constant',\n",
       " 'max_iter': 100,\n",
       " 'n_iter_no_change': 5,\n",
       " 'solver': 'adam'}"
      ]
     },
     "execution_count": 63,
     "metadata": {
      "tags": []
     },
     "output_type": "execute_result"
    }
   ],
   "source": [
    "fscore[best_rede[0]][0][1]"
   ]
  },
  {
   "cell_type": "markdown",
   "metadata": {
    "id": "yfr57RANC387"
   },
   "source": [
    "- Resultados para cada um dos folds avaliados"
   ]
  },
  {
   "cell_type": "code",
   "execution_count": 65,
   "metadata": {
    "colab": {
     "base_uri": "https://localhost:8080/"
    },
    "id": "DaN6DPdefq_z",
    "outputId": "5513228d-9d70-4f46-ff28-eba6734ff603"
   },
   "outputs": [
    {
     "data": {
      "text/plain": [
       "[0.04305200341005968,\n",
       " 0.0024783147459727386,\n",
       " 0.0473293185157592,\n",
       " 0.003273322422258592,\n",
       " 0.019659239842726082]"
      ]
     },
     "execution_count": 65,
     "metadata": {
      "tags": []
     },
     "output_type": "execute_result"
    }
   ],
   "source": [
    "fscore[best_rede[0]][0][0]"
   ]
  },
  {
   "cell_type": "markdown",
   "metadata": {
    "id": "N88qILY4fq_3"
   },
   "source": [
    "## Empacotando a solução\n",
    "\n",
    "Suponha que você deve entregar este classificador ao órgão responsável por administrar o Roosevelt National Park. Para tanto, você deve fazer uma preparação do mesmo para utilização neste cenário. Uma vez que já identificou os melhores parâmetros e hiperparâmetros, o passo remanescente consiste em treinar o modelo com estes valores e todos os dados disponíveis, salvando o conjunto de pesos do modelo ao final para entrega ao cliente. Assim, finalize o projeto prático realizando tais passos.\n",
    "\n",
    "1. Consulte a documentação a seguir:\n",
    "https://scikit-learn.org/stable/modules/model_persistence.html\n",
    "2. Treine o modelo com todos os dados\n",
    "3. Salve o modelo em disco  \n",
    "4. Construa uma rotina que recupere o modelo em disco  \n",
    "5. Mostre que a rotina é funcional, fazendo previsões com todos os elementos do dataset e exibindo uma matriz de confusão das mesmas"
   ]
  },
  {
   "cell_type": "markdown",
   "metadata": {
    "id": "3zGt-TB8fq_5"
   },
   "source": [
    "- Treine o modelo com todos os dados"
   ]
  },
  {
   "cell_type": "code",
   "execution_count": 78,
   "metadata": {
    "colab": {
     "base_uri": "https://localhost:8080/"
    },
    "id": "bK4zMe7Vfq_6",
    "outputId": "01b6508f-f34e-4455-dacf-bcf8a10d9f3e"
   },
   "outputs": [
    {
     "data": {
      "text/plain": [
       "MLPClassifier(activation='logistic', alpha=0.0001, batch_size='auto',\n",
       "              beta_1=0.9, beta_2=0.999, early_stopping=False, epsilon=1e-08,\n",
       "              hidden_layer_sizes=(25,), learning_rate='constant',\n",
       "              learning_rate_init=0.001, max_fun=15000, max_iter=200,\n",
       "              momentum=0.9, n_iter_no_change=2, nesterovs_momentum=True,\n",
       "              power_t=0.5, random_state=None, shuffle=True, solver='adam',\n",
       "              tol=0.0001, validation_fraction=0.1, verbose=False,\n",
       "              warm_start=False)"
      ]
     },
     "execution_count": 78,
     "metadata": {
      "tags": []
     },
     "output_type": "execute_result"
    }
   ],
   "source": [
    "# Modelo com melhor desempenho\n",
    "melhor_modelo = fscore[best_rede[0]][0][2]\n",
    "\n",
    "# Alocando os atributos preditores na variável X\n",
    "X = database.iloc[:,:-1]\n",
    "\n",
    "# Alocando o atributo alvo na variável y\n",
    "y = database.iloc[:,-1:]\n",
    "\n",
    "# Treinando o modelo com melhor desempenho\n",
    "melhor_modelo.fit(X, y)"
   ]
  },
  {
   "cell_type": "markdown",
   "metadata": {
    "id": "nMIe4ellfrAB"
   },
   "source": [
    "- Salve o modelo em disco"
   ]
  },
  {
   "cell_type": "code",
   "execution_count": 79,
   "metadata": {
    "colab": {
     "base_uri": "https://localhost:8080/"
    },
    "id": "OWeWoRU4frAC",
    "outputId": "129ea1f7-9796-4b33-818d-423b10590781"
   },
   "outputs": [
    {
     "data": {
      "text/plain": [
       "['melhor_modelo.joblib']"
      ]
     },
     "execution_count": 79,
     "metadata": {
      "tags": []
     },
     "output_type": "execute_result"
    }
   ],
   "source": [
    "# Salvando o modelo no diretório redes\n",
    "dump(melhor_modelo, '../redes/melhor_modelo.joblib') "
   ]
  },
  {
   "cell_type": "markdown",
   "metadata": {
    "id": "UZF88vZifrAL"
   },
   "source": [
    "- Construa uma rotina que recupere o modelo em disco "
   ]
  },
  {
   "cell_type": "code",
   "execution_count": 80,
   "metadata": {
    "id": "RkQ9lYCEfrAM"
   },
   "outputs": [],
   "source": [
    "# Recuperando o modelo salvo em disco\n",
    "def get_model():\n",
    "    return load('../redes/melhor_modelo.joblib')"
   ]
  },
  {
   "cell_type": "markdown",
   "metadata": {
    "id": "n4vhwW-0frAS"
   },
   "source": [
    "- Mostre que a rotina é funcional, fazendo previsões com todos os elementos do dataset e exibindo uma matriz de confusão das mesmas\n"
   ]
  },
  {
   "cell_type": "code",
   "execution_count": 85,
   "metadata": {
    "colab": {
     "base_uri": "https://localhost:8080/",
     "height": 417
    },
    "id": "-PDFenIvfrAT",
    "outputId": "84350edd-6f11-4b44-a796-444b4aeb64be"
   },
   "outputs": [
    {
     "data": {
      "image/png": "[encoded data removed]",
      "text/plain": [
       "<Figure size 504x504 with 2 Axes>"
      ]
     },
     "metadata": {
      "needs_background": "light",
      "tags": []
     },
     "output_type": "display_data"
    }
   ],
   "source": [
    "# Carregando o modelo\n",
    "model = get_model()\n",
    "\n",
    "# Alocando os atributos preditores na variável X\n",
    "X = database.iloc[:,:-1]\n",
    "\n",
    "# Alocando o atributo alvo na variável y\n",
    "y = database.iloc[:,-1:]\n",
    "\n",
    "# Definindo a partição holdout 70/30\n",
    "X_train, X_test, y_train, y_test = train_test_split(X, y, test_size=0.30, random_state=42)\n",
    "\n",
    "# Treinando o modelo\n",
    "model.fit(X_train, y_train)\n",
    "\n",
    "# Construindo a matrix de confusão\n",
    "fig, ax = plt.subplots(figsize=(7,7))\n",
    "plot_confusion_matrix(model, X_test, y_test, ax=ax, cmap='YlGnBu', values_format=\"\")\n",
    "plt.title('Matriz de Confusão')\n",
    "plt.show()"
   ]
  }
 ],
 "metadata": {
  "colab": {
   "collapsed_sections": [],
   "name": "PP3.4 - Validação Cruzada e Busca em Grade.ipynb",
   "provenance": [],
   "toc_visible": true
  },
  "kernelspec": {
   "name": "Python 3.8.6 64-bit",
   "display_name": "Python 3.8.6 64-bit",
   "metadata": {
    "interpreter": {
     "hash": "1baa965d5efe3ac65b79dfc60c0d706280b1da80fedb7760faf2759126c4f253"
    }
   }
  },
  "language_info": {
   "codemirror_mode": {
    "name": "ipython",
    "version": 3
   },
   "file_extension": ".py",
   "mimetype": "text/x-python",
   "name": "python",
   "nbconvert_exporter": "python",
   "pygments_lexer": "ipython3",
   "version": "3.8.6-final"
  }
 },
 "nbformat": 4,
 "nbformat_minor": 1
}